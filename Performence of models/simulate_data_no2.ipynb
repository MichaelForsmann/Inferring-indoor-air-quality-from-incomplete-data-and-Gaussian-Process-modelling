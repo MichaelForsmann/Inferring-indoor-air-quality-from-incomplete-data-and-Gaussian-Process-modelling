{
 "cells": [
  {
   "cell_type": "code",
   "execution_count": 3,
   "id": "1e4d2ed0-212a-4481-8063-faaa18f3618a",
   "metadata": {},
   "outputs": [],
   "source": [
    "import pandas as pd\n",
    "import torch\n",
    "import numpy as np\n",
    "from sklearn.metrics import r2_score\n",
    "import matplotlib.pyplot as plt"
   ]
  },
  {
   "cell_type": "code",
   "execution_count": 4,
   "id": "cabad2d7-a086-4dab-9341-a7ad27cd6972",
   "metadata": {},
   "outputs": [],
   "source": [
    "test=pd.read_excel(r\"../data/chem_test.xlsx\")"
   ]
  },
  {
   "cell_type": "code",
   "execution_count": 5,
   "id": "fc8b2ad4-3946-45ec-91f5-1f5df3320c55",
   "metadata": {},
   "outputs": [],
   "source": [
    "device = torch.device('cuda' if torch.cuda.is_available() else 'cpu')"
   ]
  },
  {
   "cell_type": "code",
   "execution_count": 6,
   "id": "6680c53e-56f3-4cab-96a7-d1e9adac7885",
   "metadata": {},
   "outputs": [],
   "source": [
    "gpr_nox=torch.load(\"../models/nox_seasonality\",weights_only=False,map_location='cuda')"
   ]
  },
  {
   "cell_type": "code",
   "execution_count": 7,
   "id": "6d09b23e-c6f1-4745-aabe-4d24f6085ff2",
   "metadata": {},
   "outputs": [],
   "source": [
    "gpr_no2=torch.load(\"../models/no2_seasonality\",weights_only=False,map_location='cuda')"
   ]
  },
  {
   "cell_type": "code",
   "execution_count": 8,
   "id": "9919b9b2-7d9a-4a9a-bcf5-c367d63911b7",
   "metadata": {},
   "outputs": [],
   "source": [
    "test=test.loc[(test.corrected_week>0)&(test.corrected_week<52.5),:]"
   ]
  },
  {
   "cell_type": "code",
   "execution_count": 9,
   "id": "899ebfaf-917a-4d81-96c6-93cf8b0ee2b9",
   "metadata": {},
   "outputs": [],
   "source": [
    "def prediction(test,particle,model):\n",
    "    gpr_points=model(torch.tensor(test.corrected_week).float().to(device))\n",
    "    test[\"scale\"]=gpr_points[0].cpu().detach().numpy()\n",
    "    test_3=test.set_index(\"cpnr\").loc[test.groupby(test.cpnr).maalnr.count()>=3,:]\n",
    "    BC_1_raw=test_3.loc[test_3.maalnr==1,particle].groupby(\"cpnr\").first()\n",
    "    BC_1_scale=test_3.loc[test_3.maalnr==1,\"scale\"].groupby(\"cpnr\").first()\n",
    "    BC_2_raw=test_3.loc[test_3.maalnr==2,particle].groupby(\"cpnr\").first()\n",
    "    BC_2_scale=test_3.loc[test_3.maalnr==2,\"scale\"].groupby(\"cpnr\").first()\n",
    "    BC_3_scale=test_3.loc[test_3.maalnr==3,\"scale\"].groupby(\"cpnr\").first()\n",
    "    BC_3_raw=test_3.loc[test_3.maalnr==3,particle].groupby(\"cpnr\").first()\n",
    "    true_3=(BC_2_raw*BC_3_scale/BC_2_scale+BC_1_raw*BC_3_scale/BC_1_scale)/2\n",
    "    true_1=(BC_2_raw*BC_1_scale/BC_2_scale+BC_3_raw*BC_1_scale/BC_3_scale)/2\n",
    "    true_2=(BC_1_raw*BC_2_scale/BC_1_scale+BC_3_raw*BC_2_scale/BC_3_scale)/2\n",
    "    prediction_matrix=pd.DataFrame([true_1,BC_1_raw,BC_1_scale,true_2,BC_2_raw,BC_2_scale,true_3,BC_3_raw,BC_3_scale],index=[\"predict_1\",\"raw_1\",\"scale_1\",\"predict_2\",\"raw_2\",\"scale_2\",\"predict_3\",\"raw_3\",\"scale_3\"]).T\n",
    "    return prediction_matrix"
   ]
  },
  {
   "cell_type": "code",
   "execution_count": 12,
   "id": "4b6becd8-cb1d-4f17-a72d-727501b7c9e4",
   "metadata": {},
   "outputs": [],
   "source": [
    "prediction_matrix_nox=prediction(test,\"nox\",gpr_nox).dropna()\n",
    "prediction_matrix_no2=prediction(test,\"no2\",gpr_no2).dropna()"
   ]
  },
  {
   "cell_type": "code",
   "execution_count": 13,
   "id": "e0dc045f-b3fc-4a09-a239-2de29b0ebc68",
   "metadata": {},
   "outputs": [],
   "source": [
    "nox_r2=r2_score(prediction_matrix_nox.raw_1,prediction_matrix_nox.predict_1),r2_score(prediction_matrix_nox.raw_2,prediction_matrix_nox.predict_2),r2_score(prediction_matrix_nox.raw_3,prediction_matrix_nox.predict_3)"
   ]
  },
  {
   "cell_type": "code",
   "execution_count": 39,
   "id": "1896cea8-6599-4bfb-b9f3-2a42ecf271d8",
   "metadata": {},
   "outputs": [],
   "source": [
    "no2_r2_mean=r2_score(prediction_matrix_no2.raw_1,mean_no2_1),r2_score(prediction_matrix_no2.raw_2,mean_no2_2),r2_score(prediction_matrix_no2.raw_3,mean_no2_3)"
   ]
  },
  {
   "cell_type": "code",
   "execution_count": 44,
   "id": "0e41f048-f11a-43e0-9a14-3cfe8b08c6bd",
   "metadata": {},
   "outputs": [],
   "source": [
    "no2_r2_mean=r2_score(mean_1,prediction_matrix_no2.raw_1),r2_score(mean_2,prediction_matrix_no2.raw_2),r2_score(mean_no2,prediction_matrix_no2.raw_3)"
   ]
  },
  {
   "cell_type": "code",
   "execution_count": 45,
   "id": "41c0719c-ffc5-4d7e-abe9-d32bc15d390b",
   "metadata": {},
   "outputs": [],
   "source": [
    "nox_r2_mean=r2_score(prediction_matrix_nox.raw_1,mean_1),r2_score(prediction_matrix_nox.raw_2,mean_2),r2_score(prediction_matrix_nox.raw_3,mean_3)"
   ]
  },
  {
   "cell_type": "code",
   "execution_count": 46,
   "id": "83c5b138-f16d-4777-a8d2-ee891a92a9d9",
   "metadata": {},
   "outputs": [
    {
     "data": {
      "text/plain": [
       "(-0.3819490309478466, 0.2884927836943007)"
      ]
     },
     "execution_count": 46,
     "metadata": {},
     "output_type": "execute_result"
    }
   ],
   "source": [
    "np.mean(nox_r2_mean),np.mean(nox_r2)"
   ]
  },
  {
   "cell_type": "code",
   "execution_count": 47,
   "id": "5700a41c-2b5d-4e9a-bef1-a8ecf0aeee90",
   "metadata": {},
   "outputs": [
    {
     "data": {
      "text/plain": [
       "(0.249752599453953, 0.4168952765224509)"
      ]
     },
     "execution_count": 47,
     "metadata": {},
     "output_type": "execute_result"
    }
   ],
   "source": [
    "np.mean(no2_r2_mean),np.mean(no2_r2)"
   ]
  },
  {
   "cell_type": "code",
   "execution_count": 49,
   "id": "254afc87-8ff7-4095-9881-8c4162a1b282",
   "metadata": {},
   "outputs": [
    {
     "data": {
      "text/plain": [
       "(0.27641692080265845, -1.6122736928840808, 0.1900096792378828)"
      ]
     },
     "execution_count": 49,
     "metadata": {},
     "output_type": "execute_result"
    }
   ],
   "source": [
    "nox_r2_mean"
   ]
  },
  {
   "cell_type": "code",
   "execution_count": 48,
   "id": "6a1ed203-d5ce-43c2-83a2-4cb7d5231a41",
   "metadata": {},
   "outputs": [
    {
     "data": {
      "text/plain": [
       "(0.5758409768987418, 0.20088129937141996, 0.47396355329719086)"
      ]
     },
     "execution_count": 48,
     "metadata": {},
     "output_type": "execute_result"
    }
   ],
   "source": [
    "no2_r2"
   ]
  },
  {
   "cell_type": "code",
   "execution_count": null,
   "id": "c4687c71-3544-47b8-8238-db32ef6b2f80",
   "metadata": {},
   "outputs": [],
   "source": [
    "no2_r2=r2_score(prediction_matrix_no2.raw_1,prediction_matrix_no2.predict_1),r2_score(prediction_matrix_no2.raw_2,prediction_matrix_no2.predict_2),r2_score(prediction_matrix_no2.raw_3,prediction_matrix_no2.predict_3)"
   ]
  },
  {
   "cell_type": "code",
   "execution_count": null,
   "id": "632e5fab-a974-484e-9bba-9d3c2d544e66",
   "metadata": {},
   "outputs": [],
   "source": [
    "no2_r2=r2_score(prediction_matrix_no2.raw_1,prediction_matrix_no2.predict_1),r2_score(prediction_matrix_no2.raw_2,prediction_matrix_no2.predict_2),r2_score(prediction_matrix_no2.raw_3,prediction_matrix_no2.predict_3)"
   ]
  },
  {
   "cell_type": "code",
   "execution_count": 36,
   "id": "b3b5f087-c139-48d6-8522-ab7bed6e77f0",
   "metadata": {},
   "outputs": [],
   "source": [
    "mean_3=prediction_matrix_nox.loc[:,[\"raw_1\",\"raw_2\"]].mean(axis=1)\n",
    "mean_2=prediction_matrix_nox.loc[:,[\"raw_1\",\"raw_3\"]].mean(axis=1)\n",
    "mean_1=prediction_matrix_nox.loc[:,[\"raw_2\",\"raw_3\"]].mean(axis=1)\n",
    "mean_no2_3=prediction_matrix_no2.loc[:,[\"raw_1\",\"raw_2\"]].mean(axis=1)\n",
    "mean_no2_2=prediction_matrix_no2.loc[:,[\"raw_1\",\"raw_3\"]].mean(axis=1)\n",
    "mean_no2_1=prediction_matrix_no2.loc[:,[\"raw_2\",\"raw_3\"]].mean(axis=1)"
   ]
  },
  {
   "cell_type": "code",
   "execution_count": 15,
   "id": "e08cabd5-e7aa-469d-8a55-e55f685d764b",
   "metadata": {},
   "outputs": [
    {
     "data": {
      "text/plain": [
       "(0.2884927836943007, 0.4168952765224509)"
      ]
     },
     "execution_count": 15,
     "metadata": {},
     "output_type": "execute_result"
    }
   ],
   "source": [
    "np.mean(nox_r2),np.mean(no2_r2)"
   ]
  },
  {
   "cell_type": "code",
   "execution_count": 99,
   "id": "d0eb9c67-eee9-493b-b8b3-edf6e57b097d",
   "metadata": {},
   "outputs": [
    {
     "data": {
      "text/plain": [
       "0.4168952765224509"
      ]
     },
     "execution_count": 99,
     "metadata": {},
     "output_type": "execute_result"
    }
   ],
   "source": [
    "np.mean([0.5758409768987418, 0.20088129937141996, 0.47396355329719086])"
   ]
  },
  {
   "cell_type": "code",
   "execution_count": 100,
   "id": "58485e92-2f3e-467c-8d11-f82c06af6744",
   "metadata": {},
   "outputs": [
    {
     "data": {
      "text/html": [
       "<div>\n",
       "<style scoped>\n",
       "    .dataframe tbody tr th:only-of-type {\n",
       "        vertical-align: middle;\n",
       "    }\n",
       "\n",
       "    .dataframe tbody tr th {\n",
       "        vertical-align: top;\n",
       "    }\n",
       "\n",
       "    .dataframe thead th {\n",
       "        text-align: right;\n",
       "    }\n",
       "</style>\n",
       "<table border=\"1\" class=\"dataframe\">\n",
       "  <thead>\n",
       "    <tr style=\"text-align: right;\">\n",
       "      <th></th>\n",
       "      <th>predict_1</th>\n",
       "      <th>raw_1</th>\n",
       "      <th>scale_1</th>\n",
       "      <th>predict_2</th>\n",
       "      <th>raw_2</th>\n",
       "      <th>scale_2</th>\n",
       "      <th>predict_3</th>\n",
       "      <th>raw_3</th>\n",
       "      <th>scale_3</th>\n",
       "    </tr>\n",
       "  </thead>\n",
       "  <tbody>\n",
       "    <tr>\n",
       "      <th>predict_1</th>\n",
       "      <td>1.000000</td>\n",
       "      <td>0.769180</td>\n",
       "      <td>0.033110</td>\n",
       "      <td>0.876078</td>\n",
       "      <td>0.822120</td>\n",
       "      <td>-0.106590</td>\n",
       "      <td>0.899019</td>\n",
       "      <td>0.907773</td>\n",
       "      <td>-0.004605</td>\n",
       "    </tr>\n",
       "    <tr>\n",
       "      <th>raw_1</th>\n",
       "      <td>0.769180</td>\n",
       "      <td>1.000000</td>\n",
       "      <td>0.122523</td>\n",
       "      <td>0.934115</td>\n",
       "      <td>0.548399</td>\n",
       "      <td>-0.203638</td>\n",
       "      <td>0.924231</td>\n",
       "      <td>0.749171</td>\n",
       "      <td>0.047017</td>\n",
       "    </tr>\n",
       "    <tr>\n",
       "      <th>scale_1</th>\n",
       "      <td>0.033110</td>\n",
       "      <td>0.122523</td>\n",
       "      <td>1.000000</td>\n",
       "      <td>-0.024061</td>\n",
       "      <td>-0.291323</td>\n",
       "      <td>-0.557803</td>\n",
       "      <td>0.001434</td>\n",
       "      <td>0.120630</td>\n",
       "      <td>0.719101</td>\n",
       "    </tr>\n",
       "    <tr>\n",
       "      <th>predict_2</th>\n",
       "      <td>0.876078</td>\n",
       "      <td>0.934115</td>\n",
       "      <td>-0.024061</td>\n",
       "      <td>1.000000</td>\n",
       "      <td>0.630141</td>\n",
       "      <td>-0.026401</td>\n",
       "      <td>0.906721</td>\n",
       "      <td>0.896213</td>\n",
       "      <td>-0.069923</td>\n",
       "    </tr>\n",
       "    <tr>\n",
       "      <th>raw_2</th>\n",
       "      <td>0.822120</td>\n",
       "      <td>0.548399</td>\n",
       "      <td>-0.291323</td>\n",
       "      <td>0.630141</td>\n",
       "      <td>1.000000</td>\n",
       "      <td>0.167243</td>\n",
       "      <td>0.813417</td>\n",
       "      <td>0.536777</td>\n",
       "      <td>-0.176907</td>\n",
       "    </tr>\n",
       "    <tr>\n",
       "      <th>scale_2</th>\n",
       "      <td>-0.106590</td>\n",
       "      <td>-0.203638</td>\n",
       "      <td>-0.557803</td>\n",
       "      <td>-0.026401</td>\n",
       "      <td>0.167243</td>\n",
       "      <td>1.000000</td>\n",
       "      <td>-0.115088</td>\n",
       "      <td>-0.124269</td>\n",
       "      <td>-0.315134</td>\n",
       "    </tr>\n",
       "    <tr>\n",
       "      <th>predict_3</th>\n",
       "      <td>0.899019</td>\n",
       "      <td>0.924231</td>\n",
       "      <td>0.001434</td>\n",
       "      <td>0.906721</td>\n",
       "      <td>0.813417</td>\n",
       "      <td>-0.115088</td>\n",
       "      <td>1.000000</td>\n",
       "      <td>0.759926</td>\n",
       "      <td>0.038759</td>\n",
       "    </tr>\n",
       "    <tr>\n",
       "      <th>raw_3</th>\n",
       "      <td>0.907773</td>\n",
       "      <td>0.749171</td>\n",
       "      <td>0.120630</td>\n",
       "      <td>0.896213</td>\n",
       "      <td>0.536777</td>\n",
       "      <td>-0.124269</td>\n",
       "      <td>0.759926</td>\n",
       "      <td>1.000000</td>\n",
       "      <td>0.069670</td>\n",
       "    </tr>\n",
       "    <tr>\n",
       "      <th>scale_3</th>\n",
       "      <td>-0.004605</td>\n",
       "      <td>0.047017</td>\n",
       "      <td>0.719101</td>\n",
       "      <td>-0.069923</td>\n",
       "      <td>-0.176907</td>\n",
       "      <td>-0.315134</td>\n",
       "      <td>0.038759</td>\n",
       "      <td>0.069670</td>\n",
       "      <td>1.000000</td>\n",
       "    </tr>\n",
       "  </tbody>\n",
       "</table>\n",
       "</div>"
      ],
      "text/plain": [
       "           predict_1     raw_1   scale_1  predict_2     raw_2   scale_2  \\\n",
       "predict_1   1.000000  0.769180  0.033110   0.876078  0.822120 -0.106590   \n",
       "raw_1       0.769180  1.000000  0.122523   0.934115  0.548399 -0.203638   \n",
       "scale_1     0.033110  0.122523  1.000000  -0.024061 -0.291323 -0.557803   \n",
       "predict_2   0.876078  0.934115 -0.024061   1.000000  0.630141 -0.026401   \n",
       "raw_2       0.822120  0.548399 -0.291323   0.630141  1.000000  0.167243   \n",
       "scale_2    -0.106590 -0.203638 -0.557803  -0.026401  0.167243  1.000000   \n",
       "predict_3   0.899019  0.924231  0.001434   0.906721  0.813417 -0.115088   \n",
       "raw_3       0.907773  0.749171  0.120630   0.896213  0.536777 -0.124269   \n",
       "scale_3    -0.004605  0.047017  0.719101  -0.069923 -0.176907 -0.315134   \n",
       "\n",
       "           predict_3     raw_3   scale_3  \n",
       "predict_1   0.899019  0.907773 -0.004605  \n",
       "raw_1       0.924231  0.749171  0.047017  \n",
       "scale_1     0.001434  0.120630  0.719101  \n",
       "predict_2   0.906721  0.896213 -0.069923  \n",
       "raw_2       0.813417  0.536777 -0.176907  \n",
       "scale_2    -0.115088 -0.124269 -0.315134  \n",
       "predict_3   1.000000  0.759926  0.038759  \n",
       "raw_3       0.759926  1.000000  0.069670  \n",
       "scale_3     0.038759  0.069670  1.000000  "
      ]
     },
     "execution_count": 100,
     "metadata": {},
     "output_type": "execute_result"
    }
   ],
   "source": [
    "prediction_matrix_no2.corr()"
   ]
  },
  {
   "cell_type": "code",
   "execution_count": 101,
   "id": "8d5ec0ae-3b66-4bad-94c3-cc29c6fad304",
   "metadata": {},
   "outputs": [
    {
     "data": {
      "text/html": [
       "<div>\n",
       "<style scoped>\n",
       "    .dataframe tbody tr th:only-of-type {\n",
       "        vertical-align: middle;\n",
       "    }\n",
       "\n",
       "    .dataframe tbody tr th {\n",
       "        vertical-align: top;\n",
       "    }\n",
       "\n",
       "    .dataframe thead th {\n",
       "        text-align: right;\n",
       "    }\n",
       "</style>\n",
       "<table border=\"1\" class=\"dataframe\">\n",
       "  <thead>\n",
       "    <tr style=\"text-align: right;\">\n",
       "      <th></th>\n",
       "      <th>predict_1</th>\n",
       "      <th>raw_1</th>\n",
       "      <th>scale_1</th>\n",
       "      <th>predict_2</th>\n",
       "      <th>raw_2</th>\n",
       "      <th>scale_2</th>\n",
       "      <th>predict_3</th>\n",
       "      <th>raw_3</th>\n",
       "      <th>scale_3</th>\n",
       "    </tr>\n",
       "  </thead>\n",
       "  <tbody>\n",
       "    <tr>\n",
       "      <th>predict_1</th>\n",
       "      <td>1.000000</td>\n",
       "      <td>0.589576</td>\n",
       "      <td>0.526829</td>\n",
       "      <td>0.083466</td>\n",
       "      <td>0.071326</td>\n",
       "      <td>-0.300363</td>\n",
       "      <td>0.671152</td>\n",
       "      <td>0.804646</td>\n",
       "      <td>0.306662</td>\n",
       "    </tr>\n",
       "    <tr>\n",
       "      <th>raw_1</th>\n",
       "      <td>0.589576</td>\n",
       "      <td>1.000000</td>\n",
       "      <td>0.500013</td>\n",
       "      <td>0.075557</td>\n",
       "      <td>-0.070042</td>\n",
       "      <td>-0.282069</td>\n",
       "      <td>0.846295</td>\n",
       "      <td>0.706794</td>\n",
       "      <td>0.349445</td>\n",
       "    </tr>\n",
       "    <tr>\n",
       "      <th>scale_1</th>\n",
       "      <td>0.526829</td>\n",
       "      <td>0.500013</td>\n",
       "      <td>1.000000</td>\n",
       "      <td>-0.376510</td>\n",
       "      <td>-0.357020</td>\n",
       "      <td>-0.709868</td>\n",
       "      <td>0.459632</td>\n",
       "      <td>0.519601</td>\n",
       "      <td>0.627283</td>\n",
       "    </tr>\n",
       "    <tr>\n",
       "      <th>predict_2</th>\n",
       "      <td>0.083466</td>\n",
       "      <td>0.075557</td>\n",
       "      <td>-0.376510</td>\n",
       "      <td>1.000000</td>\n",
       "      <td>0.500378</td>\n",
       "      <td>0.752163</td>\n",
       "      <td>-0.042992</td>\n",
       "      <td>-0.033858</td>\n",
       "      <td>-0.455345</td>\n",
       "    </tr>\n",
       "    <tr>\n",
       "      <th>raw_2</th>\n",
       "      <td>0.071326</td>\n",
       "      <td>-0.070042</td>\n",
       "      <td>-0.357020</td>\n",
       "      <td>0.500378</td>\n",
       "      <td>1.000000</td>\n",
       "      <td>0.612609</td>\n",
       "      <td>-0.032412</td>\n",
       "      <td>-0.160012</td>\n",
       "      <td>-0.403626</td>\n",
       "    </tr>\n",
       "    <tr>\n",
       "      <th>scale_2</th>\n",
       "      <td>-0.300363</td>\n",
       "      <td>-0.282069</td>\n",
       "      <td>-0.709868</td>\n",
       "      <td>0.752163</td>\n",
       "      <td>0.612609</td>\n",
       "      <td>1.000000</td>\n",
       "      <td>-0.378896</td>\n",
       "      <td>-0.408928</td>\n",
       "      <td>-0.666939</td>\n",
       "    </tr>\n",
       "    <tr>\n",
       "      <th>predict_3</th>\n",
       "      <td>0.671152</td>\n",
       "      <td>0.846295</td>\n",
       "      <td>0.459632</td>\n",
       "      <td>-0.042992</td>\n",
       "      <td>-0.032412</td>\n",
       "      <td>-0.378896</td>\n",
       "      <td>1.000000</td>\n",
       "      <td>0.841263</td>\n",
       "      <td>0.619915</td>\n",
       "    </tr>\n",
       "    <tr>\n",
       "      <th>raw_3</th>\n",
       "      <td>0.804646</td>\n",
       "      <td>0.706794</td>\n",
       "      <td>0.519601</td>\n",
       "      <td>-0.033858</td>\n",
       "      <td>-0.160012</td>\n",
       "      <td>-0.408928</td>\n",
       "      <td>0.841263</td>\n",
       "      <td>1.000000</td>\n",
       "      <td>0.604632</td>\n",
       "    </tr>\n",
       "    <tr>\n",
       "      <th>scale_3</th>\n",
       "      <td>0.306662</td>\n",
       "      <td>0.349445</td>\n",
       "      <td>0.627283</td>\n",
       "      <td>-0.455345</td>\n",
       "      <td>-0.403626</td>\n",
       "      <td>-0.666939</td>\n",
       "      <td>0.619915</td>\n",
       "      <td>0.604632</td>\n",
       "      <td>1.000000</td>\n",
       "    </tr>\n",
       "  </tbody>\n",
       "</table>\n",
       "</div>"
      ],
      "text/plain": [
       "           predict_1     raw_1   scale_1  predict_2     raw_2   scale_2  \\\n",
       "predict_1   1.000000  0.589576  0.526829   0.083466  0.071326 -0.300363   \n",
       "raw_1       0.589576  1.000000  0.500013   0.075557 -0.070042 -0.282069   \n",
       "scale_1     0.526829  0.500013  1.000000  -0.376510 -0.357020 -0.709868   \n",
       "predict_2   0.083466  0.075557 -0.376510   1.000000  0.500378  0.752163   \n",
       "raw_2       0.071326 -0.070042 -0.357020   0.500378  1.000000  0.612609   \n",
       "scale_2    -0.300363 -0.282069 -0.709868   0.752163  0.612609  1.000000   \n",
       "predict_3   0.671152  0.846295  0.459632  -0.042992 -0.032412 -0.378896   \n",
       "raw_3       0.804646  0.706794  0.519601  -0.033858 -0.160012 -0.408928   \n",
       "scale_3     0.306662  0.349445  0.627283  -0.455345 -0.403626 -0.666939   \n",
       "\n",
       "           predict_3     raw_3   scale_3  \n",
       "predict_1   0.671152  0.804646  0.306662  \n",
       "raw_1       0.846295  0.706794  0.349445  \n",
       "scale_1     0.459632  0.519601  0.627283  \n",
       "predict_2  -0.042992 -0.033858 -0.455345  \n",
       "raw_2      -0.032412 -0.160012 -0.403626  \n",
       "scale_2    -0.378896 -0.408928 -0.666939  \n",
       "predict_3   1.000000  0.841263  0.619915  \n",
       "raw_3       0.841263  1.000000  0.604632  \n",
       "scale_3     0.619915  0.604632  1.000000  "
      ]
     },
     "execution_count": 101,
     "metadata": {},
     "output_type": "execute_result"
    }
   ],
   "source": [
    "prediction_matrix_nox.corr()"
   ]
  },
  {
   "cell_type": "code",
   "execution_count": null,
   "id": "f2d1e7ee-7f5d-4a67-987c-451ba9d4cfe7",
   "metadata": {},
   "outputs": [],
   "source": []
  }
 ],
 "metadata": {
  "kernelspec": {
   "display_name": "Python 3 (ipykernel)",
   "language": "python",
   "name": "python3"
  },
  "language_info": {
   "codemirror_mode": {
    "name": "ipython",
    "version": 3
   },
   "file_extension": ".py",
   "mimetype": "text/x-python",
   "name": "python",
   "nbconvert_exporter": "python",
   "pygments_lexer": "ipython3",
   "version": "3.10.16"
  }
 },
 "nbformat": 4,
 "nbformat_minor": 5
}
