{
 "cells": [
  {
   "cell_type": "code",
   "execution_count": 1,
   "id": "1e4d2ed0-212a-4481-8063-faaa18f3618a",
   "metadata": {},
   "outputs": [],
   "source": [
    "import pandas as pd\n",
    "import torch\n",
    "import numpy as np\n",
    "from sklearn.metrics import r2_score\n",
    "import matplotlib.pyplot as plt"
   ]
  },
  {
   "cell_type": "code",
   "execution_count": 2,
   "id": "cabad2d7-a086-4dab-9341-a7ad27cd6972",
   "metadata": {},
   "outputs": [],
   "source": [
    "test=pd.read_excel(r\"data/chem_test.xlsx\")"
   ]
  },
  {
   "cell_type": "code",
   "execution_count": 3,
   "id": "6680c53e-56f3-4cab-96a7-d1e9adac7885",
   "metadata": {},
   "outputs": [
    {
     "name": "stderr",
     "output_type": "stream",
     "text": [
      "/tmp/ipykernel_1428249/1414426829.py:1: FutureWarning: You are using `torch.load` with `weights_only=False` (the current default value), which uses the default pickle module implicitly. It is possible to construct malicious pickle data which will execute arbitrary code during unpickling (See https://github.com/pytorch/pytorch/blob/main/SECURITY.md#untrusted-models for more details). In a future release, the default value for `weights_only` will be flipped to `True`. This limits the functions that could be executed during unpickling. Arbitrary objects will no longer be allowed to be loaded via this mode unless they are explicitly allowlisted by the user via `torch.serialization.add_safe_globals`. We recommend you start setting `weights_only=True` for any use case where you don't have full control of the loaded file. Please open an issue on GitHub for any issues related to this experimental feature.\n",
      "  gpr=torch.load(\"models/Nox_seasonality\")\n"
     ]
    }
   ],
   "source": [
    "gpr=torch.load(\"models/Nox_seasonality\")"
   ]
  },
  {
   "cell_type": "code",
   "execution_count": 54,
   "id": "017ca8ac-711e-4353-b45d-c9be3a35ace8",
   "metadata": {},
   "outputs": [
    {
     "data": {
      "text/plain": [
       "[<matplotlib.lines.Line2D at 0x7f1d0a4d0e30>]"
      ]
     },
     "execution_count": 54,
     "metadata": {},
     "output_type": "execute_result"
    },
    {
     "data": {
      "image/png": "[encoded data removed]",
      "text/plain": [
       "<Figure size 640x480 with 1 Axes>"
      ]
     },
     "metadata": {},
     "output_type": "display_data"
    }
   ],
   "source": [
    "plt.plot(test.no2,test.no2_corrected,'.')"
   ]
  },
  {
   "cell_type": "code",
   "execution_count": 5,
   "id": "9919b9b2-7d9a-4a9a-bcf5-c367d63911b7",
   "metadata": {},
   "outputs": [],
   "source": [
    "test=test.loc[(test.corrected_week>0)&(test.corrected_week<52.5),:]"
   ]
  },
  {
   "cell_type": "code",
   "execution_count": 42,
   "id": "899ebfaf-917a-4d81-96c6-93cf8b0ee2b9",
   "metadata": {},
   "outputs": [],
   "source": [
    "def prediction(test,particle,model):\n",
    "    gpr_points=model(torch.tensor(test.corrected_week).float())\n",
    "    test[\"scale\"]=gpr_points[0].detach().numpy()\n",
    "    test_3=test.set_index(\"cpnr\").loc[test.groupby(test.cpnr).maalnr.count()>=3,:]\n",
    "    raw_1=test_3.loc[test_3.maalnr==1,particle]\n",
    "    scale_1=test_3.loc[test_3.maalnr==1,\"scale\"]\n",
    "    raw_2=test_3.loc[test_3.maalnr==2,particle]\n",
    "    scale_2=test_3.loc[test_3.maalnr==2,\"scale\"]\n",
    "    scale_3=test_3.loc[test_3.maalnr==3,\"scale\"]\n",
    "    raw_3=test_3.loc[test_3.maalnr==3,particle]\n",
    "    true_3=raw_2*(1+(scale_3-scale_2)/test[\"scale\"].mean())\n",
    "    true_1=raw_2*(1+(scale_1-scale_2)/test[\"scale\"].mean())\n",
    "    true_2_1=raw_1*(1+(scale_2-scale_1)/test[\"scale\"].mean())\n",
    "    true_2_2=raw_3*(1+(scale_2-scale_3)/test[\"scale\"].mean())\n",
    "    mean_123=(true_2_1+true_2_2)/2\n",
    "    prediction_matrix=pd.DataFrame([true_1,raw_1,mean_123,raw_2,true_3,raw_3],columns=test.cpnr,index=[\"predict_1\",\"raw_1\",\"predict_2\",\"raw_2\",\"predict_3\",\"raw_3\"]).T\n",
    "    return prediction_matrix"
   ]
  },
  {
   "cell_type": "code",
   "execution_count": 51,
   "id": "99c08d5b-4135-44e2-bdc4-b077a9e44ec4",
   "metadata": {},
   "outputs": [
    {
     "data": {
      "text/plain": [
       "0      1.623324\n",
       "1      0.309964\n",
       "2      4.785525\n",
       "3      1.000000\n",
       "4      0.173341\n",
       "         ...   \n",
       "178    2.281517\n",
       "179    0.240595\n",
       "180    2.560380\n",
       "181    0.301575\n",
       "182    2.465921\n",
       "Name: scale, Length: 183, dtype: float32"
      ]
     },
     "execution_count": 51,
     "metadata": {},
     "output_type": "execute_result"
    }
   ],
   "source": [
    "test.scale/np.roll(test.scale,1)"
   ]
  },
  {
   "cell_type": "code",
   "execution_count": 48,
   "id": "e507ca42-2182-4368-89d9-726f8c23271e",
   "metadata": {},
   "outputs": [
    {
     "data": {
      "text/html": [
       "<div>\n",
       "<style scoped>\n",
       "    .dataframe tbody tr th:only-of-type {\n",
       "        vertical-align: middle;\n",
       "    }\n",
       "\n",
       "    .dataframe tbody tr th {\n",
       "        vertical-align: top;\n",
       "    }\n",
       "\n",
       "    .dataframe thead th {\n",
       "        text-align: right;\n",
       "    }\n",
       "</style>\n",
       "<table border=\"1\" class=\"dataframe\">\n",
       "  <thead>\n",
       "    <tr style=\"text-align: right;\">\n",
       "      <th></th>\n",
       "      <th>predict_1</th>\n",
       "      <th>raw_1</th>\n",
       "      <th>predict_2</th>\n",
       "      <th>raw_2</th>\n",
       "      <th>predict_3</th>\n",
       "      <th>raw_3</th>\n",
       "    </tr>\n",
       "    <tr>\n",
       "      <th>cpnr</th>\n",
       "      <th></th>\n",
       "      <th></th>\n",
       "      <th></th>\n",
       "      <th></th>\n",
       "      <th></th>\n",
       "      <th></th>\n",
       "    </tr>\n",
       "  </thead>\n",
       "  <tbody>\n",
       "    <tr>\n",
       "      <th>363</th>\n",
       "      <td>2.616126</td>\n",
       "      <td>7.1</td>\n",
       "      <td>-8.844129</td>\n",
       "      <td>1.2</td>\n",
       "      <td>3.608062</td>\n",
       "      <td>16.3</td>\n",
       "    </tr>\n",
       "    <tr>\n",
       "      <th>363</th>\n",
       "      <td>2.616126</td>\n",
       "      <td>7.1</td>\n",
       "      <td>-8.844129</td>\n",
       "      <td>1.2</td>\n",
       "      <td>3.608062</td>\n",
       "      <td>16.3</td>\n",
       "    </tr>\n",
       "    <tr>\n",
       "      <th>363</th>\n",
       "      <td>2.616126</td>\n",
       "      <td>7.1</td>\n",
       "      <td>-8.844129</td>\n",
       "      <td>1.2</td>\n",
       "      <td>3.608062</td>\n",
       "      <td>16.3</td>\n",
       "    </tr>\n",
       "    <tr>\n",
       "      <th>345</th>\n",
       "      <td>34.687360</td>\n",
       "      <td>16.3</td>\n",
       "      <td>-3.859679</td>\n",
       "      <td>11.2</td>\n",
       "      <td>14.440058</td>\n",
       "      <td>14.3</td>\n",
       "    </tr>\n",
       "    <tr>\n",
       "      <th>345</th>\n",
       "      <td>34.687360</td>\n",
       "      <td>16.3</td>\n",
       "      <td>-3.859679</td>\n",
       "      <td>11.2</td>\n",
       "      <td>14.440058</td>\n",
       "      <td>14.3</td>\n",
       "    </tr>\n",
       "    <tr>\n",
       "      <th>...</th>\n",
       "      <td>...</td>\n",
       "      <td>...</td>\n",
       "      <td>...</td>\n",
       "      <td>...</td>\n",
       "      <td>...</td>\n",
       "      <td>...</td>\n",
       "    </tr>\n",
       "    <tr>\n",
       "      <th>102</th>\n",
       "      <td>16.203931</td>\n",
       "      <td>30.0</td>\n",
       "      <td>-11.011978</td>\n",
       "      <td>5.9</td>\n",
       "      <td>10.993864</td>\n",
       "      <td>2.7</td>\n",
       "    </tr>\n",
       "    <tr>\n",
       "      <th>102</th>\n",
       "      <td>16.203931</td>\n",
       "      <td>30.0</td>\n",
       "      <td>-11.011978</td>\n",
       "      <td>5.9</td>\n",
       "      <td>10.993864</td>\n",
       "      <td>2.7</td>\n",
       "    </tr>\n",
       "    <tr>\n",
       "      <th>102</th>\n",
       "      <td>16.203931</td>\n",
       "      <td>30.0</td>\n",
       "      <td>-11.011978</td>\n",
       "      <td>5.9</td>\n",
       "      <td>10.993864</td>\n",
       "      <td>2.7</td>\n",
       "    </tr>\n",
       "    <tr>\n",
       "      <th>203</th>\n",
       "      <td>NaN</td>\n",
       "      <td>NaN</td>\n",
       "      <td>NaN</td>\n",
       "      <td>NaN</td>\n",
       "      <td>NaN</td>\n",
       "      <td>NaN</td>\n",
       "    </tr>\n",
       "    <tr>\n",
       "      <th>203</th>\n",
       "      <td>NaN</td>\n",
       "      <td>NaN</td>\n",
       "      <td>NaN</td>\n",
       "      <td>NaN</td>\n",
       "      <td>NaN</td>\n",
       "      <td>NaN</td>\n",
       "    </tr>\n",
       "  </tbody>\n",
       "</table>\n",
       "<p>183 rows × 6 columns</p>\n",
       "</div>"
      ],
      "text/plain": [
       "      predict_1  raw_1  predict_2  raw_2  predict_3  raw_3\n",
       "cpnr                                                      \n",
       "363    2.616126    7.1  -8.844129    1.2   3.608062   16.3\n",
       "363    2.616126    7.1  -8.844129    1.2   3.608062   16.3\n",
       "363    2.616126    7.1  -8.844129    1.2   3.608062   16.3\n",
       "345   34.687360   16.3  -3.859679   11.2  14.440058   14.3\n",
       "345   34.687360   16.3  -3.859679   11.2  14.440058   14.3\n",
       "...         ...    ...        ...    ...        ...    ...\n",
       "102   16.203931   30.0 -11.011978    5.9  10.993864    2.7\n",
       "102   16.203931   30.0 -11.011978    5.9  10.993864    2.7\n",
       "102   16.203931   30.0 -11.011978    5.9  10.993864    2.7\n",
       "203         NaN    NaN        NaN    NaN        NaN    NaN\n",
       "203         NaN    NaN        NaN    NaN        NaN    NaN\n",
       "\n",
       "[183 rows x 6 columns]"
      ]
     },
     "execution_count": 48,
     "metadata": {},
     "output_type": "execute_result"
    }
   ],
   "source": [
    "prediction_matrix"
   ]
  },
  {
   "cell_type": "code",
   "execution_count": 45,
   "id": "ba982deb-dd1d-4103-8328-1d1fe9826829",
   "metadata": {},
   "outputs": [
    {
     "data": {
      "text/plain": [
       "[<matplotlib.lines.Line2D at 0x7f1d1dcba420>]"
      ]
     },
     "execution_count": 45,
     "metadata": {},
     "output_type": "execute_result"
    },
    {
     "data": {
      "image/png": "[encoded data removed]",
      "text/plain": [
       "<Figure size 640x480 with 1 Axes>"
      ]
     },
     "metadata": {},
     "output_type": "display_data"
    }
   ],
   "source": [
    "plt.plot((1+(test.scale-np.roll(test.scale,1))/test.scale.max()))\n"
   ]
  },
  {
   "cell_type": "code",
   "execution_count": 46,
   "id": "15f257e1-b894-42cf-a410-0589aadc7194",
   "metadata": {},
   "outputs": [
    {
     "data": {
      "text/plain": [
       "[<matplotlib.lines.Line2D at 0x7f1d1de1c890>]"
      ]
     },
     "execution_count": 46,
     "metadata": {},
     "output_type": "execute_result"
    },
    {
     "data": {
      "image/png": "[encoded data removed]",
      "text/plain": [
       "<Figure size 640x480 with 1 Axes>"
      ]
     },
     "metadata": {},
     "output_type": "display_data"
    }
   ],
   "source": [
    "plt.plot(test.corrected_week,test.scale,'.')"
   ]
  },
  {
   "cell_type": "code",
   "execution_count": 47,
   "id": "4b6becd8-cb1d-4f17-a72d-727501b7c9e4",
   "metadata": {},
   "outputs": [],
   "source": [
    "prediction_matrix=prediction(test,\"nox\",gpr)"
   ]
  },
  {
   "cell_type": "code",
   "execution_count": 17,
   "id": "d9afa94f-f1b3-403f-b1aa-51300c18b7db",
   "metadata": {},
   "outputs": [
    {
     "data": {
      "text/plain": [
       "65.2"
      ]
     },
     "execution_count": 17,
     "metadata": {},
     "output_type": "execute_result"
    }
   ],
   "source": [
    "(16.3*4)"
   ]
  },
  {
   "cell_type": "code",
   "execution_count": 9,
   "id": "2466db07-f931-4bcf-b37f-3ad5c1697053",
   "metadata": {},
   "outputs": [
    {
     "data": {
      "text/plain": [
       "[<matplotlib.lines.Line2D at 0x7f1d1e05ff20>]"
      ]
     },
     "execution_count": 9,
     "metadata": {},
     "output_type": "execute_result"
    },
    {
     "data": {
      "image/png": "[encoded data removed]",
      "text/plain": [
       "<Figure size 640x480 with 1 Axes>"
      ]
     },
     "metadata": {},
     "output_type": "display_data"
    }
   ],
   "source": [
    "plt.plot(prediction_matrix.raw_1,prediction_matrix.predict_1,'.')"
   ]
  },
  {
   "cell_type": "code",
   "execution_count": 10,
   "id": "d0eb9c67-eee9-493b-b8b3-edf6e57b097d",
   "metadata": {},
   "outputs": [
    {
     "ename": "NameError",
     "evalue": "name 'raw_1' is not defined",
     "output_type": "error",
     "traceback": [
      "\u001b[0;31m---------------------------------------------------------------------------\u001b[0m",
      "\u001b[0;31mNameError\u001b[0m                                 Traceback (most recent call last)",
      "Cell \u001b[0;32mIn[10], line 1\u001b[0m\n\u001b[0;32m----> 1\u001b[0m plt\u001b[38;5;241m.\u001b[39mplot(\u001b[43mraw_1\u001b[49m\u001b[38;5;241m.\u001b[39mvalues,predicted_1\u001b[38;5;241m.\u001b[39mvalues,\u001b[38;5;124m'\u001b[39m\u001b[38;5;124m.\u001b[39m\u001b[38;5;124m'\u001b[39m)\n",
      "\u001b[0;31mNameError\u001b[0m: name 'raw_1' is not defined"
     ]
    }
   ],
   "source": [
    "plt.plot(raw_1.values,predicted_1.values,'.')"
   ]
  },
  {
   "cell_type": "code",
   "execution_count": 11,
   "id": "bcfd457c-649f-414b-814f-4511adb17c33",
   "metadata": {},
   "outputs": [
    {
     "data": {
      "text/plain": [
       "-2.0008376757999247"
      ]
     },
     "execution_count": 11,
     "metadata": {},
     "output_type": "execute_result"
    }
   ],
   "source": [
    "r2_score(prediction_matrix.raw_1,prediction_matrix.predict_1)"
   ]
  },
  {
   "cell_type": "code",
   "execution_count": 12,
   "id": "4fae66e1-bb3a-466f-8d67-94606381a188",
   "metadata": {},
   "outputs": [
    {
     "data": {
      "text/plain": [
       "0.04917829387414607"
      ]
     },
     "execution_count": 12,
     "metadata": {},
     "output_type": "execute_result"
    }
   ],
   "source": [
    "r2_score(prediction_matrix.raw_2,prediction_matrix.predict_2)"
   ]
  },
  {
   "cell_type": "code",
   "execution_count": 13,
   "id": "70afdcf4-fe25-409e-9476-cad915033d39",
   "metadata": {},
   "outputs": [
    {
     "data": {
      "text/plain": [
       "-0.2509973245264774"
      ]
     },
     "execution_count": 13,
     "metadata": {},
     "output_type": "execute_result"
    }
   ],
   "source": [
    "r2_score(prediction_matrix.raw_3,prediction_matrix.predict_3)"
   ]
  },
  {
   "cell_type": "code",
   "execution_count": 187,
   "id": "c83118c0-ac77-40fb-87da-e0f17c12ad74",
   "metadata": {},
   "outputs": [],
   "source": []
  },
  {
   "cell_type": "code",
   "execution_count": null,
   "id": "101d8861-bead-4abd-8dd3-c6547e4ff8a7",
   "metadata": {},
   "outputs": [],
   "source": []
  },
  {
   "cell_type": "code",
   "execution_count": 188,
   "id": "3d07935d-301d-4306-8505-b0af383017b6",
   "metadata": {},
   "outputs": [],
   "source": [
    "first=n_5.BC_Gaussion.values*np.roll(n_5[\"scale\"],1)/n_5[\"scale\"]"
   ]
  },
  {
   "cell_type": "code",
   "execution_count": 189,
   "id": "a3ad6848-fc3b-49d4-a5d9-1d76ba7e8dbe",
   "metadata": {},
   "outputs": [],
   "source": [
    "second=n_5.BC_Gaussion.values*np.roll(n_5[\"scale\"],-1)/n_5[\"scale\"]"
   ]
  },
  {
   "cell_type": "code",
   "execution_count": 190,
   "id": "f4b50fc3-bcc8-4915-95e4-5dec44060bd2",
   "metadata": {},
   "outputs": [],
   "source": [
    "predict=(np.roll(first,-1)+np.roll(second,1))/2"
   ]
  },
  {
   "cell_type": "code",
   "execution_count": 191,
   "id": "b1dde6cc-6766-4ed0-8e4f-abea5b71c01a",
   "metadata": {},
   "outputs": [
    {
     "data": {
      "text/plain": [
       "0    1.115018\n",
       "1    0.704488\n",
       "2    0.454399\n",
       "Name: scale, dtype: float64"
      ]
     },
     "execution_count": 191,
     "metadata": {},
     "output_type": "execute_result"
    }
   ],
   "source": [
    "n_5.BC_Gaussion.values*np.roll(n_5[\"scale\"],-1)/n_5[\"scale\"]"
   ]
  },
  {
   "cell_type": "code",
   "execution_count": 192,
   "id": "31ea6990-5f7f-4b2f-be14-e009d418ef92",
   "metadata": {},
   "outputs": [
    {
     "data": {
      "text/plain": [
       "-0.1793307277124938"
      ]
     },
     "execution_count": 192,
     "metadata": {},
     "output_type": "execute_result"
    }
   ],
   "source": [
    "r2_score(BC,true_2_1)"
   ]
  },
  {
   "cell_type": "code",
   "execution_count": 193,
   "id": "632ff0c3-9562-4c88-be4b-0f1eeb155eaf",
   "metadata": {},
   "outputs": [
    {
     "data": {
      "text/plain": [
       "1.1033713152909999"
      ]
     },
     "execution_count": 193,
     "metadata": {},
     "output_type": "execute_result"
    }
   ],
   "source": [
    "0.451681*2.442811"
   ]
  },
  {
   "cell_type": "code",
   "execution_count": 194,
   "id": "e7e7d87c-2970-40b3-a888-2b7279f31864",
   "metadata": {},
   "outputs": [
    {
     "data": {
      "text/plain": [
       "0.7055821199999999"
      ]
     },
     "execution_count": 194,
     "metadata": {},
     "output_type": "execute_result"
    }
   ],
   "source": [
    "1.720932*0.41"
   ]
  },
  {
   "cell_type": "code",
   "execution_count": 195,
   "id": "12ae00db-3677-4314-9532-4df7bdf87c28",
   "metadata": {},
   "outputs": [
    {
     "data": {
      "text/plain": [
       "0    0.994018\n",
       "1    0.411828\n",
       "2    2.442811\n",
       "Name: scale, dtype: float32"
      ]
     },
     "execution_count": 195,
     "metadata": {},
     "output_type": "execute_result"
    }
   ],
   "source": [
    "np.roll(n_5[\"scale\"],1)/n_5[\"scale\"]"
   ]
  },
  {
   "cell_type": "code",
   "execution_count": 196,
   "id": "b0e1ee79-24ad-43d0-bd84-a4053f636805",
   "metadata": {},
   "outputs": [
    {
     "data": {
      "text/plain": [
       "0    0.657281\n",
       "1    1.596008\n",
       "2    0.653349\n",
       "Name: scale, dtype: float32"
      ]
     },
     "execution_count": 196,
     "metadata": {},
     "output_type": "execute_result"
    }
   ],
   "source": [
    "n_5[\"scale\"]"
   ]
  },
  {
   "cell_type": "code",
   "execution_count": 53,
   "id": "cbcb8f00-0bda-4c5b-9d42-4b739c05e40c",
   "metadata": {},
   "outputs": [
    {
     "data": {
      "text/plain": [
       "0    0.459196\n",
       "1    1.720932\n",
       "2    0.451681\n",
       "Name: BC_Gaussion, dtype: float64"
      ]
     },
     "execution_count": 53,
     "metadata": {},
     "output_type": "execute_result"
    }
   ],
   "source": [
    "n_5.BC_Gaussion\n",
    "       "
   ]
  },
  {
   "cell_type": "code",
   "execution_count": 49,
   "id": "0ff9df8f-c550-4453-a99d-c7bce5cd9dd6",
   "metadata": {},
   "outputs": [
    {
     "data": {
      "text/plain": [
       "0    0.456449\n",
       "1    0.708728\n",
       "2    1.103372\n",
       "dtype: float64"
      ]
     },
     "execution_count": 49,
     "metadata": {},
     "output_type": "execute_result"
    }
   ],
   "source": [
    "n_5.BC_Gaussion*np.roll(n_5[\"scale\"],1)/n_5[\"scale\"]"
   ]
  },
  {
   "cell_type": "code",
   "execution_count": 25,
   "id": "248e20dc-c73f-474b-a9eb-90a290bd5a46",
   "metadata": {},
   "outputs": [
    {
     "data": {
      "text/plain": [
       "-0.4942523304292594"
      ]
     },
     "execution_count": 25,
     "metadata": {},
     "output_type": "execute_result"
    }
   ],
   "source": [
    "r2_score(np.roll(test.BC_Gaussion,1),test.BC_Gaussion*pre_point/point)"
   ]
  },
  {
   "cell_type": "code",
   "execution_count": 38,
   "id": "557fd14c-fe0b-491c-94e2-f10370668139",
   "metadata": {},
   "outputs": [
    {
     "data": {
      "text/plain": [
       "array([1.5960082 , 0.6533491 , 0.9286251 , 1.2373776 , 0.8248529 ,\n",
       "       1.0533446 , 0.9369405 , 0.9286251 , 1.2373776 , 0.9286251 ,\n",
       "       1.6143847 , 0.6084184 , 1.3857703 , 1.1212385 , 0.6497071 ,\n",
       "       1.0848507 , 1.0338063 , 0.8819841 , 1.0862094 , 1.1220462 ,\n",
       "       0.93953514, 1.062085  , 0.6084184 , 1.0999829 , 1.3857703 ,\n",
       "       0.7828883 , 1.4015001 , 1.3857703 , 0.62108123, 1.0960147 ,\n",
       "       1.2291645 , 0.6030919 , 1.0671871 , 1.1329083 , 0.6721936 ,\n",
       "       1.1591376 , 1.050993  , 0.93953514, 1.159125  , 0.88154495,\n",
       "       0.8385    , 0.8347937 , 1.213985  , 1.049395  , 0.6039353 ,\n",
       "       1.1660209 , 1.0682428 , 0.6039353 , 1.159125  , 1.0723941 ,\n",
       "       1.0611467 , 0.8385    , 0.9060375 , 0.8269943 , 0.91274774,\n",
       "       0.75506026, 1.0682428 , 0.6533491 , 0.7828883 , 0.8150997 ,\n",
       "       0.67219365, 1.6046711 , 1.0723941 , 0.9369405 , 1.5656792 ,\n",
       "       1.1220462 , 0.7979984 , 1.0960147 , 1.1209838 , 1.4168986 ,\n",
       "       1.101396  , 0.6533491 , 0.91274774, 1.0346293 , 1.121232  ,\n",
       "       0.8151027 , 1.2592123 , 1.0507671 , 0.91571844, 1.1007234 ,\n",
       "       0.6392326 , 1.1660209 , 0.7828883 , 0.6392326 , 1.1660209 ,\n",
       "       0.7828883 , 1.0671871 , 0.8150997 , 1.413619  , 1.0671871 ,\n",
       "       0.8819841 , 1.0662287 , 0.8248529 , 1.2694173 , 0.75506026,\n",
       "       0.78979194, 0.89123315, 1.5531402 , 1.0338063 , 0.8847865 ,\n",
       "       0.9413733 , 0.6030919 , 1.0671871 , 1.0662287 , 1.0611467 ,\n",
       "       0.82126534, 1.0881602 , 0.7972091 , 1.0291277 , 1.0611467 ,\n",
       "       0.6047369 , 1.431525  , 0.9395345 , 1.0856866 , 0.60841644,\n",
       "       1.0775471 , 1.2803516 , 0.7828883 , 1.3857703 , 0.8393136 ,\n",
       "       0.62108123, 0.89999425, 1.413619  , 0.6392326 , 1.101396  ,\n",
       "       1.1707476 , 0.7194849 , 0.8248529 , 0.84075713, 0.8150997 ,\n",
       "       1.3857703 , 1.1221287 , 0.62628907, 1.0682428 , 0.746763  ,\n",
       "       0.6039353 , 1.101396  , 1.085664  , 0.8150997 , 1.2694173 ,\n",
       "       1.0673765 , 1.0960147 , 0.60350007, 1.0486398 , 1.0388186 ,\n",
       "       0.6047369 , 1.0838681 , 0.8929771 , 1.0291277 , 0.6906668 ,\n",
       "       1.050987  , 1.2803555 , 0.7979969 , 0.8128051 , 1.0999829 ,\n",
       "       1.0736642 , 1.0960147 , 1.1212385 , 0.776029  , 1.0388186 ,\n",
       "       0.94235396, 0.78319514, 1.0291277 , 1.0388186 , 1.1917992 ,\n",
       "       0.7979984 , 1.0852668 , 1.5656793 , 0.9286251 , 1.101396  ,\n",
       "       0.941492  , 1.085664  , 1.5596662 , 0.9286251 , 0.6253207 ,\n",
       "       1.101396  , 1.0532095 , 0.89999425, 1.050987  , 0.94237465,\n",
       "       1.0490445 , 0.7696975 , 1.0960147 , 0.89999425, 1.0309815 ,\n",
       "       1.0671871 , 1.0662287 , 1.070538  , 1.0573877 , 0.89999425,\n",
       "       1.0736537 , 1.0673773 , 0.94149697, 0.78319514, 0.899236  ,\n",
       "       1.1209838 , 0.7828883 , 0.88154495, 1.0801513 , 0.79736704,\n",
       "       0.8347937 , 1.0865791 , 0.79736704, 1.1660209 , 1.0532095 ,\n",
       "       0.60904235, 0.83075726, 0.899236  , 1.5531402 , 0.9750167 ,\n",
       "       0.941492  , 1.0490445 , 1.0662287 , 1.0733716 , 0.7979984 ,\n",
       "       0.7627335 , 0.776029  , 0.6572809 , 1.0881602 , 0.85258436,\n",
       "       0.75741255, 1.0346266 , 1.5531402 , 0.7696975 , 1.0399462 ,\n",
       "       0.899236  , 1.1843145 , 0.9286251 , 0.60904235, 0.6572809 ],\n",
       "      dtype=float32)"
      ]
     },
     "execution_count": 38,
     "metadata": {},
     "output_type": "execute_result"
    }
   ],
   "source": [
    "np.roll(gpr_points[0].detach().numpy(),-1)"
   ]
  },
  {
   "cell_type": "code",
   "execution_count": 33,
   "id": "16898c31-ca88-4420-8068-e30e7240f3bf",
   "metadata": {},
   "outputs": [
    {
     "data": {
      "text/plain": [
       "array([0.9266089 , 0.41182804, 2.4428108 , 0.7035661 , 0.7504783 ,\n",
       "       1.5001192 , 0.7830798 , 1.1242385 , 1.0089545 , 0.7504783 ,\n",
       "       1.3324835 , 0.5752192 , 2.6534119 , 0.43904707, 1.2359283 ,\n",
       "       1.72576   , 0.5988908 , 1.0493752 , 1.1721371 , 0.81198347,\n",
       "       0.9680612 , 1.1942568 , 0.8846139 , 1.7456491 , 0.55311626,\n",
       "       0.79376996, 1.7700741 , 0.5586074 , 1.011351  , 2.2312224 ,\n",
       "       0.5666723 , 0.8916746 , 2.0381048 , 0.56512296, 0.9419889 ,\n",
       "       1.68539   , 0.5799084 , 1.1028976 , 1.1186308 , 0.8105555 ,\n",
       "       1.3148791 , 1.0513356 , 1.0044398 , 0.68764746, 1.1568427 ,\n",
       "       1.737595  , 0.5179455 , 1.0915318 , 1.7688034 , 0.5210269 ,\n",
       "       1.0808759 , 1.0105993 , 1.2655298 , 0.9254584 , 1.0955789 ,\n",
       "       0.90604913, 1.208841  , 0.7068246 , 1.635026  , 0.8345368 ,\n",
       "       0.96048164, 1.2125965 , 0.41889808, 1.4963446 , 1.1445701 ,\n",
       "       0.5984243 , 1.3953785 , 1.4060757 , 0.72809094, 0.97772574,\n",
       "       0.7911532 , 1.2864571 , 1.6857694 , 0.7158047 , 0.8821978 ,\n",
       "       0.92276114, 1.3755715 , 0.64731157, 1.1983743 , 1.1474783 ,\n",
       "       0.8319242 , 1.721945  , 0.5482171 , 1.4893835 , 1.2247316 ,\n",
       "       0.5482171 , 1.4893835 , 0.73359984, 1.3092718 , 0.57660496,\n",
       "       1.3246216 , 1.2099844 , 0.8271997 , 1.292629  , 0.6497886 ,\n",
       "       1.6812133 , 0.9560242 , 0.88617885, 0.5738266 , 1.5023512 ,\n",
       "       1.1684246 , 0.9398891 , 1.5609119 , 0.56512296, 1.0008988 ,\n",
       "       1.0047891 , 1.2920876 , 0.7547284 , 1.3649621 , 0.77464545,\n",
       "       0.96982604, 1.7547246 , 0.42244244, 1.5236535 , 0.8653828 ,\n",
       "       1.7844465 , 0.564631  , 0.84160244, 1.6354206 , 0.5649481 ,\n",
       "       1.6510757 , 1.351375  , 0.69009465, 0.6366597 , 2.2114315 ,\n",
       "       0.58038396, 0.94076294, 1.6272025 , 0.8722585 , 0.9810834 ,\n",
       "       1.0314777 , 0.5881925 , 1.2349477 , 1.7917105 , 0.5862797 ,\n",
       "       1.4304978 , 1.236495  , 0.5483362 , 1.0144906 , 1.3319402 ,\n",
       "       0.6421054 , 1.1892873 , 0.9738706 , 1.8160971 , 0.5755075 ,\n",
       "       1.0094541 , 1.7178025 , 0.5579433 , 1.2137692 , 0.8677029 ,\n",
       "       1.4900495 , 0.65716016, 0.8208557 , 1.6044618 , 0.9817813 ,\n",
       "       0.7389253 , 1.0245129 , 0.97960746, 0.97750366, 1.4448409 ,\n",
       "       0.7470303 , 1.1023656 , 1.2032174 , 0.7610281 , 0.9906713 ,\n",
       "       0.87163895, 1.4934856 , 0.7353016 , 0.69316036, 1.6860187 ,\n",
       "       0.84313464, 1.169841  , 0.86720383, 0.6960874 , 1.6795434 ,\n",
       "       1.4850383 , 0.56775284, 1.0457519 , 1.1702403 , 0.8563324 ,\n",
       "       1.1152539 , 0.89831716, 1.3629309 , 0.70226926, 1.2178019 ,\n",
       "       0.87294894, 0.9660739 , 1.0008988 , 0.99597466, 1.0124366 ,\n",
       "       1.1748828 , 0.83825374, 1.0058802 , 1.1337024 , 1.202123  ,\n",
       "       0.8709561 , 0.80218464, 1.4318566 , 0.8880866 , 0.816131  ,\n",
       "       1.3546475 , 0.9551666 , 0.768277  , 1.3627088 , 0.683836  ,\n",
       "       1.1071119 , 1.7292879 , 0.7331171 , 0.92384785, 0.5789793 ,\n",
       "       1.592937  , 1.035608  , 0.8974758 , 0.98388314, 0.9933454 ,\n",
       "       1.3450799 , 1.0462348 , 0.9828673 , 1.1806656 , 0.6040296 ,\n",
       "       1.276308  , 1.1256539 , 0.73206365, 0.66615146, 2.017858  ,\n",
       "       0.74013203, 1.1564775 , 0.7592882 , 1.2753419 , 1.52473   ],\n",
       "      dtype=float32)"
      ]
     },
     "execution_count": 33,
     "metadata": {},
     "output_type": "execute_result"
    }
   ],
   "source": [
    "(pre_point/point)"
   ]
  },
  {
   "cell_type": "code",
   "execution_count": 26,
   "id": "2da9718c-3589-4b05-98a4-6e23fe77bcd3",
   "metadata": {},
   "outputs": [
    {
     "data": {
      "text/plain": [
       "0      0.425495\n",
       "1      0.708728\n",
       "2      1.103372\n",
       "3      0.546820\n",
       "4      1.079188\n",
       "         ...   \n",
       "225    0.262965\n",
       "226    0.757248\n",
       "227    0.633847\n",
       "228    0.673221\n",
       "229    0.770500\n",
       "Name: BC_Gaussion, Length: 230, dtype: float64"
      ]
     },
     "execution_count": 26,
     "metadata": {},
     "output_type": "execute_result"
    }
   ],
   "source": [
    "test.BC_Gaussion*pre_point/point"
   ]
  },
  {
   "cell_type": "code",
   "execution_count": 27,
   "id": "a6826d42-f454-4bfa-bd53-c5e5e9436f14",
   "metadata": {},
   "outputs": [
    {
     "data": {
      "text/plain": [
       "0      0.459196\n",
       "1      1.720932\n",
       "2      0.451681\n",
       "3      0.777212\n",
       "4      1.438000\n",
       "         ...   \n",
       "225    0.355294\n",
       "226    0.654788\n",
       "227    0.834791\n",
       "228    0.527875\n",
       "229    0.505335\n",
       "Name: BC_Gaussion, Length: 230, dtype: float64"
      ]
     },
     "execution_count": 27,
     "metadata": {},
     "output_type": "execute_result"
    }
   ],
   "source": [
    "test.BC_Gaussion"
   ]
  },
  {
   "cell_type": "code",
   "execution_count": null,
   "id": "58485e92-2f3e-467c-8d11-f82c06af6744",
   "metadata": {},
   "outputs": [],
   "source": []
  }
 ],
 "metadata": {
  "kernelspec": {
   "display_name": "Python 3 (ipykernel)",
   "language": "python",
   "name": "python3"
  },
  "language_info": {
   "codemirror_mode": {
    "name": "ipython",
    "version": 3
   },
   "file_extension": ".py",
   "mimetype": "text/x-python",
   "name": "python",
   "nbconvert_exporter": "python",
   "pygments_lexer": "ipython3",
   "version": "3.12.2"
  }
 },
 "nbformat": 4,
 "nbformat_minor": 5
}
