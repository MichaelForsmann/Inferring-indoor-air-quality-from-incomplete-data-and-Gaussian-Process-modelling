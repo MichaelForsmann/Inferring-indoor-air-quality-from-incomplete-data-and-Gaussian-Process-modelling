{
 "cells": [
  {
   "cell_type": "code",
   "execution_count": 2,
   "id": "1e4d2ed0-212a-4481-8063-faaa18f3618a",
   "metadata": {},
   "outputs": [],
   "source": [
    "import pandas as pd\n",
    "import torch\n",
    "import numpy as np\n",
    "from sklearn.metrics import r2_score\n",
    "import matplotlib.pyplot as plt"
   ]
  },
  {
   "cell_type": "code",
   "execution_count": 3,
   "id": "cabad2d7-a086-4dab-9341-a7ad27cd6972",
   "metadata": {},
   "outputs": [],
   "source": [
    "test=pd.read_excel(r\"data/chem_test.xlsx\")"
   ]
  },
  {
   "cell_type": "code",
   "execution_count": 4,
   "id": "6680c53e-56f3-4cab-96a7-d1e9adac7885",
   "metadata": {},
   "outputs": [
    {
     "name": "stderr",
     "output_type": "stream",
     "text": [
      "/tmp/ipykernel_4001068/1414426829.py:1: FutureWarning: You are using `torch.load` with `weights_only=False` (the current default value), which uses the default pickle module implicitly. It is possible to construct malicious pickle data which will execute arbitrary code during unpickling (See https://github.com/pytorch/pytorch/blob/main/SECURITY.md#untrusted-models for more details). In a future release, the default value for `weights_only` will be flipped to `True`. This limits the functions that could be executed during unpickling. Arbitrary objects will no longer be allowed to be loaded via this mode unless they are explicitly allowlisted by the user via `torch.serialization.add_safe_globals`. We recommend you start setting `weights_only=True` for any use case where you don't have full control of the loaded file. Please open an issue on GitHub for any issues related to this experimental feature.\n",
      "  gpr=torch.load(\"models/Nox_seasonality\")\n"
     ]
    }
   ],
   "source": [
    "gpr=torch.load(\"models/Nox_seasonality\")"
   ]
  },
  {
   "cell_type": "code",
   "execution_count": 5,
   "id": "017ca8ac-711e-4353-b45d-c9be3a35ace8",
   "metadata": {},
   "outputs": [
    {
     "data": {
      "text/html": [
       "<div>\n",
       "<style scoped>\n",
       "    .dataframe tbody tr th:only-of-type {\n",
       "        vertical-align: middle;\n",
       "    }\n",
       "\n",
       "    .dataframe tbody tr th {\n",
       "        vertical-align: top;\n",
       "    }\n",
       "\n",
       "    .dataframe thead th {\n",
       "        text-align: right;\n",
       "    }\n",
       "</style>\n",
       "<table border=\"1\" class=\"dataframe\">\n",
       "  <thead>\n",
       "    <tr style=\"text-align: right;\">\n",
       "      <th></th>\n",
       "      <th>Unnamed: 0</th>\n",
       "      <th>cpnr</th>\n",
       "      <th>maalnr</th>\n",
       "      <th>constrution_year</th>\n",
       "      <th>Area</th>\n",
       "      <th>floor_level</th>\n",
       "      <th>powerplant</th>\n",
       "      <th>road</th>\n",
       "      <th>motorway</th>\n",
       "      <th>forest</th>\n",
       "      <th>...</th>\n",
       "      <th>visit</th>\n",
       "      <th>no2</th>\n",
       "      <th>nox</th>\n",
       "      <th>formaldehyd</th>\n",
       "      <th>acetald</th>\n",
       "      <th>acetone</th>\n",
       "      <th>sample_time</th>\n",
       "      <th>no2_corrected</th>\n",
       "      <th>formaldehyd_corrected</th>\n",
       "      <th>corrected_week</th>\n",
       "    </tr>\n",
       "  </thead>\n",
       "  <tbody>\n",
       "    <tr>\n",
       "      <th>0</th>\n",
       "      <td>0</td>\n",
       "      <td>363</td>\n",
       "      <td>1</td>\n",
       "      <td>1927.0</td>\n",
       "      <td>156.0</td>\n",
       "      <td>0.0</td>\n",
       "      <td>50.1</td>\n",
       "      <td>20079.4</td>\n",
       "      <td>8555.5</td>\n",
       "      <td>278.8</td>\n",
       "      <td>...</td>\n",
       "      <td>1</td>\n",
       "      <td>5.7</td>\n",
       "      <td>7.1</td>\n",
       "      <td>12.0</td>\n",
       "      <td>26.7</td>\n",
       "      <td>14.5</td>\n",
       "      <td>70</td>\n",
       "      <td>5.7</td>\n",
       "      <td>12.0</td>\n",
       "      <td>2.0</td>\n",
       "    </tr>\n",
       "    <tr>\n",
       "      <th>1</th>\n",
       "      <td>1</td>\n",
       "      <td>363</td>\n",
       "      <td>2</td>\n",
       "      <td>1927.0</td>\n",
       "      <td>156.0</td>\n",
       "      <td>0.0</td>\n",
       "      <td>50.1</td>\n",
       "      <td>20079.4</td>\n",
       "      <td>8555.5</td>\n",
       "      <td>278.8</td>\n",
       "      <td>...</td>\n",
       "      <td>2</td>\n",
       "      <td>7.9</td>\n",
       "      <td>1.2</td>\n",
       "      <td>11.9</td>\n",
       "      <td>0.4</td>\n",
       "      <td>0.3</td>\n",
       "      <td>72</td>\n",
       "      <td>8.0</td>\n",
       "      <td>12.0</td>\n",
       "      <td>26.6</td>\n",
       "    </tr>\n",
       "    <tr>\n",
       "      <th>2</th>\n",
       "      <td>2</td>\n",
       "      <td>363</td>\n",
       "      <td>3</td>\n",
       "      <td>1927.0</td>\n",
       "      <td>156.0</td>\n",
       "      <td>0.0</td>\n",
       "      <td>50.1</td>\n",
       "      <td>20079.4</td>\n",
       "      <td>8555.5</td>\n",
       "      <td>278.8</td>\n",
       "      <td>...</td>\n",
       "      <td>3</td>\n",
       "      <td>5.1</td>\n",
       "      <td>16.3</td>\n",
       "      <td>20.2</td>\n",
       "      <td>2.1</td>\n",
       "      <td>0.0</td>\n",
       "      <td>79</td>\n",
       "      <td>5.3</td>\n",
       "      <td>21.2</td>\n",
       "      <td>47.9</td>\n",
       "    </tr>\n",
       "    <tr>\n",
       "      <th>3</th>\n",
       "      <td>3</td>\n",
       "      <td>345</td>\n",
       "      <td>1</td>\n",
       "      <td>1971.0</td>\n",
       "      <td>174.0</td>\n",
       "      <td>0.0</td>\n",
       "      <td>0.0</td>\n",
       "      <td>21023.0</td>\n",
       "      <td>5145.2</td>\n",
       "      <td>13883.2</td>\n",
       "      <td>...</td>\n",
       "      <td>1</td>\n",
       "      <td>8.2</td>\n",
       "      <td>16.3</td>\n",
       "      <td>16.2</td>\n",
       "      <td>5.4</td>\n",
       "      <td>12.3</td>\n",
       "      <td>68</td>\n",
       "      <td>8.1</td>\n",
       "      <td>16.0</td>\n",
       "      <td>47.9</td>\n",
       "    </tr>\n",
       "    <tr>\n",
       "      <th>4</th>\n",
       "      <td>4</td>\n",
       "      <td>345</td>\n",
       "      <td>2</td>\n",
       "      <td>1971.0</td>\n",
       "      <td>174.0</td>\n",
       "      <td>0.0</td>\n",
       "      <td>0.0</td>\n",
       "      <td>21023.0</td>\n",
       "      <td>5145.2</td>\n",
       "      <td>13883.2</td>\n",
       "      <td>...</td>\n",
       "      <td>2</td>\n",
       "      <td>6.5</td>\n",
       "      <td>11.2</td>\n",
       "      <td>17.7</td>\n",
       "      <td>1.1</td>\n",
       "      <td>1.1</td>\n",
       "      <td>72</td>\n",
       "      <td>6.6</td>\n",
       "      <td>17.9</td>\n",
       "      <td>19.7</td>\n",
       "    </tr>\n",
       "    <tr>\n",
       "      <th>...</th>\n",
       "      <td>...</td>\n",
       "      <td>...</td>\n",
       "      <td>...</td>\n",
       "      <td>...</td>\n",
       "      <td>...</td>\n",
       "      <td>...</td>\n",
       "      <td>...</td>\n",
       "      <td>...</td>\n",
       "      <td>...</td>\n",
       "      <td>...</td>\n",
       "      <td>...</td>\n",
       "      <td>...</td>\n",
       "      <td>...</td>\n",
       "      <td>...</td>\n",
       "      <td>...</td>\n",
       "      <td>...</td>\n",
       "      <td>...</td>\n",
       "      <td>...</td>\n",
       "      <td>...</td>\n",
       "      <td>...</td>\n",
       "      <td>...</td>\n",
       "    </tr>\n",
       "    <tr>\n",
       "      <th>178</th>\n",
       "      <td>178</td>\n",
       "      <td>102</td>\n",
       "      <td>1</td>\n",
       "      <td>1936.0</td>\n",
       "      <td>59.0</td>\n",
       "      <td>1.0</td>\n",
       "      <td>247.4</td>\n",
       "      <td>25102.7</td>\n",
       "      <td>1870.5</td>\n",
       "      <td>41.7</td>\n",
       "      <td>...</td>\n",
       "      <td>1</td>\n",
       "      <td>12.5</td>\n",
       "      <td>30.0</td>\n",
       "      <td>19.2</td>\n",
       "      <td>13.0</td>\n",
       "      <td>19.6</td>\n",
       "      <td>71</td>\n",
       "      <td>12.6</td>\n",
       "      <td>19.3</td>\n",
       "      <td>45.1</td>\n",
       "    </tr>\n",
       "    <tr>\n",
       "      <th>179</th>\n",
       "      <td>179</td>\n",
       "      <td>102</td>\n",
       "      <td>2</td>\n",
       "      <td>1936.0</td>\n",
       "      <td>59.0</td>\n",
       "      <td>1.0</td>\n",
       "      <td>247.4</td>\n",
       "      <td>25102.7</td>\n",
       "      <td>1870.5</td>\n",
       "      <td>41.7</td>\n",
       "      <td>...</td>\n",
       "      <td>2</td>\n",
       "      <td>11.3</td>\n",
       "      <td>5.9</td>\n",
       "      <td>10.5</td>\n",
       "      <td>7.1</td>\n",
       "      <td>16.5</td>\n",
       "      <td>70</td>\n",
       "      <td>11.3</td>\n",
       "      <td>10.5</td>\n",
       "      <td>15.4</td>\n",
       "    </tr>\n",
       "    <tr>\n",
       "      <th>180</th>\n",
       "      <td>180</td>\n",
       "      <td>102</td>\n",
       "      <td>3</td>\n",
       "      <td>1936.0</td>\n",
       "      <td>59.0</td>\n",
       "      <td>1.0</td>\n",
       "      <td>247.4</td>\n",
       "      <td>25102.7</td>\n",
       "      <td>1870.5</td>\n",
       "      <td>41.7</td>\n",
       "      <td>...</td>\n",
       "      <td>3</td>\n",
       "      <td>1.2</td>\n",
       "      <td>2.7</td>\n",
       "      <td>21.0</td>\n",
       "      <td>2.3</td>\n",
       "      <td>3.4</td>\n",
       "      <td>70</td>\n",
       "      <td>1.2</td>\n",
       "      <td>21.0</td>\n",
       "      <td>40.6</td>\n",
       "    </tr>\n",
       "    <tr>\n",
       "      <th>181</th>\n",
       "      <td>181</td>\n",
       "      <td>203</td>\n",
       "      <td>1</td>\n",
       "      <td>1966.0</td>\n",
       "      <td>98.0</td>\n",
       "      <td>0.0</td>\n",
       "      <td>67.5</td>\n",
       "      <td>13566.0</td>\n",
       "      <td>525.4</td>\n",
       "      <td>24977.6</td>\n",
       "      <td>...</td>\n",
       "      <td>1</td>\n",
       "      <td>0.4</td>\n",
       "      <td>1.4</td>\n",
       "      <td>11.3</td>\n",
       "      <td>7.8</td>\n",
       "      <td>14.1</td>\n",
       "      <td>71</td>\n",
       "      <td>0.4</td>\n",
       "      <td>11.3</td>\n",
       "      <td>20.9</td>\n",
       "    </tr>\n",
       "    <tr>\n",
       "      <th>182</th>\n",
       "      <td>182</td>\n",
       "      <td>203</td>\n",
       "      <td>2</td>\n",
       "      <td>1966.0</td>\n",
       "      <td>98.0</td>\n",
       "      <td>0.0</td>\n",
       "      <td>67.5</td>\n",
       "      <td>13566.0</td>\n",
       "      <td>525.4</td>\n",
       "      <td>24977.6</td>\n",
       "      <td>...</td>\n",
       "      <td>2</td>\n",
       "      <td>8.3</td>\n",
       "      <td>6.5</td>\n",
       "      <td>17.3</td>\n",
       "      <td>2.6</td>\n",
       "      <td>2.4</td>\n",
       "      <td>71</td>\n",
       "      <td>8.3</td>\n",
       "      <td>17.4</td>\n",
       "      <td>38.6</td>\n",
       "    </tr>\n",
       "  </tbody>\n",
       "</table>\n",
       "<p>183 rows × 29 columns</p>\n",
       "</div>"
      ],
      "text/plain": [
       "     Unnamed: 0  cpnr  maalnr  constrution_year   Area  floor_level  \\\n",
       "0             0   363       1            1927.0  156.0          0.0   \n",
       "1             1   363       2            1927.0  156.0          0.0   \n",
       "2             2   363       3            1927.0  156.0          0.0   \n",
       "3             3   345       1            1971.0  174.0          0.0   \n",
       "4             4   345       2            1971.0  174.0          0.0   \n",
       "..          ...   ...     ...               ...    ...          ...   \n",
       "178         178   102       1            1936.0   59.0          1.0   \n",
       "179         179   102       2            1936.0   59.0          1.0   \n",
       "180         180   102       3            1936.0   59.0          1.0   \n",
       "181         181   203       1            1966.0   98.0          0.0   \n",
       "182         182   203       2            1966.0   98.0          0.0   \n",
       "\n",
       "     powerplant     road  motorway   forest  ...  visit   no2   nox  \\\n",
       "0          50.1  20079.4    8555.5    278.8  ...      1   5.7   7.1   \n",
       "1          50.1  20079.4    8555.5    278.8  ...      2   7.9   1.2   \n",
       "2          50.1  20079.4    8555.5    278.8  ...      3   5.1  16.3   \n",
       "3           0.0  21023.0    5145.2  13883.2  ...      1   8.2  16.3   \n",
       "4           0.0  21023.0    5145.2  13883.2  ...      2   6.5  11.2   \n",
       "..          ...      ...       ...      ...  ...    ...   ...   ...   \n",
       "178       247.4  25102.7    1870.5     41.7  ...      1  12.5  30.0   \n",
       "179       247.4  25102.7    1870.5     41.7  ...      2  11.3   5.9   \n",
       "180       247.4  25102.7    1870.5     41.7  ...      3   1.2   2.7   \n",
       "181        67.5  13566.0     525.4  24977.6  ...      1   0.4   1.4   \n",
       "182        67.5  13566.0     525.4  24977.6  ...      2   8.3   6.5   \n",
       "\n",
       "     formaldehyd  acetald  acetone  sample_time  no2_corrected  \\\n",
       "0           12.0     26.7     14.5           70            5.7   \n",
       "1           11.9      0.4      0.3           72            8.0   \n",
       "2           20.2      2.1      0.0           79            5.3   \n",
       "3           16.2      5.4     12.3           68            8.1   \n",
       "4           17.7      1.1      1.1           72            6.6   \n",
       "..           ...      ...      ...          ...            ...   \n",
       "178         19.2     13.0     19.6           71           12.6   \n",
       "179         10.5      7.1     16.5           70           11.3   \n",
       "180         21.0      2.3      3.4           70            1.2   \n",
       "181         11.3      7.8     14.1           71            0.4   \n",
       "182         17.3      2.6      2.4           71            8.3   \n",
       "\n",
       "     formaldehyd_corrected  corrected_week  \n",
       "0                     12.0             2.0  \n",
       "1                     12.0            26.6  \n",
       "2                     21.2            47.9  \n",
       "3                     16.0            47.9  \n",
       "4                     17.9            19.7  \n",
       "..                     ...             ...  \n",
       "178                   19.3            45.1  \n",
       "179                   10.5            15.4  \n",
       "180                   21.0            40.6  \n",
       "181                   11.3            20.9  \n",
       "182                   17.4            38.6  \n",
       "\n",
       "[183 rows x 29 columns]"
      ]
     },
     "execution_count": 5,
     "metadata": {},
     "output_type": "execute_result"
    }
   ],
   "source": [
    "test"
   ]
  },
  {
   "cell_type": "code",
   "execution_count": 6,
   "id": "9919b9b2-7d9a-4a9a-bcf5-c367d63911b7",
   "metadata": {},
   "outputs": [],
   "source": [
    "test=test.loc[(test.corrected_week>0)&(test.corrected_week<52.5),:]"
   ]
  },
  {
   "cell_type": "code",
   "execution_count": 26,
   "id": "899ebfaf-917a-4d81-96c6-93cf8b0ee2b9",
   "metadata": {},
   "outputs": [],
   "source": [
    "def prediction(test,particle,model):\n",
    "    gpr_points=model(torch.tensor(test.corrected_week).float())\n",
    "    point=gpr_points[0].detach().numpy()\n",
    "    test[\"scale\"]=point\n",
    "    test_3=test.set_index(\"cpnr\").loc[test.groupby(test.cpnr).maalnr.count()>=3,:]\n",
    "    raw_1=test_3.loc[test_3.maalnr==1,particle]\n",
    "    scale_1=test_3.loc[test_3.maalnr==1,\"scale\"]\n",
    "    raw_2=test_3.loc[test_3.maalnr==2,particle]\n",
    "    scale_2=test_3.loc[test_3.maalnr==2,\"scale\"]\n",
    "    scale_3=test_3.loc[test_3.maalnr==3,\"scale\"]\n",
    "    raw_3=test_3.loc[test_3.maalnr==3,particle]\n",
    "    true_3=raw_2*scale_3/scale_2\n",
    "    true_1=raw_2*scale_1/scale_2\n",
    "    true_2_1=raw_1*scale_2/scale_1\n",
    "    true_2_2=raw_3*scale_2/scale_3\n",
    "    mean_123=(true_2_1+true_2_2)/2\n",
    "    prediction_matrix=pd.DataFrame([true_1,raw_1,mean_123,raw_2,true_3,raw_3],index=[\"predict_1\",\"raw_1\",\"predict_2\",\"raw_2\",\"predict_3\",\"raw_3\"]).T\n",
    "    return prediction_matrix"
   ]
  },
  {
   "cell_type": "code",
   "execution_count": 27,
   "id": "4b6becd8-cb1d-4f17-a72d-727501b7c9e4",
   "metadata": {},
   "outputs": [],
   "source": [
    "prediction_matrix=prediction(test,\"nox\",gpr)"
   ]
  },
  {
   "cell_type": "code",
   "execution_count": 28,
   "id": "d9afa94f-f1b3-403f-b1aa-51300c18b7db",
   "metadata": {},
   "outputs": [
    {
     "data": {
      "text/html": [
       "<div>\n",
       "<style scoped>\n",
       "    .dataframe tbody tr th:only-of-type {\n",
       "        vertical-align: middle;\n",
       "    }\n",
       "\n",
       "    .dataframe tbody tr th {\n",
       "        vertical-align: top;\n",
       "    }\n",
       "\n",
       "    .dataframe thead th {\n",
       "        text-align: right;\n",
       "    }\n",
       "</style>\n",
       "<table border=\"1\" class=\"dataframe\">\n",
       "  <thead>\n",
       "    <tr style=\"text-align: right;\">\n",
       "      <th></th>\n",
       "      <th>predict_1</th>\n",
       "      <th>raw_1</th>\n",
       "      <th>predict_2</th>\n",
       "      <th>raw_2</th>\n",
       "      <th>predict_3</th>\n",
       "      <th>raw_3</th>\n",
       "    </tr>\n",
       "    <tr>\n",
       "      <th>cpnr</th>\n",
       "      <th></th>\n",
       "      <th></th>\n",
       "      <th></th>\n",
       "      <th></th>\n",
       "      <th></th>\n",
       "      <th></th>\n",
       "    </tr>\n",
       "  </thead>\n",
       "  <tbody>\n",
       "    <tr>\n",
       "      <th>363</th>\n",
       "      <td>3.871416</td>\n",
       "      <td>7.1</td>\n",
       "      <td>2.803425</td>\n",
       "      <td>1.2</td>\n",
       "      <td>5.742630</td>\n",
       "      <td>16.3</td>\n",
       "    </tr>\n",
       "    <tr>\n",
       "      <th>345</th>\n",
       "      <td>64.612397</td>\n",
       "      <td>16.3</td>\n",
       "      <td>5.725484</td>\n",
       "      <td>11.2</td>\n",
       "      <td>18.568189</td>\n",
       "      <td>14.3</td>\n",
       "    </tr>\n",
       "    <tr>\n",
       "      <th>169</th>\n",
       "      <td>2.503187</td>\n",
       "      <td>4.0</td>\n",
       "      <td>2.241079</td>\n",
       "      <td>2.2</td>\n",
       "      <td>2.275925</td>\n",
       "      <td>1.0</td>\n",
       "    </tr>\n",
       "    <tr>\n",
       "      <th>90</th>\n",
       "      <td>7.569095</td>\n",
       "      <td>5.9</td>\n",
       "      <td>16.406223</td>\n",
       "      <td>10.1</td>\n",
       "      <td>8.180550</td>\n",
       "      <td>20.2</td>\n",
       "    </tr>\n",
       "    <tr>\n",
       "      <th>64</th>\n",
       "      <td>2.308343</td>\n",
       "      <td>0.6</td>\n",
       "      <td>9.292410</td>\n",
       "      <td>3.8</td>\n",
       "      <td>2.569742</td>\n",
       "      <td>11.9</td>\n",
       "    </tr>\n",
       "    <tr>\n",
       "      <th>61</th>\n",
       "      <td>3.864045</td>\n",
       "      <td>5.1</td>\n",
       "      <td>20.111236</td>\n",
       "      <td>8.5</td>\n",
       "      <td>4.278771</td>\n",
       "      <td>14.6</td>\n",
       "    </tr>\n",
       "    <tr>\n",
       "      <th>194</th>\n",
       "      <td>7.376465</td>\n",
       "      <td>11.8</td>\n",
       "      <td>62.352231</td>\n",
       "      <td>34.0</td>\n",
       "      <td>6.721158</td>\n",
       "      <td>13.9</td>\n",
       "    </tr>\n",
       "    <tr>\n",
       "      <th>440</th>\n",
       "      <td>1.931193</td>\n",
       "      <td>10.3</td>\n",
       "      <td>41.463019</td>\n",
       "      <td>11.1</td>\n",
       "      <td>2.245800</td>\n",
       "      <td>4.8</td>\n",
       "    </tr>\n",
       "    <tr>\n",
       "      <th>234</th>\n",
       "      <td>10.153493</td>\n",
       "      <td>7.9</td>\n",
       "      <td>68.364887</td>\n",
       "      <td>54.8</td>\n",
       "      <td>15.142590</td>\n",
       "      <td>26.0</td>\n",
       "    </tr>\n",
       "    <tr>\n",
       "      <th>226</th>\n",
       "      <td>4.310781</td>\n",
       "      <td>1.3</td>\n",
       "      <td>17.911370</td>\n",
       "      <td>25.5</td>\n",
       "      <td>4.350806</td>\n",
       "      <td>4.8</td>\n",
       "    </tr>\n",
       "    <tr>\n",
       "      <th>15</th>\n",
       "      <td>2.119170</td>\n",
       "      <td>1.3</td>\n",
       "      <td>10.084782</td>\n",
       "      <td>12.0</td>\n",
       "      <td>2.154871</td>\n",
       "      <td>2.3</td>\n",
       "    </tr>\n",
       "    <tr>\n",
       "      <th>10</th>\n",
       "      <td>6.381034</td>\n",
       "      <td>11.1</td>\n",
       "      <td>23.866090</td>\n",
       "      <td>22.6</td>\n",
       "      <td>6.979615</td>\n",
       "      <td>2.6</td>\n",
       "    </tr>\n",
       "    <tr>\n",
       "      <th>96</th>\n",
       "      <td>2.843172</td>\n",
       "      <td>5.3</td>\n",
       "      <td>2.214685</td>\n",
       "      <td>1.2</td>\n",
       "      <td>1.532545</td>\n",
       "      <td>2.8</td>\n",
       "    </tr>\n",
       "    <tr>\n",
       "      <th>382</th>\n",
       "      <td>13.962987</td>\n",
       "      <td>16.9</td>\n",
       "      <td>21.100182</td>\n",
       "      <td>22.7</td>\n",
       "      <td>10.174130</td>\n",
       "      <td>6.6</td>\n",
       "    </tr>\n",
       "    <tr>\n",
       "      <th>436</th>\n",
       "      <td>13.677798</td>\n",
       "      <td>11.8</td>\n",
       "      <td>27.002323</td>\n",
       "      <td>30.4</td>\n",
       "      <td>5.800231</td>\n",
       "      <td>5.3</td>\n",
       "    </tr>\n",
       "    <tr>\n",
       "      <th>350</th>\n",
       "      <td>5.178042</td>\n",
       "      <td>24.0</td>\n",
       "      <td>4.580675</td>\n",
       "      <td>1.0</td>\n",
       "      <td>5.258048</td>\n",
       "      <td>23.8</td>\n",
       "    </tr>\n",
       "    <tr>\n",
       "      <th>232</th>\n",
       "      <td>11.534572</td>\n",
       "      <td>2.9</td>\n",
       "      <td>10.954334</td>\n",
       "      <td>63.0</td>\n",
       "      <td>14.532086</td>\n",
       "      <td>1.4</td>\n",
       "    </tr>\n",
       "    <tr>\n",
       "      <th>92</th>\n",
       "      <td>61.531908</td>\n",
       "      <td>10.0</td>\n",
       "      <td>4.731838</td>\n",
       "      <td>30.7</td>\n",
       "      <td>43.225967</td>\n",
       "      <td>6.3</td>\n",
       "    </tr>\n",
       "    <tr>\n",
       "      <th>28</th>\n",
       "      <td>25.799245</td>\n",
       "      <td>15.9</td>\n",
       "      <td>12.397893</td>\n",
       "      <td>28.7</td>\n",
       "      <td>20.188350</td>\n",
       "      <td>5.0</td>\n",
       "    </tr>\n",
       "    <tr>\n",
       "      <th>280</th>\n",
       "      <td>32.046922</td>\n",
       "      <td>17.4</td>\n",
       "      <td>15.463395</td>\n",
       "      <td>26.6</td>\n",
       "      <td>56.155534</td>\n",
       "      <td>34.8</td>\n",
       "    </tr>\n",
       "    <tr>\n",
       "      <th>206</th>\n",
       "      <td>0.118388</td>\n",
       "      <td>9.3</td>\n",
       "      <td>34.746066</td>\n",
       "      <td>0.6</td>\n",
       "      <td>0.112706</td>\n",
       "      <td>4.2</td>\n",
       "    </tr>\n",
       "    <tr>\n",
       "      <th>298</th>\n",
       "      <td>23.061551</td>\n",
       "      <td>15.6</td>\n",
       "      <td>10.346317</td>\n",
       "      <td>5.8</td>\n",
       "      <td>13.696522</td>\n",
       "      <td>39.6</td>\n",
       "    </tr>\n",
       "    <tr>\n",
       "      <th>444</th>\n",
       "      <td>16.155064</td>\n",
       "      <td>7.4</td>\n",
       "      <td>62.751657</td>\n",
       "      <td>86.9</td>\n",
       "      <td>17.542683</td>\n",
       "      <td>17.3</td>\n",
       "    </tr>\n",
       "    <tr>\n",
       "      <th>364</th>\n",
       "      <td>4.929766</td>\n",
       "      <td>13.5</td>\n",
       "      <td>9.102807</td>\n",
       "      <td>2.6</td>\n",
       "      <td>3.119362</td>\n",
       "      <td>13.3</td>\n",
       "    </tr>\n",
       "    <tr>\n",
       "      <th>182</th>\n",
       "      <td>5.641585</td>\n",
       "      <td>2.0</td>\n",
       "      <td>9.075198</td>\n",
       "      <td>25.5</td>\n",
       "      <td>5.877909</td>\n",
       "      <td>2.1</td>\n",
       "    </tr>\n",
       "    <tr>\n",
       "      <th>423</th>\n",
       "      <td>4.878874</td>\n",
       "      <td>16.2</td>\n",
       "      <td>53.641899</td>\n",
       "      <td>24.6</td>\n",
       "      <td>5.669307</td>\n",
       "      <td>5.9</td>\n",
       "    </tr>\n",
       "    <tr>\n",
       "      <th>151</th>\n",
       "      <td>19.958260</td>\n",
       "      <td>9.6</td>\n",
       "      <td>9.677272</td>\n",
       "      <td>15.2</td>\n",
       "      <td>37.989634</td>\n",
       "      <td>30.1</td>\n",
       "    </tr>\n",
       "    <tr>\n",
       "      <th>58</th>\n",
       "      <td>4.794249</td>\n",
       "      <td>6.5</td>\n",
       "      <td>27.450511</td>\n",
       "      <td>11.0</td>\n",
       "      <td>4.731500</td>\n",
       "      <td>17.2</td>\n",
       "    </tr>\n",
       "    <tr>\n",
       "      <th>221</th>\n",
       "      <td>6.027428</td>\n",
       "      <td>16.9</td>\n",
       "      <td>75.433753</td>\n",
       "      <td>29.9</td>\n",
       "      <td>5.531056</td>\n",
       "      <td>12.4</td>\n",
       "    </tr>\n",
       "    <tr>\n",
       "      <th>84</th>\n",
       "      <td>4.560104</td>\n",
       "      <td>9.3</td>\n",
       "      <td>22.526858</td>\n",
       "      <td>10.0</td>\n",
       "      <td>4.744633</td>\n",
       "      <td>11.7</td>\n",
       "    </tr>\n",
       "    <tr>\n",
       "      <th>308</th>\n",
       "      <td>18.699988</td>\n",
       "      <td>3.3</td>\n",
       "      <td>3.830335</td>\n",
       "      <td>5.5</td>\n",
       "      <td>21.128296</td>\n",
       "      <td>25.7</td>\n",
       "    </tr>\n",
       "    <tr>\n",
       "      <th>325</th>\n",
       "      <td>14.624303</td>\n",
       "      <td>32.2</td>\n",
       "      <td>5.025159</td>\n",
       "      <td>2.8</td>\n",
       "      <td>15.566616</td>\n",
       "      <td>21.6</td>\n",
       "    </tr>\n",
       "    <tr>\n",
       "      <th>85</th>\n",
       "      <td>29.432529</td>\n",
       "      <td>26.3</td>\n",
       "      <td>28.286847</td>\n",
       "      <td>32.1</td>\n",
       "      <td>29.118910</td>\n",
       "      <td>25.3</td>\n",
       "    </tr>\n",
       "    <tr>\n",
       "      <th>309</th>\n",
       "      <td>11.333749</td>\n",
       "      <td>5.2</td>\n",
       "      <td>5.289035</td>\n",
       "      <td>4.8</td>\n",
       "      <td>19.542021</td>\n",
       "      <td>34.1</td>\n",
       "    </tr>\n",
       "    <tr>\n",
       "      <th>80</th>\n",
       "      <td>4.827272</td>\n",
       "      <td>8.1</td>\n",
       "      <td>9.793944</td>\n",
       "      <td>8.8</td>\n",
       "      <td>4.562628</td>\n",
       "      <td>2.5</td>\n",
       "    </tr>\n",
       "    <tr>\n",
       "      <th>72</th>\n",
       "      <td>17.183375</td>\n",
       "      <td>9.6</td>\n",
       "      <td>12.182048</td>\n",
       "      <td>24.3</td>\n",
       "      <td>17.794470</td>\n",
       "      <td>7.9</td>\n",
       "    </tr>\n",
       "    <tr>\n",
       "      <th>421</th>\n",
       "      <td>2.840077</td>\n",
       "      <td>0.1</td>\n",
       "      <td>30.711766</td>\n",
       "      <td>11.7</td>\n",
       "      <td>2.454616</td>\n",
       "      <td>12.8</td>\n",
       "    </tr>\n",
       "    <tr>\n",
       "      <th>274</th>\n",
       "      <td>4.501606</td>\n",
       "      <td>28.8</td>\n",
       "      <td>19.820129</td>\n",
       "      <td>3.8</td>\n",
       "      <td>4.586098</td>\n",
       "      <td>18.5</td>\n",
       "    </tr>\n",
       "    <tr>\n",
       "      <th>102</th>\n",
       "      <td>24.522503</td>\n",
       "      <td>30.0</td>\n",
       "      <td>4.136196</td>\n",
       "      <td>5.9</td>\n",
       "      <td>15.106244</td>\n",
       "      <td>2.7</td>\n",
       "    </tr>\n",
       "  </tbody>\n",
       "</table>\n",
       "</div>"
      ],
      "text/plain": [
       "      predict_1  raw_1  predict_2  raw_2  predict_3  raw_3\n",
       "cpnr                                                      \n",
       "363    3.871416    7.1   2.803425    1.2   5.742630   16.3\n",
       "345   64.612397   16.3   5.725484   11.2  18.568189   14.3\n",
       "169    2.503187    4.0   2.241079    2.2   2.275925    1.0\n",
       "90     7.569095    5.9  16.406223   10.1   8.180550   20.2\n",
       "64     2.308343    0.6   9.292410    3.8   2.569742   11.9\n",
       "61     3.864045    5.1  20.111236    8.5   4.278771   14.6\n",
       "194    7.376465   11.8  62.352231   34.0   6.721158   13.9\n",
       "440    1.931193   10.3  41.463019   11.1   2.245800    4.8\n",
       "234   10.153493    7.9  68.364887   54.8  15.142590   26.0\n",
       "226    4.310781    1.3  17.911370   25.5   4.350806    4.8\n",
       "15     2.119170    1.3  10.084782   12.0   2.154871    2.3\n",
       "10     6.381034   11.1  23.866090   22.6   6.979615    2.6\n",
       "96     2.843172    5.3   2.214685    1.2   1.532545    2.8\n",
       "382   13.962987   16.9  21.100182   22.7  10.174130    6.6\n",
       "436   13.677798   11.8  27.002323   30.4   5.800231    5.3\n",
       "350    5.178042   24.0   4.580675    1.0   5.258048   23.8\n",
       "232   11.534572    2.9  10.954334   63.0  14.532086    1.4\n",
       "92    61.531908   10.0   4.731838   30.7  43.225967    6.3\n",
       "28    25.799245   15.9  12.397893   28.7  20.188350    5.0\n",
       "280   32.046922   17.4  15.463395   26.6  56.155534   34.8\n",
       "206    0.118388    9.3  34.746066    0.6   0.112706    4.2\n",
       "298   23.061551   15.6  10.346317    5.8  13.696522   39.6\n",
       "444   16.155064    7.4  62.751657   86.9  17.542683   17.3\n",
       "364    4.929766   13.5   9.102807    2.6   3.119362   13.3\n",
       "182    5.641585    2.0   9.075198   25.5   5.877909    2.1\n",
       "423    4.878874   16.2  53.641899   24.6   5.669307    5.9\n",
       "151   19.958260    9.6   9.677272   15.2  37.989634   30.1\n",
       "58     4.794249    6.5  27.450511   11.0   4.731500   17.2\n",
       "221    6.027428   16.9  75.433753   29.9   5.531056   12.4\n",
       "84     4.560104    9.3  22.526858   10.0   4.744633   11.7\n",
       "308   18.699988    3.3   3.830335    5.5  21.128296   25.7\n",
       "325   14.624303   32.2   5.025159    2.8  15.566616   21.6\n",
       "85    29.432529   26.3  28.286847   32.1  29.118910   25.3\n",
       "309   11.333749    5.2   5.289035    4.8  19.542021   34.1\n",
       "80     4.827272    8.1   9.793944    8.8   4.562628    2.5\n",
       "72    17.183375    9.6  12.182048   24.3  17.794470    7.9\n",
       "421    2.840077    0.1  30.711766   11.7   2.454616   12.8\n",
       "274    4.501606   28.8  19.820129    3.8   4.586098   18.5\n",
       "102   24.522503   30.0   4.136196    5.9  15.106244    2.7"
      ]
     },
     "execution_count": 28,
     "metadata": {},
     "output_type": "execute_result"
    }
   ],
   "source": [
    "prediction_matrix"
   ]
  },
  {
   "cell_type": "code",
   "execution_count": 14,
   "id": "2466db07-f931-4bcf-b37f-3ad5c1697053",
   "metadata": {},
   "outputs": [
    {
     "data": {
      "text/plain": [
       "[<matplotlib.lines.Line2D at 0x7f128c9bbd10>]"
      ]
     },
     "execution_count": 14,
     "metadata": {},
     "output_type": "execute_result"
    },
    {
     "data": {
      "image/png": "[encoded data removed]",
      "text/plain": [
       "<Figure size 640x480 with 1 Axes>"
      ]
     },
     "metadata": {},
     "output_type": "display_data"
    }
   ],
   "source": [
    "plt.plot(prediction_matrix.raw_1,prediction_matrix.predict_1,'.')"
   ]
  },
  {
   "cell_type": "code",
   "execution_count": 15,
   "id": "d0eb9c67-eee9-493b-b8b3-edf6e57b097d",
   "metadata": {},
   "outputs": [
    {
     "ename": "NameError",
     "evalue": "name 'raw_1' is not defined",
     "output_type": "error",
     "traceback": [
      "\u001b[0;31m---------------------------------------------------------------------------\u001b[0m",
      "\u001b[0;31mNameError\u001b[0m                                 Traceback (most recent call last)",
      "Cell \u001b[0;32mIn[15], line 1\u001b[0m\n\u001b[0;32m----> 1\u001b[0m plt\u001b[38;5;241m.\u001b[39mplot(\u001b[43mraw_1\u001b[49m\u001b[38;5;241m.\u001b[39mvalues,predicted_1\u001b[38;5;241m.\u001b[39mvalues,\u001b[38;5;124m'\u001b[39m\u001b[38;5;124m.\u001b[39m\u001b[38;5;124m'\u001b[39m)\n",
      "\u001b[0;31mNameError\u001b[0m: name 'raw_1' is not defined"
     ]
    }
   ],
   "source": [
    "plt.plot(raw_1.values,predicted_1.values,'.')"
   ]
  },
  {
   "cell_type": "code",
   "execution_count": 16,
   "id": "bcfd457c-649f-414b-814f-4511adb17c33",
   "metadata": {},
   "outputs": [
    {
     "data": {
      "text/plain": [
       "-2.0008376757999247"
      ]
     },
     "execution_count": 16,
     "metadata": {},
     "output_type": "execute_result"
    }
   ],
   "source": [
    "r2_score(prediction_matrix.raw_1,prediction_matrix.predict_1)"
   ]
  },
  {
   "cell_type": "code",
   "execution_count": 17,
   "id": "4fae66e1-bb3a-466f-8d67-94606381a188",
   "metadata": {},
   "outputs": [
    {
     "data": {
      "text/plain": [
       "0.04917829387414607"
      ]
     },
     "execution_count": 17,
     "metadata": {},
     "output_type": "execute_result"
    }
   ],
   "source": [
    "r2_score(prediction_matrix.raw_2,prediction_matrix.predict_2)"
   ]
  },
  {
   "cell_type": "code",
   "execution_count": 18,
   "id": "70afdcf4-fe25-409e-9476-cad915033d39",
   "metadata": {},
   "outputs": [
    {
     "data": {
      "text/plain": [
       "-0.2509973245264774"
      ]
     },
     "execution_count": 18,
     "metadata": {},
     "output_type": "execute_result"
    }
   ],
   "source": [
    "r2_score(prediction_matrix.raw_3,prediction_matrix.predict_3)"
   ]
  },
  {
   "cell_type": "code",
   "execution_count": 187,
   "id": "c83118c0-ac77-40fb-87da-e0f17c12ad74",
   "metadata": {},
   "outputs": [],
   "source": []
  },
  {
   "cell_type": "code",
   "execution_count": null,
   "id": "101d8861-bead-4abd-8dd3-c6547e4ff8a7",
   "metadata": {},
   "outputs": [],
   "source": []
  },
  {
   "cell_type": "code",
   "execution_count": 188,
   "id": "3d07935d-301d-4306-8505-b0af383017b6",
   "metadata": {},
   "outputs": [],
   "source": [
    "first=n_5.BC_Gaussion.values*np.roll(n_5[\"scale\"],1)/n_5[\"scale\"]"
   ]
  },
  {
   "cell_type": "code",
   "execution_count": 189,
   "id": "a3ad6848-fc3b-49d4-a5d9-1d76ba7e8dbe",
   "metadata": {},
   "outputs": [],
   "source": [
    "second=n_5.BC_Gaussion.values*np.roll(n_5[\"scale\"],-1)/n_5[\"scale\"]"
   ]
  },
  {
   "cell_type": "code",
   "execution_count": 190,
   "id": "f4b50fc3-bcc8-4915-95e4-5dec44060bd2",
   "metadata": {},
   "outputs": [],
   "source": [
    "predict=(np.roll(first,-1)+np.roll(second,1))/2"
   ]
  },
  {
   "cell_type": "code",
   "execution_count": 191,
   "id": "b1dde6cc-6766-4ed0-8e4f-abea5b71c01a",
   "metadata": {},
   "outputs": [
    {
     "data": {
      "text/plain": [
       "0    1.115018\n",
       "1    0.704488\n",
       "2    0.454399\n",
       "Name: scale, dtype: float64"
      ]
     },
     "execution_count": 191,
     "metadata": {},
     "output_type": "execute_result"
    }
   ],
   "source": [
    "n_5.BC_Gaussion.values*np.roll(n_5[\"scale\"],-1)/n_5[\"scale\"]"
   ]
  },
  {
   "cell_type": "code",
   "execution_count": 192,
   "id": "31ea6990-5f7f-4b2f-be14-e009d418ef92",
   "metadata": {},
   "outputs": [
    {
     "data": {
      "text/plain": [
       "-0.1793307277124938"
      ]
     },
     "execution_count": 192,
     "metadata": {},
     "output_type": "execute_result"
    }
   ],
   "source": [
    "r2_score(BC,true_2_1)"
   ]
  },
  {
   "cell_type": "code",
   "execution_count": 193,
   "id": "632ff0c3-9562-4c88-be4b-0f1eeb155eaf",
   "metadata": {},
   "outputs": [
    {
     "data": {
      "text/plain": [
       "1.1033713152909999"
      ]
     },
     "execution_count": 193,
     "metadata": {},
     "output_type": "execute_result"
    }
   ],
   "source": [
    "0.451681*2.442811"
   ]
  },
  {
   "cell_type": "code",
   "execution_count": 194,
   "id": "e7e7d87c-2970-40b3-a888-2b7279f31864",
   "metadata": {},
   "outputs": [
    {
     "data": {
      "text/plain": [
       "0.7055821199999999"
      ]
     },
     "execution_count": 194,
     "metadata": {},
     "output_type": "execute_result"
    }
   ],
   "source": [
    "1.720932*0.41"
   ]
  },
  {
   "cell_type": "code",
   "execution_count": 195,
   "id": "12ae00db-3677-4314-9532-4df7bdf87c28",
   "metadata": {},
   "outputs": [
    {
     "data": {
      "text/plain": [
       "0    0.994018\n",
       "1    0.411828\n",
       "2    2.442811\n",
       "Name: scale, dtype: float32"
      ]
     },
     "execution_count": 195,
     "metadata": {},
     "output_type": "execute_result"
    }
   ],
   "source": [
    "np.roll(n_5[\"scale\"],1)/n_5[\"scale\"]"
   ]
  },
  {
   "cell_type": "code",
   "execution_count": 196,
   "id": "b0e1ee79-24ad-43d0-bd84-a4053f636805",
   "metadata": {},
   "outputs": [
    {
     "data": {
      "text/plain": [
       "0    0.657281\n",
       "1    1.596008\n",
       "2    0.653349\n",
       "Name: scale, dtype: float32"
      ]
     },
     "execution_count": 196,
     "metadata": {},
     "output_type": "execute_result"
    }
   ],
   "source": [
    "n_5[\"scale\"]"
   ]
  },
  {
   "cell_type": "code",
   "execution_count": 53,
   "id": "cbcb8f00-0bda-4c5b-9d42-4b739c05e40c",
   "metadata": {},
   "outputs": [
    {
     "data": {
      "text/plain": [
       "0    0.459196\n",
       "1    1.720932\n",
       "2    0.451681\n",
       "Name: BC_Gaussion, dtype: float64"
      ]
     },
     "execution_count": 53,
     "metadata": {},
     "output_type": "execute_result"
    }
   ],
   "source": [
    "n_5.BC_Gaussion\n",
    "       "
   ]
  },
  {
   "cell_type": "code",
   "execution_count": 49,
   "id": "0ff9df8f-c550-4453-a99d-c7bce5cd9dd6",
   "metadata": {},
   "outputs": [
    {
     "data": {
      "text/plain": [
       "0    0.456449\n",
       "1    0.708728\n",
       "2    1.103372\n",
       "dtype: float64"
      ]
     },
     "execution_count": 49,
     "metadata": {},
     "output_type": "execute_result"
    }
   ],
   "source": [
    "n_5.BC_Gaussion*np.roll(n_5[\"scale\"],1)/n_5[\"scale\"]"
   ]
  },
  {
   "cell_type": "code",
   "execution_count": 25,
   "id": "248e20dc-c73f-474b-a9eb-90a290bd5a46",
   "metadata": {},
   "outputs": [
    {
     "data": {
      "text/plain": [
       "-0.4942523304292594"
      ]
     },
     "execution_count": 25,
     "metadata": {},
     "output_type": "execute_result"
    }
   ],
   "source": [
    "r2_score(np.roll(test.BC_Gaussion,1),test.BC_Gaussion*pre_point/point)"
   ]
  },
  {
   "cell_type": "code",
   "execution_count": 38,
   "id": "557fd14c-fe0b-491c-94e2-f10370668139",
   "metadata": {},
   "outputs": [
    {
     "data": {
      "text/plain": [
       "array([1.5960082 , 0.6533491 , 0.9286251 , 1.2373776 , 0.8248529 ,\n",
       "       1.0533446 , 0.9369405 , 0.9286251 , 1.2373776 , 0.9286251 ,\n",
       "       1.6143847 , 0.6084184 , 1.3857703 , 1.1212385 , 0.6497071 ,\n",
       "       1.0848507 , 1.0338063 , 0.8819841 , 1.0862094 , 1.1220462 ,\n",
       "       0.93953514, 1.062085  , 0.6084184 , 1.0999829 , 1.3857703 ,\n",
       "       0.7828883 , 1.4015001 , 1.3857703 , 0.62108123, 1.0960147 ,\n",
       "       1.2291645 , 0.6030919 , 1.0671871 , 1.1329083 , 0.6721936 ,\n",
       "       1.1591376 , 1.050993  , 0.93953514, 1.159125  , 0.88154495,\n",
       "       0.8385    , 0.8347937 , 1.213985  , 1.049395  , 0.6039353 ,\n",
       "       1.1660209 , 1.0682428 , 0.6039353 , 1.159125  , 1.0723941 ,\n",
       "       1.0611467 , 0.8385    , 0.9060375 , 0.8269943 , 0.91274774,\n",
       "       0.75506026, 1.0682428 , 0.6533491 , 0.7828883 , 0.8150997 ,\n",
       "       0.67219365, 1.6046711 , 1.0723941 , 0.9369405 , 1.5656792 ,\n",
       "       1.1220462 , 0.7979984 , 1.0960147 , 1.1209838 , 1.4168986 ,\n",
       "       1.101396  , 0.6533491 , 0.91274774, 1.0346293 , 1.121232  ,\n",
       "       0.8151027 , 1.2592123 , 1.0507671 , 0.91571844, 1.1007234 ,\n",
       "       0.6392326 , 1.1660209 , 0.7828883 , 0.6392326 , 1.1660209 ,\n",
       "       0.7828883 , 1.0671871 , 0.8150997 , 1.413619  , 1.0671871 ,\n",
       "       0.8819841 , 1.0662287 , 0.8248529 , 1.2694173 , 0.75506026,\n",
       "       0.78979194, 0.89123315, 1.5531402 , 1.0338063 , 0.8847865 ,\n",
       "       0.9413733 , 0.6030919 , 1.0671871 , 1.0662287 , 1.0611467 ,\n",
       "       0.82126534, 1.0881602 , 0.7972091 , 1.0291277 , 1.0611467 ,\n",
       "       0.6047369 , 1.431525  , 0.9395345 , 1.0856866 , 0.60841644,\n",
       "       1.0775471 , 1.2803516 , 0.7828883 , 1.3857703 , 0.8393136 ,\n",
       "       0.62108123, 0.89999425, 1.413619  , 0.6392326 , 1.101396  ,\n",
       "       1.1707476 , 0.7194849 , 0.8248529 , 0.84075713, 0.8150997 ,\n",
       "       1.3857703 , 1.1221287 , 0.62628907, 1.0682428 , 0.746763  ,\n",
       "       0.6039353 , 1.101396  , 1.085664  , 0.8150997 , 1.2694173 ,\n",
       "       1.0673765 , 1.0960147 , 0.60350007, 1.0486398 , 1.0388186 ,\n",
       "       0.6047369 , 1.0838681 , 0.8929771 , 1.0291277 , 0.6906668 ,\n",
       "       1.050987  , 1.2803555 , 0.7979969 , 0.8128051 , 1.0999829 ,\n",
       "       1.0736642 , 1.0960147 , 1.1212385 , 0.776029  , 1.0388186 ,\n",
       "       0.94235396, 0.78319514, 1.0291277 , 1.0388186 , 1.1917992 ,\n",
       "       0.7979984 , 1.0852668 , 1.5656793 , 0.9286251 , 1.101396  ,\n",
       "       0.941492  , 1.085664  , 1.5596662 , 0.9286251 , 0.6253207 ,\n",
       "       1.101396  , 1.0532095 , 0.89999425, 1.050987  , 0.94237465,\n",
       "       1.0490445 , 0.7696975 , 1.0960147 , 0.89999425, 1.0309815 ,\n",
       "       1.0671871 , 1.0662287 , 1.070538  , 1.0573877 , 0.89999425,\n",
       "       1.0736537 , 1.0673773 , 0.94149697, 0.78319514, 0.899236  ,\n",
       "       1.1209838 , 0.7828883 , 0.88154495, 1.0801513 , 0.79736704,\n",
       "       0.8347937 , 1.0865791 , 0.79736704, 1.1660209 , 1.0532095 ,\n",
       "       0.60904235, 0.83075726, 0.899236  , 1.5531402 , 0.9750167 ,\n",
       "       0.941492  , 1.0490445 , 1.0662287 , 1.0733716 , 0.7979984 ,\n",
       "       0.7627335 , 0.776029  , 0.6572809 , 1.0881602 , 0.85258436,\n",
       "       0.75741255, 1.0346266 , 1.5531402 , 0.7696975 , 1.0399462 ,\n",
       "       0.899236  , 1.1843145 , 0.9286251 , 0.60904235, 0.6572809 ],\n",
       "      dtype=float32)"
      ]
     },
     "execution_count": 38,
     "metadata": {},
     "output_type": "execute_result"
    }
   ],
   "source": [
    "np.roll(gpr_points[0].detach().numpy(),-1)"
   ]
  },
  {
   "cell_type": "code",
   "execution_count": 33,
   "id": "16898c31-ca88-4420-8068-e30e7240f3bf",
   "metadata": {},
   "outputs": [
    {
     "data": {
      "text/plain": [
       "array([0.9266089 , 0.41182804, 2.4428108 , 0.7035661 , 0.7504783 ,\n",
       "       1.5001192 , 0.7830798 , 1.1242385 , 1.0089545 , 0.7504783 ,\n",
       "       1.3324835 , 0.5752192 , 2.6534119 , 0.43904707, 1.2359283 ,\n",
       "       1.72576   , 0.5988908 , 1.0493752 , 1.1721371 , 0.81198347,\n",
       "       0.9680612 , 1.1942568 , 0.8846139 , 1.7456491 , 0.55311626,\n",
       "       0.79376996, 1.7700741 , 0.5586074 , 1.011351  , 2.2312224 ,\n",
       "       0.5666723 , 0.8916746 , 2.0381048 , 0.56512296, 0.9419889 ,\n",
       "       1.68539   , 0.5799084 , 1.1028976 , 1.1186308 , 0.8105555 ,\n",
       "       1.3148791 , 1.0513356 , 1.0044398 , 0.68764746, 1.1568427 ,\n",
       "       1.737595  , 0.5179455 , 1.0915318 , 1.7688034 , 0.5210269 ,\n",
       "       1.0808759 , 1.0105993 , 1.2655298 , 0.9254584 , 1.0955789 ,\n",
       "       0.90604913, 1.208841  , 0.7068246 , 1.635026  , 0.8345368 ,\n",
       "       0.96048164, 1.2125965 , 0.41889808, 1.4963446 , 1.1445701 ,\n",
       "       0.5984243 , 1.3953785 , 1.4060757 , 0.72809094, 0.97772574,\n",
       "       0.7911532 , 1.2864571 , 1.6857694 , 0.7158047 , 0.8821978 ,\n",
       "       0.92276114, 1.3755715 , 0.64731157, 1.1983743 , 1.1474783 ,\n",
       "       0.8319242 , 1.721945  , 0.5482171 , 1.4893835 , 1.2247316 ,\n",
       "       0.5482171 , 1.4893835 , 0.73359984, 1.3092718 , 0.57660496,\n",
       "       1.3246216 , 1.2099844 , 0.8271997 , 1.292629  , 0.6497886 ,\n",
       "       1.6812133 , 0.9560242 , 0.88617885, 0.5738266 , 1.5023512 ,\n",
       "       1.1684246 , 0.9398891 , 1.5609119 , 0.56512296, 1.0008988 ,\n",
       "       1.0047891 , 1.2920876 , 0.7547284 , 1.3649621 , 0.77464545,\n",
       "       0.96982604, 1.7547246 , 0.42244244, 1.5236535 , 0.8653828 ,\n",
       "       1.7844465 , 0.564631  , 0.84160244, 1.6354206 , 0.5649481 ,\n",
       "       1.6510757 , 1.351375  , 0.69009465, 0.6366597 , 2.2114315 ,\n",
       "       0.58038396, 0.94076294, 1.6272025 , 0.8722585 , 0.9810834 ,\n",
       "       1.0314777 , 0.5881925 , 1.2349477 , 1.7917105 , 0.5862797 ,\n",
       "       1.4304978 , 1.236495  , 0.5483362 , 1.0144906 , 1.3319402 ,\n",
       "       0.6421054 , 1.1892873 , 0.9738706 , 1.8160971 , 0.5755075 ,\n",
       "       1.0094541 , 1.7178025 , 0.5579433 , 1.2137692 , 0.8677029 ,\n",
       "       1.4900495 , 0.65716016, 0.8208557 , 1.6044618 , 0.9817813 ,\n",
       "       0.7389253 , 1.0245129 , 0.97960746, 0.97750366, 1.4448409 ,\n",
       "       0.7470303 , 1.1023656 , 1.2032174 , 0.7610281 , 0.9906713 ,\n",
       "       0.87163895, 1.4934856 , 0.7353016 , 0.69316036, 1.6860187 ,\n",
       "       0.84313464, 1.169841  , 0.86720383, 0.6960874 , 1.6795434 ,\n",
       "       1.4850383 , 0.56775284, 1.0457519 , 1.1702403 , 0.8563324 ,\n",
       "       1.1152539 , 0.89831716, 1.3629309 , 0.70226926, 1.2178019 ,\n",
       "       0.87294894, 0.9660739 , 1.0008988 , 0.99597466, 1.0124366 ,\n",
       "       1.1748828 , 0.83825374, 1.0058802 , 1.1337024 , 1.202123  ,\n",
       "       0.8709561 , 0.80218464, 1.4318566 , 0.8880866 , 0.816131  ,\n",
       "       1.3546475 , 0.9551666 , 0.768277  , 1.3627088 , 0.683836  ,\n",
       "       1.1071119 , 1.7292879 , 0.7331171 , 0.92384785, 0.5789793 ,\n",
       "       1.592937  , 1.035608  , 0.8974758 , 0.98388314, 0.9933454 ,\n",
       "       1.3450799 , 1.0462348 , 0.9828673 , 1.1806656 , 0.6040296 ,\n",
       "       1.276308  , 1.1256539 , 0.73206365, 0.66615146, 2.017858  ,\n",
       "       0.74013203, 1.1564775 , 0.7592882 , 1.2753419 , 1.52473   ],\n",
       "      dtype=float32)"
      ]
     },
     "execution_count": 33,
     "metadata": {},
     "output_type": "execute_result"
    }
   ],
   "source": [
    "(pre_point/point)"
   ]
  },
  {
   "cell_type": "code",
   "execution_count": 26,
   "id": "2da9718c-3589-4b05-98a4-6e23fe77bcd3",
   "metadata": {},
   "outputs": [
    {
     "data": {
      "text/plain": [
       "0      0.425495\n",
       "1      0.708728\n",
       "2      1.103372\n",
       "3      0.546820\n",
       "4      1.079188\n",
       "         ...   \n",
       "225    0.262965\n",
       "226    0.757248\n",
       "227    0.633847\n",
       "228    0.673221\n",
       "229    0.770500\n",
       "Name: BC_Gaussion, Length: 230, dtype: float64"
      ]
     },
     "execution_count": 26,
     "metadata": {},
     "output_type": "execute_result"
    }
   ],
   "source": [
    "test.BC_Gaussion*pre_point/point"
   ]
  },
  {
   "cell_type": "code",
   "execution_count": 27,
   "id": "a6826d42-f454-4bfa-bd53-c5e5e9436f14",
   "metadata": {},
   "outputs": [
    {
     "data": {
      "text/plain": [
       "0      0.459196\n",
       "1      1.720932\n",
       "2      0.451681\n",
       "3      0.777212\n",
       "4      1.438000\n",
       "         ...   \n",
       "225    0.355294\n",
       "226    0.654788\n",
       "227    0.834791\n",
       "228    0.527875\n",
       "229    0.505335\n",
       "Name: BC_Gaussion, Length: 230, dtype: float64"
      ]
     },
     "execution_count": 27,
     "metadata": {},
     "output_type": "execute_result"
    }
   ],
   "source": [
    "test.BC_Gaussion"
   ]
  },
  {
   "cell_type": "code",
   "execution_count": null,
   "id": "58485e92-2f3e-467c-8d11-f82c06af6744",
   "metadata": {},
   "outputs": [],
   "source": []
  }
 ],
 "metadata": {
  "kernelspec": {
   "display_name": "Python 3 (ipykernel)",
   "language": "python",
   "name": "python3"
  },
  "language_info": {
   "codemirror_mode": {
    "name": "ipython",
    "version": 3
   },
   "file_extension": ".py",
   "mimetype": "text/x-python",
   "name": "python",
   "nbconvert_exporter": "python",
   "pygments_lexer": "ipython3",
   "version": "3.12.2"
  }
 },
 "nbformat": 4,
 "nbformat_minor": 5
}
