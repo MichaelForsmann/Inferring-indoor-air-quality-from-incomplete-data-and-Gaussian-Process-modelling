{
 "cells": [
  {
   "cell_type": "code",
   "execution_count": 13,
   "id": "cc1d3715-ca79-4879-be96-870fb2b5f62f",
   "metadata": {},
   "outputs": [],
   "source": [
    "import numpy as np \n",
    "import matplotlib.pyplot as plt\n",
    "import pandas as pd \n",
    "from Pachaches.functions import clean_PM25frame_coloumns\n",
    "import seaborn as sns\n",
    "from scipy.optimize import curve_fit\n",
    "from sklearn.model_selection import train_test_split\n",
    "from sklearn.metrics import r2_score"
   ]
  },
  {
   "cell_type": "code",
   "execution_count": 24,
   "id": "cf6fc642-1358-430d-b7b3-760ec70fc131",
   "metadata": {},
   "outputs": [],
   "source": [
    "chem=pd.read_excel(r\"chem_polution.xlsx\")"
   ]
  },
  {
   "cell_type": "code",
   "execution_count": 26,
   "id": "66f1167e-3264-4dd0-a2b7-d001ae5052db",
   "metadata": {},
   "outputs": [
    {
     "data": {
      "text/html": [
       "<div>\n",
       "<style scoped>\n",
       "    .dataframe tbody tr th:only-of-type {\n",
       "        vertical-align: middle;\n",
       "    }\n",
       "\n",
       "    .dataframe tbody tr th {\n",
       "        vertical-align: top;\n",
       "    }\n",
       "\n",
       "    .dataframe thead th {\n",
       "        text-align: right;\n",
       "    }\n",
       "</style>\n",
       "<table border=\"1\" class=\"dataframe\">\n",
       "  <thead>\n",
       "    <tr style=\"text-align: right;\">\n",
       "      <th></th>\n",
       "      <th>Unnamed: 0</th>\n",
       "      <th>cpnr</th>\n",
       "      <th>visit</th>\n",
       "      <th>batch_c</th>\n",
       "      <th>start_c</th>\n",
       "      <th>stop_c</th>\n",
       "      <th>batch_n</th>\n",
       "      <th>start_n</th>\n",
       "      <th>stop_n</th>\n",
       "      <th>no2</th>\n",
       "      <th>Nox</th>\n",
       "      <th>formaldehyd</th>\n",
       "      <th>acetald</th>\n",
       "      <th>acetone</th>\n",
       "      <th>sample_time</th>\n",
       "      <th>week</th>\n",
       "    </tr>\n",
       "  </thead>\n",
       "  <tbody>\n",
       "    <tr>\n",
       "      <th>0</th>\n",
       "      <td>0</td>\n",
       "      <td>1</td>\n",
       "      <td>1</td>\n",
       "      <td>Batch1</td>\n",
       "      <td>1999-09-02</td>\n",
       "      <td>1999-11-04</td>\n",
       "      <td>Batch 2</td>\n",
       "      <td>1999-04-20</td>\n",
       "      <td>1999-07-04</td>\n",
       "      <td>7.8</td>\n",
       "      <td>6.3</td>\n",
       "      <td>18.80</td>\n",
       "      <td>6.50</td>\n",
       "      <td>20.00</td>\n",
       "      <td>63</td>\n",
       "      <td>35</td>\n",
       "    </tr>\n",
       "    <tr>\n",
       "      <th>1</th>\n",
       "      <td>2</td>\n",
       "      <td>1</td>\n",
       "      <td>2</td>\n",
       "      <td>Batch4</td>\n",
       "      <td>2000-03-21</td>\n",
       "      <td>2000-05-26</td>\n",
       "      <td>Batch 11</td>\n",
       "      <td>2000-03-16</td>\n",
       "      <td>2000-05-26</td>\n",
       "      <td>6.5</td>\n",
       "      <td>1.7</td>\n",
       "      <td>14.70</td>\n",
       "      <td>7.00</td>\n",
       "      <td>21.40</td>\n",
       "      <td>66</td>\n",
       "      <td>12</td>\n",
       "    </tr>\n",
       "    <tr>\n",
       "      <th>2</th>\n",
       "      <td>3</td>\n",
       "      <td>1</td>\n",
       "      <td>3</td>\n",
       "      <td>Batch28</td>\n",
       "      <td>2001-06-20</td>\n",
       "      <td>2001-09-10</td>\n",
       "      <td>Batch 45</td>\n",
       "      <td>2001-06-20</td>\n",
       "      <td>2001-09-10</td>\n",
       "      <td>11.6</td>\n",
       "      <td>4.3</td>\n",
       "      <td>17.57</td>\n",
       "      <td>4.93</td>\n",
       "      <td>7.34</td>\n",
       "      <td>82</td>\n",
       "      <td>25</td>\n",
       "    </tr>\n",
       "    <tr>\n",
       "      <th>3</th>\n",
       "      <td>6</td>\n",
       "      <td>3</td>\n",
       "      <td>3</td>\n",
       "      <td>Batch4</td>\n",
       "      <td>2000-02-25</td>\n",
       "      <td>2000-06-12</td>\n",
       "      <td>Batch 11</td>\n",
       "      <td>2000-02-25</td>\n",
       "      <td>2000-06-12</td>\n",
       "      <td>17.6</td>\n",
       "      <td>19.0</td>\n",
       "      <td>23.60</td>\n",
       "      <td>6.10</td>\n",
       "      <td>6.50</td>\n",
       "      <td>108</td>\n",
       "      <td>8</td>\n",
       "    </tr>\n",
       "    <tr>\n",
       "      <th>4</th>\n",
       "      <td>7</td>\n",
       "      <td>3</td>\n",
       "      <td>4</td>\n",
       "      <td>Batch11</td>\n",
       "      <td>2000-09-27</td>\n",
       "      <td>2000-12-13</td>\n",
       "      <td>Batch 18</td>\n",
       "      <td>2000-09-27</td>\n",
       "      <td>2000-12-13</td>\n",
       "      <td>16.7</td>\n",
       "      <td>23.9</td>\n",
       "      <td>25.20</td>\n",
       "      <td>20.30</td>\n",
       "      <td>19.50</td>\n",
       "      <td>77</td>\n",
       "      <td>39</td>\n",
       "    </tr>\n",
       "    <tr>\n",
       "      <th>...</th>\n",
       "      <td>...</td>\n",
       "      <td>...</td>\n",
       "      <td>...</td>\n",
       "      <td>...</td>\n",
       "      <td>...</td>\n",
       "      <td>...</td>\n",
       "      <td>...</td>\n",
       "      <td>...</td>\n",
       "      <td>...</td>\n",
       "      <td>...</td>\n",
       "      <td>...</td>\n",
       "      <td>...</td>\n",
       "      <td>...</td>\n",
       "      <td>...</td>\n",
       "      <td>...</td>\n",
       "      <td>...</td>\n",
       "    </tr>\n",
       "    <tr>\n",
       "      <th>1006</th>\n",
       "      <td>1403</td>\n",
       "      <td>450</td>\n",
       "      <td>1</td>\n",
       "      <td>Batch54</td>\n",
       "      <td>2002-05-23</td>\n",
       "      <td>2002-08-06</td>\n",
       "      <td>Batch 95</td>\n",
       "      <td>2002-05-23</td>\n",
       "      <td>2002-08-06</td>\n",
       "      <td>5.5</td>\n",
       "      <td>NaN</td>\n",
       "      <td>20.81</td>\n",
       "      <td>0.56</td>\n",
       "      <td>0.36</td>\n",
       "      <td>75</td>\n",
       "      <td>21</td>\n",
       "    </tr>\n",
       "    <tr>\n",
       "      <th>1007</th>\n",
       "      <td>1404</td>\n",
       "      <td>450</td>\n",
       "      <td>2</td>\n",
       "      <td>Batch67</td>\n",
       "      <td>2002-12-16</td>\n",
       "      <td>2003-03-12</td>\n",
       "      <td>Batch 121</td>\n",
       "      <td>2002-12-16</td>\n",
       "      <td>2003-03-12</td>\n",
       "      <td>5.3</td>\n",
       "      <td>8.2</td>\n",
       "      <td>28.79</td>\n",
       "      <td>1.72</td>\n",
       "      <td>1.88</td>\n",
       "      <td>86</td>\n",
       "      <td>51</td>\n",
       "    </tr>\n",
       "    <tr>\n",
       "      <th>1008</th>\n",
       "      <td>1405</td>\n",
       "      <td>450</td>\n",
       "      <td>3</td>\n",
       "      <td>Batch73</td>\n",
       "      <td>2003-06-29</td>\n",
       "      <td>2003-09-16</td>\n",
       "      <td>Batch 132</td>\n",
       "      <td>2003-06-29</td>\n",
       "      <td>2003-09-16</td>\n",
       "      <td>3.8</td>\n",
       "      <td>4.3</td>\n",
       "      <td>20.92</td>\n",
       "      <td>0.61</td>\n",
       "      <td>0.85</td>\n",
       "      <td>79</td>\n",
       "      <td>26</td>\n",
       "    </tr>\n",
       "    <tr>\n",
       "      <th>1009</th>\n",
       "      <td>1407</td>\n",
       "      <td>452</td>\n",
       "      <td>1</td>\n",
       "      <td>Batch59</td>\n",
       "      <td>2002-08-04</td>\n",
       "      <td>2002-10-13</td>\n",
       "      <td>Batch 105</td>\n",
       "      <td>2002-08-04</td>\n",
       "      <td>2002-10-13</td>\n",
       "      <td>10.8</td>\n",
       "      <td>9.4</td>\n",
       "      <td>13.80</td>\n",
       "      <td>2.75</td>\n",
       "      <td>2.24</td>\n",
       "      <td>70</td>\n",
       "      <td>31</td>\n",
       "    </tr>\n",
       "    <tr>\n",
       "      <th>1010</th>\n",
       "      <td>1408</td>\n",
       "      <td>452</td>\n",
       "      <td>2</td>\n",
       "      <td>Batch71</td>\n",
       "      <td>2003-04-29</td>\n",
       "      <td>2003-07-03</td>\n",
       "      <td>Batch 129</td>\n",
       "      <td>2003-04-29</td>\n",
       "      <td>2003-07-03</td>\n",
       "      <td>12.3</td>\n",
       "      <td>10.1</td>\n",
       "      <td>12.26</td>\n",
       "      <td>10.61</td>\n",
       "      <td>12.08</td>\n",
       "      <td>65</td>\n",
       "      <td>18</td>\n",
       "    </tr>\n",
       "  </tbody>\n",
       "</table>\n",
       "<p>1011 rows × 16 columns</p>\n",
       "</div>"
      ],
      "text/plain": [
       "      Unnamed: 0  cpnr  visit  batch_c    start_c     stop_c    batch_n  \\\n",
       "0              0     1      1   Batch1 1999-09-02 1999-11-04    Batch 2   \n",
       "1              2     1      2   Batch4 2000-03-21 2000-05-26   Batch 11   \n",
       "2              3     1      3  Batch28 2001-06-20 2001-09-10   Batch 45   \n",
       "3              6     3      3   Batch4 2000-02-25 2000-06-12   Batch 11   \n",
       "4              7     3      4  Batch11 2000-09-27 2000-12-13   Batch 18   \n",
       "...          ...   ...    ...      ...        ...        ...        ...   \n",
       "1006        1403   450      1  Batch54 2002-05-23 2002-08-06   Batch 95   \n",
       "1007        1404   450      2  Batch67 2002-12-16 2003-03-12  Batch 121   \n",
       "1008        1405   450      3  Batch73 2003-06-29 2003-09-16  Batch 132   \n",
       "1009        1407   452      1  Batch59 2002-08-04 2002-10-13  Batch 105   \n",
       "1010        1408   452      2  Batch71 2003-04-29 2003-07-03  Batch 129   \n",
       "\n",
       "        start_n     stop_n   no2   Nox  formaldehyd  acetald  acetone  \\\n",
       "0    1999-04-20 1999-07-04   7.8   6.3        18.80     6.50    20.00   \n",
       "1    2000-03-16 2000-05-26   6.5   1.7        14.70     7.00    21.40   \n",
       "2    2001-06-20 2001-09-10  11.6   4.3        17.57     4.93     7.34   \n",
       "3    2000-02-25 2000-06-12  17.6  19.0        23.60     6.10     6.50   \n",
       "4    2000-09-27 2000-12-13  16.7  23.9        25.20    20.30    19.50   \n",
       "...         ...        ...   ...   ...          ...      ...      ...   \n",
       "1006 2002-05-23 2002-08-06   5.5   NaN        20.81     0.56     0.36   \n",
       "1007 2002-12-16 2003-03-12   5.3   8.2        28.79     1.72     1.88   \n",
       "1008 2003-06-29 2003-09-16   3.8   4.3        20.92     0.61     0.85   \n",
       "1009 2002-08-04 2002-10-13  10.8   9.4        13.80     2.75     2.24   \n",
       "1010 2003-04-29 2003-07-03  12.3  10.1        12.26    10.61    12.08   \n",
       "\n",
       "      sample_time  week  \n",
       "0              63    35  \n",
       "1              66    12  \n",
       "2              82    25  \n",
       "3             108     8  \n",
       "4              77    39  \n",
       "...           ...   ...  \n",
       "1006           75    21  \n",
       "1007           86    51  \n",
       "1008           79    26  \n",
       "1009           70    31  \n",
       "1010           65    18  \n",
       "\n",
       "[1011 rows x 16 columns]"
      ]
     },
     "execution_count": 26,
     "metadata": {},
     "output_type": "execute_result"
    }
   ],
   "source": [
    "chem"
   ]
  },
  {
   "cell_type": "code",
   "execution_count": 28,
   "id": "eda019ef-204f-41c9-8c4c-e021efd55d94",
   "metadata": {},
   "outputs": [],
   "source": [
    "correction=chem.drop([\"no2\",'formaldehyd', 'acetald', 'acetone','cpnr', 'batch_c', 'start_c', 'stop_c', 'batch_n', 'start_n',\n",
    "       'stop_n'],axis=1).loc[chem.Nox.isna()==0]"
   ]
  },
  {
   "cell_type": "code",
   "execution_count": 30,
   "id": "c6a61620-ccf6-457b-8418-087f60e940a3",
   "metadata": {},
   "outputs": [],
   "source": [
    "correction[\"int_week\"]=((correction.week/10).round(0)*10).astype(int).astype(str)"
   ]
  },
  {
   "cell_type": "code",
   "execution_count": 32,
   "id": "c7197456-74ab-447d-bab6-1151cab77fe2",
   "metadata": {},
   "outputs": [
    {
     "data": {
      "image/png": "[encoded data removed]",
      "text/plain": [
       "<Figure size 640x480 with 1 Axes>"
      ]
     },
     "metadata": {},
     "output_type": "display_data"
    }
   ],
   "source": [
    "figure=sns.boxplot(correction.dropna(),x=\"visit\",y=\"sample_time\")\n",
    "fig=figure.get_figure()\n",
    "fig.savefig(\"Distribution_samplingtime_visit_nox.png\",bbox_inches=\"tight\")"
   ]
  },
  {
   "cell_type": "code",
   "execution_count": 34,
   "id": "21ae80b0-a690-4ee5-85c5-849419590c05",
   "metadata": {},
   "outputs": [
    {
     "data": {
      "image/png": "[encoded data removed]",
      "text/plain": [
       "<Figure size 640x480 with 1 Axes>"
      ]
     },
     "metadata": {},
     "output_type": "display_data"
    }
   ],
   "source": [
    "figure=sns.boxplot(correction.dropna(),x=\"int_week\",y=\"sample_time\")\n",
    "fig=figure.get_figure()\n",
    "fig.savefig(\"Distribution_samplingtime_season_nox.png\",bbox_inches=\"tight\")"
   ]
  },
  {
   "cell_type": "code",
   "execution_count": 28,
   "id": "abbb6289-af91-4932-9115-8432def3f20f",
   "metadata": {},
   "outputs": [],
   "source": [
    "def exp(x, a, b):\n",
    "    return a * np.exp(b * x)\n",
    "def linear(x, a, b):\n",
    "    return a * x +b\n",
    "def log(x, a, b):\n",
    "    return a*b**x +b"
   ]
  },
  {
   "cell_type": "code",
   "execution_count": 30,
   "id": "9c53c782-f6e7-46d7-ba82-d60b1c41e6f0",
   "metadata": {},
   "outputs": [],
   "source": [
    "X_train, X_test, y_train, y_test = train_test_split(correction, correction.Nox, test_size = 0.3)"
   ]
  },
  {
   "cell_type": "code",
   "execution_count": 32,
   "id": "ad86de64-7661-4e25-92f7-843b0031fd3a",
   "metadata": {},
   "outputs": [],
   "source": [
    "exp_curve=curve_fit(lambda t,a,b: a*np.exp(b*t),  X_train.sample_time,y_train)\n",
    "linear_curve=curve_fit(lambda t,a,b: a * t +b,  X_train.sample_time,y_train)\n",
    "log_curve=curve_fit(lambda t,a,b: a*b**t +b,  X_train.sample_time,y_train)"
   ]
  },
  {
   "cell_type": "code",
   "execution_count": null,
   "id": "bc7e8115-2aa8-48d4-baac-a7ee83f0bc5c",
   "metadata": {},
   "outputs": [],
   "source": []
  },
  {
   "cell_type": "code",
   "execution_count": 35,
   "id": "f4e78cba-926d-44f7-b712-92d9fa590d87",
   "metadata": {},
   "outputs": [
    {
     "data": {
      "text/plain": [
       "(23.445566919324843, 23.449411045543478, 274.6548760122209)"
      ]
     },
     "execution_count": 35,
     "metadata": {},
     "output_type": "execute_result"
    }
   ],
   "source": [
    "rmse_exp=np.sqrt(np.mean((exp(X_test.sample_time,*exp_curve[0])-y_test)**2))\n",
    "rmse_linear=np.sqrt(np.mean((linear(X_test.sample_time,*linear_curve[0])-y_test)**2))\n",
    "rmse_log=np.sqrt(np.mean((linear(X_test.sample_time,*log_curve[0])-y_test)**2))\n",
    "rmse_exp,rmse_linear,rmse_log"
   ]
  },
  {
   "cell_type": "code",
   "execution_count": 39,
   "id": "4615f32e-2060-4dbd-9bd6-e79f9f89a91c",
   "metadata": {},
   "outputs": [
    {
     "data": {
      "text/plain": [
       "(-0.0011818736361233206, -0.001510207347694692, -0.0011840861446739126)"
      ]
     },
     "execution_count": 39,
     "metadata": {},
     "output_type": "execute_result"
    }
   ],
   "source": [
    "r2_exp=r2_score(y_test,exp(X_test.sample_time,*exp_curve[0]))\n",
    "r2_linear=r2_score(y_test,linear(X_test.sample_time,*linear_curve[0]))\n",
    "r2_log=r2_score(y_test,log(X_test.sample_time,*log_curve[0]))\n",
    "r2_exp,r2_linear,r2_log"
   ]
  },
  {
   "cell_type": "code",
   "execution_count": 41,
   "id": "1d88b59a-281c-4bbe-9f65-b8d2cd54e11c",
   "metadata": {},
   "outputs": [],
   "source": [
    "chem[\"Nox_corrected_exp\"]=exp(10,*exp_curve[0])/exp(chem.sample_time,*exp_curve[0])*chem.Nox\n",
    "chem[\"Nox_corrected_linear\"]=linear(10,*linear_curve[0])/linear(chem.sample_time,*linear_curve[0])*chem.Nox\n",
    "chem[\"Nox_corrected_log\"]=log(10,*log_curve[0])/log(chem.sample_time,*log_curve[0])*chem.Nox"
   ]
  },
  {
   "cell_type": "code",
   "execution_count": 57,
   "id": "78ce1121-34c3-41c3-81e0-0dfd592a199b",
   "metadata": {},
   "outputs": [],
   "source": [
    "chem[\"Nox_scale_exp\"]=exp(10,*exp_curve[0])/exp(chem.sample_time,*exp_curve[0])\n",
    "chem[\"Nox_scale_linear\"]=linear(10,*linear_curve[0])/linear(chem.sample_time,*linear_curve[0])\n",
    "chem[\"Nox_scale_log\"]=log(10,*log_curve[0])/log(chem.sample_time,*log_curve[0])"
   ]
  },
  {
   "cell_type": "code",
   "execution_count": 65,
   "id": "fa1139d0-de6b-4b22-a4ab-6b2a8358c216",
   "metadata": {},
   "outputs": [
    {
     "data": {
      "text/plain": [
       "[<matplotlib.lines.Line2D at 0x1d360aabc50>]"
      ]
     },
     "execution_count": 65,
     "metadata": {},
     "output_type": "execute_result"
    },
    {
     "data": {
      "image/png": "[encoded data removed]",
      "text/plain": [
       "<Figure size 640x480 with 1 Axes>"
      ]
     },
     "metadata": {},
     "output_type": "display_data"
    }
   ],
   "source": [
    "plt.plot(chem.Nox_scale_linear,chem.Nox_scale_exp,'.')"
   ]
  },
  {
   "cell_type": "code",
   "execution_count": 53,
   "id": "9a1d59f5-b889-416e-961b-595d3341c726",
   "metadata": {},
   "outputs": [
    {
     "data": {
      "text/plain": [
       "[]"
      ]
     },
     "execution_count": 53,
     "metadata": {},
     "output_type": "execute_result"
    },
    {
     "data": {
      "image/png": "[encoded data removed]",
      "text/plain": [
       "<Figure size 640x480 with 1 Axes>"
      ]
     },
     "metadata": {},
     "output_type": "display_data"
    }
   ],
   "source": [
    "plt.plot(chem.Nox,chem.Nox_corrected_exp,'.')\n",
    "plt.plot(chem.Nox,chem.Nox_corrected_linear,'.')\n",
    "plt.plot(chem.Nox,chem.Nox_corrected_log,'.')\n",
    "plt.plot()"
   ]
  },
  {
   "cell_type": "code",
   "execution_count": 66,
   "id": "562a62c4-eb08-447c-ae87-bbe504289b91",
   "metadata": {},
   "outputs": [
    {
     "data": {
      "text/plain": [
       "0        9.000000\n",
       "1        9.428571\n",
       "2       11.714286\n",
       "3       15.428571\n",
       "4       11.000000\n",
       "          ...    \n",
       "1006    10.714286\n",
       "1007    12.285714\n",
       "1008    11.285714\n",
       "1009    10.000000\n",
       "1010     9.285714\n",
       "Name: sample_time, Length: 1011, dtype: float64"
      ]
     },
     "execution_count": 66,
     "metadata": {},
     "output_type": "execute_result"
    }
   ],
   "source": [
    "chem.sample_time"
   ]
  },
  {
   "cell_type": "code",
   "execution_count": null,
   "id": "301920b1-361f-4b20-9ab3-1f40331593eb",
   "metadata": {},
   "outputs": [],
   "source": []
  }
 ],
 "metadata": {
  "kernelspec": {
   "display_name": "Python 3 (ipykernel)",
   "language": "python",
   "name": "python3"
  },
  "language_info": {
   "codemirror_mode": {
    "name": "ipython",
    "version": 3
   },
   "file_extension": ".py",
   "mimetype": "text/x-python",
   "name": "python",
   "nbconvert_exporter": "python",
   "pygments_lexer": "ipython3",
   "version": "3.11.7"
  }
 },
 "nbformat": 4,
 "nbformat_minor": 5
}
