{
 "cells": [
  {
   "cell_type": "code",
   "execution_count": 29,
   "id": "d28d499f-2c29-46c7-91ad-b3f14b83eb77",
   "metadata": {},
   "outputs": [],
   "source": [
    "import numpy as np \n",
    "import pandas as pd\n",
    "import torch\n",
    "from sklearn.metrics import r2_score\n",
    "from pyro import clear_param_store\n",
    "import pyro as pyro\n",
    "import pyro.contrib.gp as gp\n",
    "from pyro.nn import PyroSample\n",
    "import pyro.distributions as dist\n",
    "from pyro.infer import MCMC, NUTS, Predictive,HMC\n",
    "import arviz as az\n",
    "from scipy.optimize import curve_fit\n",
    "from sklearn.metrics import root_mean_squared_error"
   ]
  },
  {
   "cell_type": "code",
   "execution_count": 30,
   "id": "8d9a89bf-ecc0-4137-8e99-6ff92a2a5d77",
   "metadata": {},
   "outputs": [],
   "source": [
    "TOOLS=\"hover,crosshair,pan,wheel_zoom,zoom_in,zoom_out,box_zoom,undo,redo,reset,tap,save,box_select,poly_select,lasso_select,examine,help\""
   ]
  },
  {
   "cell_type": "code",
   "execution_count": 31,
   "id": "7ddd9d71-5e69-4aea-81fb-84b5e27b56a6",
   "metadata": {},
   "outputs": [],
   "source": [
    "PM25=pd.read_excel(\"../data/pm_flow.xlsx\")\n",
    "train,test=PM25.loc[PM25.label==0,:],PM25.loc[PM25.label==1,:]"
   ]
  },
  {
   "cell_type": "code",
   "execution_count": 32,
   "id": "63b7759c-e76d-4905-8909-48d1b6421449",
   "metadata": {},
   "outputs": [
    {
     "data": {
      "text/plain": [
       "((913, 24), (207, 24))"
      ]
     },
     "execution_count": 32,
     "metadata": {},
     "output_type": "execute_result"
    }
   ],
   "source": [
    "train.shape,test.shape"
   ]
  },
  {
   "cell_type": "code",
   "execution_count": 33,
   "id": "82e871e4-48c2-4285-9b66-75e29ca0d671",
   "metadata": {},
   "outputs": [],
   "source": [
    "device = torch.device('cuda' if torch.cuda.is_available() else 'cpu')"
   ]
  },
  {
   "cell_type": "code",
   "execution_count": 34,
   "id": "357804f8-4906-4dc4-bcc9-0c502831843b",
   "metadata": {},
   "outputs": [],
   "source": [
    "X_pm25=torch.tensor(train.flow.values).float().to(device)\n",
    "y_pm25=torch.tensor(train.pm_final.values).float().to(device)\n",
    "X_pm25_test=torch.tensor(test.flow.values).float().to(device)\n",
    "y_pm25_test=test.pm_final.values"
   ]
  },
  {
   "cell_type": "code",
   "execution_count": null,
   "id": "0a17ac4e-6218-4735-a4c1-1f9e9ca11c50",
   "metadata": {},
   "outputs": [],
   "source": []
  },
  {
   "cell_type": "code",
   "execution_count": 35,
   "id": "430797db-6f2d-43fb-81e5-e5904f1b7eaa",
   "metadata": {},
   "outputs": [
    {
     "name": "stderr",
     "output_type": "stream",
     "text": [
      "Sample: 100%|██████████████████████████████████████| 12000/12000 [13:25, 14.91it/s, step size=5.16e-01, acc. prob=0.961]\n"
     ]
    }
   ],
   "source": [
    "clear_param_store();\n",
    "rbf = gp.kernels.RBF(input_dim=1);\n",
    "\n",
    "rbf.variance = PyroSample(dist.HalfNormal(torch.tensor(80.)))\n",
    "\n",
    "rbf.lengthscale = PyroSample(dist.HalfNormal(torch.tensor(3.)))\n",
    "gpr = gp.models.GPRegression(X_pm25,y_pm25, rbf).to(device);\n",
    "gpr.noise = PyroSample(dist.HalfNormal(torch.tensor(100.)))\n",
    "\n",
    "nuts_kernel = NUTS(gpr.model,target_accept_prob=0.95);\n",
    "\n",
    "mcmc = MCMC(nuts_kernel, num_samples=3000,warmup_steps=9000,num_chains=1);\n",
    "\n",
    "mcmc.run();"
   ]
  },
  {
   "cell_type": "code",
   "execution_count": 36,
   "id": "69edd294-149b-4c4e-af80-10d528782730",
   "metadata": {},
   "outputs": [
    {
     "data": {
      "text/plain": [
       "-0.4036811757508556"
      ]
     },
     "execution_count": 36,
     "metadata": {},
     "output_type": "execute_result"
    }
   ],
   "source": [
    "r2_score(y_pm25_test,gpr(X_pm25_test)[0].cpu().detach().numpy())"
   ]
  },
  {
   "cell_type": "code",
   "execution_count": 37,
   "id": "fb50d94e-d1f1-4952-a441-2873915cf194",
   "metadata": {},
   "outputs": [],
   "source": [
    "torch.save(gpr, \"../models/PM2.5_flow\");"
   ]
  },
  {
   "cell_type": "code",
   "execution_count": 38,
   "id": "e460625d-8da2-475e-afe7-68883ee92913",
   "metadata": {},
   "outputs": [
    {
     "data": {
      "text/plain": [
       "{'kernel.lengthscale': OrderedDict([('n_eff',\n",
       "               tensor(2513.2524, device='cuda:0')),\n",
       "              ('r_hat', tensor(0.9998, device='cuda:0'))]),\n",
       " 'kernel.variance': OrderedDict([('n_eff', tensor(2945.6431, device='cuda:0')),\n",
       "              ('r_hat', tensor(0.9997, device='cuda:0'))]),\n",
       " 'noise': OrderedDict([('n_eff', tensor(3190.1304, device='cuda:0')),\n",
       "              ('r_hat', tensor(0.9998, device='cuda:0'))]),\n",
       " 'divergences': {'chain 0': []},\n",
       " 'acceptance rate': {'chain 0': 0.9986666666666667}}"
      ]
     },
     "execution_count": 38,
     "metadata": {},
     "output_type": "execute_result"
    }
   ],
   "source": [
    "mcmc.diagnostics()"
   ]
  },
  {
   "cell_type": "code",
   "execution_count": 39,
   "id": "509f2995-9290-478a-89d7-d12b873ae4ff",
   "metadata": {},
   "outputs": [
    {
     "name": "stderr",
     "output_type": "stream",
     "text": [
      "/data/michaelf/miniconda3/lib/python3.10/site-packages/arviz/data/io_pyro.py:158: UserWarning: Could not get vectorized trace, log_likelihood group will be omitted. Check your model vectorization or set log_likelihood=False\n",
      "  warnings.warn(\n"
     ]
    },
    {
     "data": {
      "text/plain": [
       "'../Arviz_stats/mcmc_pm25_flow.json'"
      ]
     },
     "execution_count": 39,
     "metadata": {},
     "output_type": "execute_result"
    }
   ],
   "source": [
    "posterior_samples = mcmc.get_samples();\n",
    "posterior_predictive = Predictive(gpr, posterior_samples)(X_pm25);\n",
    "prior = Predictive(gpr, num_samples=500)(X_pm25);\n",
    "\n",
    "pyro_data = az.from_pyro(mcmc,\n",
    "    prior=prior,\n",
    "    posterior_predictive=posterior_predictive\n",
    "\n",
    ");\n",
    "az.to_json(pyro_data, \"../Arviz_stats/mcmc_pm25_flow.json\")"
   ]
  },
  {
   "cell_type": "code",
   "execution_count": 40,
   "id": "1a383f8b-e1f7-4ea7-9246-8f61b991adff",
   "metadata": {},
   "outputs": [
    {
     "name": "stderr",
     "output_type": "stream",
     "text": [
      "BokehDeprecationWarning: 'scatter(radius=...)' was deprecated in Bokeh 3.4.0 and will be removed, use 'circle(radius=...) instead' instead.\n",
      "BokehDeprecationWarning: 'scatter(radius=...)' was deprecated in Bokeh 3.4.0 and will be removed, use 'circle(radius=...) instead' instead.\n",
      "BokehDeprecationWarning: 'scatter(radius=...)' was deprecated in Bokeh 3.4.0 and will be removed, use 'circle(radius=...) instead' instead.\n"
     ]
    }
   ],
   "source": [
    "az.style.use(\"arviz-doc\")\n",
    "\n",
    "ax = az.plot_trace(pyro_data,backend='bokeh')"
   ]
  },
  {
   "cell_type": "code",
   "execution_count": 41,
   "id": "1695e588-68bb-4a52-adfb-ce9e50042875",
   "metadata": {},
   "outputs": [],
   "source": [
    "X_bc=torch.tensor(train.flow.values).float().to(device)\n",
    "y_bc=torch.tensor(train.sv_final.values).float().to(device)\n",
    "X_bc_test=torch.tensor(test.flow.values).float().to(device)\n",
    "y_bc_test=test.sv_final.values"
   ]
  },
  {
   "cell_type": "code",
   "execution_count": null,
   "id": "b1d10e8e-432a-4e64-8c2a-7fbe06d9f884",
   "metadata": {},
   "outputs": [],
   "source": []
  },
  {
   "cell_type": "code",
   "execution_count": 42,
   "id": "6864dfe0-b1dd-4d72-90f5-402fc735db20",
   "metadata": {},
   "outputs": [
    {
     "name": "stderr",
     "output_type": "stream",
     "text": [
      "Sample: 100%|██████████████████████████████████████| 12000/12000 [13:55, 14.36it/s, step size=2.69e-01, acc. prob=0.962]\n"
     ]
    }
   ],
   "source": [
    "clear_param_store()\n",
    "rbf_bc = gp.kernels.RBF(input_dim=1)\n",
    "\n",
    "rbf_bc.variance = PyroSample(dist.HalfNormal(torch.tensor(80.)))\n",
    "\n",
    "rbf_bc.lengthscale = PyroSample(dist.HalfNormal(torch.tensor(3.)))\n",
    "gpr_bc = gp.models.GPRegression(X_bc,y_bc, rbf_bc).to(device)\n",
    "gpr_bc.noise = PyroSample(dist.HalfNormal(torch.tensor(2.)))\n",
    "\n",
    "\n",
    "nuts_kernel_bc = NUTS(gpr_bc.model,target_accept_prob=0.95)\n",
    "\n",
    "\n",
    "mcmc_bc = MCMC(nuts_kernel_bc,warmup_steps=9000, num_samples=3000,num_chains=1)\n",
    "\n",
    "mcmc_bc.run()"
   ]
  },
  {
   "cell_type": "code",
   "execution_count": 43,
   "id": "0df476a0-b794-4bb1-b203-bd76c87cfcbe",
   "metadata": {},
   "outputs": [
    {
     "data": {
      "text/plain": [
       "0.011349292974327851"
      ]
     },
     "execution_count": 43,
     "metadata": {},
     "output_type": "execute_result"
    }
   ],
   "source": [
    "r2_score(y_bc_test,gpr_bc(X_bc_test)[0].cpu().detach().numpy())"
   ]
  },
  {
   "cell_type": "code",
   "execution_count": 44,
   "id": "3e42728a-05d2-4222-bc31-f619fe9c6c43",
   "metadata": {},
   "outputs": [
    {
     "data": {
      "text/plain": [
       "0.5327479143108957"
      ]
     },
     "execution_count": 44,
     "metadata": {},
     "output_type": "execute_result"
    }
   ],
   "source": [
    "root_mean_squared_error(y_bc_test,gpr_bc(X_bc_test)[0].cpu().detach().numpy())"
   ]
  },
  {
   "cell_type": "code",
   "execution_count": 45,
   "id": "6bf481fd-0b95-4bee-976e-39f6432b528b",
   "metadata": {},
   "outputs": [],
   "source": [
    "torch.save(gpr_bc, \"../models/bc_flow\");"
   ]
  },
  {
   "cell_type": "code",
   "execution_count": 46,
   "id": "e40a7aa7-370a-4d96-b19e-3fef4799c8f1",
   "metadata": {},
   "outputs": [
    {
     "name": "stderr",
     "output_type": "stream",
     "text": [
      "/data/michaelf/miniconda3/lib/python3.10/site-packages/arviz/data/io_pyro.py:158: UserWarning: Could not get vectorized trace, log_likelihood group will be omitted. Check your model vectorization or set log_likelihood=False\n",
      "  warnings.warn(\n"
     ]
    },
    {
     "data": {
      "text/plain": [
       "'../Arviz_stats/mcmc_bc_flow.json'"
      ]
     },
     "execution_count": 46,
     "metadata": {},
     "output_type": "execute_result"
    }
   ],
   "source": [
    "posterior_samples_bc = mcmc_bc.get_samples(500)\n",
    "posterior_predictive_bc = Predictive(gpr_bc, posterior_samples_bc)(X_bc)\n",
    "prior_bc = Predictive(gpr_bc, num_samples=500)(X_bc)\n",
    "\n",
    "pyro_data_bc = az.from_pyro(mcmc_bc,\n",
    "    prior=prior_bc,\n",
    "    posterior_predictive=posterior_predictive_bc,\n",
    "\n",
    ")\n",
    "az.to_json(pyro_data_bc, \"../Arviz_stats/mcmc_bc_flow.json\")"
   ]
  },
  {
   "cell_type": "code",
   "execution_count": null,
   "id": "d0eda64f-4c93-49d9-a512-940d4c476eba",
   "metadata": {},
   "outputs": [],
   "source": []
  },
  {
   "cell_type": "code",
   "execution_count": null,
   "id": "435a6a6b-a876-4f5a-85a5-70a3024383df",
   "metadata": {},
   "outputs": [],
   "source": []
  }
 ],
 "metadata": {
  "kernelspec": {
   "display_name": "Python 3 (ipykernel)",
   "language": "python",
   "name": "python3"
  },
  "language_info": {
   "codemirror_mode": {
    "name": "ipython",
    "version": 3
   },
   "file_extension": ".py",
   "mimetype": "text/x-python",
   "name": "python",
   "nbconvert_exporter": "python",
   "pygments_lexer": "ipython3",
   "version": "3.10.16"
  }
 },
 "nbformat": 4,
 "nbformat_minor": 5
}
