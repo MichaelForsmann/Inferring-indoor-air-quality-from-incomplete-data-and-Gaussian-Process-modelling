{
 "cells": [
  {
   "cell_type": "code",
   "execution_count": 27,
   "id": "df699b35-56ba-4912-b1e3-0ca2e46de47d",
   "metadata": {},
   "outputs": [],
   "source": [
    "import numpy as np \n",
    "import matplotlib.pyplot as plt\n",
    "import pandas as pd\n",
    "from pyro import clear_param_store\n",
    "import pyro.contrib.gp as gp\n",
    "from pyro.nn import PyroSample\n",
    "import pyro.distributions as dist\n",
    "from pyro.infer import MCMC, NUTS, Predictive,HMC\n",
    "import torch\n",
    "import arviz as az\n",
    "from scipy.optimize import curve_fit\n",
    "from bokeh.plotting import figure, show\n",
    "from bokeh.transform import factor_cmap, factor_mark\n",
    "from bokeh.palettes import Spectral\n",
    "from bokeh.models import Slope, Div\n",
    "from bokeh.io import curdoc,output_notebook\n",
    "from bokeh.layouts import column,gridplot\n",
    "from sklearn.metrics import r2_score\n",
    "from seaborn import clustermap\n",
    "from bokeh.models import Band, ColumnDataSource\n",
    "from scipy import stats\n",
    "from sklearn.metrics import root_mean_squared_error"
   ]
  },
  {
   "cell_type": "code",
   "execution_count": null,
   "id": "8d6d5a12-ebe3-479c-a749-e3e21f9e596b",
   "metadata": {},
   "outputs": [],
   "source": []
  },
  {
   "cell_type": "code",
   "execution_count": 28,
   "id": "90230fe6-0f6a-4898-be1f-5768cfcf3cfe",
   "metadata": {},
   "outputs": [],
   "source": [
    "train=pd.read_excel(r\"../data/chem_train.xlsx\")\n"
   ]
  },
  {
   "cell_type": "code",
   "execution_count": 29,
   "id": "36eb7287-8877-4e13-a8e0-2009b6f5b9e3",
   "metadata": {},
   "outputs": [],
   "source": [
    "test=pd.read_excel(r\"../data/chem_test.xlsx\")\n"
   ]
  },
  {
   "cell_type": "code",
   "execution_count": 30,
   "id": "6609f953-0490-4848-b71b-45fbe9b94b08",
   "metadata": {},
   "outputs": [],
   "source": [
    "TOOLS=\"hover,crosshair,pan,wheel_zoom,zoom_in,zoom_out,box_zoom,undo,redo,reset,tap,save,box_select,poly_select,lasso_select,examine,help\""
   ]
  },
  {
   "cell_type": "code",
   "execution_count": 31,
   "id": "a2151240-19b2-4445-943f-c9caafcf1020",
   "metadata": {},
   "outputs": [],
   "source": [
    "device = torch.device('cuda' if torch.cuda.is_available() else 'cpu')"
   ]
  },
  {
   "cell_type": "code",
   "execution_count": 32,
   "id": "e546dad2-03b0-49cb-bf7b-ccb5accc14a2",
   "metadata": {},
   "outputs": [],
   "source": [
    "X_form=torch.tensor(train.corrected_week.values).float().to(device)\n",
    "y_form=torch.tensor(train.formaldehyd.values).float().to(device)"
   ]
  },
  {
   "cell_type": "code",
   "execution_count": 33,
   "id": "e61d90a2-344a-424b-8a73-690b29d3acde",
   "metadata": {},
   "outputs": [
    {
     "data": {
      "text/plain": [
       "tensor([ 37.3198,  50.8112,  22.2611,  ..., -17.3862, -16.8562, -15.9360],\n",
       "       device='cuda:0')"
      ]
     },
     "execution_count": 33,
     "metadata": {},
     "output_type": "execute_result"
    }
   ],
   "source": [
    "X_form"
   ]
  },
  {
   "cell_type": "code",
   "execution_count": 34,
   "id": "30e49a8d-5881-4517-b33b-e79be8260aa4",
   "metadata": {},
   "outputs": [
    {
     "name": "stderr",
     "output_type": "stream",
     "text": [
      "Sample: 100%|██████████████████████████████████████| 10000/10000 [08:55, 18.68it/s, step size=6.35e-01, acc. prob=0.941]\n"
     ]
    }
   ],
   "source": [
    "clear_param_store()\n",
    "rbf = gp.kernels.RBF(input_dim=1)\n",
    "\n",
    "\n",
    "rbf.variance = PyroSample(dist.HalfNormal(torch.tensor(20.)))\n",
    "\n",
    "rbf.lengthscale = PyroSample(dist.HalfNormal(torch.tensor(10.)))\n",
    "\n",
    "gpr = gp.models.GPRegression(X_form,y_form, rbf).to(device)\n",
    "gpr.noise = PyroSample(dist.HalfNormal(torch.tensor(10.)))\n",
    "\n",
    "\n",
    "nuts_kernel = NUTS(gpr.model,target_accept_prob=0.9)\n",
    "\n",
    "\n",
    "mcmc = MCMC(nuts_kernel,warmup_steps=9000, num_samples=1000,num_chains=1 )\n",
    "\n",
    "mcmc.run()"
   ]
  },
  {
   "cell_type": "code",
   "execution_count": 35,
   "id": "5af9c3c1-1582-4423-90e6-94f3b1763ad9",
   "metadata": {},
   "outputs": [],
   "source": [
    "torch.save(gpr, \"../models/form_seasonality\");"
   ]
  },
  {
   "cell_type": "code",
   "execution_count": 36,
   "id": "c9130ecb-2e2a-4baf-a76f-c8604910aa52",
   "metadata": {},
   "outputs": [
    {
     "name": "stderr",
     "output_type": "stream",
     "text": [
      "/data/michaelf/miniconda3/lib/python3.10/site-packages/arviz/data/io_pyro.py:158: UserWarning: Could not get vectorized trace, log_likelihood group will be omitted. Check your model vectorization or set log_likelihood=False\n",
      "  warnings.warn(\n"
     ]
    },
    {
     "data": {
      "text/plain": [
       "'../Arviz_stats/mcmc_form_seasonality.json'"
      ]
     },
     "execution_count": 36,
     "metadata": {},
     "output_type": "execute_result"
    }
   ],
   "source": [
    "posterior_samples = mcmc.get_samples(500)\n",
    "posterior_predictive= Predictive(gpr, posterior_samples)(X_form)\n",
    "prior = Predictive(gpr, num_samples=500)(X_form)\n",
    "\n",
    "pyro_data = az.from_pyro(mcmc,\n",
    "    prior=prior,\n",
    "    posterior_predictive=posterior_predictive,\n",
    "\n",
    ")\n",
    "az.to_json(pyro_data, \"../Arviz_stats/mcmc_form_seasonality.json\")"
   ]
  },
  {
   "cell_type": "code",
   "execution_count": 37,
   "id": "6504dc3f-7d89-469b-9285-fc4d187a9298",
   "metadata": {},
   "outputs": [],
   "source": [
    "X_acetald=torch.tensor(train.corrected_week.values).float().to(device)\n",
    "y_acetald=torch.tensor(train.acetald.values).float().to(device)"
   ]
  },
  {
   "cell_type": "code",
   "execution_count": 38,
   "id": "46a308b8-9143-47f6-b8ce-1776441b3c88",
   "metadata": {},
   "outputs": [
    {
     "name": "stderr",
     "output_type": "stream",
     "text": [
      "Sample: 100%|██████████████████████████████████████| 10000/10000 [09:14, 18.05it/s, step size=6.14e-01, acc. prob=0.935]\n"
     ]
    }
   ],
   "source": [
    "clear_param_store()\n",
    "rbf_bc = gp.kernels.RBF(input_dim=1)\n",
    "\n",
    "\n",
    "rbf_bc.variance = PyroSample(dist.HalfNormal(torch.tensor(20.)))\n",
    "\n",
    "rbf_bc.lengthscale = PyroSample(dist.HalfNormal(torch.tensor(10.)))\n",
    "gpr_bc = gp.models.GPRegression(X_acetald,y_acetald, rbf_bc).to(device)\n",
    "gpr_bc.noise = PyroSample(dist.HalfNormal(torch.tensor(10.)))\n",
    "\n",
    "\n",
    "nuts_kernel_bc = NUTS(gpr_bc.model,target_accept_prob=0.9)\n",
    "\n",
    "\n",
    "mcmc_bc = MCMC(nuts_kernel_bc,warmup_steps=9000, num_samples=1000,num_chains=1)\n",
    "\n",
    "mcmc_bc.run()"
   ]
  },
  {
   "cell_type": "code",
   "execution_count": 39,
   "id": "89e45156-fbf2-4121-ae2b-67407ad83d8b",
   "metadata": {},
   "outputs": [],
   "source": [
    "torch.save(gpr_bc, \"../models/acetald_seasonality\");"
   ]
  },
  {
   "cell_type": "code",
   "execution_count": 40,
   "id": "b9cd439d-05a5-44af-b69b-d83a286e6786",
   "metadata": {},
   "outputs": [
    {
     "data": {
      "text/plain": [
       "'../Arviz_stats/mcmc_acetald_seasonality.json'"
      ]
     },
     "execution_count": 40,
     "metadata": {},
     "output_type": "execute_result"
    }
   ],
   "source": [
    "posterior_samples_bc = mcmc_bc.get_samples(500)\n",
    "posterior_predictive_bc = Predictive(gpr_bc, posterior_samples_bc)(X_acetald)\n",
    "prior_bc = Predictive(gpr_bc, num_samples=500)(X_acetald)\n",
    "\n",
    "pyro_data_bc = az.from_pyro(mcmc_bc,\n",
    "    prior=prior_bc,\n",
    "    posterior_predictive=posterior_predictive_bc,\n",
    "\n",
    ")\n",
    "az.to_json(pyro_data_bc, \"../Arviz_stats/mcmc_acetald_seasonality.json\")"
   ]
  },
  {
   "cell_type": "code",
   "execution_count": 41,
   "id": "c1555aeb-2739-4cca-96a3-f60e29bbb73f",
   "metadata": {},
   "outputs": [
    {
     "data": {
      "text/plain": [
       "1"
      ]
     },
     "execution_count": 41,
     "metadata": {},
     "output_type": "execute_result"
    }
   ],
   "source": [
    "1"
   ]
  },
  {
   "cell_type": "code",
   "execution_count": 42,
   "id": "293f3e63-4447-4d06-a29a-f9a829c031b5",
   "metadata": {},
   "outputs": [],
   "source": [
    "X_acetone=torch.tensor(train.corrected_week.values).float().to(device)\n",
    "y_acetone=torch.tensor(train.acetone.values).float().to(device)"
   ]
  },
  {
   "cell_type": "code",
   "execution_count": 43,
   "id": "9dc4f987-2f69-4425-9003-e3d95bd0397c",
   "metadata": {},
   "outputs": [
    {
     "name": "stderr",
     "output_type": "stream",
     "text": [
      "Sample: 100%|██████████████████████████████████████| 10000/10000 [07:56, 20.97it/s, step size=3.82e-01, acc. prob=0.968]\n"
     ]
    }
   ],
   "source": [
    "clear_param_store()\n",
    "rbf_ac = gp.kernels.RBF(input_dim=1)\n",
    "\n",
    "\n",
    "rbf_ac.variance = PyroSample(dist.HalfNormal(torch.tensor(20.)))\n",
    "\n",
    "rbf_ac.lengthscale = PyroSample(dist.HalfNormal(torch.tensor(10.)))\n",
    "\n",
    "gpr_ac = gp.models.GPRegression(X_acetone,y_acetone, rbf_ac).to(device)\n",
    "gpr_ac.noise = PyroSample(dist.HalfNormal(torch.tensor(10.)))\n",
    "\n",
    "\n",
    "nuts_kernel_ac = NUTS(gpr_ac.model,target_accept_prob=0.9)\n",
    "\n",
    "\n",
    "mcmc_ac = MCMC(nuts_kernel_ac,warmup_steps=9000, num_samples=1000,num_chains=1)\n",
    "\n",
    "mcmc_ac.run()"
   ]
  },
  {
   "cell_type": "code",
   "execution_count": 44,
   "id": "c4465e3e-d7f6-440a-9e1c-e5b5182371a5",
   "metadata": {},
   "outputs": [],
   "source": [
    "torch.save(gpr_ac, \"../models/acetone_seasonality\");"
   ]
  },
  {
   "cell_type": "code",
   "execution_count": 45,
   "id": "3c694586-11d3-497a-a16e-6d00e899f7ae",
   "metadata": {},
   "outputs": [
    {
     "data": {
      "text/plain": [
       "'../Arviz_stats/mcmc_acetone_seasonality.json'"
      ]
     },
     "execution_count": 45,
     "metadata": {},
     "output_type": "execute_result"
    }
   ],
   "source": [
    "posterior_samples_ac = mcmc_ac.get_samples(500)\n",
    "posterior_predictive_ac = Predictive(gpr_bc, posterior_samples_ac)(X_acetone)\n",
    "prior_ac = Predictive(gpr_ac, num_samples=500)(X_acetone)\n",
    "\n",
    "pyro_data_ac = az.from_pyro(mcmc_ac,\n",
    "    prior=prior_ac,\n",
    "    posterior_predictive=posterior_predictive_ac,\n",
    "\n",
    ")\n",
    "az.to_json(pyro_data_ac, \"../Arviz_stats/mcmc_acetone_seasonality.json\")"
   ]
  },
  {
   "cell_type": "code",
   "execution_count": 46,
   "id": "a885f124-4cfb-44fd-bc94-d20d74e8dd30",
   "metadata": {},
   "outputs": [],
   "source": [
    "form=gpr(torch.tensor(test.corrected_week.values).float().to(device))[0].cpu().detach().numpy()\n",
    "acetald=gpr_bc(torch.tensor(test.corrected_week.values).float().to(device))[0].cpu().detach().numpy()\n",
    "acetone=gpr_ac(torch.tensor(test.corrected_week.values).float().to(device))[0].cpu().detach().numpy()"
   ]
  },
  {
   "cell_type": "code",
   "execution_count": 47,
   "id": "4e515057-2308-4b60-8ab7-684d91b183c7",
   "metadata": {},
   "outputs": [
    {
     "data": {
      "text/plain": [
       "(0.023508300811006744, 0.029321839168464092, 0.14811447095572172)"
      ]
     },
     "execution_count": 47,
     "metadata": {},
     "output_type": "execute_result"
    }
   ],
   "source": [
    "r2_score(test.formaldehyd,form),r2_score(test.acetald,acetald),r2_score(test.acetone,acetone)"
   ]
  },
  {
   "cell_type": "code",
   "execution_count": 48,
   "id": "a491a30b-4e67-4000-a453-4ee8e95591ae",
   "metadata": {},
   "outputs": [
    {
     "data": {
      "text/plain": [
       "(7.446443316062849, 4.266915306534569, 5.593722764445667)"
      ]
     },
     "execution_count": 48,
     "metadata": {},
     "output_type": "execute_result"
    }
   ],
   "source": [
    "root_mean_squared_error(test.formaldehyd,form),root_mean_squared_error(test.acetald,acetald),root_mean_squared_error(test.acetone,acetone)"
   ]
  },
  {
   "cell_type": "code",
   "execution_count": null,
   "id": "7069cab8-6a3e-4850-ac14-edcb7bc00276",
   "metadata": {},
   "outputs": [],
   "source": []
  },
  {
   "cell_type": "code",
   "execution_count": null,
   "id": "36c23652-376c-4e72-b642-d96732fa6a2c",
   "metadata": {},
   "outputs": [],
   "source": []
  },
  {
   "cell_type": "code",
   "execution_count": null,
   "id": "dda2c8d4-96c3-4df0-8b2e-aae9110c191c",
   "metadata": {},
   "outputs": [],
   "source": []
  },
  {
   "cell_type": "code",
   "execution_count": null,
   "id": "013eb871-139d-4470-99e2-99ae53509814",
   "metadata": {},
   "outputs": [],
   "source": []
  },
  {
   "cell_type": "code",
   "execution_count": null,
   "id": "5e45a398-7c9e-4a37-88fc-1ba8a4959c0b",
   "metadata": {},
   "outputs": [],
   "source": []
  },
  {
   "cell_type": "code",
   "execution_count": null,
   "id": "78386f37-4d05-4ba5-9b7c-f76cf909f305",
   "metadata": {},
   "outputs": [],
   "source": []
  }
 ],
 "metadata": {
  "kernelspec": {
   "display_name": "Python 3 (ipykernel)",
   "language": "python",
   "name": "python3"
  },
  "language_info": {
   "codemirror_mode": {
    "name": "ipython",
    "version": 3
   },
   "file_extension": ".py",
   "mimetype": "text/x-python",
   "name": "python",
   "nbconvert_exporter": "python",
   "pygments_lexer": "ipython3",
   "version": "3.10.16"
  }
 },
 "nbformat": 4,
 "nbformat_minor": 5
}
