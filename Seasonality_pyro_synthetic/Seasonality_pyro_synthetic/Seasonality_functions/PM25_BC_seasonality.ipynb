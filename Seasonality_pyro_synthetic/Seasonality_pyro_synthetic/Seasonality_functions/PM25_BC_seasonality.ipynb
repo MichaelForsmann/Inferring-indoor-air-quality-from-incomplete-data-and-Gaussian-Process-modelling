{
 "cells": [
  {
   "cell_type": "code",
   "execution_count": 21,
   "id": "df699b35-56ba-4912-b1e3-0ca2e46de47d",
   "metadata": {},
   "outputs": [],
   "source": [
    "import numpy as np \n",
    "import matplotlib.pyplot as plt\n",
    "import pandas as pd\n",
    "from pyro import clear_param_store\n",
    "import pyro.contrib.gp as gp\n",
    "from pyro.nn import PyroSample\n",
    "import pyro.distributions as dist\n",
    "from pyro.infer import MCMC, NUTS, Predictive,HMC\n",
    "import torch\n",
    "import arviz as az\n",
    "from scipy.optimize import curve_fit\n",
    "#from print_versions import print_versions\n",
    "from seaborn import clustermap"
   ]
  },
  {
   "cell_type": "code",
   "execution_count": 22,
   "id": "36eb7287-8877-4e13-a8e0-2009b6f5b9e3",
   "metadata": {},
   "outputs": [],
   "source": [
    "train=pd.read_excel(r\"../data/chem_train_pm.xlsx\")\n",
    "test=pd.read_excel(r\"../data/chem_test_pm.xlsx\")"
   ]
  },
  {
   "cell_type": "code",
   "execution_count": 23,
   "id": "878a2dcb-3b32-4065-b3dc-dc07d64758fc",
   "metadata": {},
   "outputs": [],
   "source": [
    "device = torch.device('cuda' if torch.cuda.is_available() else 'cpu')"
   ]
  },
  {
   "cell_type": "code",
   "execution_count": 24,
   "id": "68b78682-809f-44c7-947d-40eb89ecb0f2",
   "metadata": {},
   "outputs": [],
   "source": [
    "x=torch.tensor(train.corrected_week).float().to(device)\n",
    "y_pm=torch.tensor(train.pm25_Gaussion).float().to(device)\n",
    "y_bc=torch.tensor(train.BC_Gaussion).float().to(device)"
   ]
  },
  {
   "cell_type": "markdown",
   "id": "1026d293-c278-413b-9c36-1ce041141ba5",
   "metadata": {},
   "source": [
    "## PM2.5"
   ]
  },
  {
   "cell_type": "code",
   "execution_count": 25,
   "id": "30e49a8d-5881-4517-b33b-e79be8260aa4",
   "metadata": {},
   "outputs": [
    {
     "name": "stderr",
     "output_type": "stream",
     "text": [
      "Sample: 100%|██████████████████████████████████████| 10000/10000 [06:36, 25.20it/s, step size=8.28e-01, acc. prob=0.897]\n"
     ]
    }
   ],
   "source": [
    "clear_param_store()\n",
    "rbf = gp.kernels.RBF(input_dim=1)\n",
    "\n",
    "\n",
    "rbf.variance = PyroSample(dist.HalfNormal(torch.tensor(20.)))\n",
    "\n",
    "rbf.lengthscale = PyroSample(dist.HalfNormal(torch.tensor(20.)))\n",
    "gpr = gp.models.GPRegression(x,y_pm, rbf).to(device)\n",
    "gpr.noise = PyroSample(dist.HalfNormal(torch.tensor(40.)))\n",
    "\n",
    "\n",
    "nuts_kernel = NUTS(gpr.model)\n",
    "\n",
    "\n",
    "mcmc = MCMC(nuts_kernel,warmup_steps=9000, num_samples=1000,num_chains=1)\n",
    "\n",
    "mcmc.run()"
   ]
  },
  {
   "cell_type": "code",
   "execution_count": 26,
   "id": "a5d9038d-a6a4-4c2c-ab74-43fddca10cf0",
   "metadata": {},
   "outputs": [],
   "source": [
    "torch.save(gpr, \"../models/pm25_seasonality\");"
   ]
  },
  {
   "cell_type": "code",
   "execution_count": 27,
   "id": "c9130ecb-2e2a-4baf-a76f-c8604910aa52",
   "metadata": {},
   "outputs": [
    {
     "name": "stderr",
     "output_type": "stream",
     "text": [
      "/data/michaelf/miniconda3/lib/python3.10/site-packages/arviz/data/io_pyro.py:158: UserWarning: Could not get vectorized trace, log_likelihood group will be omitted. Check your model vectorization or set log_likelihood=False\n",
      "  warnings.warn(\n"
     ]
    },
    {
     "data": {
      "text/plain": [
       "'../Arviz_stats/mcmc_pm25.json'"
      ]
     },
     "execution_count": 27,
     "metadata": {},
     "output_type": "execute_result"
    }
   ],
   "source": [
    "posterior_samples = mcmc.get_samples(500)\n",
    "posterior_predictive= Predictive(gpr, posterior_samples)(x)\n",
    "prior = Predictive(gpr, num_samples=500)(x)\n",
    "\n",
    "pyro_data = az.from_pyro(mcmc,\n",
    "    prior=prior,\n",
    "    posterior_predictive=posterior_predictive,\n",
    "\n",
    ")\n",
    "az.to_json(pyro_data, \"../Arviz_stats/mcmc_pm25.json\")"
   ]
  },
  {
   "cell_type": "code",
   "execution_count": 28,
   "id": "46a308b8-9143-47f6-b8ce-1776441b3c88",
   "metadata": {},
   "outputs": [
    {
     "name": "stderr",
     "output_type": "stream",
     "text": [
      "Sample: 100%|██████████████████████████████████████| 10000/10000 [10:06, 16.48it/s, step size=5.27e-01, acc. prob=0.917]\n"
     ]
    }
   ],
   "source": [
    "clear_param_store()\n",
    "rbf_bc = gp.kernels.RBF(input_dim=1)\n",
    "\n",
    "\n",
    "rbf_bc.variance = PyroSample(dist.HalfNormal(torch.tensor(20.)))\n",
    "\n",
    "rbf_bc.lengthscale = PyroSample(dist.HalfNormal(torch.tensor(20.)))\n",
    "gpr_bc = gp.models.GPRegression(x,y_bc, rbf_bc).to(device)\n",
    "gpr_bc.noise = PyroSample(dist.HalfNormal(torch.tensor(3.)))\n",
    "\n",
    "\n",
    "nuts_kernel_bc = NUTS(gpr_bc.model)\n",
    "\n",
    "\n",
    "mcmc_bc = MCMC(nuts_kernel_bc,warmup_steps=9000, num_samples=1000,num_chains=1)\n",
    "\n",
    "mcmc_bc.run()"
   ]
  },
  {
   "cell_type": "code",
   "execution_count": 29,
   "id": "440bab6c-dd44-4391-a88c-107a6c304100",
   "metadata": {},
   "outputs": [],
   "source": [
    "torch.save(gpr_bc, \"../models/seasonality_BC\");"
   ]
  },
  {
   "cell_type": "code",
   "execution_count": 30,
   "id": "b9cd439d-05a5-44af-b69b-d83a286e6786",
   "metadata": {},
   "outputs": [
    {
     "data": {
      "text/plain": [
       "'../Arviz_stats/mcmc_BC.json'"
      ]
     },
     "execution_count": 30,
     "metadata": {},
     "output_type": "execute_result"
    }
   ],
   "source": [
    "posterior_samples_bc = mcmc_bc.get_samples(500)\n",
    "posterior_predictive_bc = Predictive(gpr_bc, posterior_samples_bc)(x)\n",
    "prior_bc = Predictive(gpr_bc, num_samples=500)(x)\n",
    "\n",
    "pyro_data_bc = az.from_pyro(mcmc_bc,\n",
    "    prior=prior_bc,\n",
    "    posterior_predictive=posterior_predictive_bc,\n",
    "\n",
    ")\n",
    "az.to_json(pyro_data_bc, \"../Arviz_stats/mcmc_BC.json\")"
   ]
  },
  {
   "cell_type": "code",
   "execution_count": 31,
   "id": "c1555aeb-2739-4cca-96a3-f60e29bbb73f",
   "metadata": {},
   "outputs": [
    {
     "name": "stderr",
     "output_type": "stream",
     "text": [
      "arviz - WARNING - Shape validation failed: input_shape: (1, 1000), minimum_shape: (chains=2, draws=4)\n",
      "arviz - WARNING - Shape validation failed: input_shape: (1, 1000), minimum_shape: (chains=2, draws=4)\n"
     ]
    },
    {
     "data": {
      "text/plain": [
       "(                      mean     sd  hdi_3%  hdi_97%  mcse_mean  mcse_sd  \\\n",
       " kernel.lengthscale  25.367  4.168  16.825   32.752      0.166    0.147   \n",
       " kernel.variance      2.110  3.275   0.174    6.255      0.146    0.543   \n",
       " noise                0.305  0.011   0.284    0.324      0.000    0.000   \n",
       " \n",
       "                     ess_bulk  ess_tail  r_hat  \n",
       " kernel.lengthscale     627.0     541.0    NaN  \n",
       " kernel.variance        716.0     706.0    NaN  \n",
       " noise                  641.0     643.0    NaN  ,\n",
       "                        mean      sd   hdi_3%  hdi_97%  mcse_mean  mcse_sd  \\\n",
       " kernel.lengthscale   23.430   4.171   14.897   30.728      0.158    0.133   \n",
       " kernel.variance      58.203  10.568   41.153   79.987      0.335    0.315   \n",
       " noise               391.928  11.829  370.449  413.953      0.335    0.393   \n",
       " \n",
       "                     ess_bulk  ess_tail  r_hat  \n",
       " kernel.lengthscale     672.0     533.0    NaN  \n",
       " kernel.variance        981.0     741.0    NaN  \n",
       " noise                 1241.0     717.0    NaN  )"
      ]
     },
     "execution_count": 31,
     "metadata": {},
     "output_type": "execute_result"
    }
   ],
   "source": [
    "az.summary(pyro_data_bc),az.summary(pyro_data)"
   ]
  },
  {
   "cell_type": "code",
   "execution_count": 32,
   "id": "4f5ca478-b856-42d0-a464-281344cf7d4c",
   "metadata": {},
   "outputs": [],
   "source": [
    "test_1=gpr_bc(torch.tensor(test.corrected_week.values).float().to(device))[0].cpu().detach().numpy()\n",
    "test_2=gpr(torch.tensor(test.corrected_week.values).float().to(device))[0].cpu().detach().numpy()"
   ]
  },
  {
   "cell_type": "code",
   "execution_count": null,
   "id": "2f86fc6a-f785-42fa-ab13-b53941320c94",
   "metadata": {},
   "outputs": [],
   "source": []
  }
 ],
 "metadata": {
  "kernelspec": {
   "display_name": "Python 3 (ipykernel)",
   "language": "python",
   "name": "python3"
  },
  "language_info": {
   "codemirror_mode": {
    "name": "ipython",
    "version": 3
   },
   "file_extension": ".py",
   "mimetype": "text/x-python",
   "name": "python",
   "nbconvert_exporter": "python",
   "pygments_lexer": "ipython3",
   "version": "3.10.16"
  }
 },
 "nbformat": 4,
 "nbformat_minor": 5
}
