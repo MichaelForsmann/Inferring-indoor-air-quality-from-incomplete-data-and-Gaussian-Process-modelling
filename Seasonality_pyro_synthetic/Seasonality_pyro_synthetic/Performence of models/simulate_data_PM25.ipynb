{
 "cells": [
  {
   "cell_type": "code",
   "execution_count": 1,
   "id": "1e4d2ed0-212a-4481-8063-faaa18f3618a",
   "metadata": {},
   "outputs": [],
   "source": [
    "import pandas as pd\n",
    "import torch\n",
    "import numpy as np\n",
    "from sklearn.metrics import r2_score\n",
    "import matplotlib.pyplot as plt"
   ]
  },
  {
   "cell_type": "code",
   "execution_count": 2,
   "id": "cabad2d7-a086-4dab-9341-a7ad27cd6972",
   "metadata": {},
   "outputs": [],
   "source": [
    "test=pd.read_excel(r\"../data/chem_test_pm.xlsx\")"
   ]
  },
  {
   "cell_type": "code",
   "execution_count": 3,
   "id": "6680c53e-56f3-4cab-96a7-d1e9adac7885",
   "metadata": {},
   "outputs": [],
   "source": [
    "gpr=torch.load(\"../models/pm25_seasonality\",weights_only=False,map_location='cuda')"
   ]
  },
  {
   "cell_type": "code",
   "execution_count": 4,
   "id": "f62330b2-5dba-48ef-b7b8-001c176d0d9d",
   "metadata": {},
   "outputs": [],
   "source": [
    "gpr_bc=torch.load(\"../models/bc_seasonality\",weights_only=False,map_location='cuda')"
   ]
  },
  {
   "cell_type": "code",
   "execution_count": 5,
   "id": "1f8cfa20-9260-44bd-bc2c-ec7f4ee98cd8",
   "metadata": {},
   "outputs": [],
   "source": [
    "device = torch.device('cuda' if torch.cuda.is_available() else 'cpu')"
   ]
  },
  {
   "cell_type": "code",
   "execution_count": 6,
   "id": "9919b9b2-7d9a-4a9a-bcf5-c367d63911b7",
   "metadata": {},
   "outputs": [],
   "source": [
    "test=test.loc[(test.corrected_week>0)&(test.corrected_week<53),:]"
   ]
  },
  {
   "cell_type": "code",
   "execution_count": 7,
   "id": "7a123326-3419-4d14-b4a0-250677176d13",
   "metadata": {},
   "outputs": [
    {
     "data": {
      "text/html": [
       "<div>\n",
       "<style scoped>\n",
       "    .dataframe tbody tr th:only-of-type {\n",
       "        vertical-align: middle;\n",
       "    }\n",
       "\n",
       "    .dataframe tbody tr th {\n",
       "        vertical-align: top;\n",
       "    }\n",
       "\n",
       "    .dataframe thead th {\n",
       "        text-align: right;\n",
       "    }\n",
       "</style>\n",
       "<table border=\"1\" class=\"dataframe\">\n",
       "  <thead>\n",
       "    <tr style=\"text-align: right;\">\n",
       "      <th></th>\n",
       "      <th>Unnamed: 0.1</th>\n",
       "      <th>Unnamed: 0</th>\n",
       "      <th>bnr</th>\n",
       "      <th>flow</th>\n",
       "      <th>pm_final</th>\n",
       "      <th>sv_final</th>\n",
       "      <th>maalnr</th>\n",
       "      <th>constrution_year</th>\n",
       "      <th>Area</th>\n",
       "      <th>floor_level</th>\n",
       "      <th>...</th>\n",
       "      <th>corrected_week</th>\n",
       "      <th>label</th>\n",
       "      <th>BC_Gaussion</th>\n",
       "      <th>BC_linear</th>\n",
       "      <th>BC_exp</th>\n",
       "      <th>BC_log</th>\n",
       "      <th>pm25_Gaussion</th>\n",
       "      <th>pm25_linear</th>\n",
       "      <th>pm25_exp</th>\n",
       "      <th>pm25_log</th>\n",
       "    </tr>\n",
       "  </thead>\n",
       "  <tbody>\n",
       "    <tr>\n",
       "      <th>0</th>\n",
       "      <td>5</td>\n",
       "      <td>5</td>\n",
       "      <td>5</td>\n",
       "      <td>4.11</td>\n",
       "      <td>6.209</td>\n",
       "      <td>0.418</td>\n",
       "      <td>1</td>\n",
       "      <td>1997.0</td>\n",
       "      <td>134.0</td>\n",
       "      <td>0</td>\n",
       "      <td>...</td>\n",
       "      <td>26.714</td>\n",
       "      <td>1</td>\n",
       "      <td>0.458921</td>\n",
       "      <td>0.455024</td>\n",
       "      <td>0.453472</td>\n",
       "      <td>0.285708</td>\n",
       "      <td>7.079576</td>\n",
       "      <td>7.040830</td>\n",
       "      <td>7.012674</td>\n",
       "      <td>6.430987</td>\n",
       "    </tr>\n",
       "    <tr>\n",
       "      <th>1</th>\n",
       "      <td>6</td>\n",
       "      <td>6</td>\n",
       "      <td>5</td>\n",
       "      <td>3.84</td>\n",
       "      <td>13.870</td>\n",
       "      <td>1.940</td>\n",
       "      <td>2</td>\n",
       "      <td>1997.0</td>\n",
       "      <td>134.0</td>\n",
       "      <td>0</td>\n",
       "      <td>...</td>\n",
       "      <td>49.857</td>\n",
       "      <td>1</td>\n",
       "      <td>1.719938</td>\n",
       "      <td>1.734694</td>\n",
       "      <td>1.723249</td>\n",
       "      <td>5.941793</td>\n",
       "      <td>11.512033</td>\n",
       "      <td>11.836032</td>\n",
       "      <td>11.619468</td>\n",
       "      <td>13.206901</td>\n",
       "    </tr>\n",
       "    <tr>\n",
       "      <th>2</th>\n",
       "      <td>7</td>\n",
       "      <td>7</td>\n",
       "      <td>5</td>\n",
       "      <td>4.13</td>\n",
       "      <td>10.930</td>\n",
       "      <td>0.404</td>\n",
       "      <td>3</td>\n",
       "      <td>1997.0</td>\n",
       "      <td>134.0</td>\n",
       "      <td>0</td>\n",
       "      <td>...</td>\n",
       "      <td>26.571</td>\n",
       "      <td>1</td>\n",
       "      <td>0.451247</td>\n",
       "      <td>0.446982</td>\n",
       "      <td>0.444823</td>\n",
       "      <td>0.261114</td>\n",
       "      <td>12.751609</td>\n",
       "      <td>12.703754</td>\n",
       "      <td>12.620991</td>\n",
       "      <td>11.394847</td>\n",
       "    </tr>\n",
       "    <tr>\n",
       "      <th>3</th>\n",
       "      <td>37</td>\n",
       "      <td>37</td>\n",
       "      <td>22</td>\n",
       "      <td>3.85</td>\n",
       "      <td>38.960</td>\n",
       "      <td>1.341</td>\n",
       "      <td>2</td>\n",
       "      <td>1930.0</td>\n",
       "      <td>69.0</td>\n",
       "      <td>1</td>\n",
       "      <td>...</td>\n",
       "      <td>3.857</td>\n",
       "      <td>1</td>\n",
       "      <td>1.196829</td>\n",
       "      <td>1.207069</td>\n",
       "      <td>1.200027</td>\n",
       "      <td>3.638145</td>\n",
       "      <td>32.691132</td>\n",
       "      <td>33.554241</td>\n",
       "      <td>33.001553</td>\n",
       "      <td>37.208573</td>\n",
       "    </tr>\n",
       "    <tr>\n",
       "      <th>4</th>\n",
       "      <td>38</td>\n",
       "      <td>38</td>\n",
       "      <td>22</td>\n",
       "      <td>4.03</td>\n",
       "      <td>12.421</td>\n",
       "      <td>0.936</td>\n",
       "      <td>3</td>\n",
       "      <td>1930.0</td>\n",
       "      <td>69.0</td>\n",
       "      <td>1</td>\n",
       "      <td>...</td>\n",
       "      <td>32.286</td>\n",
       "      <td>1</td>\n",
       "      <td>0.959726</td>\n",
       "      <td>0.957242</td>\n",
       "      <td>0.957025</td>\n",
       "      <td>0.831054</td>\n",
       "      <td>12.879830</td>\n",
       "      <td>12.834542</td>\n",
       "      <td>12.840250</td>\n",
       "      <td>12.539044</td>\n",
       "    </tr>\n",
       "    <tr>\n",
       "      <th>...</th>\n",
       "      <td>...</td>\n",
       "      <td>...</td>\n",
       "      <td>...</td>\n",
       "      <td>...</td>\n",
       "      <td>...</td>\n",
       "      <td>...</td>\n",
       "      <td>...</td>\n",
       "      <td>...</td>\n",
       "      <td>...</td>\n",
       "      <td>...</td>\n",
       "      <td>...</td>\n",
       "      <td>...</td>\n",
       "      <td>...</td>\n",
       "      <td>...</td>\n",
       "      <td>...</td>\n",
       "      <td>...</td>\n",
       "      <td>...</td>\n",
       "      <td>...</td>\n",
       "      <td>...</td>\n",
       "      <td>...</td>\n",
       "      <td>...</td>\n",
       "    </tr>\n",
       "    <tr>\n",
       "      <th>225</th>\n",
       "      <td>1096</td>\n",
       "      <td>1096</td>\n",
       "      <td>442</td>\n",
       "      <td>4.41</td>\n",
       "      <td>5.361</td>\n",
       "      <td>0.251</td>\n",
       "      <td>1</td>\n",
       "      <td>1950.0</td>\n",
       "      <td>88.0</td>\n",
       "      <td>0</td>\n",
       "      <td>...</td>\n",
       "      <td>8.571</td>\n",
       "      <td>1</td>\n",
       "      <td>0.348826</td>\n",
       "      <td>0.360259</td>\n",
       "      <td>0.340035</td>\n",
       "      <td>0.092082</td>\n",
       "      <td>7.897787</td>\n",
       "      <td>9.579268</td>\n",
       "      <td>8.438728</td>\n",
       "      <td>6.152589</td>\n",
       "    </tr>\n",
       "    <tr>\n",
       "      <th>226</th>\n",
       "      <td>1097</td>\n",
       "      <td>1097</td>\n",
       "      <td>442</td>\n",
       "      <td>4.02</td>\n",
       "      <td>12.142</td>\n",
       "      <td>0.644</td>\n",
       "      <td>2</td>\n",
       "      <td>1950.0</td>\n",
       "      <td>88.0</td>\n",
       "      <td>0</td>\n",
       "      <td>...</td>\n",
       "      <td>33.286</td>\n",
       "      <td>1</td>\n",
       "      <td>0.654809</td>\n",
       "      <td>0.653670</td>\n",
       "      <td>0.653608</td>\n",
       "      <td>0.593993</td>\n",
       "      <td>12.439214</td>\n",
       "      <td>12.408544</td>\n",
       "      <td>12.413707</td>\n",
       "      <td>12.218685</td>\n",
       "    </tr>\n",
       "    <tr>\n",
       "      <th>227</th>\n",
       "      <td>1098</td>\n",
       "      <td>1098</td>\n",
       "      <td>442</td>\n",
       "      <td>3.95</td>\n",
       "      <td>8.343</td>\n",
       "      <td>0.869</td>\n",
       "      <td>3</td>\n",
       "      <td>1950.0</td>\n",
       "      <td>88.0</td>\n",
       "      <td>0</td>\n",
       "      <td>...</td>\n",
       "      <td>45.143</td>\n",
       "      <td>1</td>\n",
       "      <td>0.834598</td>\n",
       "      <td>0.838006</td>\n",
       "      <td>0.837415</td>\n",
       "      <td>1.100653</td>\n",
       "      <td>7.854883</td>\n",
       "      <td>7.917801</td>\n",
       "      <td>7.893944</td>\n",
       "      <td>8.214119</td>\n",
       "    </tr>\n",
       "    <tr>\n",
       "      <th>228</th>\n",
       "      <td>1102</td>\n",
       "      <td>1102</td>\n",
       "      <td>444</td>\n",
       "      <td>3.88</td>\n",
       "      <td>6.060</td>\n",
       "      <td>0.579</td>\n",
       "      <td>1</td>\n",
       "      <td>1956.0</td>\n",
       "      <td>98.0</td>\n",
       "      <td>1</td>\n",
       "      <td>...</td>\n",
       "      <td>37.429</td>\n",
       "      <td>1</td>\n",
       "      <td>0.527587</td>\n",
       "      <td>0.531795</td>\n",
       "      <td>0.529771</td>\n",
       "      <td>1.169991</td>\n",
       "      <td>5.257922</td>\n",
       "      <td>5.368133</td>\n",
       "      <td>5.306461</td>\n",
       "      <td>5.840083</td>\n",
       "    </tr>\n",
       "    <tr>\n",
       "      <th>229</th>\n",
       "      <td>1103</td>\n",
       "      <td>1103</td>\n",
       "      <td>444</td>\n",
       "      <td>4.11</td>\n",
       "      <td>7.805</td>\n",
       "      <td>0.460</td>\n",
       "      <td>2</td>\n",
       "      <td>1956.0</td>\n",
       "      <td>98.0</td>\n",
       "      <td>1</td>\n",
       "      <td>...</td>\n",
       "      <td>22.429</td>\n",
       "      <td>1</td>\n",
       "      <td>0.505033</td>\n",
       "      <td>0.500744</td>\n",
       "      <td>0.499036</td>\n",
       "      <td>0.314416</td>\n",
       "      <td>8.899353</td>\n",
       "      <td>8.850649</td>\n",
       "      <td>8.815256</td>\n",
       "      <td>8.084048</td>\n",
       "    </tr>\n",
       "  </tbody>\n",
       "</table>\n",
       "<p>230 rows × 37 columns</p>\n",
       "</div>"
      ],
      "text/plain": [
       "     Unnamed: 0.1  Unnamed: 0  bnr  flow  pm_final  sv_final  maalnr  \\\n",
       "0               5           5    5  4.11     6.209     0.418       1   \n",
       "1               6           6    5  3.84    13.870     1.940       2   \n",
       "2               7           7    5  4.13    10.930     0.404       3   \n",
       "3              37          37   22  3.85    38.960     1.341       2   \n",
       "4              38          38   22  4.03    12.421     0.936       3   \n",
       "..            ...         ...  ...   ...       ...       ...     ...   \n",
       "225          1096        1096  442  4.41     5.361     0.251       1   \n",
       "226          1097        1097  442  4.02    12.142     0.644       2   \n",
       "227          1098        1098  442  3.95     8.343     0.869       3   \n",
       "228          1102        1102  444  3.88     6.060     0.579       1   \n",
       "229          1103        1103  444  4.11     7.805     0.460       2   \n",
       "\n",
       "     constrution_year   Area  floor_level  ...  corrected_week  label  \\\n",
       "0              1997.0  134.0            0  ...          26.714      1   \n",
       "1              1997.0  134.0            0  ...          49.857      1   \n",
       "2              1997.0  134.0            0  ...          26.571      1   \n",
       "3              1930.0   69.0            1  ...           3.857      1   \n",
       "4              1930.0   69.0            1  ...          32.286      1   \n",
       "..                ...    ...          ...  ...             ...    ...   \n",
       "225            1950.0   88.0            0  ...           8.571      1   \n",
       "226            1950.0   88.0            0  ...          33.286      1   \n",
       "227            1950.0   88.0            0  ...          45.143      1   \n",
       "228            1956.0   98.0            1  ...          37.429      1   \n",
       "229            1956.0   98.0            1  ...          22.429      1   \n",
       "\n",
       "     BC_Gaussion  BC_linear    BC_exp    BC_log  pm25_Gaussion  pm25_linear  \\\n",
       "0       0.458921   0.455024  0.453472  0.285708       7.079576     7.040830   \n",
       "1       1.719938   1.734694  1.723249  5.941793      11.512033    11.836032   \n",
       "2       0.451247   0.446982  0.444823  0.261114      12.751609    12.703754   \n",
       "3       1.196829   1.207069  1.200027  3.638145      32.691132    33.554241   \n",
       "4       0.959726   0.957242  0.957025  0.831054      12.879830    12.834542   \n",
       "..           ...        ...       ...       ...            ...          ...   \n",
       "225     0.348826   0.360259  0.340035  0.092082       7.897787     9.579268   \n",
       "226     0.654809   0.653670  0.653608  0.593993      12.439214    12.408544   \n",
       "227     0.834598   0.838006  0.837415  1.100653       7.854883     7.917801   \n",
       "228     0.527587   0.531795  0.529771  1.169991       5.257922     5.368133   \n",
       "229     0.505033   0.500744  0.499036  0.314416       8.899353     8.850649   \n",
       "\n",
       "      pm25_exp   pm25_log  \n",
       "0     7.012674   6.430987  \n",
       "1    11.619468  13.206901  \n",
       "2    12.620991  11.394847  \n",
       "3    33.001553  37.208573  \n",
       "4    12.840250  12.539044  \n",
       "..         ...        ...  \n",
       "225   8.438728   6.152589  \n",
       "226  12.413707  12.218685  \n",
       "227   7.893944   8.214119  \n",
       "228   5.306461   5.840083  \n",
       "229   8.815256   8.084048  \n",
       "\n",
       "[230 rows x 37 columns]"
      ]
     },
     "execution_count": 7,
     "metadata": {},
     "output_type": "execute_result"
    }
   ],
   "source": [
    "test"
   ]
  },
  {
   "cell_type": "code",
   "execution_count": 8,
   "id": "899ebfaf-917a-4d81-96c6-93cf8b0ee2b9",
   "metadata": {},
   "outputs": [],
   "source": [
    "def prediction(test,particle,model):\n",
    "    gpr_points=model(torch.tensor(test.corrected_week).float().to(device))\n",
    "    test[\"scale\"]=gpr_points[0].cpu().detach().numpy()\n",
    "    test_3=test.set_index(\"bnr\").loc[test.groupby(test.bnr).maalnr.count()>=3,:]\n",
    "    BC_1_raw=test_3.loc[test_3.maalnr==1,particle].groupby(\"bnr\").first()\n",
    "    BC_1_scale=test_3.loc[test_3.maalnr==1,\"scale\"].groupby(\"bnr\").first()\n",
    "    BC_2_raw=test_3.loc[test_3.maalnr==2,particle].groupby(\"bnr\").first()\n",
    "    BC_2_scale=test_3.loc[test_3.maalnr==2,\"scale\"].groupby(\"bnr\").first()\n",
    "    BC_3_scale=test_3.loc[test_3.maalnr==3,\"scale\"].groupby(\"bnr\").first()\n",
    "    BC_3_raw=test_3.loc[test_3.maalnr==3,particle].groupby(\"bnr\").first()\n",
    "    true_3=(BC_2_raw*BC_3_scale/BC_2_scale+BC_1_raw*BC_3_scale/BC_1_scale)/2\n",
    "    true_1=(BC_2_raw*BC_1_scale/BC_2_scale+BC_3_raw*BC_1_scale/BC_3_scale)/2\n",
    "    true_2=(BC_1_raw*BC_2_scale/BC_1_scale+BC_3_raw*BC_2_scale/BC_3_scale)/2\n",
    "    prediction_matrix=pd.DataFrame([true_1,BC_1_raw,BC_1_scale,true_2,BC_2_raw,BC_2_scale,true_3,BC_3_raw,BC_3_scale],index=[\"predict_1\",\"raw_1\",\"scale_1\",\"predict_2\",\"raw_2\",\"scale_2\",\"predict_3\",\"raw_3\",\"scale_3\"]).T\n",
    "    return prediction_matrix"
   ]
  },
  {
   "cell_type": "code",
   "execution_count": 9,
   "id": "4b6becd8-cb1d-4f17-a72d-727501b7c9e4",
   "metadata": {},
   "outputs": [],
   "source": [
    "prediction_matrix_pm=prediction(test,\"pm25_Gaussion\",gpr)\n",
    "prediction_matrix_bc=prediction(test,\"BC_Gaussion\",gpr_bc)"
   ]
  },
  {
   "cell_type": "code",
   "execution_count": 24,
   "id": "23610649-8990-417a-a1f4-3a484cabb176",
   "metadata": {},
   "outputs": [],
   "source": [
    "r2_pm_model=r2_score(prediction_matrix_pm.raw_1,prediction_matrix_pm.predict_1),r2_score(prediction_matrix_pm.raw_2,prediction_matrix_pm.predict_2),r2_score(prediction_matrix_pm.raw_3,prediction_matrix_pm.predict_3)"
   ]
  },
  {
   "cell_type": "code",
   "execution_count": 25,
   "id": "010f9988-d198-4235-bdf9-4f740d000748",
   "metadata": {},
   "outputs": [],
   "source": [
    "r2_bc_model=r2_score(prediction_matrix_bc.raw_1,prediction_matrix_bc.predict_1),r2_score(prediction_matrix_bc.raw_2,prediction_matrix_bc.predict_2),r2_score(prediction_matrix_bc.raw_3,prediction_matrix_bc.predict_3)"
   ]
  },
  {
   "cell_type": "code",
   "execution_count": 31,
   "id": "a988766c-14c2-46a0-911b-179a84520fc6",
   "metadata": {},
   "outputs": [
    {
     "data": {
      "text/plain": [
       "(0.11891388790747603, 0.03562360863151933)"
      ]
     },
     "execution_count": 31,
     "metadata": {},
     "output_type": "execute_result"
    }
   ],
   "source": [
    "np.mean(r2_pm_model),np.mean(r2_mean_pm)"
   ]
  },
  {
   "cell_type": "code",
   "execution_count": 30,
   "id": "a6d7b442-4323-4042-ba71-f20bd36a14dd",
   "metadata": {},
   "outputs": [
    {
     "data": {
      "text/plain": [
       "(0.017644997373734334, -0.09247113648623784)"
      ]
     },
     "execution_count": 30,
     "metadata": {},
     "output_type": "execute_result"
    }
   ],
   "source": [
    "np.mean(r2_bc_model),np.mean(r2_mean_bc)"
   ]
  },
  {
   "cell_type": "code",
   "execution_count": 20,
   "id": "bcfd457c-649f-414b-814f-4511adb17c33",
   "metadata": {},
   "outputs": [
    {
     "data": {
      "text/plain": [
       "(0.2687975773441832, -0.16189724375806458)"
      ]
     },
     "execution_count": 20,
     "metadata": {},
     "output_type": "execute_result"
    }
   ],
   "source": [
    "r2_score(prediction_matrix_pm.raw_1,prediction_matrix_pm.predict_1),r2_score(prediction_matrix_bc.raw_1,prediction_matrix_bc.predict_1)"
   ]
  },
  {
   "cell_type": "code",
   "execution_count": 21,
   "id": "4fae66e1-bb3a-466f-8d67-94606381a188",
   "metadata": {},
   "outputs": [
    {
     "data": {
      "text/plain": [
       "(-0.38753542691891685, 0.08935855418505867)"
      ]
     },
     "execution_count": 21,
     "metadata": {},
     "output_type": "execute_result"
    }
   ],
   "source": [
    "r2_score(prediction_matrix_pm.raw_2,prediction_matrix_pm.predict_2),r2_score(prediction_matrix_bc.raw_2,prediction_matrix_bc.predict_2)"
   ]
  },
  {
   "cell_type": "code",
   "execution_count": 22,
   "id": "70afdcf4-fe25-409e-9476-cad915033d39",
   "metadata": {},
   "outputs": [
    {
     "data": {
      "text/plain": [
       "(0.47547951329716176, 0.12547368169420892)"
      ]
     },
     "execution_count": 22,
     "metadata": {},
     "output_type": "execute_result"
    }
   ],
   "source": [
    "r2_score(prediction_matrix_pm.raw_3,prediction_matrix_pm.predict_3),r2_score(prediction_matrix_bc.raw_3,prediction_matrix_bc.predict_3)"
   ]
  },
  {
   "cell_type": "code",
   "execution_count": 17,
   "id": "37121137-8f19-4803-a07b-8dd11daf7862",
   "metadata": {},
   "outputs": [],
   "source": [
    "mean_3=prediction_matrix_pm.loc[:,[\"raw_1\",\"raw_2\"]].mean(axis=1)\n",
    "mean_2=prediction_matrix_pm.loc[:,[\"raw_1\",\"raw_3\"]].mean(axis=1)\n",
    "mean_1=prediction_matrix_pm.loc[:,[\"raw_2\",\"raw_3\"]].mean(axis=1)\n",
    "mean_no2_3=prediction_matrix_bc.loc[:,[\"raw_1\",\"raw_2\"]].mean(axis=1)\n",
    "mean_no2_2=prediction_matrix_bc.loc[:,[\"raw_1\",\"raw_3\"]].mean(axis=1)\n",
    "mean_no2_1=prediction_matrix_bc.loc[:,[\"raw_2\",\"raw_3\"]].mean(axis=1)"
   ]
  },
  {
   "cell_type": "code",
   "execution_count": 18,
   "id": "9dc228bb-e5db-40ac-abf6-4e06f96816b5",
   "metadata": {},
   "outputs": [
    {
     "ename": "NameError",
     "evalue": "name 'test_3' is not defined",
     "output_type": "error",
     "traceback": [
      "\u001b[0;31m---------------------------------------------------------------------------\u001b[0m",
      "\u001b[0;31mNameError\u001b[0m                                 Traceback (most recent call last)",
      "Cell \u001b[0;32mIn[18], line 1\u001b[0m\n\u001b[0;32m----> 1\u001b[0m BC_1_raw\u001b[38;5;241m=\u001b[39m\u001b[43mtest_3\u001b[49m\u001b[38;5;241m.\u001b[39mloc[test_3\u001b[38;5;241m.\u001b[39mmaalnr\u001b[38;5;241m==\u001b[39m\u001b[38;5;241m1\u001b[39m,\u001b[38;5;124m\"\u001b[39m\u001b[38;5;124mBC_Gaussion\u001b[39m\u001b[38;5;124m\"\u001b[39m]\n\u001b[1;32m      2\u001b[0m BC_1_scale\u001b[38;5;241m=\u001b[39mtest_3\u001b[38;5;241m.\u001b[39mloc[test_3\u001b[38;5;241m.\u001b[39mmaalnr\u001b[38;5;241m==\u001b[39m\u001b[38;5;241m1\u001b[39m,\u001b[38;5;124m\"\u001b[39m\u001b[38;5;124mscale\u001b[39m\u001b[38;5;124m\"\u001b[39m]\n\u001b[1;32m      3\u001b[0m BC_2_raw\u001b[38;5;241m=\u001b[39mtest_3\u001b[38;5;241m.\u001b[39mloc[test_3\u001b[38;5;241m.\u001b[39mmaalnr\u001b[38;5;241m==\u001b[39m\u001b[38;5;241m2\u001b[39m,\u001b[38;5;124m\"\u001b[39m\u001b[38;5;124mBC_Gaussion\u001b[39m\u001b[38;5;124m\"\u001b[39m]\n",
      "\u001b[0;31mNameError\u001b[0m: name 'test_3' is not defined"
     ]
    }
   ],
   "source": [
    "BC_1_raw=test_3.loc[test_3.maalnr==1,\"BC_Gaussion\"]\n",
    "BC_1_scale=test_3.loc[test_3.maalnr==1,\"scale\"]\n",
    "BC_2_raw=test_3.loc[test_3.maalnr==2,\"BC_Gaussion\"]\n",
    "BC_2_scale=test_3.loc[test_3.maalnr==2,\"scale\"]\n",
    "BC_3_scale=test_3.loc[test_3.maalnr==3,\"scale\"]\n",
    "BC_3_raw=test_3.loc[test_3.maalnr==3,\"BC_Gaussion\"]"
   ]
  },
  {
   "cell_type": "code",
   "execution_count": 28,
   "id": "c83118c0-ac77-40fb-87da-e0f17c12ad74",
   "metadata": {},
   "outputs": [],
   "source": [
    "r2_mean_pm=r2_score(prediction_matrix_pm.raw_3,mean_3),r2_score(prediction_matrix_pm.raw_2,mean_2),r2_score(prediction_matrix_pm.raw_1,mean_1)"
   ]
  },
  {
   "cell_type": "code",
   "execution_count": 29,
   "id": "28ff8421-78bb-4f2a-a77c-95edc650cd34",
   "metadata": {},
   "outputs": [],
   "source": [
    "r2_mean_bc=r2_score(prediction_matrix_bc.raw_3,mean_no2_3),r2_score(prediction_matrix_bc.raw_2,mean_no2_2),r2_score(prediction_matrix_bc.raw_1,mean_no2_3)"
   ]
  },
  {
   "cell_type": "code",
   "execution_count": 27,
   "id": "101d8861-bead-4abd-8dd3-c6547e4ff8a7",
   "metadata": {},
   "outputs": [
    {
     "data": {
      "text/plain": [
       "((0.3323162512741793, -0.3113040436344121, 0.1747166955671675),\n",
       " (-0.27428782019841025, -0.6895360405048254, 0.5653547433314737))"
      ]
     },
     "execution_count": 27,
     "metadata": {},
     "output_type": "execute_result"
    }
   ],
   "source": [
    "r2_mean_pm,r2_mean_bc"
   ]
  },
  {
   "cell_type": "code",
   "execution_count": 188,
   "id": "3d07935d-301d-4306-8505-b0af383017b6",
   "metadata": {},
   "outputs": [],
   "source": [
    "first=n_5.BC_Gaussion.values*np.roll(n_5[\"scale\"],1)/n_5[\"scale\"]"
   ]
  },
  {
   "cell_type": "code",
   "execution_count": 189,
   "id": "a3ad6848-fc3b-49d4-a5d9-1d76ba7e8dbe",
   "metadata": {},
   "outputs": [],
   "source": [
    "second=n_5.BC_Gaussion.values*np.roll(n_5[\"scale\"],-1)/n_5[\"scale\"]"
   ]
  },
  {
   "cell_type": "code",
   "execution_count": 190,
   "id": "f4b50fc3-bcc8-4915-95e4-5dec44060bd2",
   "metadata": {},
   "outputs": [],
   "source": [
    "predict=(np.roll(first,-1)+np.roll(second,1))/2"
   ]
  },
  {
   "cell_type": "code",
   "execution_count": 191,
   "id": "b1dde6cc-6766-4ed0-8e4f-abea5b71c01a",
   "metadata": {},
   "outputs": [
    {
     "data": {
      "text/plain": [
       "0    1.115018\n",
       "1    0.704488\n",
       "2    0.454399\n",
       "Name: scale, dtype: float64"
      ]
     },
     "execution_count": 191,
     "metadata": {},
     "output_type": "execute_result"
    }
   ],
   "source": [
    "n_5.BC_Gaussion.values*np.roll(n_5[\"scale\"],-1)/n_5[\"scale\"]"
   ]
  },
  {
   "cell_type": "code",
   "execution_count": 192,
   "id": "31ea6990-5f7f-4b2f-be14-e009d418ef92",
   "metadata": {},
   "outputs": [
    {
     "data": {
      "text/plain": [
       "-0.1793307277124938"
      ]
     },
     "execution_count": 192,
     "metadata": {},
     "output_type": "execute_result"
    }
   ],
   "source": [
    "r2_score(BC,true_2_1)"
   ]
  },
  {
   "cell_type": "code",
   "execution_count": 193,
   "id": "632ff0c3-9562-4c88-be4b-0f1eeb155eaf",
   "metadata": {},
   "outputs": [
    {
     "data": {
      "text/plain": [
       "1.1033713152909999"
      ]
     },
     "execution_count": 193,
     "metadata": {},
     "output_type": "execute_result"
    }
   ],
   "source": [
    "0.451681*2.442811"
   ]
  },
  {
   "cell_type": "code",
   "execution_count": 194,
   "id": "e7e7d87c-2970-40b3-a888-2b7279f31864",
   "metadata": {},
   "outputs": [
    {
     "data": {
      "text/plain": [
       "0.7055821199999999"
      ]
     },
     "execution_count": 194,
     "metadata": {},
     "output_type": "execute_result"
    }
   ],
   "source": [
    "1.720932*0.41"
   ]
  },
  {
   "cell_type": "code",
   "execution_count": 195,
   "id": "12ae00db-3677-4314-9532-4df7bdf87c28",
   "metadata": {},
   "outputs": [
    {
     "data": {
      "text/plain": [
       "0    0.994018\n",
       "1    0.411828\n",
       "2    2.442811\n",
       "Name: scale, dtype: float32"
      ]
     },
     "execution_count": 195,
     "metadata": {},
     "output_type": "execute_result"
    }
   ],
   "source": [
    "np.roll(n_5[\"scale\"],1)/n_5[\"scale\"]"
   ]
  },
  {
   "cell_type": "code",
   "execution_count": 196,
   "id": "b0e1ee79-24ad-43d0-bd84-a4053f636805",
   "metadata": {},
   "outputs": [
    {
     "data": {
      "text/plain": [
       "0    0.657281\n",
       "1    1.596008\n",
       "2    0.653349\n",
       "Name: scale, dtype: float32"
      ]
     },
     "execution_count": 196,
     "metadata": {},
     "output_type": "execute_result"
    }
   ],
   "source": [
    "n_5[\"scale\"]"
   ]
  },
  {
   "cell_type": "code",
   "execution_count": 53,
   "id": "cbcb8f00-0bda-4c5b-9d42-4b739c05e40c",
   "metadata": {},
   "outputs": [
    {
     "data": {
      "text/plain": [
       "0    0.459196\n",
       "1    1.720932\n",
       "2    0.451681\n",
       "Name: BC_Gaussion, dtype: float64"
      ]
     },
     "execution_count": 53,
     "metadata": {},
     "output_type": "execute_result"
    }
   ],
   "source": [
    "n_5.BC_Gaussion\n",
    "       "
   ]
  },
  {
   "cell_type": "code",
   "execution_count": 49,
   "id": "0ff9df8f-c550-4453-a99d-c7bce5cd9dd6",
   "metadata": {},
   "outputs": [
    {
     "data": {
      "text/plain": [
       "0    0.456449\n",
       "1    0.708728\n",
       "2    1.103372\n",
       "dtype: float64"
      ]
     },
     "execution_count": 49,
     "metadata": {},
     "output_type": "execute_result"
    }
   ],
   "source": [
    "n_5.BC_Gaussion*np.roll(n_5[\"scale\"],1)/n_5[\"scale\"]"
   ]
  },
  {
   "cell_type": "code",
   "execution_count": 25,
   "id": "248e20dc-c73f-474b-a9eb-90a290bd5a46",
   "metadata": {},
   "outputs": [
    {
     "data": {
      "text/plain": [
       "-0.4942523304292594"
      ]
     },
     "execution_count": 25,
     "metadata": {},
     "output_type": "execute_result"
    }
   ],
   "source": [
    "r2_score(np.roll(test.BC_Gaussion,1),test.BC_Gaussion*pre_point/point)"
   ]
  },
  {
   "cell_type": "code",
   "execution_count": 38,
   "id": "557fd14c-fe0b-491c-94e2-f10370668139",
   "metadata": {},
   "outputs": [
    {
     "data": {
      "text/plain": [
       "array([1.5960082 , 0.6533491 , 0.9286251 , 1.2373776 , 0.8248529 ,\n",
       "       1.0533446 , 0.9369405 , 0.9286251 , 1.2373776 , 0.9286251 ,\n",
       "       1.6143847 , 0.6084184 , 1.3857703 , 1.1212385 , 0.6497071 ,\n",
       "       1.0848507 , 1.0338063 , 0.8819841 , 1.0862094 , 1.1220462 ,\n",
       "       0.93953514, 1.062085  , 0.6084184 , 1.0999829 , 1.3857703 ,\n",
       "       0.7828883 , 1.4015001 , 1.3857703 , 0.62108123, 1.0960147 ,\n",
       "       1.2291645 , 0.6030919 , 1.0671871 , 1.1329083 , 0.6721936 ,\n",
       "       1.1591376 , 1.050993  , 0.93953514, 1.159125  , 0.88154495,\n",
       "       0.8385    , 0.8347937 , 1.213985  , 1.049395  , 0.6039353 ,\n",
       "       1.1660209 , 1.0682428 , 0.6039353 , 1.159125  , 1.0723941 ,\n",
       "       1.0611467 , 0.8385    , 0.9060375 , 0.8269943 , 0.91274774,\n",
       "       0.75506026, 1.0682428 , 0.6533491 , 0.7828883 , 0.8150997 ,\n",
       "       0.67219365, 1.6046711 , 1.0723941 , 0.9369405 , 1.5656792 ,\n",
       "       1.1220462 , 0.7979984 , 1.0960147 , 1.1209838 , 1.4168986 ,\n",
       "       1.101396  , 0.6533491 , 0.91274774, 1.0346293 , 1.121232  ,\n",
       "       0.8151027 , 1.2592123 , 1.0507671 , 0.91571844, 1.1007234 ,\n",
       "       0.6392326 , 1.1660209 , 0.7828883 , 0.6392326 , 1.1660209 ,\n",
       "       0.7828883 , 1.0671871 , 0.8150997 , 1.413619  , 1.0671871 ,\n",
       "       0.8819841 , 1.0662287 , 0.8248529 , 1.2694173 , 0.75506026,\n",
       "       0.78979194, 0.89123315, 1.5531402 , 1.0338063 , 0.8847865 ,\n",
       "       0.9413733 , 0.6030919 , 1.0671871 , 1.0662287 , 1.0611467 ,\n",
       "       0.82126534, 1.0881602 , 0.7972091 , 1.0291277 , 1.0611467 ,\n",
       "       0.6047369 , 1.431525  , 0.9395345 , 1.0856866 , 0.60841644,\n",
       "       1.0775471 , 1.2803516 , 0.7828883 , 1.3857703 , 0.8393136 ,\n",
       "       0.62108123, 0.89999425, 1.413619  , 0.6392326 , 1.101396  ,\n",
       "       1.1707476 , 0.7194849 , 0.8248529 , 0.84075713, 0.8150997 ,\n",
       "       1.3857703 , 1.1221287 , 0.62628907, 1.0682428 , 0.746763  ,\n",
       "       0.6039353 , 1.101396  , 1.085664  , 0.8150997 , 1.2694173 ,\n",
       "       1.0673765 , 1.0960147 , 0.60350007, 1.0486398 , 1.0388186 ,\n",
       "       0.6047369 , 1.0838681 , 0.8929771 , 1.0291277 , 0.6906668 ,\n",
       "       1.050987  , 1.2803555 , 0.7979969 , 0.8128051 , 1.0999829 ,\n",
       "       1.0736642 , 1.0960147 , 1.1212385 , 0.776029  , 1.0388186 ,\n",
       "       0.94235396, 0.78319514, 1.0291277 , 1.0388186 , 1.1917992 ,\n",
       "       0.7979984 , 1.0852668 , 1.5656793 , 0.9286251 , 1.101396  ,\n",
       "       0.941492  , 1.085664  , 1.5596662 , 0.9286251 , 0.6253207 ,\n",
       "       1.101396  , 1.0532095 , 0.89999425, 1.050987  , 0.94237465,\n",
       "       1.0490445 , 0.7696975 , 1.0960147 , 0.89999425, 1.0309815 ,\n",
       "       1.0671871 , 1.0662287 , 1.070538  , 1.0573877 , 0.89999425,\n",
       "       1.0736537 , 1.0673773 , 0.94149697, 0.78319514, 0.899236  ,\n",
       "       1.1209838 , 0.7828883 , 0.88154495, 1.0801513 , 0.79736704,\n",
       "       0.8347937 , 1.0865791 , 0.79736704, 1.1660209 , 1.0532095 ,\n",
       "       0.60904235, 0.83075726, 0.899236  , 1.5531402 , 0.9750167 ,\n",
       "       0.941492  , 1.0490445 , 1.0662287 , 1.0733716 , 0.7979984 ,\n",
       "       0.7627335 , 0.776029  , 0.6572809 , 1.0881602 , 0.85258436,\n",
       "       0.75741255, 1.0346266 , 1.5531402 , 0.7696975 , 1.0399462 ,\n",
       "       0.899236  , 1.1843145 , 0.9286251 , 0.60904235, 0.6572809 ],\n",
       "      dtype=float32)"
      ]
     },
     "execution_count": 38,
     "metadata": {},
     "output_type": "execute_result"
    }
   ],
   "source": [
    "np.roll(gpr_points[0].detach().numpy(),-1)"
   ]
  },
  {
   "cell_type": "code",
   "execution_count": 33,
   "id": "16898c31-ca88-4420-8068-e30e7240f3bf",
   "metadata": {},
   "outputs": [
    {
     "data": {
      "text/plain": [
       "array([0.9266089 , 0.41182804, 2.4428108 , 0.7035661 , 0.7504783 ,\n",
       "       1.5001192 , 0.7830798 , 1.1242385 , 1.0089545 , 0.7504783 ,\n",
       "       1.3324835 , 0.5752192 , 2.6534119 , 0.43904707, 1.2359283 ,\n",
       "       1.72576   , 0.5988908 , 1.0493752 , 1.1721371 , 0.81198347,\n",
       "       0.9680612 , 1.1942568 , 0.8846139 , 1.7456491 , 0.55311626,\n",
       "       0.79376996, 1.7700741 , 0.5586074 , 1.011351  , 2.2312224 ,\n",
       "       0.5666723 , 0.8916746 , 2.0381048 , 0.56512296, 0.9419889 ,\n",
       "       1.68539   , 0.5799084 , 1.1028976 , 1.1186308 , 0.8105555 ,\n",
       "       1.3148791 , 1.0513356 , 1.0044398 , 0.68764746, 1.1568427 ,\n",
       "       1.737595  , 0.5179455 , 1.0915318 , 1.7688034 , 0.5210269 ,\n",
       "       1.0808759 , 1.0105993 , 1.2655298 , 0.9254584 , 1.0955789 ,\n",
       "       0.90604913, 1.208841  , 0.7068246 , 1.635026  , 0.8345368 ,\n",
       "       0.96048164, 1.2125965 , 0.41889808, 1.4963446 , 1.1445701 ,\n",
       "       0.5984243 , 1.3953785 , 1.4060757 , 0.72809094, 0.97772574,\n",
       "       0.7911532 , 1.2864571 , 1.6857694 , 0.7158047 , 0.8821978 ,\n",
       "       0.92276114, 1.3755715 , 0.64731157, 1.1983743 , 1.1474783 ,\n",
       "       0.8319242 , 1.721945  , 0.5482171 , 1.4893835 , 1.2247316 ,\n",
       "       0.5482171 , 1.4893835 , 0.73359984, 1.3092718 , 0.57660496,\n",
       "       1.3246216 , 1.2099844 , 0.8271997 , 1.292629  , 0.6497886 ,\n",
       "       1.6812133 , 0.9560242 , 0.88617885, 0.5738266 , 1.5023512 ,\n",
       "       1.1684246 , 0.9398891 , 1.5609119 , 0.56512296, 1.0008988 ,\n",
       "       1.0047891 , 1.2920876 , 0.7547284 , 1.3649621 , 0.77464545,\n",
       "       0.96982604, 1.7547246 , 0.42244244, 1.5236535 , 0.8653828 ,\n",
       "       1.7844465 , 0.564631  , 0.84160244, 1.6354206 , 0.5649481 ,\n",
       "       1.6510757 , 1.351375  , 0.69009465, 0.6366597 , 2.2114315 ,\n",
       "       0.58038396, 0.94076294, 1.6272025 , 0.8722585 , 0.9810834 ,\n",
       "       1.0314777 , 0.5881925 , 1.2349477 , 1.7917105 , 0.5862797 ,\n",
       "       1.4304978 , 1.236495  , 0.5483362 , 1.0144906 , 1.3319402 ,\n",
       "       0.6421054 , 1.1892873 , 0.9738706 , 1.8160971 , 0.5755075 ,\n",
       "       1.0094541 , 1.7178025 , 0.5579433 , 1.2137692 , 0.8677029 ,\n",
       "       1.4900495 , 0.65716016, 0.8208557 , 1.6044618 , 0.9817813 ,\n",
       "       0.7389253 , 1.0245129 , 0.97960746, 0.97750366, 1.4448409 ,\n",
       "       0.7470303 , 1.1023656 , 1.2032174 , 0.7610281 , 0.9906713 ,\n",
       "       0.87163895, 1.4934856 , 0.7353016 , 0.69316036, 1.6860187 ,\n",
       "       0.84313464, 1.169841  , 0.86720383, 0.6960874 , 1.6795434 ,\n",
       "       1.4850383 , 0.56775284, 1.0457519 , 1.1702403 , 0.8563324 ,\n",
       "       1.1152539 , 0.89831716, 1.3629309 , 0.70226926, 1.2178019 ,\n",
       "       0.87294894, 0.9660739 , 1.0008988 , 0.99597466, 1.0124366 ,\n",
       "       1.1748828 , 0.83825374, 1.0058802 , 1.1337024 , 1.202123  ,\n",
       "       0.8709561 , 0.80218464, 1.4318566 , 0.8880866 , 0.816131  ,\n",
       "       1.3546475 , 0.9551666 , 0.768277  , 1.3627088 , 0.683836  ,\n",
       "       1.1071119 , 1.7292879 , 0.7331171 , 0.92384785, 0.5789793 ,\n",
       "       1.592937  , 1.035608  , 0.8974758 , 0.98388314, 0.9933454 ,\n",
       "       1.3450799 , 1.0462348 , 0.9828673 , 1.1806656 , 0.6040296 ,\n",
       "       1.276308  , 1.1256539 , 0.73206365, 0.66615146, 2.017858  ,\n",
       "       0.74013203, 1.1564775 , 0.7592882 , 1.2753419 , 1.52473   ],\n",
       "      dtype=float32)"
      ]
     },
     "execution_count": 33,
     "metadata": {},
     "output_type": "execute_result"
    }
   ],
   "source": [
    "(pre_point/point)"
   ]
  },
  {
   "cell_type": "code",
   "execution_count": 26,
   "id": "2da9718c-3589-4b05-98a4-6e23fe77bcd3",
   "metadata": {},
   "outputs": [
    {
     "data": {
      "text/plain": [
       "0      0.425495\n",
       "1      0.708728\n",
       "2      1.103372\n",
       "3      0.546820\n",
       "4      1.079188\n",
       "         ...   \n",
       "225    0.262965\n",
       "226    0.757248\n",
       "227    0.633847\n",
       "228    0.673221\n",
       "229    0.770500\n",
       "Name: BC_Gaussion, Length: 230, dtype: float64"
      ]
     },
     "execution_count": 26,
     "metadata": {},
     "output_type": "execute_result"
    }
   ],
   "source": [
    "test.BC_Gaussion*pre_point/point"
   ]
  },
  {
   "cell_type": "code",
   "execution_count": 27,
   "id": "a6826d42-f454-4bfa-bd53-c5e5e9436f14",
   "metadata": {},
   "outputs": [
    {
     "data": {
      "text/plain": [
       "0      0.459196\n",
       "1      1.720932\n",
       "2      0.451681\n",
       "3      0.777212\n",
       "4      1.438000\n",
       "         ...   \n",
       "225    0.355294\n",
       "226    0.654788\n",
       "227    0.834791\n",
       "228    0.527875\n",
       "229    0.505335\n",
       "Name: BC_Gaussion, Length: 230, dtype: float64"
      ]
     },
     "execution_count": 27,
     "metadata": {},
     "output_type": "execute_result"
    }
   ],
   "source": [
    "test.BC_Gaussion"
   ]
  },
  {
   "cell_type": "code",
   "execution_count": null,
   "id": "58485e92-2f3e-467c-8d11-f82c06af6744",
   "metadata": {},
   "outputs": [],
   "source": []
  }
 ],
 "metadata": {
  "kernelspec": {
   "display_name": "Python 3 (ipykernel)",
   "language": "python",
   "name": "python3"
  },
  "language_info": {
   "codemirror_mode": {
    "name": "ipython",
    "version": 3
   },
   "file_extension": ".py",
   "mimetype": "text/x-python",
   "name": "python",
   "nbconvert_exporter": "python",
   "pygments_lexer": "ipython3",
   "version": "3.10.16"
  }
 },
 "nbformat": 4,
 "nbformat_minor": 5
}
