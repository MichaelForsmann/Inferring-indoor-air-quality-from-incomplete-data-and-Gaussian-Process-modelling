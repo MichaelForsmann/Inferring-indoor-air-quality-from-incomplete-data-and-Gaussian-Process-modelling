{
 "cells": [
  {
   "cell_type": "code",
   "execution_count": 4,
   "id": "270bb788-e5c3-439b-8413-b98680955d9f",
   "metadata": {},
   "outputs": [],
   "source": [
    "import numpy as np \n",
    "import matplotlib.pyplot as plt\n",
    "import pandas as pd \n",
    "import seaborn as sns\n",
    "from tableone import TableOne"
   ]
  },
  {
   "cell_type": "code",
   "execution_count": 5,
   "id": "8758b3e2-6d39-40e9-b606-5d110714aeea",
   "metadata": {},
   "outputs": [],
   "source": [
    "chem=pd.read_excel(r\"chem_polution.xlsx\")"
   ]
  },
  {
   "cell_type": "code",
   "execution_count": 6,
   "id": "04f33562-3e20-4391-af91-010940a044c7",
   "metadata": {},
   "outputs": [],
   "source": [
    "chem[\"int_week\"]=((chem.week/10)).astype(int).astype(str)"
   ]
  },
  {
   "cell_type": "code",
   "execution_count": 7,
   "id": "ea94ae81-5d93-4fe3-a7c9-add0f81dbcf6",
   "metadata": {},
   "outputs": [],
   "source": [
    "chem.columns\n",
    "chem=chem.drop(['start_c','stop_c','Unnamed: 0','batch_c', 'cpnr','batch_n', 'start_n', 'stop_n'],axis=1)"
   ]
  },
  {
   "cell_type": "code",
   "execution_count": 8,
   "id": "6944f319-38fe-4668-a9e2-f49dae216b3d",
   "metadata": {},
   "outputs": [],
   "source": [
    "url=\"https://raw.githubusercontent.com/tompollard/data/master/primary-biliary-cirrhosis/pbc.csv\"\n",
    "data=pd.read_csv(url)"
   ]
  },
  {
   "cell_type": "code",
   "execution_count": 9,
   "id": "99faef9b-b318-47f9-bfff-b9f7ce9aa806",
   "metadata": {},
   "outputs": [
    {
     "data": {
      "text/plain": [
       "(id            int64\n",
       " time          int64\n",
       " status        int64\n",
       " trt         float64\n",
       " age         float64\n",
       " sex          object\n",
       " ascites     float64\n",
       " hepato      float64\n",
       " spiders     float64\n",
       " edema       float64\n",
       " bili        float64\n",
       " chol        float64\n",
       " albumin     float64\n",
       " copper      float64\n",
       " alk.phos    float64\n",
       " ast         float64\n",
       " trig        float64\n",
       " platelet    float64\n",
       " protime     float64\n",
       " stage       float64\n",
       " dtype: object,\n",
       " visit            int64\n",
       " no2            float64\n",
       " Nox            float64\n",
       " formaldehyd    float64\n",
       " acetald        float64\n",
       " acetone        float64\n",
       " sample_time      int64\n",
       " week             int64\n",
       " int_week        object\n",
       " dtype: object)"
      ]
     },
     "execution_count": 9,
     "metadata": {},
     "output_type": "execute_result"
    }
   ],
   "source": [
    "data.dtypes,chem.dtypes"
   ]
  },
  {
   "cell_type": "code",
   "execution_count": 10,
   "id": "da1fa59c-7cbf-4c06-bd4c-fa9266f75bc9",
   "metadata": {},
   "outputs": [],
   "source": [
    "columns = chem.columns\n",
    "categorical = ['visit','week', 'int_week']\n",
    "\n",
    "continuous = ['no2', 'Nox', 'formaldehyd', 'acetald', 'acetone',\n",
    "       'sample_time']\n",
    "groupby='visit'"
   ]
  },
  {
   "cell_type": "code",
   "execution_count": 11,
   "id": "69da0c1b-4d8d-4357-8665-769c46b6eb97",
   "metadata": {},
   "outputs": [],
   "source": [
    "chem=chem.drop(['int_week','week'],axis=1)"
   ]
  },
  {
   "cell_type": "code",
   "execution_count": 12,
   "id": "3988393e-fdcb-4de6-b997-bf412a73057a",
   "metadata": {},
   "outputs": [],
   "source": [
    "mytable = TableOne(chem,groupby=\"visit\", pval=True)"
   ]
  },
  {
   "cell_type": "code",
   "execution_count": 129,
   "id": "994616db-9818-4e9c-a791-af03b274867a",
   "metadata": {},
   "outputs": [
    {
     "data": {
      "text/html": [
       "<div>\n",
       "<style scoped>\n",
       "    .dataframe tbody tr th:only-of-type {\n",
       "        vertical-align: middle;\n",
       "    }\n",
       "\n",
       "    .dataframe tbody tr th {\n",
       "        vertical-align: top;\n",
       "    }\n",
       "\n",
       "    .dataframe thead tr th {\n",
       "        text-align: left;\n",
       "    }\n",
       "</style>\n",
       "<table border=\"1\" class=\"dataframe\">\n",
       "  <thead>\n",
       "    <tr>\n",
       "      <th></th>\n",
       "      <th></th>\n",
       "      <th colspan=\"6\" halign=\"left\">Grouped by part_year</th>\n",
       "    </tr>\n",
       "    <tr>\n",
       "      <th></th>\n",
       "      <th></th>\n",
       "      <th>Missing</th>\n",
       "      <th>Overall</th>\n",
       "      <th>0</th>\n",
       "      <th>1</th>\n",
       "      <th>2</th>\n",
       "      <th>P-Value</th>\n",
       "    </tr>\n",
       "  </thead>\n",
       "  <tbody>\n",
       "    <tr>\n",
       "      <th>n</th>\n",
       "      <th></th>\n",
       "      <td></td>\n",
       "      <td>1120</td>\n",
       "      <td>362</td>\n",
       "      <td>384</td>\n",
       "      <td>374</td>\n",
       "      <td></td>\n",
       "    </tr>\n",
       "    <tr>\n",
       "      <th>flow, mean (SD)</th>\n",
       "      <th></th>\n",
       "      <td>0</td>\n",
       "      <td>4.0 (0.2)</td>\n",
       "      <td>4.0 (0.2)</td>\n",
       "      <td>4.0 (0.2)</td>\n",
       "      <td>4.0 (0.2)</td>\n",
       "      <td>&lt;0.001</td>\n",
       "    </tr>\n",
       "    <tr>\n",
       "      <th>pm_final, mean (SD)</th>\n",
       "      <th></th>\n",
       "      <td>0</td>\n",
       "      <td>18.9 (18.9)</td>\n",
       "      <td>21.4 (21.7)</td>\n",
       "      <td>15.6 (14.2)</td>\n",
       "      <td>19.9 (19.8)</td>\n",
       "      <td>&lt;0.001</td>\n",
       "    </tr>\n",
       "    <tr>\n",
       "      <th>sv_final, mean (SD)</th>\n",
       "      <th></th>\n",
       "      <td>0</td>\n",
       "      <td>1.0 (0.6)</td>\n",
       "      <td>1.0 (0.6)</td>\n",
       "      <td>0.7 (0.4)</td>\n",
       "      <td>1.2 (0.6)</td>\n",
       "      <td>&lt;0.001</td>\n",
       "    </tr>\n",
       "    <tr>\n",
       "      <th rowspan=\"4\" valign=\"top\">maalnr, n (%)</th>\n",
       "      <th>1</th>\n",
       "      <td></td>\n",
       "      <td>389 (34.7)</td>\n",
       "      <td>131 (36.2)</td>\n",
       "      <td>108 (28.1)</td>\n",
       "      <td>150 (40.1)</td>\n",
       "      <td>0.001</td>\n",
       "    </tr>\n",
       "    <tr>\n",
       "      <th>2</th>\n",
       "      <td></td>\n",
       "      <td>371 (33.1)</td>\n",
       "      <td>110 (30.4)</td>\n",
       "      <td>128 (33.3)</td>\n",
       "      <td>133 (35.6)</td>\n",
       "      <td></td>\n",
       "    </tr>\n",
       "    <tr>\n",
       "      <th>3</th>\n",
       "      <td></td>\n",
       "      <td>350 (31.2)</td>\n",
       "      <td>118 (32.6)</td>\n",
       "      <td>142 (37.0)</td>\n",
       "      <td>90 (24.1)</td>\n",
       "      <td></td>\n",
       "    </tr>\n",
       "    <tr>\n",
       "      <th>4</th>\n",
       "      <td></td>\n",
       "      <td>10 (0.9)</td>\n",
       "      <td>3 (0.8)</td>\n",
       "      <td>6 (1.6)</td>\n",
       "      <td>1 (0.3)</td>\n",
       "      <td></td>\n",
       "    </tr>\n",
       "    <tr>\n",
       "      <th>PM25_Gaussion, mean (SD)</th>\n",
       "      <th></th>\n",
       "      <td>0</td>\n",
       "      <td>19.2 (18.5)</td>\n",
       "      <td>21.4 (20.4)</td>\n",
       "      <td>16.4 (14.9)</td>\n",
       "      <td>19.9 (19.5)</td>\n",
       "      <td>0.001</td>\n",
       "    </tr>\n",
       "  </tbody>\n",
       "</table>\n",
       "</div><br />"
      ],
      "text/plain": [
       "                           Grouped by part_year                                                            \n",
       "                                        Missing      Overall            0            1            2 P-Value\n",
       "n                                                       1120          362          384          374        \n",
       "flow, mean (SD)                               0    4.0 (0.2)    4.0 (0.2)    4.0 (0.2)    4.0 (0.2)  <0.001\n",
       "pm_final, mean (SD)                           0  18.9 (18.9)  21.4 (21.7)  15.6 (14.2)  19.9 (19.8)  <0.001\n",
       "sv_final, mean (SD)                           0    1.0 (0.6)    1.0 (0.6)    0.7 (0.4)    1.2 (0.6)  <0.001\n",
       "maalnr, n (%)            1                        389 (34.7)   131 (36.2)   108 (28.1)   150 (40.1)   0.001\n",
       "                         2                        371 (33.1)   110 (30.4)   128 (33.3)   133 (35.6)        \n",
       "                         3                        350 (31.2)   118 (32.6)   142 (37.0)    90 (24.1)        \n",
       "                         4                          10 (0.9)      3 (0.8)      6 (1.6)      1 (0.3)        \n",
       "PM25_Gaussion, mean (SD)                      0  19.2 (18.5)  21.4 (20.4)  16.4 (14.9)  19.9 (19.5)   0.001"
      ]
     },
     "execution_count": 129,
     "metadata": {},
     "output_type": "execute_result"
    }
   ],
   "source": [
    "mytable_pm_season"
   ]
  },
  {
   "cell_type": "code",
   "execution_count": 14,
   "id": "8a553c87-deda-4969-9d8b-7ffe323fc987",
   "metadata": {},
   "outputs": [],
   "source": [
    "mytable.to_latex('mytable.tex')"
   ]
  },
  {
   "cell_type": "code",
   "execution_count": 104,
   "id": "bfe3fa8e-544e-490a-9107-a6dcd087f553",
   "metadata": {},
   "outputs": [],
   "source": [
    "pm25=pd.read_excel(r\"pm25_corrected.xlsx\")"
   ]
  },
  {
   "cell_type": "code",
   "execution_count": 105,
   "id": "4f149bf7-91d4-4353-8684-f2d6df802aa9",
   "metadata": {},
   "outputs": [
    {
     "data": {
      "text/plain": [
       "Index(['Unnamed: 0.1', 'Unnamed: 0', 'fnr', 'bnr', 'vejnvn', 'husn', 'sadto',\n",
       "       'flow', 'postnr', 'pm_final', 'sv_final', 'adrnum', 'maalnr',\n",
       "       'PM25_Gaussion', 'pm25_linear', 'pm25_exp', 'pm25_log'],\n",
       "      dtype='object')"
      ]
     },
     "execution_count": 105,
     "metadata": {},
     "output_type": "execute_result"
    }
   ],
   "source": [
    "pm25.columns"
   ]
  },
  {
   "cell_type": "code",
   "execution_count": 108,
   "id": "dab05613-e755-4b9c-a748-78e97ec2a026",
   "metadata": {},
   "outputs": [],
   "source": [
    "pm25=pm25.drop([\"adrnum\",\"postnr\",'pm25_linear', 'pm25_exp', 'pm25_log','Unnamed: 0.1', 'Unnamed: 0', 'fnr','bnr', 'vejnvn', 'husn'],axis=1)"
   ]
  },
  {
   "cell_type": "code",
   "execution_count": 110,
   "id": "f4fe98f1-087c-450f-95dc-9a78c40ec846",
   "metadata": {},
   "outputs": [],
   "source": [
    "pm25[\"part_year\"]=(pm25.sadto.dt.day_of_year/365*3).astype(int)"
   ]
  },
  {
   "cell_type": "code",
   "execution_count": 112,
   "id": "89beccbe-6e07-47ce-b2b5-2b37cffdb4da",
   "metadata": {},
   "outputs": [],
   "source": [
    "pm25=pm25.drop([\"sadto\"],axis=1)\n"
   ]
  },
  {
   "cell_type": "code",
   "execution_count": 126,
   "id": "3ed5cc7a-961e-4f4f-9dc0-47edd0fdf820",
   "metadata": {},
   "outputs": [],
   "source": [
    "mytable_pm_season = TableOne(pm25,groupby=\"part_year\", pval=True)\n",
    "mytable_pm_visit = TableOne(pm25,groupby=\"maalnr\", pval=True)"
   ]
  },
  {
   "cell_type": "code",
   "execution_count": 124,
   "id": "4754052c-5e36-42de-badb-9141a87a4060",
   "metadata": {},
   "outputs": [],
   "source": [
    "mytable_pm.to_latex('pm25_season.tex')"
   ]
  },
  {
   "cell_type": "code",
   "execution_count": null,
   "id": "0b86b562-c254-4da3-aa74-42e4a3a4e197",
   "metadata": {},
   "outputs": [],
   "source": [
    "mytable_pm.to_latex('pm25_season.tex')"
   ]
  }
 ],
 "metadata": {
  "kernelspec": {
   "display_name": "Python 3 (ipykernel)",
   "language": "python",
   "name": "python3"
  },
  "language_info": {
   "codemirror_mode": {
    "name": "ipython",
    "version": 3
   },
   "file_extension": ".py",
   "mimetype": "text/x-python",
   "name": "python",
   "nbconvert_exporter": "python",
   "pygments_lexer": "ipython3",
   "version": "3.11.7"
  }
 },
 "nbformat": 4,
 "nbformat_minor": 5
}
