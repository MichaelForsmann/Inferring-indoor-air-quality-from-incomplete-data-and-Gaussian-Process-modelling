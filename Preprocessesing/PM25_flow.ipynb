{
 "cells": [
  {
   "cell_type": "code",
   "execution_count": 1,
   "id": "d28d499f-2c29-46c7-91ad-b3f14b83eb77",
   "metadata": {},
   "outputs": [],
   "source": [
    "import numpy as np \n",
    "import pandas as pd\n",
    "import torch\n",
    "from sklearn.metrics import r2_score\n",
    "from pyro import clear_param_store\n",
    "import pyro as pyro\n",
    "import pyro.contrib.gp as gp\n",
    "from pyro.nn import PyroSample\n",
    "import pyro.distributions as dist\n",
    "from pyro.infer import MCMC, NUTS, Predictive,HMC\n",
    "import arviz as az\n",
    "from scipy.optimize import curve_fit\n"
   ]
  },
  {
   "cell_type": "markdown",
   "id": "1deb6d2a-727a-43c8-ae2b-229916c50722",
   "metadata": {},
   "source": [
    "# Importing data "
   ]
  },
  {
   "cell_type": "code",
   "execution_count": 2,
   "id": "7ddd9d71-5e69-4aea-81fb-84b5e27b56a6",
   "metadata": {},
   "outputs": [],
   "source": [
    "PM25=pd.read_excel(\"../data/Pre_flow_cal.xlsx\")\n",
    "train,test=PM25.loc[PM25.label==0,:],PM25.loc[PM25.label==1,:]"
   ]
  },
  {
   "cell_type": "markdown",
   "id": "9999898a-33f8-4586-9d8f-fd1faf015924",
   "metadata": {},
   "source": [
    "# Converting  PM25 data to tensors and put on GPU"
   ]
  },
  {
   "cell_type": "code",
   "execution_count": 3,
   "id": "357804f8-4906-4dc4-bcc9-0c502831843b",
   "metadata": {},
   "outputs": [],
   "source": [
    "# put data on cuda else cpu\n",
    "device = torch.device('cuda' if torch.cuda.is_available() else 'cpu')\n",
    "#make train and test data ready for flow of pump vs pm2.5 ready \n",
    "X_pm25=torch.tensor(train.flow.values).float().to(device)\n",
    "y_pm25=torch.tensor(train.pm_final.values).float().to(device)\n",
    "X_pm25_test=torch.tensor(test.flow.values).float().to(device)\n",
    "y_pm25_test=test.pm_final.values"
   ]
  },
  {
   "cell_type": "code",
   "execution_count": 4,
   "id": "430797db-6f2d-43fb-81e5-e5904f1b7eaa",
   "metadata": {},
   "outputs": [
    {
     "name": "stderr",
     "output_type": "stream",
     "text": [
      "Sample: 100%|██████████████████████████████████████| 10000/10000 [02:58, 55.93it/s, step size=7.60e-01, acc. prob=0.907]\n"
     ]
    }
   ],
   "source": [
    "clear_param_store();\n",
    "rbf = gp.kernels.RBF(input_dim=1);\n",
    "\n",
    "rbf.variance = PyroSample(dist.HalfNormal(torch.tensor(PM25.pm_final.mean())))\n",
    "\n",
    "rbf.lengthscale = PyroSample(dist.HalfNormal(torch.tensor(2.)))\n",
    "gpr = gp.models.GPRegression(X_pm25,y_pm25, rbf).to(device);\n",
    "gpr.noise = PyroSample(dist.HalfNormal(torch.tensor(20.)))\n",
    "\n",
    "nuts_kernel = NUTS(gpr.model);\n",
    "\n",
    "mcmc = MCMC(nuts_kernel, num_samples=1000,warmup_steps=9000,num_chains=1);\n",
    "\n",
    "mcmc.run();"
   ]
  },
  {
   "cell_type": "code",
   "execution_count": 5,
   "id": "fb50d94e-d1f1-4952-a441-2873915cf194",
   "metadata": {},
   "outputs": [],
   "source": [
    "torch.save(gpr, \"../models/PM2.5_flow\");"
   ]
  },
  {
   "cell_type": "code",
   "execution_count": 6,
   "id": "509f2995-9290-478a-89d7-d12b873ae4ff",
   "metadata": {},
   "outputs": [
    {
     "name": "stderr",
     "output_type": "stream",
     "text": [
      "/data/michaelf/miniconda3/envs/gaussion_process/lib/python3.11/site-packages/arviz/data/io_pyro.py:158: UserWarning: Could not get vectorized trace, log_likelihood group will be omitted. Check your model vectorization or set log_likelihood=False\n",
      "  warnings.warn(\n"
     ]
    },
    {
     "data": {
      "text/plain": [
       "'../Arviz_stats/mcmc_pm25_flow.json'"
      ]
     },
     "execution_count": 6,
     "metadata": {},
     "output_type": "execute_result"
    }
   ],
   "source": [
    "posterior_samples = mcmc.get_samples();\n",
    "posterior_predictive = Predictive(gpr, posterior_samples)(X_pm25);\n",
    "prior = Predictive(gpr, num_samples=500)(X_pm25);\n",
    "\n",
    "pyro_data = az.from_pyro(mcmc,\n",
    "    prior=prior,\n",
    "    posterior_predictive=posterior_predictive\n",
    "\n",
    ");\n",
    "az.to_json(pyro_data, \"../Arviz_stats/mcmc_pm25_flow.json\")"
   ]
  },
  {
   "cell_type": "code",
   "execution_count": 7,
   "id": "1a383f8b-e1f7-4ea7-9246-8f61b991adff",
   "metadata": {},
   "outputs": [
    {
     "name": "stderr",
     "output_type": "stream",
     "text": [
      "BokehDeprecationWarning: 'scatter(radius=...)' was deprecated in Bokeh 3.4.0 and will be removed, use 'circle(radius=...) instead' instead.\n",
      "BokehDeprecationWarning: 'scatter(radius=...)' was deprecated in Bokeh 3.4.0 and will be removed, use 'circle(radius=...) instead' instead.\n",
      "BokehDeprecationWarning: 'scatter(radius=...)' was deprecated in Bokeh 3.4.0 and will be removed, use 'circle(radius=...) instead' instead.\n"
     ]
    }
   ],
   "source": [
    "az.style.use(\"arviz-doc\")\n",
    "\n",
    "ax = az.plot_trace(pyro_data,backend='bokeh')"
   ]
  },
  {
   "cell_type": "code",
   "execution_count": 8,
   "id": "1695e588-68bb-4a52-adfb-ce9e50042875",
   "metadata": {},
   "outputs": [],
   "source": [
    "X_bc=torch.tensor(train.flow.values).float().to(device)\n",
    "y_bc=torch.tensor(train.sv_final.values).float().to(device)\n",
    "X_bc_test=torch.tensor(test.flow.values).float().to(device)\n",
    "y_bc_test=test.sv_final.values"
   ]
  },
  {
   "cell_type": "code",
   "execution_count": 9,
   "id": "6864dfe0-b1dd-4d72-90f5-402fc735db20",
   "metadata": {},
   "outputs": [
    {
     "name": "stderr",
     "output_type": "stream",
     "text": [
      "Sample: 100%|██████████████████████████████████████| 10000/10000 [03:30, 47.42it/s, step size=5.48e-01, acc. prob=0.944]\n"
     ]
    }
   ],
   "source": [
    "clear_param_store()\n",
    "rbf_bc = gp.kernels.RBF(input_dim=1)\n",
    "\n",
    "rbf_bc.variance = PyroSample(dist.HalfNormal(torch.tensor(PM25.sv_final.mean())))\n",
    "\n",
    "rbf_bc.lengthscale = PyroSample(dist.HalfNormal(torch.tensor(2.)))\n",
    "gpr_bc = gp.models.GPRegression(X_bc,y_bc, rbf_bc).to(device)\n",
    "gpr_bc.noise = PyroSample(dist.HalfNormal(torch.tensor(2.)))\n",
    "\n",
    "\n",
    "nuts_kernel_bc = NUTS(gpr_bc.model,)\n",
    "\n",
    "\n",
    "mcmc_bc = MCMC(nuts_kernel_bc,warmup_steps=9000, num_samples=1000,num_chains=1)\n",
    "\n",
    "mcmc_bc.run()"
   ]
  },
  {
   "cell_type": "code",
   "execution_count": 10,
   "id": "6bf481fd-0b95-4bee-976e-39f6432b528b",
   "metadata": {},
   "outputs": [],
   "source": [
    "torch.save(gpr_bc, \"../models/bc_flow\");"
   ]
  },
  {
   "cell_type": "code",
   "execution_count": 12,
   "id": "e40a7aa7-370a-4d96-b19e-3fef4799c8f1",
   "metadata": {},
   "outputs": [
    {
     "data": {
      "text/plain": [
       "'../Arviz_stats/mcmc_bc_flow.json'"
      ]
     },
     "execution_count": 12,
     "metadata": {},
     "output_type": "execute_result"
    }
   ],
   "source": [
    "posterior_samples_bc = mcmc_bc.get_samples(500)\n",
    "posterior_predictive_bc = Predictive(gpr_bc, posterior_samples_bc)(X_bc)\n",
    "prior_bc = Predictive(gpr_bc, num_samples=500)(X_bc)\n",
    "\n",
    "pyro_data_bc = az.from_pyro(mcmc_bc,\n",
    "    prior=prior_bc,\n",
    "    posterior_predictive=posterior_predictive_bc,\n",
    "\n",
    ")\n",
    "az.to_json(pyro_data_bc, \"../Arviz_stats/mcmc_bc_flow.json\")"
   ]
  },
  {
   "cell_type": "code",
   "execution_count": null,
   "id": "eafd9737-bf6f-4980-b1fd-7ff9553844fd",
   "metadata": {},
   "outputs": [],
   "source": []
  }
 ],
 "metadata": {
  "kernelspec": {
   "display_name": "Python 3 (ipykernel)",
   "language": "python",
   "name": "python3"
  },
  "language_info": {
   "codemirror_mode": {
    "name": "ipython",
    "version": 3
   },
   "file_extension": ".py",
   "mimetype": "text/x-python",
   "name": "python",
   "nbconvert_exporter": "python",
   "pygments_lexer": "ipython3",
   "version": "3.11.11"
  }
 },
 "nbformat": 4,
 "nbformat_minor": 5
}
