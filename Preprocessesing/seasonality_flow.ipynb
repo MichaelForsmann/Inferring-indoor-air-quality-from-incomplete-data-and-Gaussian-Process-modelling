{
 "cells": [
  {
   "cell_type": "code",
   "execution_count": 1,
   "id": "d28d499f-2c29-46c7-91ad-b3f14b83eb77",
   "metadata": {},
   "outputs": [],
   "source": [
    "import numpy as np \n",
    "import pandas as pd\n",
    "import torch\n",
    "from sklearn.metrics import r2_score\n",
    "from pyro import clear_param_store\n",
    "import pyro as pyro\n",
    "import pyro.contrib.gp as gp\n",
    "from pyro.nn import PyroSample\n",
    "import pyro.distributions as dist\n",
    "from pyro.infer import MCMC, NUTS, Predictive,HMC\n",
    "import arviz as az\n",
    "from scipy.optimize import curve_fit\n"
   ]
  },
  {
   "cell_type": "markdown",
   "id": "1deb6d2a-727a-43c8-ae2b-229916c50722",
   "metadata": {},
   "source": [
    "# Importing data "
   ]
  },
  {
   "cell_type": "code",
   "execution_count": 2,
   "id": "7ddd9d71-5e69-4aea-81fb-84b5e27b56a6",
   "metadata": {},
   "outputs": [],
   "source": [
    "PM25=pd.read_excel(\"../data/Pre_flow_cal.xlsx\")\n",
    "train,test=PM25.loc[PM25.label==0,:],PM25.loc[PM25.label==1,:]"
   ]
  },
  {
   "cell_type": "code",
   "execution_count": 3,
   "id": "8c52d042-2b94-4604-a3ec-5c4f407374c5",
   "metadata": {},
   "outputs": [
    {
     "name": "stderr",
     "output_type": "stream",
     "text": [
      "/tmp/ipykernel_2831468/2357358645.py:3: SettingWithCopyWarning: \n",
      "A value is trying to be set on a copy of a slice from a DataFrame.\n",
      "Try using .loc[row_indexer,col_indexer] = value instead\n",
      "\n",
      "See the caveats in the documentation: https://pandas.pydata.org/pandas-docs/stable/user_guide/indexing.html#returning-a-view-versus-a-copy\n",
      "  extra_data_end.corrected_week=extra_data_end.corrected_week+52.3\n",
      "/tmp/ipykernel_2831468/2357358645.py:4: SettingWithCopyWarning: \n",
      "A value is trying to be set on a copy of a slice from a DataFrame.\n",
      "Try using .loc[row_indexer,col_indexer] = value instead\n",
      "\n",
      "See the caveats in the documentation: https://pandas.pydata.org/pandas-docs/stable/user_guide/indexing.html#returning-a-view-versus-a-copy\n",
      "  extra_data_start.corrected_week=-(52.3-extra_data_start.corrected_week)\n"
     ]
    }
   ],
   "source": [
    "extra_data_end=train.loc[train.corrected_week<20,:]\n",
    "extra_data_start=train.loc[train.corrected_week>52.3-20,:]\n",
    "extra_data_end.corrected_week=extra_data_end.corrected_week+52.3\n",
    "extra_data_start.corrected_week=-(52.3-extra_data_start.corrected_week)\n",
    "extra_data_start=extra_data_start.set_index(np.zeros(extra_data_start.shape[0]))\n",
    "extra_data_end=extra_data_end.set_index(np.zeros(extra_data_end.shape[0]))\n",
    "train=pd.concat([train,extra_data_end,extra_data_start])"
   ]
  },
  {
   "cell_type": "markdown",
   "id": "9999898a-33f8-4586-9d8f-fd1faf015924",
   "metadata": {},
   "source": [
    "# Converting  PM25 data to tensors and put on GPU"
   ]
  },
  {
   "cell_type": "code",
   "execution_count": 4,
   "id": "357804f8-4906-4dc4-bcc9-0c502831843b",
   "metadata": {},
   "outputs": [],
   "source": [
    "# put data on cuda else cpu\n",
    "device = torch.device('cuda' if torch.cuda.is_available() else 'cpu')\n",
    "#make train and test data ready for flow of pump vs pm2.5 ready \n",
    "X25=torch.tensor(train.corrected_week.values).float().to(device)\n",
    "y25=torch.tensor(train.flow.values).float().to(device)\n",
    "X25_test=torch.tensor(test.flow.values).float().to(device)\n",
    "y25_test=test.pm_final.values"
   ]
  },
  {
   "cell_type": "code",
   "execution_count": 5,
   "id": "430797db-6f2d-43fb-81e5-e5904f1b7eaa",
   "metadata": {},
   "outputs": [
    {
     "name": "stderr",
     "output_type": "stream",
     "text": [
      "Sample: 100%|██████████████████████████████████████| 10000/10000 [03:18, 50.26it/s, step size=7.37e-01, acc. prob=0.896]\n"
     ]
    }
   ],
   "source": [
    "clear_param_store();\n",
    "rbf = gp.kernels.RBF(input_dim=1);\n",
    "\n",
    "rbf.variance = PyroSample(dist.HalfNormal(torch.tensor(PM25.flow.mean())))\n",
    "\n",
    "rbf.lengthscale = PyroSample(dist.HalfNormal(torch.tensor(15.)))\n",
    "gpr = gp.models.GPRegression(X25,y25, rbf).to(device);\n",
    "gpr.noise = PyroSample(dist.HalfNormal(torch.tensor(2.)))\n",
    "\n",
    "nuts_kernel = NUTS(gpr.model);\n",
    "\n",
    "mcmc = MCMC(nuts_kernel, num_samples=1000,warmup_steps=9000,num_chains=1);\n",
    "\n",
    "mcmc.run();"
   ]
  },
  {
   "cell_type": "code",
   "execution_count": 6,
   "id": "fb50d94e-d1f1-4952-a441-2873915cf194",
   "metadata": {},
   "outputs": [],
   "source": [
    "torch.save(gpr, \"../models/flow_season\");"
   ]
  },
  {
   "cell_type": "code",
   "execution_count": 7,
   "id": "509f2995-9290-478a-89d7-d12b873ae4ff",
   "metadata": {},
   "outputs": [
    {
     "name": "stderr",
     "output_type": "stream",
     "text": [
      "/data/michaelf/miniconda3/envs/gaussion_process/lib/python3.11/site-packages/arviz/data/io_pyro.py:158: UserWarning: Could not get vectorized trace, log_likelihood group will be omitted. Check your model vectorization or set log_likelihood=False\n",
      "  warnings.warn(\n"
     ]
    },
    {
     "data": {
      "text/plain": [
       "'../Arviz_stats/mcmc_season_flow.json'"
      ]
     },
     "execution_count": 7,
     "metadata": {},
     "output_type": "execute_result"
    }
   ],
   "source": [
    "posterior_samples = mcmc.get_samples();\n",
    "posterior_predictive = Predictive(gpr, posterior_samples)(X25);\n",
    "prior = Predictive(gpr, num_samples=500)(X25);\n",
    "\n",
    "pyro_data = az.from_pyro(mcmc,\n",
    "    prior=prior,\n",
    "    posterior_predictive=posterior_predictive\n",
    "\n",
    ");\n",
    "az.to_json(pyro_data, \"../Arviz_stats/mcmc_season_flow.json\")"
   ]
  },
  {
   "cell_type": "code",
   "execution_count": 8,
   "id": "1a383f8b-e1f7-4ea7-9246-8f61b991adff",
   "metadata": {},
   "outputs": [
    {
     "name": "stderr",
     "output_type": "stream",
     "text": [
      "BokehDeprecationWarning: 'scatter(radius=...)' was deprecated in Bokeh 3.4.0 and will be removed, use 'circle(radius=...) instead' instead.\n",
      "BokehDeprecationWarning: 'scatter(radius=...)' was deprecated in Bokeh 3.4.0 and will be removed, use 'circle(radius=...) instead' instead.\n",
      "BokehDeprecationWarning: 'scatter(radius=...)' was deprecated in Bokeh 3.4.0 and will be removed, use 'circle(radius=...) instead' instead.\n"
     ]
    }
   ],
   "source": [
    "az.style.use(\"arviz-doc\")\n",
    "\n",
    "ax = az.plot_trace(pyro_data,backend='bokeh')"
   ]
  },
  {
   "cell_type": "code",
   "execution_count": 22,
   "id": "31fac6cd-93db-43f8-84a0-3abb570ba304",
   "metadata": {},
   "outputs": [
    {
     "data": {
      "text/plain": [
       "0.0"
      ]
     },
     "execution_count": 22,
     "metadata": {},
     "output_type": "execute_result"
    }
   ],
   "source": [
    "0."
   ]
  },
  {
   "cell_type": "code",
   "execution_count": null,
   "id": "98f8126b-15e1-4f17-9e27-2653c1db8ac9",
   "metadata": {},
   "outputs": [],
   "source": []
  }
 ],
 "metadata": {
  "kernelspec": {
   "display_name": "Python 3 (ipykernel)",
   "language": "python",
   "name": "python3"
  },
  "language_info": {
   "codemirror_mode": {
    "name": "ipython",
    "version": 3
   },
   "file_extension": ".py",
   "mimetype": "text/x-python",
   "name": "python",
   "nbconvert_exporter": "python",
   "pygments_lexer": "ipython3",
   "version": "3.11.11"
  }
 },
 "nbformat": 4,
 "nbformat_minor": 5
}
