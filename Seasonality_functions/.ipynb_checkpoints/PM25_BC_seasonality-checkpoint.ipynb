{
 "cells": [
  {
   "cell_type": "code",
   "execution_count": 2,
   "id": "df699b35-56ba-4912-b1e3-0ca2e46de47d",
   "metadata": {},
   "outputs": [],
   "source": [
    "import numpy as np \n",
    "import matplotlib.pyplot as plt\n",
    "import pandas as pd\n",
    "from pyro import clear_param_store\n",
    "import pyro.contrib.gp as gp\n",
    "from pyro.nn import PyroSample\n",
    "import pyro.distributions as dist\n",
    "from pyro.infer import MCMC, NUTS, Predictive,HMC\n",
    "import torch\n",
    "import arviz as az\n",
    "from scipy.optimize import curve_fit"
   ]
  },
  {
   "cell_type": "code",
   "execution_count": 3,
   "id": "36eb7287-8877-4e13-a8e0-2009b6f5b9e3",
   "metadata": {},
   "outputs": [],
   "source": [
    "train=pd.read_excel(r\"../data/chem_train_pm.xlsx\")"
   ]
  },
  {
   "cell_type": "code",
   "execution_count": 4,
   "id": "878a2dcb-3b32-4065-b3dc-dc07d64758fc",
   "metadata": {},
   "outputs": [],
   "source": [
    "device = torch.device('cuda' if torch.cuda.is_available() else 'cpu')"
   ]
  },
  {
   "cell_type": "code",
   "execution_count": 5,
   "id": "68b78682-809f-44c7-947d-40eb89ecb0f2",
   "metadata": {},
   "outputs": [],
   "source": [
    "x=torch.tensor(train.corrected_week).float().to(device)\n",
    "y_pm=torch.tensor(train.pm25_Gaussion).float().to(device)\n",
    "y_bc=torch.tensor(train.BC_Gaussion).float().to(device)"
   ]
  },
  {
   "cell_type": "code",
   "execution_count": null,
   "id": "1db75d42-ce42-4c0e-8daf-33bfe442b3a8",
   "metadata": {},
   "outputs": [],
   "source": []
  },
  {
   "cell_type": "markdown",
   "id": "1026d293-c278-413b-9c36-1ce041141ba5",
   "metadata": {},
   "source": [
    "## PM2.5"
   ]
  },
  {
   "cell_type": "code",
   "execution_count": null,
   "id": "30e49a8d-5881-4517-b33b-e79be8260aa4",
   "metadata": {},
   "outputs": [
    {
     "name": "stderr",
     "output_type": "stream",
     "text": [
      "Warmup:  66%|██████████████████████████▎             | 5917/9000 [02:00, 53.75it/s, step size=9.00e-01, acc. prob=0.795]"
     ]
    }
   ],
   "source": [
    "clear_param_store()\n",
    "rbf = gp.kernels.RBF(input_dim=1)\n",
    "\n",
    "\n",
    "rbf.variance = PyroSample(dist.HalfNormal(torch.tensor(train.pm25_Gaussion.mean())))\n",
    "\n",
    "rbf.lengthscale = PyroSample(dist.HalfNormal(torch.tensor(20.)))\n",
    "gpr = gp.models.GPRegression(x,y_pm, rbf).to(device)\n",
    "gpr.noise = PyroSample(dist.HalfNormal(torch.tensor(40.)))\n",
    "\n",
    "\n",
    "nuts_kernel = NUTS(gpr.model)\n",
    "\n",
    "\n",
    "mcmc = MCMC(nuts_kernel,warmup_steps=8000, num_samples=1000,num_chains=1)\n",
    "\n",
    "mcmc.run()"
   ]
  },
  {
   "cell_type": "code",
   "execution_count": null,
   "id": "a5d9038d-a6a4-4c2c-ab74-43fddca10cf0",
   "metadata": {},
   "outputs": [],
   "source": [
    "torch.save(gpr, \"../models/pm25_seasonality_synthertic\");"
   ]
  },
  {
   "cell_type": "code",
   "execution_count": null,
   "id": "c9130ecb-2e2a-4baf-a76f-c8604910aa52",
   "metadata": {},
   "outputs": [],
   "source": [
    "posterior_samples = mcmc.get_samples(500)\n",
    "posterior_predictive= Predictive(gpr, posterior_samples)(x)\n",
    "prior = Predictive(gpr, num_samples=500)(x)\n",
    "\n",
    "pyro_data = az.from_pyro(mcmc,\n",
    "    prior=prior,\n",
    "    posterior_predictive=posterior_predictive,\n",
    "\n",
    ")\n",
    "az.to_json(pyro_data, \"../Arviz_stats/mcmc_pm25_synthertic.json\")"
   ]
  },
  {
   "cell_type": "code",
   "execution_count": null,
   "id": "46a308b8-9143-47f6-b8ce-1776441b3c88",
   "metadata": {},
   "outputs": [],
   "source": [
    "clear_param_store()\n",
    "rbf_bc = gp.kernels.RBF(input_dim=1)\n",
    "\n",
    "\n",
    "rbf_bc.variance = PyroSample(dist.HalfNormal(torch.tensor(train.BC_Gaussion.mean())))\n",
    "\n",
    "rbf_bc.lengthscale = PyroSample(dist.HalfNormal(torch.tensor(20.)))\n",
    "gpr_bc = gp.models.GPRegression(x,y_bc, rbf_bc).to(device)\n",
    "gpr_bc.noise = PyroSample(dist.HalfNormal(torch.tensor(3.)))\n",
    "\n",
    "\n",
    "nuts_kernel_bc = NUTS(gpr_bc.model)\n",
    "\n",
    "\n",
    "mcmc_bc = MCMC(nuts_kernel_bc,warmup_steps=9000, num_samples=1000,num_chains=1)\n",
    "\n",
    "mcmc_bc.run()"
   ]
  },
  {
   "cell_type": "code",
   "execution_count": null,
   "id": "440bab6c-dd44-4391-a88c-107a6c304100",
   "metadata": {},
   "outputs": [],
   "source": [
    "torch.save(gpr_bc, \"../models/seasonality_BC_synthertic\");"
   ]
  },
  {
   "cell_type": "code",
   "execution_count": null,
   "id": "b9cd439d-05a5-44af-b69b-d83a286e6786",
   "metadata": {},
   "outputs": [],
   "source": [
    "posterior_samples_bc = mcmc_bc.get_samples(500)\n",
    "posterior_predictive_bc = Predictive(gpr_bc, posterior_samples_bc)(x)\n",
    "prior_bc = Predictive(gpr_bc, num_samples=500)(x)\n",
    "\n",
    "pyro_data_bc = az.from_pyro(mcmc_bc,\n",
    "    prior=prior_bc,\n",
    "    posterior_predictive=posterior_predictive_bc,\n",
    "\n",
    ")\n",
    "az.to_json(pyro_data_bc, \"../Arviz_stats/mcmc_BC_synthertic.json\")"
   ]
  },
  {
   "cell_type": "code",
   "execution_count": null,
   "id": "c1555aeb-2739-4cca-96a3-f60e29bbb73f",
   "metadata": {},
   "outputs": [],
   "source": [
    "az.summary(pyro_data_bc),az.summary(pyro_data)"
   ]
  },
  {
   "cell_type": "code",
   "execution_count": null,
   "id": "6fcd0cb2-467d-48b4-b260-732f5936bf91",
   "metadata": {},
   "outputs": [],
   "source": []
  }
 ],
 "metadata": {
  "kernelspec": {
   "display_name": "Python 3 (ipykernel)",
   "language": "python",
   "name": "python3"
  },
  "language_info": {
   "codemirror_mode": {
    "name": "ipython",
    "version": 3
   },
   "file_extension": ".py",
   "mimetype": "text/x-python",
   "name": "python",
   "nbconvert_exporter": "python",
   "pygments_lexer": "ipython3",
   "version": "3.11.11"
  }
 },
 "nbformat": 4,
 "nbformat_minor": 5
}
