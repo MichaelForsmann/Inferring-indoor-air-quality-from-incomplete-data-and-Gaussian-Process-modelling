{
 "cells": [
  {
   "cell_type": "code",
   "execution_count": 1,
   "id": "df699b35-56ba-4912-b1e3-0ca2e46de47d",
   "metadata": {},
   "outputs": [],
   "source": [
    "import numpy as np \n",
    "import matplotlib.pyplot as plt\n",
    "import pandas as pd\n",
    "from pyro import clear_param_store\n",
    "import pyro.contrib.gp as gp\n",
    "from pyro.nn import PyroSample\n",
    "import pyro.distributions as dist\n",
    "from pyro.infer import MCMC, NUTS, Predictive,HMC\n",
    "import torch\n",
    "import kennard_stone as ks\n",
    "import arviz as az\n",
    "from sklearn.metrics import r2_score"
   ]
  },
  {
   "cell_type": "code",
   "execution_count": 2,
   "id": "90230fe6-0f6a-4898-be1f-5768cfcf3cfe",
   "metadata": {},
   "outputs": [],
   "source": [
    "train=pd.read_excel(r\"../data/chem_train.xlsx\")"
   ]
  },
  {
   "cell_type": "code",
   "execution_count": 4,
   "id": "a5b22d5e-8042-4bc0-979d-fab449b9101f",
   "metadata": {},
   "outputs": [],
   "source": [
    "device = torch.device('cuda' if torch.cuda.is_available() else 'cpu')"
   ]
  },
  {
   "cell_type": "code",
   "execution_count": 5,
   "id": "5d018d27-5ffc-4082-b583-ffb612614abf",
   "metadata": {},
   "outputs": [],
   "source": [
    "train_no2=train.dropna(subset=\"no2\")\n",
    "X_no2=torch.tensor(train_no2.corrected_week.values).float().to(device)\n",
    "y_no2=torch.tensor(train_no2.no2.values).float().to(device)"
   ]
  },
  {
   "cell_type": "code",
   "execution_count": 6,
   "id": "a19e5e74-a0fd-4f30-b97e-a31fe6f150d6",
   "metadata": {},
   "outputs": [],
   "source": [
    "clear_param_store()\n",
    "rbf = gp.kernels.RBF(input_dim=1)\n",
    "\n",
    "\n",
    "rbf.variance = PyroSample(dist.HalfNormal(torch.tensor(train.no2.mean())))\n",
    "\n",
    "rbf.lengthscale = PyroSample(dist.HalfNormal(torch.tensor(10.)))\n",
    "\n",
    "gpr = gp.models.GPRegression(X_no2,y_no2, rbf).to(device)\n",
    "gpr.noise = PyroSample(dist.HalfNormal(torch.tensor(20.)))"
   ]
  },
  {
   "cell_type": "code",
   "execution_count": 7,
   "id": "30e49a8d-5881-4517-b33b-e79be8260aa4",
   "metadata": {},
   "outputs": [
    {
     "name": "stderr",
     "output_type": "stream",
     "text": [
      "Sample: 100%|██████████████████████████████████████| 10000/10000 [03:52, 43.03it/s, step size=6.39e-01, acc. prob=0.926]\n"
     ]
    }
   ],
   "source": [
    "nuts_kernel = NUTS(gpr.model)\n",
    "mcmc = MCMC(nuts_kernel,warmup_steps=8000, num_samples=2000,num_chains=1)\n",
    "mcmc.run()\n",
    "torch.save(gpr, \"../models/no2_seasonality_synthertic\");"
   ]
  },
  {
   "cell_type": "code",
   "execution_count": 8,
   "id": "c9130ecb-2e2a-4baf-a76f-c8604910aa52",
   "metadata": {
    "scrolled": true
   },
   "outputs": [
    {
     "name": "stderr",
     "output_type": "stream",
     "text": [
      "/data/michaelf/miniconda3/envs/gaussion_process/lib/python3.11/site-packages/arviz/data/io_pyro.py:158: UserWarning: Could not get vectorized trace, log_likelihood group will be omitted. Check your model vectorization or set log_likelihood=False\n",
      "  warnings.warn(\n"
     ]
    },
    {
     "data": {
      "text/plain": [
       "'../Arviz_stats/mcmc_no2_seasonality_synthertic.json'"
      ]
     },
     "execution_count": 8,
     "metadata": {},
     "output_type": "execute_result"
    }
   ],
   "source": [
    "posterior_samples = mcmc.get_samples(500)\n",
    "posterior_predictive= Predictive(gpr, posterior_samples)(X_no2)\n",
    "prior = Predictive(gpr, num_samples=500)(X_no2)\n",
    "\n",
    "pyro_data = az.from_pyro(mcmc,\n",
    "    prior=prior,\n",
    "    posterior_predictive=posterior_predictive,\n",
    "\n",
    ")\n",
    "az.to_json(pyro_data, \"../Arviz_stats/mcmc_no2_seasonality_synthertic.json\")"
   ]
  },
  {
   "cell_type": "code",
   "execution_count": 9,
   "id": "6a244435-04c3-45c1-bc63-5d78e055100d",
   "metadata": {},
   "outputs": [],
   "source": [
    "train_nox=train.dropna(subset=\"nox\")\n",
    "X_nox=torch.tensor(train_nox.corrected_week.values).float().to(device)\n",
    "y_nox=torch.tensor(train_nox.nox.values).float().to(device)"
   ]
  },
  {
   "cell_type": "code",
   "execution_count": 10,
   "id": "9af2ddec-fafa-431d-8a12-316b6c316f87",
   "metadata": {},
   "outputs": [],
   "source": [
    "clear_param_store()\n",
    "rbf_bc = gp.kernels.RBF(input_dim=1)\n",
    "\n",
    "\n",
    "rbf_bc.variance = PyroSample(dist.HalfNormal(torch.tensor(train.nox.mean())))\n",
    "\n",
    "rbf_bc.lengthscale = PyroSample(dist.HalfNormal(torch.tensor(10.)))\n",
    "\n",
    "gpr_bc = gp.models.GPRegression(X_nox,y_nox, rbf_bc).to(device)\n",
    "gpr_bc.noise = PyroSample(dist.HalfNormal(torch.tensor(40.)))"
   ]
  },
  {
   "cell_type": "code",
   "execution_count": 11,
   "id": "46a308b8-9143-47f6-b8ce-1776441b3c88",
   "metadata": {},
   "outputs": [
    {
     "name": "stderr",
     "output_type": "stream",
     "text": [
      "Sample: 100%|██████████████████████████████████████| 10000/10000 [03:08, 53.12it/s, step size=9.16e-01, acc. prob=0.859]\n"
     ]
    }
   ],
   "source": [
    "nuts_kernel_bc = NUTS(gpr_bc.model)\n",
    "\n",
    "\n",
    "mcmc_bc = MCMC(nuts_kernel_bc,warmup_steps=8000, num_samples=2000,num_chains=1)\n",
    "\n",
    "mcmc_bc.run()\n",
    "torch.save(gpr_bc, \"../models/nox_seasonality_synthertic\");"
   ]
  },
  {
   "cell_type": "code",
   "execution_count": 12,
   "id": "b9cd439d-05a5-44af-b69b-d83a286e6786",
   "metadata": {},
   "outputs": [
    {
     "name": "stderr",
     "output_type": "stream",
     "text": [
      "/data/michaelf/miniconda3/envs/gaussion_process/lib/python3.11/site-packages/arviz/data/io_pyro.py:158: UserWarning: Could not get vectorized trace, log_likelihood group will be omitted. Check your model vectorization or set log_likelihood=False\n",
      "  warnings.warn(\n"
     ]
    },
    {
     "data": {
      "text/plain": [
       "'../Arviz_stats/mcmc_nox_seasonality_synthertic.json'"
      ]
     },
     "execution_count": 12,
     "metadata": {},
     "output_type": "execute_result"
    }
   ],
   "source": [
    "posterior_samples_bc = mcmc_bc.get_samples(500)\n",
    "posterior_predictive_bc = Predictive(gpr_bc, posterior_samples_bc)(X_nox)\n",
    "prior_bc = Predictive(gpr_bc, num_samples=500)(X_nox)\n",
    "\n",
    "pyro_data_bc = az.from_pyro(mcmc_bc,\n",
    "    prior=prior_bc,\n",
    "    posterior_predictive=posterior_predictive_bc,\n",
    "\n",
    ")\n",
    "az.to_json(pyro_data_bc, \"../Arviz_stats/mcmc_nox_seasonality_synthertic.json\")"
   ]
  },
  {
   "cell_type": "code",
   "execution_count": null,
   "id": "2291f328-22c8-45f4-b4cd-f3872e1694f9",
   "metadata": {},
   "outputs": [],
   "source": []
  },
  {
   "cell_type": "code",
   "execution_count": null,
   "id": "779cccc4-b4b9-460d-8d5d-442b8de23522",
   "metadata": {},
   "outputs": [],
   "source": []
  },
  {
   "cell_type": "code",
   "execution_count": null,
   "id": "50941bfb-5e2b-41ea-a7b9-c03cd040137a",
   "metadata": {},
   "outputs": [],
   "source": []
  }
 ],
 "metadata": {
  "kernelspec": {
   "display_name": "Python 3 (ipykernel)",
   "language": "python",
   "name": "python3"
  },
  "language_info": {
   "codemirror_mode": {
    "name": "ipython",
    "version": 3
   },
   "file_extension": ".py",
   "mimetype": "text/x-python",
   "name": "python",
   "nbconvert_exporter": "python",
   "pygments_lexer": "ipython3",
   "version": "3.11.11"
  }
 },
 "nbformat": 4,
 "nbformat_minor": 5
}
