{
 "cells": [
  {
   "cell_type": "code",
   "execution_count": 10,
   "id": "df699b35-56ba-4912-b1e3-0ca2e46de47d",
   "metadata": {},
   "outputs": [],
   "source": [
    "import numpy as np \n",
    "import matplotlib.pyplot as plt\n",
    "import pandas as pd\n",
    "from pyro import clear_param_store\n",
    "import pyro.contrib.gp as gp\n",
    "from pyro.nn import PyroSample\n",
    "import pyro.distributions as dist\n",
    "from pyro.infer import MCMC, NUTS, Predictive,HMC\n",
    "import torch\n",
    "import arviz as az\n",
    "from function_seasonality import *"
   ]
  },
  {
   "cell_type": "code",
   "execution_count": 11,
   "id": "90230fe6-0f6a-4898-be1f-5768cfcf3cfe",
   "metadata": {},
   "outputs": [],
   "source": [
    "train=pd.read_excel(r\"../data/chem_train.xlsx\")\n",
    "test=pd.read_excel(r\"../data/chem_test.xlsx\")\n"
   ]
  },
  {
   "cell_type": "code",
   "execution_count": 12,
   "id": "a5b22d5e-8042-4bc0-979d-fab449b9101f",
   "metadata": {},
   "outputs": [],
   "source": [
    "train=preprocessing(train) \n",
    "test=preprocessing(test)"
   ]
  },
  {
   "cell_type": "code",
   "execution_count": 13,
   "id": "84e9f2ed-c395-472a-ac18-d4d0b0c330f9",
   "metadata": {},
   "outputs": [],
   "source": [
    "X,y=model(train,[\"cos_theta\",\"sin_theta\"],\"no2\") "
   ]
  },
  {
   "cell_type": "code",
   "execution_count": 14,
   "id": "5d018d27-5ffc-4082-b583-ffb612614abf",
   "metadata": {},
   "outputs": [
    {
     "ename": "NameError",
     "evalue": "name 'device' is not defined",
     "output_type": "error",
     "traceback": [
      "\u001b[0;31m---------------------------------------------------------------------------\u001b[0m",
      "\u001b[0;31mNameError\u001b[0m                                 Traceback (most recent call last)",
      "Cell \u001b[0;32mIn[14], line 1\u001b[0m\n\u001b[0;32m----> 1\u001b[0m nuts_kernel,gpr\u001b[38;5;241m=\u001b[39m\u001b[43mdefine_model\u001b[49m\u001b[43m(\u001b[49m\u001b[43mX\u001b[49m\u001b[43m,\u001b[49m\u001b[43my\u001b[49m\u001b[43m)\u001b[49m \n\u001b[1;32m      2\u001b[0m nuts_kernel,gpr\u001b[38;5;241m=\u001b[39mtrain_model(X,nuts_kernel,gpr) \n",
      "File \u001b[0;32m~/Seasonality_pyro_rewrite/Seasonality_functions/function_seasonality.py:28\u001b[0m, in \u001b[0;36mdefine_model\u001b[0;34m(X, y)\u001b[0m\n\u001b[1;32m     26\u001b[0m rbf\u001b[38;5;241m.\u001b[39mvariance \u001b[38;5;241m=\u001b[39m PyroSample(dist\u001b[38;5;241m.\u001b[39mHalfNormal(y\u001b[38;5;241m.\u001b[39mmean()))\n\u001b[1;32m     27\u001b[0m rbf\u001b[38;5;241m.\u001b[39mlengthscale \u001b[38;5;241m=\u001b[39m PyroSample(dist\u001b[38;5;241m.\u001b[39mHalfNormal(torch\u001b[38;5;241m.\u001b[39mtensor(\u001b[38;5;241m1.\u001b[39m)))\n\u001b[0;32m---> 28\u001b[0m gpr \u001b[38;5;241m=\u001b[39m gp\u001b[38;5;241m.\u001b[39mmodels\u001b[38;5;241m.\u001b[39mGPRegression(X,y, rbf)\u001b[38;5;241m.\u001b[39mto(\u001b[43mdevice\u001b[49m)\n\u001b[1;32m     29\u001b[0m gpr\u001b[38;5;241m.\u001b[39mnoise \u001b[38;5;241m=\u001b[39m PyroSample(dist\u001b[38;5;241m.\u001b[39mHalfNormal(torch\u001b[38;5;241m.\u001b[39mtensor(\u001b[38;5;241m20.\u001b[39m)))\n\u001b[1;32m     30\u001b[0m nuts_kernel \u001b[38;5;241m=\u001b[39m NUTS(gpr\u001b[38;5;241m.\u001b[39mmodel)\n",
      "\u001b[0;31mNameError\u001b[0m: name 'device' is not defined"
     ]
    }
   ],
   "source": [
    "nuts_kernel,gpr=define_model(X,y) \n",
    "nuts_kernel,gpr=train_model(X,nuts_kernel,gpr) "
   ]
  },
  {
   "cell_type": "code",
   "execution_count": 20,
   "id": "6f48397f-a87e-445e-a5e1-c3d343705a66",
   "metadata": {},
   "outputs": [],
   "source": [
    "X,y=model(train,[\"cos_theta\",\"sin_theta\"],\"no2\") "
   ]
  },
  {
   "cell_type": "code",
   "execution_count": 70,
   "id": "c9130ecb-2e2a-4baf-a76f-c8604910aa52",
   "metadata": {
    "scrolled": true
   },
   "outputs": [
    {
     "name": "stderr",
     "output_type": "stream",
     "text": [
      "/data/michaelf/miniconda3/lib/python3.10/site-packages/arviz/data/io_pyro.py:158: UserWarning: Could not get vectorized trace, log_likelihood group will be omitted. Check your model vectorization or set log_likelihood=False\n",
      "  warnings.warn(\n"
     ]
    },
    {
     "data": {
      "text/plain": [
       "'../Arviz_stats/mcmc_no2_seasonality.json'"
      ]
     },
     "execution_count": 70,
     "metadata": {},
     "output_type": "execute_result"
    }
   ],
   "source": [
    "posterior_samples = mcmc.get_samples(500)\n",
    "posterior_predictive= Predictive(gpr, posterior_samples)(X_no2)\n",
    "prior = Predictive(gpr, num_samples=500)(X_no2)\n",
    "\n",
    "pyro_data = az.from_pyro(mcmc,\n",
    "    prior=prior,\n",
    "    posterior_predictive=posterior_predictive,\n",
    "\n",
    ")\n",
    "az.to_json(pyro_data, \"../Arviz_stats/mcmc_no2_seasonality.json\")"
   ]
  },
  {
   "cell_type": "code",
   "execution_count": 71,
   "id": "6a244435-04c3-45c1-bc63-5d78e055100d",
   "metadata": {},
   "outputs": [],
   "source": [
    "train_nox=train.dropna(subset=\"nox\")\n",
    "X_nox = torch.from_numpy(train_nox.loc[:,[\"cos_theta\",\"sin_theta\"]].dropna().values.astype(\"float64\")).to(device)\n",
    "X_nox_test=torch.tensor(test.corrected_week.values).float().to(device)\n",
    "y_nox_test=torch.tensor(test.nox.values).float().to(device)"
   ]
  },
  {
   "cell_type": "code",
   "execution_count": 72,
   "id": "9af2ddec-fafa-431d-8a12-316b6c316f87",
   "metadata": {},
   "outputs": [],
   "source": [
    "clear_param_store()\n",
    "rbf_bc = gp.kernels.RBF(input_dim=2)\n",
    "\n",
    "\n",
    "rbf_bc.variance = PyroSample(dist.HalfNormal(torch.tensor(train.nox.mean())))\n",
    "\n",
    "rbf_bc.lengthscale = PyroSample(dist.HalfNormal(torch.tensor(1.)))\n",
    "\n",
    "gpr_bc = gp.models.GPRegression(X_nox,y_nox, rbf_bc).to(device)\n",
    "gpr_bc.noise = PyroSample(dist.HalfNormal(torch.tensor(40.)))"
   ]
  },
  {
   "cell_type": "code",
   "execution_count": 73,
   "id": "46a308b8-9143-47f6-b8ce-1776441b3c88",
   "metadata": {},
   "outputs": [
    {
     "name": "stderr",
     "output_type": "stream",
     "text": [
      "Sample: 100%|██████████████████████████████████████| 15000/15000 [10:12, 24.51it/s, step size=7.33e-01, acc. prob=0.928]\n"
     ]
    }
   ],
   "source": [
    "nuts_kernel_bc = NUTS(gpr_bc.model)\n",
    "\n",
    "\n",
    "mcmc_bc = MCMC(nuts_kernel_bc,warmup_steps=12000, num_samples=3000,num_chains=1)\n",
    "\n",
    "mcmc_bc.run()\n",
    "torch.save(gpr_bc, \"../models/nox_seasonality\");"
   ]
  },
  {
   "cell_type": "code",
   "execution_count": 74,
   "id": "b9cd439d-05a5-44af-b69b-d83a286e6786",
   "metadata": {},
   "outputs": [
    {
     "name": "stderr",
     "output_type": "stream",
     "text": [
      "/data/michaelf/miniconda3/lib/python3.10/site-packages/arviz/data/io_pyro.py:158: UserWarning: Could not get vectorized trace, log_likelihood group will be omitted. Check your model vectorization or set log_likelihood=False\n",
      "  warnings.warn(\n"
     ]
    },
    {
     "data": {
      "text/plain": [
       "'../Arviz_stats/mcmc_nox_seasonality.json'"
      ]
     },
     "execution_count": 74,
     "metadata": {},
     "output_type": "execute_result"
    }
   ],
   "source": [
    "posterior_samples_bc = mcmc_bc.get_samples(500)\n",
    "posterior_predictive_bc = Predictive(gpr_bc, posterior_samples_bc)(X_nox)\n",
    "prior_bc = Predictive(gpr_bc, num_samples=500)(X_nox)\n",
    "\n",
    "pyro_data_bc = az.from_pyro(mcmc_bc,\n",
    "    prior=prior_bc,\n",
    "    posterior_predictive=posterior_predictive_bc,\n",
    "\n",
    ")\n",
    "az.to_json(pyro_data_bc, \"../Arviz_stats/mcmc_nox_seasonality.json\")"
   ]
  },
  {
   "cell_type": "code",
   "execution_count": 75,
   "id": "2291f328-22c8-45f4-b4cd-f3872e1694f9",
   "metadata": {},
   "outputs": [
    {
     "data": {
      "text/plain": [
       "<ErrorbarContainer object of 3 artists>"
      ]
     },
     "execution_count": 75,
     "metadata": {},
     "output_type": "execute_result"
    },
    {
     "data": {
      "image/png": "[encoded data removed]",
      "text/plain": [
       "<Figure size 640x480 with 1 Axes>"
      ]
     },
     "metadata": {},
     "output_type": "display_data"
    }
   ],
   "source": [
    "plt.errorbar(train_nox.corrected_week,gpr_bc(X_nox)[0].cpu().detach().numpy(),yerr=gpr_bc(X_nox)[1].cpu().detach().numpy(),fmt='.')"
   ]
  },
  {
   "cell_type": "code",
   "execution_count": 76,
   "id": "c2053979-5170-4799-a7b0-d130c51d029e",
   "metadata": {},
   "outputs": [
    {
     "data": {
      "text/plain": [
       "tensor([0.1583, 0.1579, 0.1653, 0.1645, 0.1668, 0.1533, 0.1660, 0.1614, 0.1634,\n",
       "        0.1527, 0.1622, 0.1618, 0.1569, 0.1574, 0.1551, 0.1573, 0.1587, 0.1569,\n",
       "        0.1528, 0.1660, 0.1579, 0.1693, 0.1618, 0.1577, 0.1625, 0.1527, 0.1612,\n",
       "        0.1554, 0.1551, 0.1583, 0.1683, 0.1700, 0.1600, 0.1531, 0.1583, 0.1697,\n",
       "        0.1700, 0.1523, 0.1696, 0.1526, 0.1700, 0.1577, 0.1657, 0.1567, 0.1579,\n",
       "        0.1568, 0.1647, 0.1561, 0.1629, 0.1524, 0.1572, 0.1569, 0.1536, 0.1574,\n",
       "        0.1593, 0.1570, 0.1568, 0.1668, 0.1533, 0.1582, 0.1538, 0.1663, 0.1579,\n",
       "        0.1582, 0.1541, 0.1690, 0.1529, 0.1565, 0.1649, 0.1544, 0.1536, 0.1701,\n",
       "        0.1543, 0.1524, 0.1576, 0.1528, 0.1696, 0.1524, 0.1701, 0.1582, 0.1567,\n",
       "        0.1627, 0.1570, 0.1700, 0.1561, 0.1567, 0.1578, 0.1592, 0.1574, 0.1650,\n",
       "        0.1639, 0.1569, 0.1641, 0.1636, 0.1692, 0.1579, 0.1552, 0.1577, 0.1692,\n",
       "        0.1582, 0.1683, 0.1641, 0.1532, 0.1576, 0.1556, 0.1577, 0.1616, 0.1612,\n",
       "        0.1567, 0.1579, 0.1696, 0.1559, 0.1674, 0.1583, 0.1687, 0.1680, 0.1577,\n",
       "        0.1679, 0.1583, 0.1570, 0.1570, 0.1590, 0.1565, 0.1568, 0.1571, 0.1649,\n",
       "        0.1567, 0.1608, 0.1532, 0.1523, 0.1602, 0.1620, 0.1567, 0.1614, 0.1552,\n",
       "        0.1578, 0.1571, 0.1686, 0.1595, 0.1548, 0.1610, 0.1532, 0.1568, 0.1571,\n",
       "        0.1629, 0.1610, 0.1540, 0.1592, 0.1573, 0.1639, 0.1575, 0.1524, 0.1583,\n",
       "        0.1558, 0.1701, 0.1525, 0.1604, 0.1528, 0.1701, 0.1578, 0.1593, 0.1568,\n",
       "        0.1579, 0.1585, 0.1582, 0.1583, 0.1700, 0.1573, 0.1590, 0.1579, 0.1624,\n",
       "        0.1540, 0.1649, 0.1552, 0.1545, 0.1693, 0.1530, 0.1629, 0.1526, 0.1526,\n",
       "        0.1639, 0.1569, 0.1649, 0.1656, 0.1626, 0.1574, 0.1569, 0.1595, 0.1580,\n",
       "        0.1559, 0.1696, 0.1699, 0.1582, 0.1581, 0.1531, 0.1556, 0.1638, 0.1567,\n",
       "        0.1609, 0.1569, 0.1580, 0.1699, 0.1525, 0.1524, 0.1614, 0.1578, 0.1548,\n",
       "        0.1570, 0.1668, 0.1649, 0.1568, 0.1581, 0.1523, 0.1556, 0.1645, 0.1544,\n",
       "        0.1699, 0.1579, 0.1582, 0.1601, 0.1580, 0.1528, 0.1601, 0.1568, 0.1683,\n",
       "        0.1541, 0.1700, 0.1699, 0.1567, 0.1701, 0.1678, 0.1575, 0.1598, 0.1583,\n",
       "        0.1682, 0.1581, 0.1624, 0.1658, 0.1544, 0.1583, 0.1569, 0.1525, 0.1604,\n",
       "        0.1665, 0.1579, 0.1681, 0.1523, 0.1643, 0.1535, 0.1694, 0.1524, 0.1668,\n",
       "        0.1674, 0.1578, 0.1701, 0.1537, 0.1697, 0.1578, 0.1631, 0.1524, 0.1644,\n",
       "        0.1590, 0.1580, 0.1542, 0.1636, 0.1551, 0.1582, 0.1700, 0.1607, 0.1573,\n",
       "        0.1580, 0.1690, 0.1583, 0.1699, 0.1567, 0.1589, 0.1567, 0.1682, 0.1577,\n",
       "        0.1523, 0.1610, 0.1683, 0.1573, 0.1535, 0.1588, 0.1622, 0.1578, 0.1634,\n",
       "        0.1543, 0.1526, 0.1643, 0.1700, 0.1676, 0.1701, 0.1679, 0.1651, 0.1544,\n",
       "        0.1616, 0.1636, 0.1672, 0.1575, 0.1573, 0.1579, 0.1699, 0.1597, 0.1701,\n",
       "        0.1660, 0.1580, 0.1590, 0.1696, 0.1540, 0.1530, 0.1629, 0.1524, 0.1643,\n",
       "        0.1599, 0.1569, 0.1676, 0.1570, 0.1599, 0.1694, 0.1524, 0.1549, 0.1569,\n",
       "        0.1568, 0.1523, 0.1625, 0.1523, 0.1568, 0.1571, 0.1551, 0.1587, 0.1625,\n",
       "        0.1572, 0.1701, 0.1571, 0.1663, 0.1583, 0.1652, 0.1568, 0.1564, 0.1676,\n",
       "        0.1612, 0.1523, 0.1694, 0.1559, 0.1568, 0.1564, 0.1583, 0.1698, 0.1576,\n",
       "        0.1629, 0.1537, 0.1535, 0.1699, 0.1526, 0.1576, 0.1700, 0.1583, 0.1609,\n",
       "        0.1660, 0.1546, 0.1533, 0.1698, 0.1544, 0.1523, 0.1682, 0.1525, 0.1614,\n",
       "        0.1569, 0.1581, 0.1538, 0.1631, 0.1656, 0.1645, 0.1669, 0.1577, 0.1571,\n",
       "        0.1675, 0.1574, 0.1532, 0.1597, 0.1546, 0.1554, 0.1584, 0.1554, 0.1693,\n",
       "        0.1567, 0.1699, 0.1690, 0.1570, 0.1526, 0.1643, 0.1633, 0.1575, 0.1560,\n",
       "        0.1531, 0.1656, 0.1582, 0.1699, 0.1583, 0.1565, 0.1576, 0.1634, 0.1544,\n",
       "        0.1567, 0.1694, 0.1578, 0.1664, 0.1682, 0.1570, 0.1542, 0.1574, 0.1540,\n",
       "        0.1701, 0.1650, 0.1573, 0.1643, 0.1579, 0.1701, 0.1701, 0.1700, 0.1524,\n",
       "        0.1560, 0.1523, 0.1647, 0.1532, 0.1573, 0.1595, 0.1543, 0.1537, 0.1640,\n",
       "        0.1527, 0.1530, 0.1524, 0.1526, 0.1631, 0.1597, 0.1525, 0.1624, 0.1543,\n",
       "        0.1568, 0.1675, 0.1582, 0.1694, 0.1558, 0.1590, 0.1549, 0.1568, 0.1570,\n",
       "        0.1611, 0.1568, 0.1541, 0.1523, 0.1656, 0.1656, 0.1579, 0.1687, 0.1583,\n",
       "        0.1672, 0.1583, 0.1571, 0.1700, 0.1567, 0.1574, 0.1579, 0.1656, 0.1567,\n",
       "        0.1622, 0.1568, 0.1626, 0.1701, 0.1533, 0.1669, 0.1530, 0.1622, 0.1675,\n",
       "        0.1689, 0.1579, 0.1694, 0.1576, 0.1528, 0.1528, 0.1699, 0.1572, 0.1638,\n",
       "        0.1567, 0.1609, 0.1569, 0.1526, 0.1591, 0.1578, 0.1597, 0.1638, 0.1593,\n",
       "        0.1579, 0.1655, 0.1580, 0.1582, 0.1684, 0.1525, 0.1525, 0.1567, 0.1567,\n",
       "        0.1546, 0.1549, 0.1548, 0.1550, 0.1546, 0.1548, 0.1549, 0.1546],\n",
       "       device='cuda:0', dtype=torch.float64, grad_fn=<ExpandBackward0>)"
      ]
     },
     "execution_count": 76,
     "metadata": {},
     "output_type": "execute_result"
    }
   ],
   "source": [
    "gpr_bc(X_nox)[1]"
   ]
  },
  {
   "cell_type": "code",
   "execution_count": null,
   "id": "61e1e112-4779-4138-92d6-e06735cdd24c",
   "metadata": {},
   "outputs": [],
   "source": []
  },
  {
   "cell_type": "code",
   "execution_count": null,
   "id": "45c0af2d-ca56-442f-899b-817dc28900b2",
   "metadata": {},
   "outputs": [],
   "source": []
  },
  {
   "cell_type": "code",
   "execution_count": null,
   "id": "ba212b90-b7f4-4723-92a4-f81c94445ba9",
   "metadata": {},
   "outputs": [],
   "source": []
  }
 ],
 "metadata": {
  "kernelspec": {
   "display_name": "Python 3 (ipykernel)",
   "language": "python",
   "name": "python3"
  },
  "language_info": {
   "codemirror_mode": {
    "name": "ipython",
    "version": 3
   },
   "file_extension": ".py",
   "mimetype": "text/x-python",
   "name": "python",
   "nbconvert_exporter": "python",
   "pygments_lexer": "ipython3",
   "version": "3.10.16"
  }
 },
 "nbformat": 4,
 "nbformat_minor": 5
}
