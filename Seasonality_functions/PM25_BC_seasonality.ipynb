{
 "cells": [
  {
   "cell_type": "code",
   "execution_count": 1,
   "id": "df699b35-56ba-4912-b1e3-0ca2e46de47d",
   "metadata": {},
   "outputs": [],
   "source": [
    "import pandas as pd\n",
    "import arviz as az\n",
    "from function_seasonality import *"
   ]
  },
  {
   "cell_type": "code",
   "execution_count": 2,
   "id": "90230fe6-0f6a-4898-be1f-5768cfcf3cfe",
   "metadata": {},
   "outputs": [],
   "source": [
    "train=pd.read_excel(r\"../data/chem_train_pm.xlsx\")\n",
    "test=pd.read_excel(r\"../data/chem_test_pm.xlsx\")"
   ]
  },
  {
   "cell_type": "code",
   "execution_count": 3,
   "id": "a5b22d5e-8042-4bc0-979d-fab449b9101f",
   "metadata": {},
   "outputs": [],
   "source": [
    "train=make_periodic(train) \n",
    "test=make_periodic(test)"
   ]
  },
  {
   "cell_type": "code",
   "execution_count": 4,
   "id": "5d018d27-5ffc-4082-b583-ffb612614abf",
   "metadata": {},
   "outputs": [
    {
     "name": "stderr",
     "output_type": "stream",
     "text": [
      "Sample: 100%|██████████████████████████████████████| 15000/15000 [11:58, 20.86it/s, step size=7.08e-01, acc. prob=0.933]\n",
      "/data/michaelf/miniconda3/lib/python3.10/site-packages/arviz/data/io_pyro.py:158: UserWarning: Could not get vectorized trace, log_likelihood group will be omitted. Check your model vectorization or set log_likelihood=False\n",
      "  warnings.warn(\n"
     ]
    }
   ],
   "source": [
    "X_pm25,y_pm25=make_Xy(train,[\"cos_theta\",\"sin_theta\"],\"pm_final\") \n",
    "nuts_kernel_pm25,gpr_pm25=model(X_pm25,y_pm25) \n",
    "nuts_kernel_pm25,gpr_pm25,mcmc=train_model(X_pm25,nuts_kernel_pm25,gpr_pm25) \n",
    "torch.save(gpr_pm25,\"../models/pm25_seasonality\");"
   ]
  },
  {
   "cell_type": "code",
   "execution_count": 5,
   "id": "6f48397f-a87e-445e-a5e1-c3d343705a66",
   "metadata": {},
   "outputs": [
    {
     "name": "stderr",
     "output_type": "stream",
     "text": [
      "Sample: 100%|██████████████████████████████████████| 15000/15000 [13:09, 19.01it/s, step size=6.50e-01, acc. prob=0.871]\n",
      "/data/michaelf/miniconda3/lib/python3.10/site-packages/arviz/data/io_pyro.py:158: UserWarning: Could not get vectorized trace, log_likelihood group will be omitted. Check your model vectorization or set log_likelihood=False\n",
      "  warnings.warn(\n"
     ]
    }
   ],
   "source": [
    "X_bc,y_bc=make_Xy(train,[\"cos_theta\",\"sin_theta\"],\"sv_final\") \n",
    "nuts_kernel_bc,gpr_bc=model(X_bc,y_bc) \n",
    "nuts_kernel_bc,gpr_bc,mcmc=train_model(X_bc,nuts_kernel_bc,gpr_bc) \n",
    "torch.save(gpr_bc,\"../models/bc_seasonality\");"
   ]
  },
  {
   "cell_type": "code",
   "execution_count": 6,
   "id": "63f4113c-08e7-4fec-8f95-eed293478d94",
   "metadata": {},
   "outputs": [
    {
     "data": {
      "text/plain": [
       "GPRegression(\n",
       "  (kernel): RBF()\n",
       ")"
      ]
     },
     "execution_count": 6,
     "metadata": {},
     "output_type": "execute_result"
    }
   ],
   "source": [
    "gpr_pm25"
   ]
  },
  {
   "cell_type": "code",
   "execution_count": null,
   "id": "1e2e5894-e3ba-4d41-98e5-d600f48832fc",
   "metadata": {},
   "outputs": [],
   "source": []
  }
 ],
 "metadata": {
  "kernelspec": {
   "display_name": "Python 3 (ipykernel)",
   "language": "python",
   "name": "python3"
  },
  "language_info": {
   "codemirror_mode": {
    "name": "ipython",
    "version": 3
   },
   "file_extension": ".py",
   "mimetype": "text/x-python",
   "name": "python",
   "nbconvert_exporter": "python",
   "pygments_lexer": "ipython3",
   "version": "3.10.16"
  }
 },
 "nbformat": 4,
 "nbformat_minor": 5
}
