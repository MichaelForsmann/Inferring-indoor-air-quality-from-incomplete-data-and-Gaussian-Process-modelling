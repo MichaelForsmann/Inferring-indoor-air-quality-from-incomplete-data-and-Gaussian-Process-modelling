{
 "cells": [
  {
   "cell_type": "code",
   "execution_count": 1,
   "id": "df699b35-56ba-4912-b1e3-0ca2e46de47d",
   "metadata": {},
   "outputs": [],
   "source": [
    "import pandas as pd\n",
    "import arviz as az\n",
    "from function_seasonality import *"
   ]
  },
  {
   "cell_type": "code",
   "execution_count": 2,
   "id": "90230fe6-0f6a-4898-be1f-5768cfcf3cfe",
   "metadata": {},
   "outputs": [],
   "source": [
    "train=pd.read_excel(r\"../data/chem_train.xlsx\")"
   ]
  },
  {
   "cell_type": "code",
   "execution_count": 3,
   "id": "a5b22d5e-8042-4bc0-979d-fab449b9101f",
   "metadata": {},
   "outputs": [],
   "source": [
    "train=make_periodic(train) "
   ]
  },
  {
   "cell_type": "code",
   "execution_count": 4,
   "id": "5d018d27-5ffc-4082-b583-ffb612614abf",
   "metadata": {},
   "outputs": [
    {
     "name": "stderr",
     "output_type": "stream",
     "text": [
      "Sample: 100%|██████████████████████████████████████| 15000/15000 [17:30, 14.28it/s, step size=8.47e-01, acc. prob=0.856]\n",
      "/data/michaelf/miniconda3/lib/python3.10/site-packages/arviz/data/io_pyro.py:158: UserWarning: Could not get vectorized trace, log_likelihood group will be omitted. Check your model vectorization or set log_likelihood=False\n",
      "  warnings.warn(\n"
     ]
    }
   ],
   "source": [
    "X_formaldehyd,y_formaldehyd=make_Xy(train,[\"cos_theta\",\"sin_theta\"],\"formaldehyd\") \n",
    "nuts_kernel_formaldehyd,gpr_formaldehyd=model(X_formaldehyd,y_formaldehyd) \n",
    "nuts_kernel_formaldehyd,gpr_formaldehyd,mcmc_formaldehyd=train_model(X_formaldehyd,nuts_kernel_formaldehyd,gpr_formaldehyd) \n",
    "torch.save(gpr_formaldehyd,\"../models/formaldehyd_seasonality\");"
   ]
  },
  {
   "cell_type": "code",
   "execution_count": 5,
   "id": "6f48397f-a87e-445e-a5e1-c3d343705a66",
   "metadata": {},
   "outputs": [
    {
     "name": "stderr",
     "output_type": "stream",
     "text": [
      "Sample: 100%|██████████████████████████████████████| 15000/15000 [16:38, 15.02it/s, step size=7.52e-01, acc. prob=0.913]\n",
      "/data/michaelf/miniconda3/lib/python3.10/site-packages/arviz/data/io_pyro.py:158: UserWarning: Could not get vectorized trace, log_likelihood group will be omitted. Check your model vectorization or set log_likelihood=False\n",
      "  warnings.warn(\n"
     ]
    }
   ],
   "source": [
    "X_acetald,y_acetald=make_Xy(train,[\"cos_theta\",\"sin_theta\"],\"acetald\") \n",
    "nuts_kernel_acetald,gpr_acetald=model(X_acetald,y_acetald) \n",
    "nuts_kernel_acetald,gpr_acetald,mcmc_acetald=train_model(X_acetald,nuts_kernel_acetald,gpr_acetald) \n",
    "torch.save(gpr_acetald,\"../models/acetald_seasonality\");"
   ]
  },
  {
   "cell_type": "code",
   "execution_count": 6,
   "id": "63f4113c-08e7-4fec-8f95-eed293478d94",
   "metadata": {},
   "outputs": [
    {
     "name": "stderr",
     "output_type": "stream",
     "text": [
      "Sample: 100%|██████████████████████████████████████| 15000/15000 [16:11, 15.45it/s, step size=8.32e-01, acc. prob=0.897]\n",
      "/data/michaelf/miniconda3/lib/python3.10/site-packages/arviz/data/io_pyro.py:158: UserWarning: Could not get vectorized trace, log_likelihood group will be omitted. Check your model vectorization or set log_likelihood=False\n",
      "  warnings.warn(\n"
     ]
    }
   ],
   "source": [
    "X_acetone,y_acetone=make_Xy(train,[\"cos_theta\",\"sin_theta\"],\"acetone\") \n",
    "nuts_kernel_acetone,gpr_acetone=model(X_acetone,y_acetone) \n",
    "nuts_kernel_acetone,gpr_acetone,mcmc_acetone=train_model(X_acetone,nuts_kernel_acetone,gpr_acetone) \n",
    "torch.save(gpr_acetone,\"../models/acetone_seasonality\");"
   ]
  },
  {
   "cell_type": "code",
   "execution_count": null,
   "id": "ae8e723f-6444-4df2-825d-5266bf7a6270",
   "metadata": {},
   "outputs": [],
   "source": []
  }
 ],
 "metadata": {
  "kernelspec": {
   "display_name": "Python 3 (ipykernel)",
   "language": "python",
   "name": "python3"
  },
  "language_info": {
   "codemirror_mode": {
    "name": "ipython",
    "version": 3
   },
   "file_extension": ".py",
   "mimetype": "text/x-python",
   "name": "python",
   "nbconvert_exporter": "python",
   "pygments_lexer": "ipython3",
   "version": "3.10.16"
  }
 },
 "nbformat": 4,
 "nbformat_minor": 5
}
