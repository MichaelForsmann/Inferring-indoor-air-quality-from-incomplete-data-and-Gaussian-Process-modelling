{
 "cells": [
  {
   "cell_type": "code",
   "execution_count": 8,
   "id": "df699b35-56ba-4912-b1e3-0ca2e46de47d",
   "metadata": {},
   "outputs": [],
   "source": [
    "import pandas as pd\n",
    "import arviz as az\n",
    "from function_seasonality import *"
   ]
  },
  {
   "cell_type": "code",
   "execution_count": 9,
   "id": "90230fe6-0f6a-4898-be1f-5768cfcf3cfe",
   "metadata": {},
   "outputs": [],
   "source": [
    "train=pd.read_excel(r\"../data/chem_train.xlsx\")\n",
    "test=pd.read_excel(r\"../data/chem_test.xlsx\")\n"
   ]
  },
  {
   "cell_type": "code",
   "execution_count": 10,
   "id": "a5b22d5e-8042-4bc0-979d-fab449b9101f",
   "metadata": {},
   "outputs": [],
   "source": [
    "train=make_periodic(train) \n",
    "test=make_periodic(test)"
   ]
  },
  {
   "cell_type": "code",
   "execution_count": 11,
   "id": "5d018d27-5ffc-4082-b583-ffb612614abf",
   "metadata": {},
   "outputs": [
    {
     "name": "stderr",
     "output_type": "stream",
     "text": [
      "Sample: 100%|██████████████████████████████████████| 15000/15000 [06:43, 37.20it/s, step size=7.10e-01, acc. prob=0.931]\n",
      "/data/michaelf/miniconda3/lib/python3.10/site-packages/arviz/data/io_pyro.py:158: UserWarning: Could not get vectorized trace, log_likelihood group will be omitted. Check your model vectorization or set log_likelihood=False\n",
      "  warnings.warn(\n"
     ]
    }
   ],
   "source": [
    "X_no2,y_no2=make_Xy(train,[\"cos_theta\",\"sin_theta\"],\"no2\") \n",
    "nuts_kernel,gpr_no2=model(X_no2,y_no2) \n",
    "nuts_kernel,gpr_no2,mcmc=train_model(X_no2,nuts_kernel,gpr_no2) \n",
    "torch.save(gpr_no2, \"../models/no2_seasonality\");"
   ]
  },
  {
   "cell_type": "code",
   "execution_count": 12,
   "id": "6f48397f-a87e-445e-a5e1-c3d343705a66",
   "metadata": {},
   "outputs": [
    {
     "name": "stderr",
     "output_type": "stream",
     "text": [
      "Sample: 100%|██████████████████████████████████████| 15000/15000 [05:20, 46.73it/s, step size=8.15e-01, acc. prob=0.912]\n",
      "/data/michaelf/miniconda3/lib/python3.10/site-packages/arviz/data/io_pyro.py:158: UserWarning: Could not get vectorized trace, log_likelihood group will be omitted. Check your model vectorization or set log_likelihood=False\n",
      "  warnings.warn(\n"
     ]
    }
   ],
   "source": [
    "# Define the model \n",
    "X_nox,y_no2=make_Xy(train,[\"cos_theta\",\"sin_theta\"],\"nox\") \n",
    "nuts_kernel_nox,gpr_nox=model(X_nox,y_no2) \n",
    "nuts_kernel_nox,gpr_nox,mcmc_nox=train_model(X_nox,nuts_kernel_nox,gpr_nox) \n",
    "torch.save(gpr_nox, \"../models/nox_seasonality\");"
   ]
  },
  {
   "cell_type": "code",
   "execution_count": 7,
   "id": "63f4113c-08e7-4fec-8f95-eed293478d94",
   "metadata": {},
   "outputs": [
    {
     "data": {
      "text/plain": [
       "GPRegression(\n",
       "  (kernel): RBF()\n",
       ")"
      ]
     },
     "execution_count": 7,
     "metadata": {},
     "output_type": "execute_result"
    }
   ],
   "source": [
    "gpr_no2"
   ]
  },
  {
   "cell_type": "code",
   "execution_count": null,
   "id": "1e2e5894-e3ba-4d41-98e5-d600f48832fc",
   "metadata": {},
   "outputs": [],
   "source": []
  }
 ],
 "metadata": {
  "kernelspec": {
   "display_name": "Python 3 (ipykernel)",
   "language": "python",
   "name": "python3"
  },
  "language_info": {
   "codemirror_mode": {
    "name": "ipython",
    "version": 3
   },
   "file_extension": ".py",
   "mimetype": "text/x-python",
   "name": "python",
   "nbconvert_exporter": "python",
   "pygments_lexer": "ipython3",
   "version": "3.10.16"
  }
 },
 "nbformat": 4,
 "nbformat_minor": 5
}
