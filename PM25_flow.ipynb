{
 "cells": [
  {
   "cell_type": "code",
   "execution_count": 5,
   "id": "d28d499f-2c29-46c7-91ad-b3f14b83eb77",
   "metadata": {},
   "outputs": [],
   "source": [
    "import numpy as np \n",
    "import matplotlib.pyplot as plt\n",
    "import pandas as pd\n",
    "import osmnx as ox\n",
    "from pyro import clear_param_store\n",
    "import pyro as pyro\n",
    "import pyro.contrib.gp as gp\n",
    "from pyro.nn import PyroSample\n",
    "import pyro.distributions as dist\n",
    "from pyro.infer import MCMC, NUTS, Predictive,HMC\n",
    "import torch\n",
    "import kennard_stone as ks\n",
    "import arviz as az\n",
    "from scipy.optimize import curve_fit\n",
    "from bokeh.plotting import figure, show\n",
    "from bokeh.transform import factor_cmap, factor_mark\n",
    "from bokeh.palettes import Spectral\n",
    "from bokeh.models import Slope, Div\n",
    "from bokeh.io import curdoc\n",
    "from bokeh.layouts import column,gridplot\n",
    "from print_versions import print_versions\n",
    "from sklearn.metrics import r2_score\n",
    "from seaborn import clustermap\n",
    "from bokeh.models import Band, ColumnDataSource\n",
    "from sklearn.impute import KNNImputer\n",
    "from sklearn.preprocessing import StandardScaler"
   ]
  },
  {
   "cell_type": "code",
   "execution_count": 6,
   "id": "9c10d237-4c1e-47d0-bec8-cc95fe7e0e4b",
   "metadata": {},
   "outputs": [
    {
     "name": "stdout",
     "output_type": "stream",
     "text": [
      "json==2.0.9\n",
      "pandas==2.2.3\n",
      "ipykernel==6.28.0\n",
      "numpy==1.26.4\n",
      "tensorflow==2.18.0\n",
      "keras==3.5.0\n",
      "torch==2.5.1\n",
      "ipywidgets==7.6.5\n",
      "xarray==2023.6.0\n",
      "osmnx==1.9.3\n",
      "pyro==1.9.1\n",
      "kennard_stone==3.0.0\n",
      "arviz==0.20.0\n",
      "scipy==1.14.0\n",
      "bokeh==3.6.0\n",
      "seaborn==0.13.2\n"
     ]
    }
   ],
   "source": [
    "print_versions(globals());"
   ]
  },
  {
   "cell_type": "code",
   "execution_count": 7,
   "id": "8d9a89bf-ecc0-4137-8e99-6ff92a2a5d77",
   "metadata": {},
   "outputs": [],
   "source": [
    "TOOLS=\"hover,crosshair,pan,wheel_zoom,zoom_in,zoom_out,box_zoom,undo,redo,reset,tap,save,box_select,poly_select,lasso_select,examine,help\""
   ]
  },
  {
   "cell_type": "code",
   "execution_count": 8,
   "id": "7e953747-5732-4811-bc10-f83648ac9092",
   "metadata": {},
   "outputs": [],
   "source": [
    "PM25=pd.read_excel(r\"corectiong_123.xlsx\");\n",
    "PM25_raw=pd.read_excel(r\"pm25.xlsx\");\n"
   ]
  },
  {
   "cell_type": "code",
   "execution_count": 9,
   "id": "72d2c22f-61b6-47e4-920d-d5b8dd959392",
   "metadata": {},
   "outputs": [],
   "source": [
    "PM25=pd.concat([PM25_raw,PM25.loc[:,['constrution_year', 'Area', 'floor_level', 'powerplant', 'road', 'motorway', 'forest', 'coastline',\n",
    "       'airport', 'farmland', 'industrial', 'carpet', 'cookerhood', 'passive',\n",
    "       'gastove', 'fireplace']]],axis=1);\n",
    "PM25=PM25.drop(['Unnamed: 0', 'fnr',\"adrnum\",'vejnvn', 'husn',\"postnr\"],axis=1);"
   ]
  },
  {
   "cell_type": "code",
   "execution_count": 10,
   "id": "6ee8a83b-fa93-4bf8-8ca0-99a9dbae2c5d",
   "metadata": {},
   "outputs": [],
   "source": [
    "PM25_flow=PM25.drop(['sadto'],axis=1)"
   ]
  },
  {
   "cell_type": "code",
   "execution_count": 11,
   "id": "06c27bbe-c822-4cdd-91e8-9b68cf326ed7",
   "metadata": {},
   "outputs": [
    {
     "data": {
      "text/plain": [
       "0       0\n",
       "1       0\n",
       "2       0\n",
       "3       1\n",
       "4       1\n",
       "       ..\n",
       "1117    0\n",
       "1118    0\n",
       "1119    1\n",
       "1120    0\n",
       "1121    0\n",
       "Length: 1122, dtype: int64"
      ]
     },
     "execution_count": 11,
     "metadata": {},
     "output_type": "execute_result"
    }
   ],
   "source": [
    "PM25.isna().sum(axis=1)"
   ]
  },
  {
   "cell_type": "code",
   "execution_count": 12,
   "id": "344d6b8b-0270-40df-aa98-7e68479672a8",
   "metadata": {},
   "outputs": [],
   "source": [
    "PM25=PM25_flow.loc[PM25_flow.passive.isna()==0,:];\n",
    "scaler = StandardScaler()\n",
    "imputer = KNNImputer(n_neighbors=10)\n",
    "pm25=imputer.fit_transform(scaler.fit_transform(PM25))\n",
    "pm25=scaler.inverse_transform(pm25)"
   ]
  },
  {
   "cell_type": "code",
   "execution_count": 13,
   "id": "42460d76-82e0-41cf-84c3-8de2f67d95a9",
   "metadata": {},
   "outputs": [
    {
     "data": {
      "text/html": [
       "<div>\n",
       "<style scoped>\n",
       "    .dataframe tbody tr th:only-of-type {\n",
       "        vertical-align: middle;\n",
       "    }\n",
       "\n",
       "    .dataframe tbody tr th {\n",
       "        vertical-align: top;\n",
       "    }\n",
       "\n",
       "    .dataframe thead th {\n",
       "        text-align: right;\n",
       "    }\n",
       "</style>\n",
       "<table border=\"1\" class=\"dataframe\">\n",
       "  <thead>\n",
       "    <tr style=\"text-align: right;\">\n",
       "      <th></th>\n",
       "      <th>bnr</th>\n",
       "      <th>flow</th>\n",
       "      <th>pm_final</th>\n",
       "      <th>sv_final</th>\n",
       "      <th>maalnr</th>\n",
       "      <th>constrution_year</th>\n",
       "      <th>Area</th>\n",
       "      <th>floor_level</th>\n",
       "      <th>powerplant</th>\n",
       "      <th>road</th>\n",
       "      <th>...</th>\n",
       "      <th>forest</th>\n",
       "      <th>coastline</th>\n",
       "      <th>airport</th>\n",
       "      <th>farmland</th>\n",
       "      <th>industrial</th>\n",
       "      <th>carpet</th>\n",
       "      <th>cookerhood</th>\n",
       "      <th>passive</th>\n",
       "      <th>gastove</th>\n",
       "      <th>fireplace</th>\n",
       "    </tr>\n",
       "  </thead>\n",
       "  <tbody>\n",
       "    <tr>\n",
       "      <th>0</th>\n",
       "      <td>1</td>\n",
       "      <td>4.07</td>\n",
       "      <td>3.747515</td>\n",
       "      <td>0.162272</td>\n",
       "      <td>1</td>\n",
       "      <td>1979.0</td>\n",
       "      <td>126.0</td>\n",
       "      <td>0</td>\n",
       "      <td>0.000000</td>\n",
       "      <td>11222.957551</td>\n",
       "      <td>...</td>\n",
       "      <td>1086.639874</td>\n",
       "      <td>0.000000</td>\n",
       "      <td>7677.52143</td>\n",
       "      <td>767180.281538</td>\n",
       "      <td>0.000000</td>\n",
       "      <td>0.0</td>\n",
       "      <td>365.0</td>\n",
       "      <td>365.0</td>\n",
       "      <td>365.0</td>\n",
       "      <td>0.0</td>\n",
       "    </tr>\n",
       "    <tr>\n",
       "      <th>1</th>\n",
       "      <td>1</td>\n",
       "      <td>3.75</td>\n",
       "      <td>13.850762</td>\n",
       "      <td>3.059650</td>\n",
       "      <td>2</td>\n",
       "      <td>1979.0</td>\n",
       "      <td>126.0</td>\n",
       "      <td>0</td>\n",
       "      <td>0.000000</td>\n",
       "      <td>11222.957551</td>\n",
       "      <td>...</td>\n",
       "      <td>1086.639874</td>\n",
       "      <td>0.000000</td>\n",
       "      <td>7677.52143</td>\n",
       "      <td>767180.281538</td>\n",
       "      <td>0.000000</td>\n",
       "      <td>0.0</td>\n",
       "      <td>365.0</td>\n",
       "      <td>365.0</td>\n",
       "      <td>365.0</td>\n",
       "      <td>1.0</td>\n",
       "    </tr>\n",
       "    <tr>\n",
       "      <th>2</th>\n",
       "      <td>1</td>\n",
       "      <td>4.22</td>\n",
       "      <td>6.937794</td>\n",
       "      <td>0.342990</td>\n",
       "      <td>3</td>\n",
       "      <td>1979.0</td>\n",
       "      <td>126.0</td>\n",
       "      <td>0</td>\n",
       "      <td>0.000000</td>\n",
       "      <td>11222.957551</td>\n",
       "      <td>...</td>\n",
       "      <td>1086.639874</td>\n",
       "      <td>0.000000</td>\n",
       "      <td>7677.52143</td>\n",
       "      <td>767180.281538</td>\n",
       "      <td>0.000000</td>\n",
       "      <td>0.0</td>\n",
       "      <td>365.0</td>\n",
       "      <td>365.0</td>\n",
       "      <td>365.0</td>\n",
       "      <td>1.0</td>\n",
       "    </tr>\n",
       "    <tr>\n",
       "      <th>5</th>\n",
       "      <td>5</td>\n",
       "      <td>4.11</td>\n",
       "      <td>6.209266</td>\n",
       "      <td>0.417824</td>\n",
       "      <td>1</td>\n",
       "      <td>1997.0</td>\n",
       "      <td>134.0</td>\n",
       "      <td>0</td>\n",
       "      <td>0.000000</td>\n",
       "      <td>10507.822015</td>\n",
       "      <td>...</td>\n",
       "      <td>16507.818218</td>\n",
       "      <td>0.000000</td>\n",
       "      <td>0.00000</td>\n",
       "      <td>687250.510566</td>\n",
       "      <td>0.000000</td>\n",
       "      <td>365.0</td>\n",
       "      <td>365.0</td>\n",
       "      <td>0.0</td>\n",
       "      <td>0.0</td>\n",
       "      <td>1.0</td>\n",
       "    </tr>\n",
       "    <tr>\n",
       "      <th>6</th>\n",
       "      <td>5</td>\n",
       "      <td>3.84</td>\n",
       "      <td>13.870286</td>\n",
       "      <td>1.940405</td>\n",
       "      <td>2</td>\n",
       "      <td>1997.0</td>\n",
       "      <td>134.0</td>\n",
       "      <td>0</td>\n",
       "      <td>0.000000</td>\n",
       "      <td>10507.822015</td>\n",
       "      <td>...</td>\n",
       "      <td>16507.818218</td>\n",
       "      <td>0.000000</td>\n",
       "      <td>0.00000</td>\n",
       "      <td>687250.510566</td>\n",
       "      <td>0.000000</td>\n",
       "      <td>365.0</td>\n",
       "      <td>365.0</td>\n",
       "      <td>0.0</td>\n",
       "      <td>0.0</td>\n",
       "      <td>5.0</td>\n",
       "    </tr>\n",
       "    <tr>\n",
       "      <th>...</th>\n",
       "      <td>...</td>\n",
       "      <td>...</td>\n",
       "      <td>...</td>\n",
       "      <td>...</td>\n",
       "      <td>...</td>\n",
       "      <td>...</td>\n",
       "      <td>...</td>\n",
       "      <td>...</td>\n",
       "      <td>...</td>\n",
       "      <td>...</td>\n",
       "      <td>...</td>\n",
       "      <td>...</td>\n",
       "      <td>...</td>\n",
       "      <td>...</td>\n",
       "      <td>...</td>\n",
       "      <td>...</td>\n",
       "      <td>...</td>\n",
       "      <td>...</td>\n",
       "      <td>...</td>\n",
       "      <td>...</td>\n",
       "      <td>...</td>\n",
       "    </tr>\n",
       "    <tr>\n",
       "      <th>1116</th>\n",
       "      <td>450</td>\n",
       "      <td>3.94</td>\n",
       "      <td>18.170482</td>\n",
       "      <td>1.199333</td>\n",
       "      <td>2</td>\n",
       "      <td>1968.0</td>\n",
       "      <td>94.0</td>\n",
       "      <td>1</td>\n",
       "      <td>0.000000</td>\n",
       "      <td>20693.860407</td>\n",
       "      <td>...</td>\n",
       "      <td>3691.099407</td>\n",
       "      <td>0.000000</td>\n",
       "      <td>0.00000</td>\n",
       "      <td>58691.722066</td>\n",
       "      <td>2386.805052</td>\n",
       "      <td>0.0</td>\n",
       "      <td>104.0</td>\n",
       "      <td>730.0</td>\n",
       "      <td>0.0</td>\n",
       "      <td>0.0</td>\n",
       "    </tr>\n",
       "    <tr>\n",
       "      <th>1117</th>\n",
       "      <td>450</td>\n",
       "      <td>3.96</td>\n",
       "      <td>13.039686</td>\n",
       "      <td>0.562392</td>\n",
       "      <td>3</td>\n",
       "      <td>1968.0</td>\n",
       "      <td>94.0</td>\n",
       "      <td>1</td>\n",
       "      <td>0.000000</td>\n",
       "      <td>20693.860407</td>\n",
       "      <td>...</td>\n",
       "      <td>3691.099407</td>\n",
       "      <td>0.000000</td>\n",
       "      <td>0.00000</td>\n",
       "      <td>58691.722066</td>\n",
       "      <td>2386.805052</td>\n",
       "      <td>0.0</td>\n",
       "      <td>104.0</td>\n",
       "      <td>730.0</td>\n",
       "      <td>0.0</td>\n",
       "      <td>0.0</td>\n",
       "    </tr>\n",
       "    <tr>\n",
       "      <th>1118</th>\n",
       "      <td>451</td>\n",
       "      <td>3.88</td>\n",
       "      <td>23.291217</td>\n",
       "      <td>1.544408</td>\n",
       "      <td>1</td>\n",
       "      <td>1987.0</td>\n",
       "      <td>95.0</td>\n",
       "      <td>0</td>\n",
       "      <td>0.000000</td>\n",
       "      <td>20693.860407</td>\n",
       "      <td>...</td>\n",
       "      <td>3691.099407</td>\n",
       "      <td>0.000000</td>\n",
       "      <td>0.00000</td>\n",
       "      <td>58691.722066</td>\n",
       "      <td>2386.805052</td>\n",
       "      <td>0.0</td>\n",
       "      <td>365.0</td>\n",
       "      <td>0.0</td>\n",
       "      <td>180.0</td>\n",
       "      <td>100.0</td>\n",
       "    </tr>\n",
       "    <tr>\n",
       "      <th>1120</th>\n",
       "      <td>452</td>\n",
       "      <td>4.05</td>\n",
       "      <td>19.422368</td>\n",
       "      <td>2.665289</td>\n",
       "      <td>2</td>\n",
       "      <td>1925.0</td>\n",
       "      <td>79.0</td>\n",
       "      <td>1</td>\n",
       "      <td>318.093389</td>\n",
       "      <td>21417.657017</td>\n",
       "      <td>...</td>\n",
       "      <td>275.455935</td>\n",
       "      <td>1053.572362</td>\n",
       "      <td>0.00000</td>\n",
       "      <td>265.889267</td>\n",
       "      <td>0.000000</td>\n",
       "      <td>0.0</td>\n",
       "      <td>0.0</td>\n",
       "      <td>60.0</td>\n",
       "      <td>365.0</td>\n",
       "      <td>3.0</td>\n",
       "    </tr>\n",
       "    <tr>\n",
       "      <th>1121</th>\n",
       "      <td>452</td>\n",
       "      <td>4.10</td>\n",
       "      <td>20.405454</td>\n",
       "      <td>1.082070</td>\n",
       "      <td>3</td>\n",
       "      <td>1925.0</td>\n",
       "      <td>79.0</td>\n",
       "      <td>1</td>\n",
       "      <td>318.093389</td>\n",
       "      <td>21417.657017</td>\n",
       "      <td>...</td>\n",
       "      <td>275.455935</td>\n",
       "      <td>1053.572362</td>\n",
       "      <td>0.00000</td>\n",
       "      <td>265.889267</td>\n",
       "      <td>0.000000</td>\n",
       "      <td>0.0</td>\n",
       "      <td>0.0</td>\n",
       "      <td>60.0</td>\n",
       "      <td>365.0</td>\n",
       "      <td>3.0</td>\n",
       "    </tr>\n",
       "  </tbody>\n",
       "</table>\n",
       "<p>1001 rows × 21 columns</p>\n",
       "</div>"
      ],
      "text/plain": [
       "      bnr  flow   pm_final  sv_final  maalnr  constrution_year   Area  \\\n",
       "0       1  4.07   3.747515  0.162272       1            1979.0  126.0   \n",
       "1       1  3.75  13.850762  3.059650       2            1979.0  126.0   \n",
       "2       1  4.22   6.937794  0.342990       3            1979.0  126.0   \n",
       "5       5  4.11   6.209266  0.417824       1            1997.0  134.0   \n",
       "6       5  3.84  13.870286  1.940405       2            1997.0  134.0   \n",
       "...   ...   ...        ...       ...     ...               ...    ...   \n",
       "1116  450  3.94  18.170482  1.199333       2            1968.0   94.0   \n",
       "1117  450  3.96  13.039686  0.562392       3            1968.0   94.0   \n",
       "1118  451  3.88  23.291217  1.544408       1            1987.0   95.0   \n",
       "1120  452  4.05  19.422368  2.665289       2            1925.0   79.0   \n",
       "1121  452  4.10  20.405454  1.082070       3            1925.0   79.0   \n",
       "\n",
       "      floor_level  powerplant          road  ...        forest    coastline  \\\n",
       "0               0    0.000000  11222.957551  ...   1086.639874     0.000000   \n",
       "1               0    0.000000  11222.957551  ...   1086.639874     0.000000   \n",
       "2               0    0.000000  11222.957551  ...   1086.639874     0.000000   \n",
       "5               0    0.000000  10507.822015  ...  16507.818218     0.000000   \n",
       "6               0    0.000000  10507.822015  ...  16507.818218     0.000000   \n",
       "...           ...         ...           ...  ...           ...          ...   \n",
       "1116            1    0.000000  20693.860407  ...   3691.099407     0.000000   \n",
       "1117            1    0.000000  20693.860407  ...   3691.099407     0.000000   \n",
       "1118            0    0.000000  20693.860407  ...   3691.099407     0.000000   \n",
       "1120            1  318.093389  21417.657017  ...    275.455935  1053.572362   \n",
       "1121            1  318.093389  21417.657017  ...    275.455935  1053.572362   \n",
       "\n",
       "         airport       farmland   industrial  carpet  cookerhood  passive  \\\n",
       "0     7677.52143  767180.281538     0.000000     0.0       365.0    365.0   \n",
       "1     7677.52143  767180.281538     0.000000     0.0       365.0    365.0   \n",
       "2     7677.52143  767180.281538     0.000000     0.0       365.0    365.0   \n",
       "5        0.00000  687250.510566     0.000000   365.0       365.0      0.0   \n",
       "6        0.00000  687250.510566     0.000000   365.0       365.0      0.0   \n",
       "...          ...            ...          ...     ...         ...      ...   \n",
       "1116     0.00000   58691.722066  2386.805052     0.0       104.0    730.0   \n",
       "1117     0.00000   58691.722066  2386.805052     0.0       104.0    730.0   \n",
       "1118     0.00000   58691.722066  2386.805052     0.0       365.0      0.0   \n",
       "1120     0.00000     265.889267     0.000000     0.0         0.0     60.0   \n",
       "1121     0.00000     265.889267     0.000000     0.0         0.0     60.0   \n",
       "\n",
       "      gastove  fireplace  \n",
       "0       365.0        0.0  \n",
       "1       365.0        1.0  \n",
       "2       365.0        1.0  \n",
       "5         0.0        1.0  \n",
       "6         0.0        5.0  \n",
       "...       ...        ...  \n",
       "1116      0.0        0.0  \n",
       "1117      0.0        0.0  \n",
       "1118    180.0      100.0  \n",
       "1120    365.0        3.0  \n",
       "1121    365.0        3.0  \n",
       "\n",
       "[1001 rows x 21 columns]"
      ]
     },
     "execution_count": 13,
     "metadata": {},
     "output_type": "execute_result"
    }
   ],
   "source": [
    "PM25"
   ]
  },
  {
   "cell_type": "code",
   "execution_count": 14,
   "id": "f2b92eac-46ef-47bd-9787-d22c998eb875",
   "metadata": {},
   "outputs": [],
   "source": [
    "PM25=pd.DataFrame(np.round(pm25,1),columns=PM25.columns,index=PM25.index)"
   ]
  },
  {
   "cell_type": "code",
   "execution_count": 15,
   "id": "5fbd6293-f139-4a47-8ab1-f188953d7f2c",
   "metadata": {},
   "outputs": [
    {
     "name": "stderr",
     "output_type": "stream",
     "text": [
      "2025-02-07 13:32:20,173 - kennard_stone.utils._pairwise:109[INFO] - Calculating pairwise distances using scikit-learn.\n",
      "\n",
      "2025-02-07 13:32:20,176 - kennard_stone.utils._pairwise:109[INFO] - Calculating pairwise distances using scikit-learn.\n",
      "\n"
     ]
    }
   ],
   "source": [
    "bnr=PM25.loc[:,[\"bnr\",\"Area\",\"passive\",\"flow\"]].groupby(\"bnr\").mean().reset_index()\n",
    "X_train, X_test, y_train, y_test = ks.train_test_split(bnr.loc[:,[\"Area\",\"passive\",\"flow\"]], bnr.bnr, test_size = 0.2);\n",
    "PM25=PM25.set_index(\"bnr\")\n",
    "train=PM25.loc[y_train.values,:]\n",
    "test=PM25.loc[y_test.values,:]\n"
   ]
  },
  {
   "cell_type": "code",
   "execution_count": null,
   "id": "7ddd9d71-5e69-4aea-81fb-84b5e27b56a6",
   "metadata": {},
   "outputs": [],
   "source": []
  },
  {
   "cell_type": "code",
   "execution_count": 17,
   "id": "63b7759c-e76d-4905-8909-48d1b6421449",
   "metadata": {},
   "outputs": [],
   "source": [
    "traning_pm25 = {\"X\":torch.tensor(train.flow.values).float(),\"y\":torch.tensor(train.pm_final.values).float()};\n",
    "traning_bc = {\"X\":torch.tensor(train.flow.values).float(),\"y\":torch.tensor(train.sv_final.values).float()};\n",
    "test_bc = {\"X\":torch.tensor(test.flow.values).float(),\"y\":torch.tensor(test.sv_final.values).float()};\n",
    "test_pm25 = {\"X\":torch.tensor(test.flow.values).float(),\"y\":torch.tensor(test.pm_final.values).float()};"
   ]
  },
  {
   "cell_type": "code",
   "execution_count": 18,
   "id": "430797db-6f2d-43fb-81e5-e5904f1b7eaa",
   "metadata": {},
   "outputs": [
    {
     "name": "stderr",
     "output_type": "stream",
     "text": [
      "Sample: 100%|███████████████████████████████████████| 4000/4000 [09:38,  6.91it/s, step size=7.03e-01, acc. prob=0.936]\n"
     ]
    }
   ],
   "source": [
    "clear_param_store();\n",
    "rbf = gp.kernels.RBF(input_dim=1);\n",
    "\n",
    "rbf.variance = PyroSample(dist.HalfNormal(torch.tensor(10.)));\n",
    "\n",
    "rbf.lengthscale = PyroSample(dist.LogNormal(torch.tensor(0.), torch.tensor(0.4)));\n",
    "gpr = gp.models.GPRegression(traning_pm25[\"X\"],traning_pm25[\"y\"], rbf);\n",
    "gpr.noise = PyroSample(dist.HalfNormal(torch.tensor(20.)));\n",
    "\n",
    "nuts_kernel = NUTS(gpr.model,target_accept_prob=0.9);\n",
    "\n",
    "mcmc = MCMC(nuts_kernel, num_samples=1000,warmup_steps=3000,num_chains=1);\n",
    "\n",
    "mcmc.run();"
   ]
  },
  {
   "cell_type": "code",
   "execution_count": 19,
   "id": "e460625d-8da2-475e-afe7-68883ee92913",
   "metadata": {},
   "outputs": [],
   "source": [
    "mcmc.diagnostics();"
   ]
  },
  {
   "cell_type": "code",
   "execution_count": 20,
   "id": "509f2995-9290-478a-89d7-d12b873ae4ff",
   "metadata": {},
   "outputs": [
    {
     "name": "stderr",
     "output_type": "stream",
     "text": [
      "C:\\Users\\michael.forsmann\\anaconda3\\Lib\\site-packages\\arviz\\data\\io_pyro.py:158: UserWarning: Could not get vectorized trace, log_likelihood group will be omitted. Check your model vectorization or set log_likelihood=False\n",
      "  warnings.warn(\n"
     ]
    }
   ],
   "source": [
    "posterior_samples = mcmc.get_samples();\n",
    "posterior_predictive = Predictive(gpr, posterior_samples)(traning_pm25[\"X\"]);\n",
    "prior = Predictive(gpr, num_samples=500)(traning_pm25[\"X\"]);\n",
    "\n",
    "pyro_data = az.from_pyro(mcmc,\n",
    "    prior=prior,\n",
    "    posterior_predictive=posterior_predictive\n",
    "\n",
    ");\n",
    "pyro_data;"
   ]
  },
  {
   "cell_type": "code",
   "execution_count": 21,
   "id": "8766705a-ca7e-4479-9b96-c8e0b22a479c",
   "metadata": {},
   "outputs": [],
   "source": [
    "az.style.use(\"arviz-doc\");\n",
    "\n",
    "ax = az.plot_trace(pyro_data,backend='bokeh');"
   ]
  },
  {
   "cell_type": "code",
   "execution_count": 22,
   "id": "820dade9-0b92-4c0f-be9b-e3da3e9d3b4c",
   "metadata": {},
   "outputs": [
    {
     "name": "stderr",
     "output_type": "stream",
     "text": [
      "BokehDeprecationWarning: 'circle() method with size value' was deprecated in Bokeh 3.4.0 and will be removed, use 'scatter(size=...) instead' instead.\n",
      "BokehDeprecationWarning: 'circle() method with size value' was deprecated in Bokeh 3.4.0 and will be removed, use 'scatter(size=...) instead' instead.\n",
      "BokehDeprecationWarning: 'circle() method with size value' was deprecated in Bokeh 3.4.0 and will be removed, use 'scatter(size=...) instead' instead.\n"
     ]
    }
   ],
   "source": [
    "ax = az.plot_density(\n",
    "    [pyro_data],\n",
    "    shade=0.1,backend='bokeh'\n",
    ");"
   ]
  },
  {
   "cell_type": "code",
   "execution_count": 23,
   "id": "8985193f-12b8-4bd0-adea-0ca54f5bdb97",
   "metadata": {},
   "outputs": [],
   "source": [
    "linmod=torch.linspace(3.3,4.7,800)\n",
    "pm25_model,pm25_model_std=gpr(linmod,full_cov=True)\n",
    "\n",
    "linmod_np=linmod.detach().numpy()\n",
    "pm25_model_np,pm25_model_std_np=pm25_model.detach().numpy().copy(),pm25_model_std.diag().sqrt().detach().numpy().copy()\n",
    "\n",
    "\n",
    "lower1 = pm25_model_np - pm25_model_std_np\n",
    "upper1 = pm25_model_np + pm25_model_std_np\n",
    "\n",
    "\n",
    "\n",
    "data1=pd.DataFrame([linmod_np,lower1,upper1],index=[\"flow\",\"lower\",\"upper\"]).T\n",
    "data1 = ColumnDataSource(data1.reset_index())"
   ]
  },
  {
   "cell_type": "code",
   "execution_count": 24,
   "id": "31060ef1-c9ae-4021-b004-d192e08cd366",
   "metadata": {},
   "outputs": [],
   "source": [
    "torch.save(gpr, \"PM2.5_flow_correction\");"
   ]
  },
  {
   "cell_type": "code",
   "execution_count": 25,
   "id": "b80fb58e-d082-467d-85c4-faf818c71e15",
   "metadata": {},
   "outputs": [],
   "source": [
    "exp_curve=curve_fit(lambda t,a,b: a*np.exp(b*t),  train.flow,train.pm_final);\n",
    "linear_curve=curve_fit(lambda t,a,b: a * t +b,  train.flow,train.pm_final);\n",
    "log_curve=curve_fit(lambda t,a,b: a * t +b,  train.flow,np.log(train.pm_final));"
   ]
  },
  {
   "cell_type": "code",
   "execution_count": 26,
   "id": "66786c58-d948-4c95-8ead-0ccb4f17b46a",
   "metadata": {},
   "outputs": [],
   "source": [
    "def exp(x, a, b):\n",
    "    return a * np.exp(b * x);\n",
    "def linear(x, a, b):\n",
    "    return a * x +b;\n"
   ]
  },
  {
   "cell_type": "code",
   "execution_count": 27,
   "id": "71e3dece-4f65-479b-8a02-3f01961360b1",
   "metadata": {},
   "outputs": [],
   "source": [
    "x=np.linspace(2,5,200)\n",
    "X_tor=torch.tensor(x).float()\n",
    "data=pd.DataFrame(x,index=np.arange(200),columns=[\"flow\"])\n",
    "data[\"lieanr_scale_pm\"]=(linear(4,*linear_curve[0])/linear(x,*linear_curve[0]))\n",
    "data[\"exp_scale_pm\"]=exp(4,*exp_curve[0])/exp(x,*exp_curve[0])\n",
    "data[\"guassion_scale_pm\"]=(gpr(torch.tensor(4*np.ones(len(x))).float())[0]/gpr(X_tor)[0]).detach().numpy()\n",
    "data[\"log_scale_pm\"]=linear(4,*log_curve[0])/linear(x,*log_curve[0])"
   ]
  },
  {
   "cell_type": "code",
   "execution_count": 28,
   "id": "54e88678-aa82-424a-aa9c-c57fdd552b84",
   "metadata": {},
   "outputs": [
    {
     "data": {
      "text/plain": [
       "(-0.12828858018130185,\n",
       " -0.11264449098064766,\n",
       " -0.12162450562557581,\n",
       " -0.12828858018130185)"
      ]
     },
     "execution_count": 28,
     "metadata": {},
     "output_type": "execute_result"
    }
   ],
   "source": [
    "r2_score(test.pm_final,linear(test.flow,*linear_curve[0])),r2_score(test.pm_final,gpr(torch.tensor(test.flow.values).float())[0].detach().numpy()),r2_score(test.pm_final,exp(test.flow,*exp_curve[0])),r2_score(test.pm_final,linear(test.flow,*linear_curve[0]))"
   ]
  },
  {
   "cell_type": "code",
   "execution_count": 29,
   "id": "d2f05fdb-387c-464e-8768-d49d7420a9b8",
   "metadata": {},
   "outputs": [],
   "source": [
    "def rmse(y_raw,y_predict):\n",
    "    return np.sqrt(np.mean(((y_raw-y_predict)**2)))"
   ]
  },
  {
   "cell_type": "code",
   "execution_count": 30,
   "id": "d638ac28-0655-495c-96ae-40033b3f3a70",
   "metadata": {},
   "outputs": [
    {
     "data": {
      "text/plain": [
       "(14.241742550798444,\n",
       " 14.142664712380574,\n",
       " 14.199621859605191,\n",
       " 14.241742550798444)"
      ]
     },
     "execution_count": 30,
     "metadata": {},
     "output_type": "execute_result"
    }
   ],
   "source": [
    "rmse(test.pm_final,linear(test.flow,*linear_curve[0])),rmse(test.pm_final,gpr(torch.tensor(test.flow.values).float())[0].detach().numpy()),rmse(test.pm_final,exp(test.flow,*exp_curve[0])),rmse(test.pm_final,linear(test.flow,*linear_curve[0]))"
   ]
  },
  {
   "cell_type": "code",
   "execution_count": 31,
   "id": "6864dfe0-b1dd-4d72-90f5-402fc735db20",
   "metadata": {},
   "outputs": [
    {
     "name": "stderr",
     "output_type": "stream",
     "text": [
      "Sample: 100%|███████████████████████████████████████| 3000/3000 [07:41,  6.50it/s, step size=8.03e-01, acc. prob=0.875]\n"
     ]
    }
   ],
   "source": [
    "clear_param_store()\n",
    "rbf_bc = gp.kernels.RBF(input_dim=1)\n",
    "\n",
    "rbf_bc.variance = PyroSample(dist.HalfNormal(torch.tensor(5.)))\n",
    "\n",
    "rbf_bc.lengthscale = PyroSample(dist.LogNormal(torch.tensor(0.), torch.tensor(0.4)))\n",
    "gpr_bc = gp.models.GPRegression(traning_bc[\"X\"],traning_bc[\"y\"], rbf)\n",
    "gpr_bc.noise = PyroSample(dist.HalfNormal(torch.tensor(5.)))\n",
    "\n",
    "\n",
    "nuts_kernel_bc = NUTS(gpr_bc.model)\n",
    "\n",
    "\n",
    "mcmc_bc = MCMC(nuts_kernel_bc,warmup_steps=2000, num_samples=1000)\n",
    "\n",
    "mcmc_bc.run()"
   ]
  },
  {
   "cell_type": "code",
   "execution_count": 32,
   "id": "6bf481fd-0b95-4bee-976e-39f6432b528b",
   "metadata": {},
   "outputs": [
    {
     "ename": "NameError",
     "evalue": "name 'posterior_samples_bc' is not defined",
     "output_type": "error",
     "traceback": [
      "\u001b[1;31m---------------------------------------------------------------------------\u001b[0m",
      "\u001b[1;31mNameError\u001b[0m                                 Traceback (most recent call last)",
      "Cell \u001b[1;32mIn[32], line 1\u001b[0m\n\u001b[1;32m----> 1\u001b[0m Predictive(gpr_bc, posterior_samples_bc)(traning_bc[\u001b[38;5;124m\"\u001b[39m\u001b[38;5;124mX\u001b[39m\u001b[38;5;124m\"\u001b[39m])\n",
      "\u001b[1;31mNameError\u001b[0m: name 'posterior_samples_bc' is not defined"
     ]
    }
   ],
   "source": [
    "Predictive(gpr_bc, posterior_samples_bc)(traning_bc[\"X\"])"
   ]
  },
  {
   "cell_type": "code",
   "execution_count": null,
   "id": "e40a7aa7-370a-4d96-b19e-3fef4799c8f1",
   "metadata": {},
   "outputs": [],
   "source": [
    "posterior_samples_bc = mcmc_bc.get_samples(500)\n",
    "posterior_predictive_bc = Predictive(gpr_bc, posterior_samples_bc)(traning_bc[\"X\"])\n",
    "prior_bc = Predictive(gpr_bc, num_samples=500)(traning_bc[\"X\"])\n",
    "\n",
    "pyro_data_bc = az.from_pyro(mcmc_bc,\n",
    "    prior=prior_bc,\n",
    "    posterior_predictive=posterior_predictive_bc,\n",
    "\n",
    ")\n",
    "pyro_data"
   ]
  },
  {
   "cell_type": "code",
   "execution_count": null,
   "id": "af6d9014-d35c-470c-b617-6de7c724ec09",
   "metadata": {},
   "outputs": [],
   "source": [
    "az.style.use(\"arviz-doc\")\n",
    "\n",
    "ax = az.plot_trace(pyro_data_bc,backend='bokeh')"
   ]
  },
  {
   "cell_type": "code",
   "execution_count": null,
   "id": "92839f9d-1015-436f-bfff-d6a528c6b989",
   "metadata": {},
   "outputs": [],
   "source": [
    "ax = az.plot_density(\n",
    "    [pyro_data_bc],\n",
    "    shade=0.1,backend='bokeh'\n",
    ")"
   ]
  },
  {
   "cell_type": "code",
   "execution_count": null,
   "id": "9126b9ff-6455-4ee7-aad6-fcc3bb3ce6e4",
   "metadata": {},
   "outputs": [],
   "source": [
    "az.plot_pair(centered,kind='kde',divergences=True,textsize=18)"
   ]
  },
  {
   "cell_type": "code",
   "execution_count": null,
   "id": "7ab4497f-52c0-4d3a-ab2e-cadd4ce5351c",
   "metadata": {},
   "outputs": [],
   "source": [
    "torch.save(gpr_bc, \"BC_flow_correction\")\n",
    "\n",
    "\n",
    "\n"
   ]
  },
  {
   "cell_type": "code",
   "execution_count": null,
   "id": "7d36b282-a279-40df-b9df-af0c6e52124c",
   "metadata": {},
   "outputs": [],
   "source": [
    "exp_curve_bc=curve_fit(lambda t,a,b: a*np.exp(b*t),  train.flow,train.sv_final)\n",
    "linear_curve_bc=curve_fit(lambda t,a,b: a * t +b,  train.flow,train.sv_final)\n",
    "log_curve_bc=curve_fit(lambda t,a,b: a * t +b,  train.flow,np.log(train.sv_final))"
   ]
  },
  {
   "cell_type": "code",
   "execution_count": null,
   "id": "9e8e7647-09c9-4179-a06f-157d628bd8a1",
   "metadata": {},
   "outputs": [],
   "source": [
    "X=torch.tensor(train.flow.values).float()\n",
    "y=torch.tensor(train.sv_final.values).float()\n",
    "y_pm=torch.tensor(train.pm_final.values).float()"
   ]
  },
  {
   "cell_type": "code",
   "execution_count": null,
   "id": "8fc544d6-f990-4842-8770-f064f789202d",
   "metadata": {},
   "outputs": [],
   "source": [
    "train[\"PM25_Gaussion\"]=(y_pm*gpr(torch.tensor(4*np.ones(len(X))).float())[0]/gpr(X)[0]).detach().numpy()\n",
    "train[\"pm25_linear\"]=linear(4,*linear_curve[0])/linear(train.flow.values,*linear_curve[0])*train.pm_final.values\n",
    "train[\"pm25_exp\"]=exp(4,*exp_curve[0])/exp(train.flow,*exp_curve[0])*train.pm_final.values\n",
    "train[\"pm25_log\"]=linear(4,*log_curve[0])/linear(train.flow,*log_curve[0])*train.pm_final.values"
   ]
  },
  {
   "cell_type": "code",
   "execution_count": null,
   "id": "254e9d84-5b12-4b83-b253-11c08eab7d05",
   "metadata": {},
   "outputs": [],
   "source": [
    "train[\"bc_Gaussion\"]=(y*gpr_bc(torch.tensor(4*np.ones(len(X))).float())[0]/gpr_bc(X)[0]).detach().numpy()\n",
    "train[\"bc_linear\"]=linear(4,*linear_curve_bc[0])/linear(train.flow,*linear_curve_bc[0])*train.sv_final\n",
    "train[\"bc_exp\"]=exp(4,*exp_curve_bc[0])/exp(train.flow,*exp_curve_bc[0])*train.sv_final\n",
    "train[\"bc_log\"]=linear(4,*log_curve_bc[0])/linear(train.flow,*log_curve_bc[0])*train.sv_final"
   ]
  },
  {
   "cell_type": "code",
   "execution_count": null,
   "id": "3d4f6ede-0f4b-4bce-af8e-881e7a5815c7",
   "metadata": {},
   "outputs": [],
   "source": [
    "X=torch.tensor(PM25.flow.values).float()\n",
    "y=torch.tensor(PM25.sv_final.values).float()\n",
    "y_pm=torch.tensor(PM25.pm_final.values).float()"
   ]
  },
  {
   "cell_type": "code",
   "execution_count": null,
   "id": "257fc73d-80ff-447f-8a05-184f92af335a",
   "metadata": {},
   "outputs": [],
   "source": [
    "PM25[\"BC_Gaussion\"]=(y *gpr_bc(torch.tensor(4*np.ones(len(PM25.flow))).float())[0]/gpr_bc(X)[0]).detach().numpy()\n",
    "PM25[\"BC_linear\"]=linear(4,*linear_curve_bc[0])/linear(PM25.flow,*linear_curve_bc[0])*PM25.sv_final\n",
    "PM25[\"BC_exp\"]=exp(4,*exp_curve_bc[0])/exp(PM25.flow,*exp_curve_bc[0])*PM25.sv_final\n",
    "PM25[\"BC_log\"]=linear(4,*log_curve_bc[0])/linear(PM25.flow,*log_curve_bc[0])*PM25.sv_final"
   ]
  },
  {
   "cell_type": "code",
   "execution_count": null,
   "id": "771b4e5b-801f-49e9-9686-1a910757671d",
   "metadata": {},
   "outputs": [],
   "source": [
    "PM25[\"pm25_Gaussion\"]=(y_pm *gpr(torch.tensor(4*np.ones(len(PM25.flow))).float())[0]/gpr(X)[0]).detach().numpy()\n",
    "PM25[\"pm25_linear\"]=linear(4,*linear_curve[0])/linear(PM25.flow,*linear_curve[0])*PM25.pm_final\n",
    "PM25[\"pm25_exp\"]=exp(4,*exp_curve[0])/exp(PM25.flow,*exp_curve[0])*PM25.pm_final\n",
    "PM25[\"pm25_log\"]=linear(4,*log_curve[0])/linear(PM25.flow,*log_curve[0])*PM25.pm_final"
   ]
  },
  {
   "cell_type": "code",
   "execution_count": null,
   "id": "006c4a9b-368a-4197-ad9a-6c0b46412b0f",
   "metadata": {},
   "outputs": [],
   "source": [
    "\n",
    "\n",
    "bc_model,bc_model_std=gpr_bc(linmod, full_cov=True)\n",
    "bc_model_np,bc_model_std_np=bc_model.detach().numpy().copy(),bc_model_std.diag().sqrt().detach().numpy().copy()\n",
    "lower1_bc = bc_model_np - bc_model_std_np\n",
    "upper1_bc = bc_model_np + bc_model_std_np\n",
    "data1_bc=pd.DataFrame([linmod_np,lower1_bc,upper1_bc],index=[\"flow\",\"lower_bc\",\"upper_bc\"]).T\n",
    "data1_bc = ColumnDataSource(data1_bc.reset_index())"
   ]
  },
  {
   "cell_type": "code",
   "execution_count": null,
   "id": "689d64ae-5a5d-4418-932a-5e67fac656bf",
   "metadata": {},
   "outputs": [],
   "source": [
    "bc_model_std_np,pm_model_std_np"
   ]
  },
  {
   "cell_type": "code",
   "execution_count": null,
   "id": "02143776-a64d-4616-9850-553a46b58473",
   "metadata": {},
   "outputs": [],
   "source": [
    "std=train.sort_values(\"flow\").rolling(50, min_periods=1,closed='both',step=1).std()\n",
    "mean=train.sort_values(\"flow\").rolling(50, min_periods=1,closed='both',step=1).mean()\n",
    "std.columns=std.columns+\"_std\"\n",
    "mean=pd.concat([mean,std],axis=1)\n",
    "lower1_std = mean.pm_final - mean.pm_final_std\n",
    "upper1_std = mean.pm_final + mean.pm_final_std\n",
    "lower1_bc_std  = mean.sv_final - mean.sv_final_std\n",
    "upper1_bc_std  = mean.sv_final + mean.sv_final_std\n",
    "mean[\"lower1_std_pm\"]=lower1_std\n",
    "mean[\"upper1_std_pm\"]=upper1_std\n",
    "mean[\"lower1_std_bc\"]=lower1_bc_std\n",
    "mean[\"upper1_std_bc\"]=upper1_bc_std\n",
    "\n",
    "mean=mean.dropna()\n",
    "mean1 = ColumnDataSource(mean.reset_index())"
   ]
  },
  {
   "cell_type": "code",
   "execution_count": null,
   "id": "cb9fa013-ac46-4985-af7a-00218f422b23",
   "metadata": {},
   "outputs": [],
   "source": [
    "train"
   ]
  },
  {
   "cell_type": "code",
   "execution_count": null,
   "id": "b5965914-dd4a-4693-89c2-ea31bb945fb8",
   "metadata": {},
   "outputs": [],
   "source": [
    "p = figure(tools=TOOLS);\n",
    "\n",
    "p.xgrid.grid_line_color=None;\n",
    "p.ygrid.grid_line_alpha=0.5;\n",
    "p.line(mean.flow, mean.pm_final, line_width=3,color=\"green\",legend_label=\"mean_roll=100\");\n",
    "p.line(linmod_np, pm25_model_np, line_width=3,color=\"red\",legend_label=\"Gaussion model\");\n",
    "p.scatter(train.flow, y=train.pm_final, color=\"blue\", marker=\"dot\", size=20, alpha=0.4,legend_label=\"raw points\");\n",
    "band = Band(base=\"flow\", lower=\"lower1_std_pm\", upper=\"upper1_std_pm\",source=mean1, fill_color=\"red\", line_color=\"black\");\n",
    "band1 = Band(base=\"flow\", lower=\"lower\", upper=\"upper\",source=data1,fill_alpha=0.5, fill_color=\"blue\", line_color=\"black\");\n",
    "\n",
    "p.add_layout(band);\n",
    "p.add_layout(band1);\n",
    "\n",
    "p1 = figure(tools=\"\", toolbar_location=None);\n",
    "\n",
    "p1.xgrid.grid_line_color=None;\n",
    "p1.ygrid.grid_line_alpha=0.5;\n",
    "p1.line(mean.flow, mean.sv_final, line_width=3,color=\"green\",legend_label=\"mean_roll=100\");\n",
    "p1.line(linmod_np, bc_model_np, line_width=3,color=\"red\",legend_label=\"Gaussion model\");\n",
    "p1.scatter(train.flow, y=train.sv_final, color=\"blue\", marker=\"dot\", size=20, alpha=0.4,legend_label=\"raw points\");\n",
    "band2 = Band(base=\"flow\", lower=\"lower_bc\", upper=\"upper_bc\",source=data1_bc, fill_color=\"blue\", line_color=\"black\");\n",
    "band3 = Band(base=\"flow\", lower=\"lower1_std_bc\", upper=\"upper1_std_bc\",source=mean1,fill_alpha=0.5, fill_color=\"red\", line_color=\"black\");\n",
    "p1.add_layout(band3);\n",
    "p1.add_layout(band2);\n",
    "p.title.text = r\"$$ PM_{2.5}$$ calibration of flow\";\n",
    "p1.title.text = r\" Black Carbon calibration of flow\";\n",
    "p1.xaxis.axis_label = r'$$Flow$$';\n",
    "p1.yaxis.axis_label = 'Black carbon ';\n",
    "p.xaxis.axis_label = r'$$Flow$$';\n",
    "p.yaxis.axis_label = r'$$PM_{2.5}$$ ';\n",
    "p1.legend.title_text_font_size = \"24px\";\n",
    "p.legend.title_text_font_size = \"24px\";\n",
    "\n",
    "p.xaxis.axis_label_text_font_size = \"20px\";\n",
    "p.yaxis.axis_label_text_font_size = \"20px\";\n",
    "p1.xaxis.axis_label_text_font_size = \"20px\";\n",
    "p1.yaxis.axis_label_text_font_size = \"20px\";\n",
    "\n",
    "p1.yaxis.axis_label_text_font_style = \"bold\";\n",
    "p.xaxis.axis_label_text_font_style = \"bold\";\n",
    "\n",
    "p.yaxis.axis_label_text_font_style = \"bold\";\n",
    "p1.xaxis.axis_label_text_font_style = \"bold\";\n",
    "grid =  gridplot([[p, p1]], width=500, height=500);\n",
    "\n",
    "show(column(grid));"
   ]
  },
  {
   "cell_type": "code",
   "execution_count": null,
   "id": "5db2c73b-24a7-4772-b618-ca0b9b06f558",
   "metadata": {},
   "outputs": [],
   "source": [
    "p1=np.polyfit(PM25.flow.values,PM25.pm_final,1);\n",
    "p2=np.polyfit(PM25.flow.values,PM25.pm25_Gaussion,1);\n",
    "p3=np.polyfit(PM25.flow.values,PM25.pm25_linear,1);\n",
    "p4=np.polyfit(PM25.flow.values,PM25.pm25_exp,1);"
   ]
  },
  {
   "cell_type": "code",
   "execution_count": null,
   "id": "990951d6-df82-430c-8ea1-c730b8f53386",
   "metadata": {},
   "outputs": [],
   "source": [
    "x=np.linspace(3.4,4.6,100)"
   ]
  },
  {
   "cell_type": "code",
   "execution_count": null,
   "id": "e9686a4a-b903-4a3d-9d59-6d277c0cd681",
   "metadata": {},
   "outputs": [],
   "source": [
    "\n",
    "p = figure(tools=\"\", toolbar_location=None)\n",
    "p.scatter(PM25.flow, y=PM25.pm_final, color=\"blue\", marker=\"dot\", size=20, alpha=0.4);\n",
    "p.line(x, linear(x,*p1), line_width=3,legend_label=\"Raw fit\", line_color=\"red\");\n",
    "p.line(x, linear(x,*p2), line_width=3,legend_label=\"Gaussion correction\", line_color=\"green\");\n",
    "p.line(x, linear(x,*p3), line_width=3,legend_label=\"Linaer correction\", line_color=\"yellow\");\n",
    "p.line(x, linear(x,*p4), line_width=3,legend_label=\"Exponential correction\", line_color=\"brown\");\n",
    "\n",
    "show(p)"
   ]
  },
  {
   "cell_type": "code",
   "execution_count": null,
   "id": "3d9b5f16-bda1-4e31-b39b-51295b5da1b1",
   "metadata": {},
   "outputs": [],
   "source": [
    "r2_score(test.sv_final,linear(test.flow,*linear_curve_bc[0])),r2_score(test.sv_final.values,gpr_bc(torch.tensor(test.flow.values).float())[0].detach().numpy()),r2_score(test.sv_final,exp(test.flow,*exp_curve_bc[0])),r2_score(test.sv_final,linear(test.flow,*linear_curve_bc[0]))"
   ]
  },
  {
   "cell_type": "code",
   "execution_count": null,
   "id": "cad752a0-23af-4f70-9ca3-0e025aa97bf0",
   "metadata": {},
   "outputs": [],
   "source": [
    "rmse(test.sv_final,linear(test.flow,*linear_curve_bc[0])),rmse(test.sv_final,gpr_bc(torch.tensor(test.flow.values).float())[0].detach().numpy()),rmse(test.sv_final,exp(test.flow,*exp_curve_bc[0])),rmse(test.sv_final,linear(test.flow,*linear_curve_bc[0]))"
   ]
  },
  {
   "cell_type": "code",
   "execution_count": null,
   "id": "74452d44-4cdb-43be-9a12-0623a465a968",
   "metadata": {},
   "outputs": [],
   "source": [
    "x=np.linspace(3.4,4.6,200)\n",
    "x_tor=torch.tensor(x).float()"
   ]
  },
  {
   "cell_type": "code",
   "execution_count": null,
   "id": "9aa3f6d6-8f19-4c73-9716-2b66d0ff1ca8",
   "metadata": {},
   "outputs": [],
   "source": [
    "\n",
    "data[\"lieanr_scale_pm\"]=(linear(4,*linear_curve[0])/linear(x,*linear_curve[0]))\n",
    "data[\"exp_scale_pm\"]=exp(4,*exp_curve[0])/exp(x,*exp_curve[0])\n",
    "data[\"guassion_scale_pm\"]=(gpr(torch.tensor(4*np.ones(len(X_tor))).float())[0]/gpr(X_tor)[0]).detach().numpy()\n",
    "data[\"log_scale_pm\"]=linear(4,*log_curve[0])/linear(x,*log_curve[0])"
   ]
  },
  {
   "cell_type": "code",
   "execution_count": null,
   "id": "8cf65848-74a8-4273-98cd-f9e95e44e9c6",
   "metadata": {},
   "outputs": [],
   "source": [
    "\n",
    "data[\"lieanr_scale_bc\"]=(linear(4,*linear_curve_bc[0])/linear(x,*linear_curve_bc[0]))\n",
    "data[\"exp_scale_bc\"]=exp(4,*exp_curve_bc[0])/exp(x,*exp_curve_bc[0])\n",
    "data[\"guassion_scale_bc\"]=(gpr_bc(torch.tensor(4*np.ones(len(X_tor))).float())[0]/gpr_bc(X_tor)[0]).detach().numpy()\n",
    "data[\"log_scale_bc\"]=linear(4,*log_curve_bc[0])/linear(x,*log_curve_bc[0])"
   ]
  },
  {
   "cell_type": "code",
   "execution_count": null,
   "id": "2b821ea3-e3bf-4614-a81c-da3d6c4b69e4",
   "metadata": {},
   "outputs": [],
   "source": [
    "p = figure(title = \"Penguin size\", background_fill_color=\"#fafafa\",tools=TOOLS)\n",
    "\n",
    "p.line(data.guassion_scale_pm, data.guassion_scale_bc, line_color=\"blue\",\n",
    "        line_width=3, legend_label=\"Linear\")\n",
    "show(p)"
   ]
  },
  {
   "cell_type": "code",
   "execution_count": null,
   "id": "37e2350f-a302-44ef-8e07-e35ccce3f0c2",
   "metadata": {},
   "outputs": [],
   "source": [
    "p = figure(title = r\"$$PM_{2.5}$$\", background_fill_color=\"#fafafa\",tools=TOOLS)\n",
    "\n",
    "p.line(data.flow, data.lieanr_scale_pm, line_color=\"blue\", line_width=3, legend_label=\"Linear\")\n",
    "p.line(data.flow, data.exp_scale_pm, line_color=\"red\", line_width=3, legend_label=\"Exponential\")\n",
    "p.line(data.flow, data.guassion_scale_pm, line_color=\"green\",line_width=3, legend_label=\"Gaussian\")\n",
    "p.line(data.flow, data.log_scale_pm, line_color=\"yellow\", line_width=3, legend_label=\"Log\")\n",
    "p.legend.location = \"top_left\"\n",
    "p.legend.title = r\"Correction\"\n",
    "p.legend.title_text_font_size = \"16px\"\n",
    "p.legend.title_text_font_style = \"bold\"\n",
    "p.xaxis.axis_label = r'$$Flow \\frac{L}{s}$$'\n",
    "p.yaxis.axis_label = 'scale'\n",
    "p.xaxis.axis_label_text_font_size = \"14px\"\n",
    "p.yaxis.axis_label_text_font_size = \"16px\"\n",
    "p.yaxis.axis_label_text_font_style = \"bold\"\n",
    "p.xaxis.axis_label_text_font_style = \"bold\"\n",
    "\n",
    "p1 = figure(title = \"Black Carbon\", background_fill_color=\"#fafafa\")\n",
    "\n",
    "p1.line(data.flow, data.lieanr_scale_bc, line_color=\"blue\",\n",
    "        line_width=3, legend_label=\"Linear\")\n",
    "p1.line(data.flow, data.exp_scale_bc, line_color=\"red\", line_width=3, legend_label=\"Exponential\")\n",
    "p1.line(data.flow, data.guassion_scale_bc, line_color=\"green\", line_width=3, legend_label=\"Gaussian\")\n",
    "#p1.line(data.flow, data.log_scale_bc, line_color=\"yellow\", line_width=3, legend_label=\"Log\")\n",
    "p1.legend.location = \"top_left\"\n",
    "p1.legend.title = \"Correction\"\n",
    "p1.legend.title_text_font_size = \"16px\"\n",
    "p1.xaxis.axis_label_text_font_size = \"14px\"\n",
    "p1.yaxis.axis_label_text_font_size = \"16px\"\n",
    "p1.yaxis.axis_label_text_font_style = \"bold\"\n",
    "p1.xaxis.axis_label_text_font_style = \"bold\"\n",
    "\n",
    "p1.legend.title_text_font_style = \"bold\"\n",
    "p1.xaxis.axis_label = r'$$Flow \\frac{L}{s}$$'\n",
    "p1.yaxis.axis_label = 'scale'\n",
    "grid =  gridplot([[p, p1]], width=500, height=500)\n",
    "\n",
    "show(column(grid))"
   ]
  },
  {
   "cell_type": "code",
   "execution_count": 3,
   "id": "c5ff8700-bc92-497e-8854-a990c3ddc7ef",
   "metadata": {},
   "outputs": [
    {
     "ename": "NameError",
     "evalue": "name 'PM25' is not defined",
     "output_type": "error",
     "traceback": [
      "\u001b[1;31m---------------------------------------------------------------------------\u001b[0m",
      "\u001b[1;31mNameError\u001b[0m                                 Traceback (most recent call last)",
      "Cell \u001b[1;32mIn[3], line 1\u001b[0m\n\u001b[1;32m----> 1\u001b[0m PM25\n",
      "\u001b[1;31mNameError\u001b[0m: name 'PM25' is not defined"
     ]
    }
   ],
   "source": [
    "PM25"
   ]
  },
  {
   "cell_type": "code",
   "execution_count": 435,
   "id": "1d0bd9dc-8194-4d0c-9282-571520c49bd0",
   "metadata": {},
   "outputs": [],
   "source": [
    "PM25.to_excel(\"pm25_BC_corrected.xlsx\")"
   ]
  }
 ],
 "metadata": {
  "kernelspec": {
   "display_name": "Python 3 (ipykernel)",
   "language": "python",
   "name": "python3"
  },
  "language_info": {
   "codemirror_mode": {
    "name": "ipython",
    "version": 3
   },
   "file_extension": ".py",
   "mimetype": "text/x-python",
   "name": "python",
   "nbconvert_exporter": "python",
   "pygments_lexer": "ipython3",
   "version": "3.11.7"
  }
 },
 "nbformat": 4,
 "nbformat_minor": 5
}
