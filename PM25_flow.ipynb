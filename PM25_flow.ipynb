{
 "cells": [
  {
   "cell_type": "code",
   "execution_count": 1,
   "id": "d28d499f-2c29-46c7-91ad-b3f14b83eb77",
   "metadata": {},
   "outputs": [],
   "source": [
    "import numpy as np \n",
    "import matplotlib.pyplot as plt\n",
    "import pandas as pd\n",
    "import osmnx as ox\n",
    "import pyro\n",
    "import pyro.contrib.gp as gp\n",
    "import pyro.distributions as dist\n",
    "import sklearn as sk\n",
    "from pyro.infer import MCMC, NUTS, Predictive,HMC\n",
    "import torch\n",
    "import random\n",
    "import kennard_stone as ks\n",
    "import calendar\n",
    "import arviz as az\n",
    "import jax.numpy as jnp\n",
    "from scipy.optimize import curve_fit\n",
    "import seaborn as sns\n",
    "from bokeh.plotting import figure, show\n",
    "from bokeh.transform import factor_cmap, factor_mark\n",
    "import numpy as np\n",
    "from bokeh.io import curdoc\n",
    "from bokeh.layouts import column\n",
    "from bokeh.models import Div\n",
    "from bokeh.palettes import Spectral\n",
    "from print_versions import print_versions\n"
   ]
  },
  {
   "cell_type": "code",
   "execution_count": 2,
   "id": "9c10d237-4c1e-47d0-bec8-cc95fe7e0e4b",
   "metadata": {},
   "outputs": [
    {
     "name": "stdout",
     "output_type": "stream",
     "text": [
      "json==2.0.9\n",
      "ipykernel==6.28.0\n",
      "numpy==1.26.4\n",
      "pandas==2.2.3\n",
      "tensorflow==2.18.0\n",
      "keras==3.5.0\n",
      "torch==2.5.1\n",
      "ipywidgets==7.6.5\n",
      "xarray==2023.6.0\n",
      "osmnx==1.9.3\n",
      "pyro==1.9.1\n",
      "sklearn==1.2.2\n",
      "kennard_stone==3.0.0\n",
      "arviz==0.20.0\n",
      "scipy==1.14.0\n",
      "seaborn==0.12.2\n",
      "bokeh==3.6.0\n"
     ]
    }
   ],
   "source": [
    "print_versions(globals())"
   ]
  },
  {
   "cell_type": "code",
   "execution_count": 5,
   "id": "a93a6ad2-d6ed-4fe8-902b-393dc10047d5",
   "metadata": {},
   "outputs": [],
   "source": [
    "\n",
    "PM25=pd.read_excel(r\"pm25.xlsx\")\n",
    "PM25=PM25.loc[PM25.pm_final.isna()==0,:]"
   ]
  },
  {
   "cell_type": "code",
   "execution_count": 6,
   "id": "4e1b6329-2e57-4689-82bb-713639aa53f1",
   "metadata": {},
   "outputs": [],
   "source": [
    "X_full, y_full=PM25.loc[:,[\"sv_final\",\"flow\"]],PM25.loc[:,[\"pm_final\",\"sv_final\"]]"
   ]
  },
  {
   "cell_type": "code",
   "execution_count": 7,
   "id": "5c40b711-1163-49fb-99fa-6995a04fe396",
   "metadata": {},
   "outputs": [
    {
     "name": "stderr",
     "output_type": "stream",
     "text": [
      "2025-01-31 09:56:37,147 - kennard_stone.utils._pairwise:109[INFO] - Calculating pairwise distances using scikit-learn.\n",
      "\n",
      "2025-01-31 09:56:37,177 - kennard_stone.utils._pairwise:109[INFO] - Calculating pairwise distances using scikit-learn.\n",
      "\n"
     ]
    }
   ],
   "source": [
    "X_train, X_test, y_train, y_test = ks.train_test_split(X_full, y_full, test_size = 0.2)"
   ]
  },
  {
   "cell_type": "code",
   "execution_count": 8,
   "id": "63b7759c-e76d-4905-8909-48d1b6421449",
   "metadata": {},
   "outputs": [],
   "source": [
    "traning_pm25 = {\"X\":torch.tensor(X_train.flow.values).float(),\"y\":torch.tensor(y_train.pm_final.values).float()}\n",
    "traning_BC = {\"X\":torch.tensor(X_train.flow.values).float(),\"y\":torch.tensor(y_train.sv_final.values).float()}\n",
    "test_pm25 = {\"X\":torch.tensor(X_test.flow.values).float(),\"y\":torch.tensor(y_test.pm_final.values).float()}"
   ]
  },
  {
   "cell_type": "code",
   "execution_count": 13,
   "id": "9a5edb37-93ca-4481-904d-0da66031d61b",
   "metadata": {},
   "outputs": [],
   "source": [
    "def plot(\n",
    "    plot_observed_data=False,\n",
    "    plot_predictions=False,\n",
    "    n_prior_samples=0,\n",
    "    model=None,\n",
    "    kernel=None,\n",
    "    n_test=500,\n",
    "    ax=None,\n",
    "):\n",
    "\n",
    "    if ax is None:\n",
    "        fig, ax = plt.subplots(figsize=(12, 6))\n",
    "    if plot_observed_data:\n",
    "        ax.plot(X.numpy(), y.numpy(), \"kx\")\n",
    "    if plot_predictions:\n",
    "        Xtest = torch.linspace(-0.5, 5.5, n_test)  # test inputs\n",
    "        # compute predictive mean and variance\n",
    "        with torch.no_grad():\n",
    "            if type(model) == gp.models.VariationalSparseGP:\n",
    "                mean, cov = model(Xtest, full_cov=True)\n",
    "            else:\n",
    "                mean, cov = model(Xtest, full_cov=True, noiseless=False)\n",
    "        sd = cov.diag().sqrt()  # standard deviation at each input point x\n",
    "        ax.plot(Xtest.numpy(), mean.numpy(), \"r\", lw=2)  # plot the mean\n",
    "        ax.fill_between(\n",
    "            Xtest.numpy(),  # plot the two-sigma uncertainty about the mean\n",
    "            (mean - 2.0 * sd).numpy(),\n",
    "            (mean + 2.0 * sd).numpy(),\n",
    "            color=\"C0\",\n",
    "            alpha=0.3,\n",
    "        )\n",
    "    if n_prior_samples > 0:  # plot samples from the GP prior\n",
    "        Xtest = torch.linspace(-0.5, 5.5, n_test)  # test inputs\n",
    "        noise = (\n",
    "            model.noise\n",
    "            if type(model) != gp.models.VariationalSparseGP\n",
    "            else model.likelihood.variance\n",
    "        )\n",
    "        cov = kernel.forward(Xtest) + noise.expand(n_test).diag()\n",
    "        samples = dist.MultivariateNormal(\n",
    "            torch.zeros(n_test), covariance_matrix=cov\n",
    "        ).sample(sample_shape=(n_prior_samples,))\n",
    "        ax.plot(Xtest.numpy(), samples.numpy().T, lw=2, alpha=0.4)\n",
    "\n",
    "    ax.set_xlim(-0.5, 5.5)"
   ]
  },
  {
   "cell_type": "code",
   "execution_count": null,
   "id": "e86bbf24-69f5-40f0-af89-ffcc7874ba6a",
   "metadata": {},
   "outputs": [],
   "source": []
  },
  {
   "cell_type": "code",
   "execution_count": 16,
   "id": "16f7aafd-9196-4348-8254-a53f651f11bb",
   "metadata": {},
   "outputs": [],
   "source": [
    "X,y=torch.tensor(X_train.flow.values).float(),torch.tensor(y_train.pm_final.values).float()"
   ]
  },
  {
   "cell_type": "code",
   "execution_count": null,
   "id": "430797db-6f2d-43fb-81e5-e5904f1b7eaa",
   "metadata": {},
   "outputs": [
    {
     "name": "stderr",
     "output_type": "stream",
     "text": [
      "Warmup:  32%|████████████▊                           | 803/2500 [02:27,  8.54it/s, step size=1.06e+00, acc. prob=0.693]"
     ]
    }
   ],
   "source": [
    "pyro.clear_param_store()\n",
    "rbf = gp.kernels.RBF(input_dim=1)\n",
    "\n",
    "rbf.variance = pyro.nn.PyroSample(dist.HalfNormal(torch.tensor(10.)))\n",
    "\n",
    "rbf.lengthscale = pyro.nn.PyroSample(dist.LogNormal(torch.tensor(0.), torch.tensor(0.4)))\n",
    "gpr = gp.models.GPRegression(X,y, rbf)\n",
    "gpr.noise = pyro.nn.PyroSample(dist.HalfNormal(torch.tensor(20.)))\n",
    "\n",
    "nuts_kernel = NUTS(gpr.model,target_accept_prob=0.7)\n",
    "\n",
    "mcmc = MCMC(nuts_kernel, num_samples=1000,warmup_steps=1500,num_chains=1)\n",
    "\n",
    "mcmc.run()"
   ]
  },
  {
   "cell_type": "code",
   "execution_count": null,
   "id": "4edb7d3f-7e11-4961-a107-f993116fdf70",
   "metadata": {},
   "outputs": [],
   "source": [
    "plot(model=gpr, plot_observed_data=True, plot_predictions=True)\n",
    "plt.xlim(3.3,4.6)\n",
    "plt.savefig(\"flow_pm25.png\")"
   ]
  },
  {
   "cell_type": "code",
   "execution_count": null,
   "id": "e460625d-8da2-475e-afe7-68883ee92913",
   "metadata": {},
   "outputs": [],
   "source": [
    "mcmc.diagnostics()"
   ]
  },
  {
   "cell_type": "code",
   "execution_count": null,
   "id": "509f2995-9290-478a-89d7-d12b873ae4ff",
   "metadata": {},
   "outputs": [],
   "source": [
    "posterior_samples = mcmc.get_samples()\n",
    "posterior_predictive = Predictive(gpr, posterior_samples)(traning_pm25[\"X\"])\n",
    "prior = Predictive(gpr, num_samples=500)(traning_pm25[\"X\"])\n",
    "\n",
    "pyro_data = az.from_pyro(mcmc,\n",
    "    prior=prior,\n",
    "    posterior_predictive=posterior_predictive,log_likelihood=False\n",
    "\n",
    ")\n",
    "pyro_data"
   ]
  },
  {
   "cell_type": "code",
   "execution_count": null,
   "id": "8766705a-ca7e-4479-9b96-c8e0b22a479c",
   "metadata": {},
   "outputs": [],
   "source": [
    "az.style.use(\"arviz-doc\")\n",
    "\n",
    "ax = az.plot_trace(pyro_data)"
   ]
  },
  {
   "cell_type": "code",
   "execution_count": null,
   "id": "820dade9-0b92-4c0f-be9b-e3da3e9d3b4c",
   "metadata": {},
   "outputs": [],
   "source": [
    "ax = az.plot_density(\n",
    "    [pyro_data],\n",
    "    shade=0.1,\n",
    ")"
   ]
  },
  {
   "cell_type": "code",
   "execution_count": null,
   "id": "31060ef1-c9ae-4021-b004-d192e08cd366",
   "metadata": {},
   "outputs": [],
   "source": [
    "torch.save(gpr, \"PM2.5_flow_correction\")"
   ]
  },
  {
   "cell_type": "code",
   "execution_count": null,
   "id": "b80fb58e-d082-467d-85c4-faf818c71e15",
   "metadata": {},
   "outputs": [],
   "source": [
    "exp_curve=curve_fit(lambda t,a,b: a*np.exp(b*t),  X_train.flow,y_train.pm_final)\n",
    "linear_curve=curve_fit(lambda t,a,b: a * t +b,  X_train.flow,y_train.pm_final)\n",
    "log_curve=curve_fit(lambda t,a,b: a * t +b,  X_train.flow,np.log(y_train.pm_final))"
   ]
  },
  {
   "cell_type": "code",
   "execution_count": null,
   "id": "66786c58-d948-4c95-8ead-0ccb4f17b46a",
   "metadata": {},
   "outputs": [],
   "source": [
    "def exp(x, a, b):\n",
    "    return a * np.exp(b * x)\n",
    "def linear(x, a, b):\n",
    "    return a * x +b\n"
   ]
  },
  {
   "cell_type": "code",
   "execution_count": null,
   "id": "5832698f-5a36-465d-a593-f21393d99b75",
   "metadata": {},
   "outputs": [],
   "source": [
    "y_train[\"PM25_Gaussion\"]=(y*gpr(torch.tensor(4*np.ones(len(X))).float())[0]/gpr(X)[0]).detach().numpy()\n",
    "y_train[\"pm25_linear\"]=linear(4,*linear_curve[0])/linear(X_train.flow,*linear_curve[0])*y_train.pm_final\n",
    "y_train[\"pm25_exp\"]=exp(4,*exp_curve[0])/exp(X_train.flow,*exp_curve[0])*y_train.pm_final\n",
    "y_train[\"pm25_log\"]=linear(4,*log_curve[0])/linear(X_train.flow,*log_curve[0])*y_train.pm_final"
   ]
  },
  {
   "cell_type": "code",
   "execution_count": null,
   "id": "71e3dece-4f65-479b-8a02-3f01961360b1",
   "metadata": {},
   "outputs": [],
   "source": [
    "x=np.linspace(2,5,200)\n",
    "X_tor=torch.tensor(x).float()\n",
    "data=pd.DataFrame(x,index=np.arange(100),columns=[\"flow\"])\n",
    "data[\"lieanr_scale_pm\"]=(linear(4,*linear_curve[0])/linear(x,*linear_curve[0]))\n",
    "data[\"exp_scale_pm\"]=exp(4,*exp_curve[0])/exp(x,*exp_curve[0])\n",
    "data[\"guassion_scale_pm\"]=(gpr(torch.tensor(4*np.ones(len(x))).float())[0]/gpr(X_tor)[0]).detach().numpy()\n",
    "data[\"log_scale_pm\"]=linear(4,*log_curve[0])/linear(x,*log_curve[0])"
   ]
  },
  {
   "cell_type": "code",
   "execution_count": null,
   "id": "6864dfe0-b1dd-4d72-90f5-402fc735db20",
   "metadata": {},
   "outputs": [],
   "source": [
    "pyro.clear_param_store()\n",
    "rbf_bc = gp.kernels.RBF(input_dim=1)\n",
    "\n",
    "rbf_bc.variance = pyro.nn.PyroSample(dist.HalfNormal(torch.tensor(5.)))\n",
    "X=traning_BC[\"X\"]\n",
    "y=traning_BC[\"y\"]\n",
    "rbf_bc.lengthscale = pyro.nn.PyroSample(dist.LogNormal(torch.tensor(0.), torch.tensor(0.4)))\n",
    "gpr_bc = gp.models.GPRegression(X,y, rbf)\n",
    "gpr_bc.noise = pyro.nn.PyroSample(dist.HalfNormal(torch.tensor(5.)))\n",
    "\n",
    "\n",
    "nuts_kernel_bc = NUTS(gpr_bc.model)\n",
    "\n",
    "\n",
    "mcmc_bc = MCMC(nuts_kernel_bc, num_samples=500,warmup_steps=1000)\n",
    "\n",
    "mcmc_bc.run()"
   ]
  },
  {
   "cell_type": "code",
   "execution_count": null,
   "id": "e40a7aa7-370a-4d96-b19e-3fef4799c8f1",
   "metadata": {},
   "outputs": [],
   "source": [
    "posterior_samples_bc = mcmc_bc.get_samples(500)\n",
    "posterior_predictive_bc = Predictive(gpr_bc, posterior_samples_bc)(traning_BC[\"X\"])\n",
    "prior_bc = Predictive(gpr_bc, num_samples=500)(traning_BC[\"X\"])\n",
    "\n",
    "pyro_data_bc = az.from_pyro(mcmc_bc,\n",
    "    prior=prior_bc,\n",
    "    posterior_predictive=posterior_predictive_bc,\n",
    "\n",
    ")\n",
    "pyro_data"
   ]
  },
  {
   "cell_type": "code",
   "execution_count": null,
   "id": "af6d9014-d35c-470c-b617-6de7c724ec09",
   "metadata": {},
   "outputs": [],
   "source": [
    "az.style.use(\"arviz-doc\")\n",
    "\n",
    "ax = az.plot_trace(pyro_data_bc)"
   ]
  },
  {
   "cell_type": "code",
   "execution_count": null,
   "id": "92839f9d-1015-436f-bfff-d6a528c6b989",
   "metadata": {},
   "outputs": [],
   "source": [
    "ax = az.plot_density(\n",
    "    [pyro_data_bc],\n",
    "    shade=0.1,\n",
    ")"
   ]
  },
  {
   "cell_type": "code",
   "execution_count": null,
   "id": "7ab4497f-52c0-4d3a-ab2e-cadd4ce5351c",
   "metadata": {},
   "outputs": [],
   "source": [
    "torch.save(gpr_bc, \"BC_flow_correction\")"
   ]
  },
  {
   "cell_type": "code",
   "execution_count": null,
   "id": "908b7342-1ad4-4c3a-8e2a-f0c282d87eaf",
   "metadata": {},
   "outputs": [],
   "source": [
    "plot(model=gpr_bc, plot_observed_data=True, plot_predictions=True)\n",
    "plt.xlim(3.25,4.7)"
   ]
  },
  {
   "cell_type": "code",
   "execution_count": null,
   "id": "7d36b282-a279-40df-b9df-af0c6e52124c",
   "metadata": {},
   "outputs": [],
   "source": [
    "exp_curve_bc=curve_fit(lambda t,a,b: a*np.exp(b*t),  X_train.flow,y_train.sv_final)\n",
    "linear_curve_bc=curve_fit(lambda t,a,b: a * t +b,  X_train.flow,y_train.sv_final)\n",
    "log_curve_bc=curve_fit(lambda t,a,b: a * t +b,  X_train.flow,np.log(y_train.sv_final))"
   ]
  },
  {
   "cell_type": "code",
   "execution_count": null,
   "id": "b99f2759-9913-4d61-91a4-7151878efa04",
   "metadata": {},
   "outputs": [],
   "source": []
  },
  {
   "cell_type": "code",
   "execution_count": null,
   "id": "257fc73d-80ff-447f-8a05-184f92af335a",
   "metadata": {},
   "outputs": [],
   "source": [
    "y_train[\"BC_Gaussion\"]=(y *gpr_bc(torch.tensor(4*np.ones(len(X))).float())[0]/gpr_bc(X)[0]).detach().numpy()\n",
    "y_train[\"BC_linear\"]=linear(4,*linear_curve_bc[0])/linear(X_train.flow,*linear_curve_bc[0])*y_train.sv_final\n",
    "y_train[\"BC_exp\"]=exp(4,*exp_curve_bc[0])/exp(X_train.flow,*exp_curve_bc[0])*y_train.sv_final\n",
    "y_train[\"BC_log\"]=linear(4,*log_curve_bc[0])/linear(X_train.flow,*log_curve_bc[0])*y_train.sv_final"
   ]
  },
  {
   "cell_type": "code",
   "execution_count": null,
   "id": "74452d44-4cdb-43be-9a12-0623a465a968",
   "metadata": {},
   "outputs": [],
   "source": [
    "\n",
    "data[\"lieanr_scale_bc\"]=(linear(4,*linear_curve_bc[0])/linear(x,*linear_curve_bc[0]))\n",
    "data[\"exp_scale_bc\"]=exp(4,*exp_curve_bc[0])/exp(x,*exp_curve_bc[0])\n",
    "data[\"guassion_scale_bc\"]=(gpr_bc(torch.tensor(4*np.ones(len(x))).float())[0]/gpr_bc(X_tor)[0]).detach().numpy()\n",
    "data[\"log_scale_bc\"]=linear(4,*log_curve_bc[0])/linear(x,*log_curve_bc[0])"
   ]
  },
  {
   "cell_type": "code",
   "execution_count": null,
   "id": "6c8e2a9e-462a-482e-aaeb-68c4f9b64251",
   "metadata": {},
   "outputs": [],
   "source": [
    "y_train"
   ]
  },
  {
   "cell_type": "code",
   "execution_count": null,
   "id": "2b821ea3-e3bf-4614-a81c-da3d6c4b69e4",
   "metadata": {},
   "outputs": [],
   "source": [
    "p = figure(title = \"Penguin size\", background_fill_color=\"#fafafa\")\n",
    "\n",
    "p.line(data.guassion_scale_pm, data.guassion_scale_bc, line_color=\"blue\",\n",
    "        line_width=3, legend_label=\"Linear\")\n",
    "show(p)"
   ]
  },
  {
   "cell_type": "code",
   "execution_count": null,
   "id": "b49d6583-eed9-493e-87c0-223b29ae1fc5",
   "metadata": {},
   "outputs": [],
   "source": []
  },
  {
   "cell_type": "code",
   "execution_count": null,
   "id": "37e2350f-a302-44ef-8e07-e35ccce3f0c2",
   "metadata": {},
   "outputs": [],
   "source": [
    "p = figure(title = r\"$$PM_{2.5}$$\", background_fill_color=\"#fafafa\")\n",
    "\n",
    "p.line(data.flow, data.lieanr_scale_pm, line_color=\"blue\", line_width=3, legend_label=\"Linear\")\n",
    "p.line(data.flow, data.exp_scale_pm, line_color=\"red\", line_width=3, legend_label=\"Exponential\")\n",
    "p.line(data.flow, data.guassion_scale_pm, line_color=\"green\",line_width=3, legend_label=\"Gaussian\")\n",
    "p.line(data.flow, data.log_scale_pm, line_color=\"yellow\", line_width=3, legend_label=\"Log\")\n",
    "p.legend.location = \"top_left\"\n",
    "p.legend.title = r\"Correction\"\n",
    "p.legend.title_text_font_size = \"16px\"\n",
    "p.legend.title_text_font_style = \"bold\"\n",
    "p.xaxis.axis_label = r'$$Flow \\frac{L}{s}$$'\n",
    "p.yaxis.axis_label = 'scale'\n",
    "p.xaxis.axis_label_text_font_size = \"14px\"\n",
    "p.yaxis.axis_label_text_font_size = \"16px\"\n",
    "p.yaxis.axis_label_text_font_style = \"bold\"\n",
    "p.xaxis.axis_label_text_font_style = \"bold\"\n",
    "\n",
    "p1 = figure(title = \"Black Carbon\", background_fill_color=\"#fafafa\")\n",
    "\n",
    "p1.line(data.flow, data.lieanr_scale_bc, line_color=\"blue\",\n",
    "        line_width=3, legend_label=\"Linear\")\n",
    "p1.line(data.flow, data.exp_scale_bc, line_color=\"red\", line_width=3, legend_label=\"Exponential\")\n",
    "p1.line(data.flow, data.guassion_scale_bc, line_color=\"green\", line_width=3, legend_label=\"Gaussian\")\n",
    "#p1.line(data.flow, data.log_scale_bc, line_color=\"yellow\", line_width=3, legend_label=\"Log\")\n",
    "p1.legend.location = \"top_left\"\n",
    "p1.legend.title = \"Correction\"\n",
    "p1.legend.title_text_font_size = \"16px\"\n",
    "p1.xaxis.axis_label_text_font_size = \"14px\"\n",
    "p1.yaxis.axis_label_text_font_size = \"16px\"\n",
    "p1.yaxis.axis_label_text_font_style = \"bold\"\n",
    "p1.xaxis.axis_label_text_font_style = \"bold\"\n",
    "\n",
    "p1.legend.title_text_font_style = \"bold\"\n",
    "p1.xaxis.axis_label = r'$$Flow \\frac{L}{s}$$'\n",
    "p1.yaxis.axis_label = 'scale'\n",
    "grid =  gridplot([[p, p1]], width=500, height=500)\n",
    "\n",
    "show(column(grid))"
   ]
  },
  {
   "cell_type": "code",
   "execution_count": null,
   "id": "181c7f73-870f-42f8-a153-8b00f0b98e5e",
   "metadata": {},
   "outputs": [],
   "source": []
  },
  {
   "cell_type": "code",
   "execution_count": null,
   "id": "2bbdf419-89ae-44ba-af37-484a5e040a68",
   "metadata": {},
   "outputs": [],
   "source": []
  },
  {
   "cell_type": "code",
   "execution_count": null,
   "id": "0e83cb5e-6268-430f-b2d2-80c12924eefa",
   "metadata": {},
   "outputs": [],
   "source": []
  },
  {
   "cell_type": "code",
   "execution_count": null,
   "id": "c0ead6d7-fa1f-4a52-822b-da6d791176b6",
   "metadata": {},
   "outputs": [],
   "source": [
    "from bokeh.models import Slope"
   ]
  },
  {
   "cell_type": "code",
   "execution_count": null,
   "id": "251218c7-ae56-4325-9d2e-1281c2d0405d",
   "metadata": {},
   "outputs": [],
   "source": [
    "\"Slope: \"+str(round(slope,1))+\" \"+\"Intercept: \"+str(round(intercept,1))"
   ]
  },
  {
   "cell_type": "code",
   "execution_count": null,
   "id": "c5ff8700-bc92-497e-8854-a990c3ddc7ef",
   "metadata": {},
   "outputs": [],
   "source": [
    "p = figure(title = \"Penguin size\", background_fill_color=\"#fafafa\")\n",
    "\n",
    "p.scatter(y_train.pm_final, y_train.PM25_Gaussion, line_color=\"blue\",legend_label=\"Linear\")\n",
    "slope, intercept=np.polyfit(y_train.pm_final, y_train.PM25_Gaussion,1)\n",
    "slope = Slope(gradient=slope, y_intercept=intercept,\n",
    "              line_color=\"blue\", line_dash='dashed', line_width=4)\n",
    "\n",
    "p.add_layout(legend_label=\"Slope: \"+str(round(slope,1))+\" \"+\"Intercept: \"+str(round(intercept,1)))\n",
    "p.legend.location = \"top_left\"\n",
    "p.legend.title = \"Species\"\n",
    "\n",
    "p.xaxis.axis_label = r'$$Flow \\frac{\\mu}{m^3}$$'\n",
    "p.yaxis.axis_label = 'Scaleing point'\n",
    "show(p)"
   ]
  },
  {
   "cell_type": "code",
   "execution_count": null,
   "id": "1d0bd9dc-8194-4d0c-9282-571520c49bd0",
   "metadata": {},
   "outputs": [],
   "source": [
    "PM25.to_excel(\"pm25_BC_corrected.xlsx\")"
   ]
  },
  {
   "cell_type": "code",
   "execution_count": null,
   "id": "f5a5edac-5b27-4a86-8ad4-56958ac2fcb8",
   "metadata": {},
   "outputs": [],
   "source": [
    "slope, intercept=np.polyfit(y_train.pm_final, y_train.PM25_Gaussion,1)"
   ]
  },
  {
   "cell_type": "code",
   "execution_count": null,
   "id": "e163a62c-9e0d-44ab-9ac0-b29623a8719a",
   "metadata": {},
   "outputs": [],
   "source": [
    "slope, intercept"
   ]
  },
  {
   "cell_type": "code",
   "execution_count": null,
   "id": "d9bc6c86-4887-46bb-a85e-b032c17ca5e4",
   "metadata": {},
   "outputs": [],
   "source": [
    "fig,ax=plt.subplots(1,2,figsize=(10,5))\n",
    "y_train.PM25_Gaussion.plot.kde(ax=ax[0],label=\"PM Gaussion correction\")\n",
    "y_train.pm_final.plot.kde(ax=ax[0],label=\"PM Raw meassurement\")\n",
    "y_train.BC_Gaussion.plot.kde(ax=ax[1],label=\"BC gaussion correction\")\n",
    "y_train.sv_final.plot.kde(ax=ax[1],label=\"BC meassurement\")\n",
    "ax[0].legend(loc=1,fontsize=9)\n",
    "ax[1].legend(loc=1,fontsize=9)"
   ]
  },
  {
   "cell_type": "code",
   "execution_count": null,
   "id": "d48c7ea2-ac0c-4372-b1d4-557272c9052e",
   "metadata": {},
   "outputs": [],
   "source": []
  }
 ],
 "metadata": {
  "kernelspec": {
   "display_name": "Python 3 (ipykernel)",
   "language": "python",
   "name": "python3"
  },
  "language_info": {
   "codemirror_mode": {
    "name": "ipython",
    "version": 3
   },
   "file_extension": ".py",
   "mimetype": "text/x-python",
   "name": "python",
   "nbconvert_exporter": "python",
   "pygments_lexer": "ipython3",
   "version": "3.11.7"
  }
 },
 "nbformat": 4,
 "nbformat_minor": 5
}
